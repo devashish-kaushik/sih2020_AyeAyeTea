{
  "nbformat": 4,
  "nbformat_minor": 0,
  "metadata": {
    "colab": {
      "name": "demandSupplyForecastingMod (4).ipynb",
      "provenance": [],
      "toc_visible": true
    },
    "kernelspec": {
      "name": "python3",
      "display_name": "Python 3"
    }
  },
  "cells": [
    {
      "cell_type": "markdown",
      "metadata": {
        "id": "PBtCXeWYrnkK",
        "colab_type": "text"
      },
      "source": [
        "# Importing modules, preprocessing\n"
      ]
    },
    {
      "cell_type": "code",
      "metadata": {
        "id": "0d-0qqUjIriK",
        "colab_type": "code",
        "colab": {}
      },
      "source": [
        "#Importing the required modules, the ones I remember\n",
        "import numpy as np\n",
        "import pandas as pd\n",
        "import matplotlib.pyplot as plt\n",
        "from sklearn.preprocessing import MinMaxScaler\n",
        "from sklearn.preprocessing import LabelEncoder\n",
        "from sklearn.metrics import mean_squared_error\n",
        "from keras.models import Sequential\n",
        "from keras.layers import Dense\n",
        "from keras.layers import LSTM"
      ],
      "execution_count": 9,
      "outputs": []
    },
    {
      "cell_type": "code",
      "metadata": {
        "id": "EmuBoihWI8ga",
        "colab_type": "code",
        "colab": {
          "base_uri": "https://localhost:8080/",
          "height": 244
        },
        "outputId": "969c693c-1236-4641-8c7d-b6f7df5da7bc"
      },
      "source": [
        "import io\n",
        "dataRequired = pd.read_csv(\"/content/DatasetForForecastingSIH.csv\")\n",
        "dataRequired.head()"
      ],
      "execution_count": 10,
      "outputs": [
        {
          "output_type": "execute_result",
          "data": {
            "text/html": [
              "<div>\n",
              "<style scoped>\n",
              "    .dataframe tbody tr th:only-of-type {\n",
              "        vertical-align: middle;\n",
              "    }\n",
              "\n",
              "    .dataframe tbody tr th {\n",
              "        vertical-align: top;\n",
              "    }\n",
              "\n",
              "    .dataframe thead th {\n",
              "        text-align: right;\n",
              "    }\n",
              "</style>\n",
              "<table border=\"1\" class=\"dataframe\">\n",
              "  <thead>\n",
              "    <tr style=\"text-align: right;\">\n",
              "      <th></th>\n",
              "      <th>Unnamed: 0</th>\n",
              "      <th>index</th>\n",
              "      <th>AT_load_actual_entsoe_power_statistics</th>\n",
              "      <th>AT_load_actual_entsoe_transparency</th>\n",
              "      <th>AT_price_day_ahead</th>\n",
              "      <th>AT_solar_generation_actual</th>\n",
              "      <th>AT_wind_onshore_generation_actual</th>\n",
              "      <th>AT_windspeed_10m</th>\n",
              "      <th>AT_temperature</th>\n",
              "      <th>AT_radiation_direct_horizontal</th>\n",
              "      <th>AT_radiation_diffuse_horizontal</th>\n",
              "    </tr>\n",
              "  </thead>\n",
              "  <tbody>\n",
              "    <tr>\n",
              "      <th>0</th>\n",
              "      <td>0</td>\n",
              "      <td>87656</td>\n",
              "      <td>7035.0</td>\n",
              "      <td>6343.0</td>\n",
              "      <td>36.0</td>\n",
              "      <td>2.0</td>\n",
              "      <td>109.0</td>\n",
              "      <td>3.27</td>\n",
              "      <td>-4.179</td>\n",
              "      <td>1.5614</td>\n",
              "      <td>25.9639</td>\n",
              "    </tr>\n",
              "    <tr>\n",
              "      <th>1</th>\n",
              "      <td>1</td>\n",
              "      <td>87657</td>\n",
              "      <td>7394.0</td>\n",
              "      <td>6882.0</td>\n",
              "      <td>41.0</td>\n",
              "      <td>10.0</td>\n",
              "      <td>146.0</td>\n",
              "      <td>3.23</td>\n",
              "      <td>-2.807</td>\n",
              "      <td>7.5467</td>\n",
              "      <td>75.0443</td>\n",
              "    </tr>\n",
              "    <tr>\n",
              "      <th>2</th>\n",
              "      <td>2</td>\n",
              "      <td>87658</td>\n",
              "      <td>7770.0</td>\n",
              "      <td>6963.0</td>\n",
              "      <td>45.0</td>\n",
              "      <td>21.0</td>\n",
              "      <td>146.0</td>\n",
              "      <td>3.22</td>\n",
              "      <td>-1.315</td>\n",
              "      <td>17.2073</td>\n",
              "      <td>116.9171</td>\n",
              "    </tr>\n",
              "    <tr>\n",
              "      <th>3</th>\n",
              "      <td>3</td>\n",
              "      <td>87659</td>\n",
              "      <td>7820.0</td>\n",
              "      <td>7110.0</td>\n",
              "      <td>50.0</td>\n",
              "      <td>32.0</td>\n",
              "      <td>158.0</td>\n",
              "      <td>3.22</td>\n",
              "      <td>-0.051</td>\n",
              "      <td>35.4289</td>\n",
              "      <td>146.8923</td>\n",
              "    </tr>\n",
              "    <tr>\n",
              "      <th>4</th>\n",
              "      <td>4</td>\n",
              "      <td>87660</td>\n",
              "      <td>7694.0</td>\n",
              "      <td>7136.0</td>\n",
              "      <td>51.0</td>\n",
              "      <td>37.0</td>\n",
              "      <td>187.0</td>\n",
              "      <td>3.00</td>\n",
              "      <td>0.791</td>\n",
              "      <td>58.5238</td>\n",
              "      <td>151.4721</td>\n",
              "    </tr>\n",
              "  </tbody>\n",
              "</table>\n",
              "</div>"
            ],
            "text/plain": [
              "   Unnamed: 0  ...  AT_radiation_diffuse_horizontal\n",
              "0           0  ...                          25.9639\n",
              "1           1  ...                          75.0443\n",
              "2           2  ...                         116.9171\n",
              "3           3  ...                         146.8923\n",
              "4           4  ...                         151.4721\n",
              "\n",
              "[5 rows x 11 columns]"
            ]
          },
          "metadata": {
            "tags": []
          },
          "execution_count": 10
        }
      ]
    },
    {
      "cell_type": "markdown",
      "metadata": {
        "id": "QTfe3AH1QCi9",
        "colab_type": "text"
      },
      "source": [
        ""
      ]
    },
    {
      "cell_type": "code",
      "metadata": {
        "id": "7zY44Rr_I8nc",
        "colab_type": "code",
        "colab": {
          "base_uri": "https://localhost:8080/",
          "height": 34
        },
        "outputId": "32739a7a-ffa4-4c1a-86e5-cb77548e05bf"
      },
      "source": [
        "dataRequired.shape"
      ],
      "execution_count": 11,
      "outputs": [
        {
          "output_type": "execute_result",
          "data": {
            "text/plain": [
              "(17488, 11)"
            ]
          },
          "metadata": {
            "tags": []
          },
          "execution_count": 11
        }
      ]
    },
    {
      "cell_type": "code",
      "metadata": {
        "id": "u1Vf30iAI8tx",
        "colab_type": "code",
        "colab": {
          "base_uri": "https://localhost:8080/",
          "height": 282
        },
        "outputId": "564ff3bf-65a8-4efd-fdcf-4972f53b3e23"
      },
      "source": [
        "#Plotting and visualising the time series relation\n",
        "plt.scatter(dataRequired['AT_windspeed_10m'],dataRequired['AT_wind_onshore_generation_actual'])"
      ],
      "execution_count": 12,
      "outputs": [
        {
          "output_type": "execute_result",
          "data": {
            "text/plain": [
              "<matplotlib.collections.PathCollection at 0x7f6bf9997e48>"
            ]
          },
          "metadata": {
            "tags": []
          },
          "execution_count": 12
        },
        {
          "output_type": "display_data",
          "data": {
            "image/png": "[encoded data removed]",
            "text/plain": [
              "<Figure size 432x288 with 1 Axes>"
            ]
          },
          "metadata": {
            "tags": [],
            "needs_background": "light"
          }
        }
      ]
    },
    {
      "cell_type": "code",
      "metadata": {
        "id": "QvFQHR9EI8zk",
        "colab_type": "code",
        "colab": {}
      },
      "source": [
        "#Clearly, the characteristics resemble the expected characteristics, but the data had quite a bit of deviation about the standard curve.\n",
        "#It can be clearly attributed to variations in density of the air density, due to radiation changes throughout the year."
      ],
      "execution_count": 13,
      "outputs": []
    },
    {
      "cell_type": "code",
      "metadata": {
        "id": "F7922B5WI85t",
        "colab_type": "code",
        "colab": {
          "base_uri": "https://localhost:8080/",
          "height": 265
        },
        "outputId": "e4d452e2-0e62-4106-c2ae-cf7b15c3dd7f"
      },
      "source": [
        "#Plotting the time series\n",
        "for i in dataRequired:\n",
        "  plt.ylabel(i)\n",
        "  plt.plot(dataRequired[i][:1000])"
      ],
      "execution_count": 14,
      "outputs": [
        {
          "output_type": "display_data",
          "data": {
            "image/png": "[encoded data removed]",
            "text/plain": [
              "<Figure size 432x288 with 1 Axes>"
            ]
          },
          "metadata": {
            "tags": [],
            "needs_background": "light"
          }
        }
      ]
    },
    {
      "cell_type": "code",
      "metadata": {
        "id": "CmKbxi3VI8_f",
        "colab_type": "code",
        "colab": {}
      },
      "source": [
        "# Certain periodic trends are found in the data, also, the series appear sufficiently correlated with one another, we thus use an LSTM for training the model"
      ],
      "execution_count": 15,
      "outputs": []
    },
    {
      "cell_type": "code",
      "metadata": {
        "id": "E3IvX4nfLr9b",
        "colab_type": "code",
        "colab": {}
      },
      "source": [
        "#Converting the time series analysis problem into a supervised learning problem\n",
        "def seriesToSupervised(data, lookBack = 60, predCols = 1):\n",
        "  temp = data.copy()\n",
        "  temp['id'] = range(1, len(temp)+1)\n",
        "  temp = temp.iloc[: -lookBack, :]\n",
        "  temp.set_index('id', inplace = True)\n",
        "  predVal = data.copy()\n",
        "  predVal = predVal.iloc[lookBack:, predCols]\n",
        "  predVal.columns = ['Pred']\n",
        "  predVal = pd.DataFrame(predVal)\n",
        "  predVal['id'] = range(1, len(predVal)+1)\n",
        "  predVal.set_index('id', inplace = True)\n",
        "  finalDf = pd.concat([temp, predVal], axis = 1)\n",
        "  return finalDf"
      ],
      "execution_count": 16,
      "outputs": []
    },
    {
      "cell_type": "code",
      "metadata": {
        "id": "nnzAfIr5MUTe",
        "colab_type": "code",
        "colab": {}
      },
      "source": [
        "from sklearn.metrics import mean_absolute_error, mean_squared_error, r2_score"
      ],
      "execution_count": 17,
      "outputs": []
    },
    {
      "cell_type": "markdown",
      "metadata": {
        "id": "D6FsSUCkI9FI",
        "colab_type": "text"
      },
      "source": [
        "# Solar energy output forecasting\n",
        "\n"
      ]
    },
    {
      "cell_type": "code",
      "metadata": {
        "id": "VDg6IGC1I9Kt",
        "colab_type": "code",
        "colab": {
          "base_uri": "https://localhost:8080/",
          "height": 331
        },
        "outputId": "d5e4b4f3-dcb9-4339-a1e2-82dbc86dd832"
      },
      "source": [
        "#Selecting the feature variables and target variables for a Multivariate LSTM\n",
        "dataPredSolarOutput=dataRequired[['AT_solar_generation_actual', 'AT_windspeed_10m', 'AT_temperature', 'AT_radiation_direct_horizontal', 'AT_radiation_diffuse_horizontal']]\n",
        "dataPredSolarOutput['pred'] = dataPredSolarOutput['AT_solar_generation_actual'].shift(-1)\n",
        "dataPredSolarOutput = dataPredSolarOutput.dropna()\n",
        "dataPredSolarOutput.head()"
      ],
      "execution_count": 18,
      "outputs": [
        {
          "output_type": "stream",
          "text": [
            "/usr/local/lib/python3.6/dist-packages/ipykernel_launcher.py:3: SettingWithCopyWarning: \n",
            "A value is trying to be set on a copy of a slice from a DataFrame.\n",
            "Try using .loc[row_indexer,col_indexer] = value instead\n",
            "\n",
            "See the caveats in the documentation: https://pandas.pydata.org/pandas-docs/stable/user_guide/indexing.html#returning-a-view-versus-a-copy\n",
            "  This is separate from the ipykernel package so we can avoid doing imports until\n"
          ],
          "name": "stderr"
        },
        {
          "output_type": "execute_result",
          "data": {
            "text/html": [
              "<div>\n",
              "<style scoped>\n",
              "    .dataframe tbody tr th:only-of-type {\n",
              "        vertical-align: middle;\n",
              "    }\n",
              "\n",
              "    .dataframe tbody tr th {\n",
              "        vertical-align: top;\n",
              "    }\n",
              "\n",
              "    .dataframe thead th {\n",
              "        text-align: right;\n",
              "    }\n",
              "</style>\n",
              "<table border=\"1\" class=\"dataframe\">\n",
              "  <thead>\n",
              "    <tr style=\"text-align: right;\">\n",
              "      <th></th>\n",
              "      <th>AT_solar_generation_actual</th>\n",
              "      <th>AT_windspeed_10m</th>\n",
              "      <th>AT_temperature</th>\n",
              "      <th>AT_radiation_direct_horizontal</th>\n",
              "      <th>AT_radiation_diffuse_horizontal</th>\n",
              "      <th>pred</th>\n",
              "    </tr>\n",
              "  </thead>\n",
              "  <tbody>\n",
              "    <tr>\n",
              "      <th>0</th>\n",
              "      <td>2.0</td>\n",
              "      <td>3.27</td>\n",
              "      <td>-4.179</td>\n",
              "      <td>1.5614</td>\n",
              "      <td>25.9639</td>\n",
              "      <td>10.0</td>\n",
              "    </tr>\n",
              "    <tr>\n",
              "      <th>1</th>\n",
              "      <td>10.0</td>\n",
              "      <td>3.23</td>\n",
              "      <td>-2.807</td>\n",
              "      <td>7.5467</td>\n",
              "      <td>75.0443</td>\n",
              "      <td>21.0</td>\n",
              "    </tr>\n",
              "    <tr>\n",
              "      <th>2</th>\n",
              "      <td>21.0</td>\n",
              "      <td>3.22</td>\n",
              "      <td>-1.315</td>\n",
              "      <td>17.2073</td>\n",
              "      <td>116.9171</td>\n",
              "      <td>32.0</td>\n",
              "    </tr>\n",
              "    <tr>\n",
              "      <th>3</th>\n",
              "      <td>32.0</td>\n",
              "      <td>3.22</td>\n",
              "      <td>-0.051</td>\n",
              "      <td>35.4289</td>\n",
              "      <td>146.8923</td>\n",
              "      <td>37.0</td>\n",
              "    </tr>\n",
              "    <tr>\n",
              "      <th>4</th>\n",
              "      <td>37.0</td>\n",
              "      <td>3.00</td>\n",
              "      <td>0.791</td>\n",
              "      <td>58.5238</td>\n",
              "      <td>151.4721</td>\n",
              "      <td>35.0</td>\n",
              "    </tr>\n",
              "  </tbody>\n",
              "</table>\n",
              "</div>"
            ],
            "text/plain": [
              "   AT_solar_generation_actual  ...  pred\n",
              "0                         2.0  ...  10.0\n",
              "1                        10.0  ...  21.0\n",
              "2                        21.0  ...  32.0\n",
              "3                        32.0  ...  37.0\n",
              "4                        37.0  ...  35.0\n",
              "\n",
              "[5 rows x 6 columns]"
            ]
          },
          "metadata": {
            "tags": []
          },
          "execution_count": 18
        }
      ]
    },
    {
      "cell_type": "code",
      "metadata": {
        "id": "uegSmV4GLZEa",
        "colab_type": "code",
        "colab": {}
      },
      "source": [
        "scalerOne = MinMaxScaler(feature_range=(0,1))\n",
        "solarScaled = scalerOne.fit_transform(dataPredSolarOutput.values)\n",
        "solarScaled = pd.DataFrame(solarScaled)"
      ],
      "execution_count": 19,
      "outputs": []
    },
    {
      "cell_type": "code",
      "metadata": {
        "id": "S9lNKY-lLgEf",
        "colab_type": "code",
        "colab": {
          "base_uri": "https://localhost:8080/",
          "height": 206
        },
        "outputId": "434766ac-478e-4cb3-9413-d2eb66b0374f"
      },
      "source": [
        "solarScaled.head()"
      ],
      "execution_count": 20,
      "outputs": [
        {
          "output_type": "execute_result",
          "data": {
            "text/html": [
              "<div>\n",
              "<style scoped>\n",
              "    .dataframe tbody tr th:only-of-type {\n",
              "        vertical-align: middle;\n",
              "    }\n",
              "\n",
              "    .dataframe tbody tr th {\n",
              "        vertical-align: top;\n",
              "    }\n",
              "\n",
              "    .dataframe thead th {\n",
              "        text-align: right;\n",
              "    }\n",
              "</style>\n",
              "<table border=\"1\" class=\"dataframe\">\n",
              "  <thead>\n",
              "    <tr style=\"text-align: right;\">\n",
              "      <th></th>\n",
              "      <th>0</th>\n",
              "      <th>1</th>\n",
              "      <th>2</th>\n",
              "      <th>3</th>\n",
              "      <th>4</th>\n",
              "      <th>5</th>\n",
              "    </tr>\n",
              "  </thead>\n",
              "  <tbody>\n",
              "    <tr>\n",
              "      <th>0</th>\n",
              "      <td>0.003279</td>\n",
              "      <td>0.285083</td>\n",
              "      <td>0.178747</td>\n",
              "      <td>0.001814</td>\n",
              "      <td>0.064377</td>\n",
              "      <td>0.016393</td>\n",
              "    </tr>\n",
              "    <tr>\n",
              "      <th>1</th>\n",
              "      <td>0.016393</td>\n",
              "      <td>0.280663</td>\n",
              "      <td>0.209402</td>\n",
              "      <td>0.008767</td>\n",
              "      <td>0.186070</td>\n",
              "      <td>0.034426</td>\n",
              "    </tr>\n",
              "    <tr>\n",
              "      <th>2</th>\n",
              "      <td>0.034426</td>\n",
              "      <td>0.279558</td>\n",
              "      <td>0.242738</td>\n",
              "      <td>0.019991</td>\n",
              "      <td>0.289892</td>\n",
              "      <td>0.052459</td>\n",
              "    </tr>\n",
              "    <tr>\n",
              "      <th>3</th>\n",
              "      <td>0.052459</td>\n",
              "      <td>0.279558</td>\n",
              "      <td>0.270980</td>\n",
              "      <td>0.041160</td>\n",
              "      <td>0.364214</td>\n",
              "      <td>0.060656</td>\n",
              "    </tr>\n",
              "    <tr>\n",
              "      <th>4</th>\n",
              "      <td>0.060656</td>\n",
              "      <td>0.255249</td>\n",
              "      <td>0.289794</td>\n",
              "      <td>0.067990</td>\n",
              "      <td>0.375570</td>\n",
              "      <td>0.057377</td>\n",
              "    </tr>\n",
              "  </tbody>\n",
              "</table>\n",
              "</div>"
            ],
            "text/plain": [
              "          0         1         2         3         4         5\n",
              "0  0.003279  0.285083  0.178747  0.001814  0.064377  0.016393\n",
              "1  0.016393  0.280663  0.209402  0.008767  0.186070  0.034426\n",
              "2  0.034426  0.279558  0.242738  0.019991  0.289892  0.052459\n",
              "3  0.052459  0.279558  0.270980  0.041160  0.364214  0.060656\n",
              "4  0.060656  0.255249  0.289794  0.067990  0.375570  0.057377"
            ]
          },
          "metadata": {
            "tags": []
          },
          "execution_count": 20
        }
      ]
    },
    {
      "cell_type": "code",
      "metadata": {
        "id": "wvxLR6CzLmao",
        "colab_type": "code",
        "colab": {
          "base_uri": "https://localhost:8080/",
          "height": 238
        },
        "outputId": "5f36cb7c-6e8a-4070-9f59-e12c14766f2f"
      },
      "source": [
        "arrDfSolar = seriesToSupervised(solarScaled, 3, 0)\n",
        "arrDfSolar.fillna(0, inplace = True)\n",
        "arrDfSolar.head()"
      ],
      "execution_count": 21,
      "outputs": [
        {
          "output_type": "execute_result",
          "data": {
            "text/html": [
              "<div>\n",
              "<style scoped>\n",
              "    .dataframe tbody tr th:only-of-type {\n",
              "        vertical-align: middle;\n",
              "    }\n",
              "\n",
              "    .dataframe tbody tr th {\n",
              "        vertical-align: top;\n",
              "    }\n",
              "\n",
              "    .dataframe thead th {\n",
              "        text-align: right;\n",
              "    }\n",
              "</style>\n",
              "<table border=\"1\" class=\"dataframe\">\n",
              "  <thead>\n",
              "    <tr style=\"text-align: right;\">\n",
              "      <th></th>\n",
              "      <th>0</th>\n",
              "      <th>1</th>\n",
              "      <th>2</th>\n",
              "      <th>3</th>\n",
              "      <th>4</th>\n",
              "      <th>5</th>\n",
              "      <th>0</th>\n",
              "    </tr>\n",
              "    <tr>\n",
              "      <th>id</th>\n",
              "      <th></th>\n",
              "      <th></th>\n",
              "      <th></th>\n",
              "      <th></th>\n",
              "      <th></th>\n",
              "      <th></th>\n",
              "      <th></th>\n",
              "    </tr>\n",
              "  </thead>\n",
              "  <tbody>\n",
              "    <tr>\n",
              "      <th>1</th>\n",
              "      <td>0.003279</td>\n",
              "      <td>0.285083</td>\n",
              "      <td>0.178747</td>\n",
              "      <td>0.001814</td>\n",
              "      <td>0.064377</td>\n",
              "      <td>0.016393</td>\n",
              "      <td>0.052459</td>\n",
              "    </tr>\n",
              "    <tr>\n",
              "      <th>2</th>\n",
              "      <td>0.016393</td>\n",
              "      <td>0.280663</td>\n",
              "      <td>0.209402</td>\n",
              "      <td>0.008767</td>\n",
              "      <td>0.186070</td>\n",
              "      <td>0.034426</td>\n",
              "      <td>0.060656</td>\n",
              "    </tr>\n",
              "    <tr>\n",
              "      <th>3</th>\n",
              "      <td>0.034426</td>\n",
              "      <td>0.279558</td>\n",
              "      <td>0.242738</td>\n",
              "      <td>0.019991</td>\n",
              "      <td>0.289892</td>\n",
              "      <td>0.052459</td>\n",
              "      <td>0.057377</td>\n",
              "    </tr>\n",
              "    <tr>\n",
              "      <th>4</th>\n",
              "      <td>0.052459</td>\n",
              "      <td>0.279558</td>\n",
              "      <td>0.270980</td>\n",
              "      <td>0.041160</td>\n",
              "      <td>0.364214</td>\n",
              "      <td>0.060656</td>\n",
              "      <td>0.044262</td>\n",
              "    </tr>\n",
              "    <tr>\n",
              "      <th>5</th>\n",
              "      <td>0.060656</td>\n",
              "      <td>0.255249</td>\n",
              "      <td>0.289794</td>\n",
              "      <td>0.067990</td>\n",
              "      <td>0.375570</td>\n",
              "      <td>0.057377</td>\n",
              "      <td>0.022951</td>\n",
              "    </tr>\n",
              "  </tbody>\n",
              "</table>\n",
              "</div>"
            ],
            "text/plain": [
              "           0         1         2         3         4         5         0\n",
              "id                                                                      \n",
              "1   0.003279  0.285083  0.178747  0.001814  0.064377  0.016393  0.052459\n",
              "2   0.016393  0.280663  0.209402  0.008767  0.186070  0.034426  0.060656\n",
              "3   0.034426  0.279558  0.242738  0.019991  0.289892  0.052459  0.057377\n",
              "4   0.052459  0.279558  0.270980  0.041160  0.364214  0.060656  0.044262\n",
              "5   0.060656  0.255249  0.289794  0.067990  0.375570  0.057377  0.022951"
            ]
          },
          "metadata": {
            "tags": []
          },
          "execution_count": 21
        }
      ]
    },
    {
      "cell_type": "code",
      "metadata": {
        "id": "XmjYskxdLmpZ",
        "colab_type": "code",
        "colab": {
          "base_uri": "https://localhost:8080/",
          "height": 34
        },
        "outputId": "39221694-9d8d-43fc-bf4d-d556eaf10131"
      },
      "source": [
        "# splitting and converting the data to right shape, around 80:20 ratio would be good for validation\n",
        "values = arrDfSolar.values\n",
        "trainSample = int(len(dataPredSolarOutput)*0.8)\n",
        "train = values[: trainSample, :]\n",
        "test = values[trainSample:, :]\n",
        "XTrain, yTrain = train[:, :-1], train[:, -1]\n",
        "XTest, yTest = test[:,:-1], test[:, -1]\n",
        "XTrain.shape, yTrain.shape, XTest.shape, yTest.shape"
      ],
      "execution_count": 22,
      "outputs": [
        {
          "output_type": "execute_result",
          "data": {
            "text/plain": [
              "((13989, 6), (13989,), (3495, 6), (3495,))"
            ]
          },
          "metadata": {
            "tags": []
          },
          "execution_count": 22
        }
      ]
    },
    {
      "cell_type": "code",
      "metadata": {
        "id": "Ir6w3JeCLmt9",
        "colab_type": "code",
        "colab": {
          "base_uri": "https://localhost:8080/",
          "height": 34
        },
        "outputId": "3e3b57d9-2779-4444-c61a-d90d2cb8a144"
      },
      "source": [
        "# We need a 3D data as (sample size, look back steps, input features)\n",
        "XTrain = XTrain.reshape((XTrain.shape[0], 1, XTrain.shape[1]))\n",
        "XTest = XTest.reshape((XTest.shape[0], 1, XTest.shape[1]))\n",
        "XTrain.shape, yTrain.shape, XTest.shape, yTest.shape"
      ],
      "execution_count": 23,
      "outputs": [
        {
          "output_type": "execute_result",
          "data": {
            "text/plain": [
              "((13989, 1, 6), (13989,), (3495, 1, 6), (3495,))"
            ]
          },
          "metadata": {
            "tags": []
          },
          "execution_count": 23
        }
      ]
    },
    {
      "cell_type": "code",
      "metadata": {
        "id": "6P1SmJaAL6cf",
        "colab_type": "code",
        "colab": {
          "base_uri": "https://localhost:8080/",
          "height": 295
        },
        "outputId": "b4824bc8-9cd6-4cb5-d091-0f7f43594220"
      },
      "source": [
        "model = Sequential()\n",
        "model.add(LSTM(75, return_sequences = True, input_shape = (XTrain.shape[1], XTrain.shape[2])))\n",
        "model.add(LSTM(units = 50, return_sequences=True))\n",
        "model.add(LSTM(units = 30))\n",
        "model.add(Dense(units = 1))\n",
        "model.compile(loss = 'mae', optimizer = 'adam')\n",
        "model.summary()"
      ],
      "execution_count": 24,
      "outputs": [
        {
          "output_type": "stream",
          "text": [
            "Model: \"sequential_1\"\n",
            "_________________________________________________________________\n",
            "Layer (type)                 Output Shape              Param #   \n",
            "=================================================================\n",
            "lstm_1 (LSTM)                (None, 1, 75)             24600     \n",
            "_________________________________________________________________\n",
            "lstm_2 (LSTM)                (None, 1, 50)             25200     \n",
            "_________________________________________________________________\n",
            "lstm_3 (LSTM)                (None, 30)                9720      \n",
            "_________________________________________________________________\n",
            "dense_1 (Dense)              (None, 1)                 31        \n",
            "=================================================================\n",
            "Total params: 59,551\n",
            "Trainable params: 59,551\n",
            "Non-trainable params: 0\n",
            "_________________________________________________________________\n"
          ],
          "name": "stdout"
        }
      ]
    },
    {
      "cell_type": "code",
      "metadata": {
        "id": "8zDqx4xWL6ka",
        "colab_type": "code",
        "colab": {
          "base_uri": "https://localhost:8080/",
          "height": 1000
        },
        "outputId": "ce792bfa-454b-4583-b6ae-2637a0844008"
      },
      "source": [
        "history = model.fit(XTrain, yTrain, epochs= 50, batch_size=32, validation_split = 0.2, shuffle = False)"
      ],
      "execution_count": 25,
      "outputs": [
        {
          "output_type": "stream",
          "text": [
            "Train on 11191 samples, validate on 2798 samples\n",
            "Epoch 1/50\n",
            "11191/11191 [==============================] - 4s 318us/step - loss: 0.0810 - val_loss: 0.1119\n",
            "Epoch 2/50\n",
            "11191/11191 [==============================] - 2s 169us/step - loss: 0.0418 - val_loss: 0.0698\n",
            "Epoch 3/50\n",
            "11191/11191 [==============================] - 2s 168us/step - loss: 0.0372 - val_loss: 0.0587\n",
            "Epoch 4/50\n",
            "11191/11191 [==============================] - 2s 164us/step - loss: 0.0352 - val_loss: 0.0643\n",
            "Epoch 5/50\n",
            "11191/11191 [==============================] - 2s 165us/step - loss: 0.0349 - val_loss: 0.0635\n",
            "Epoch 6/50\n",
            "11191/11191 [==============================] - 2s 169us/step - loss: 0.0345 - val_loss: 0.0548\n",
            "Epoch 7/50\n",
            "11191/11191 [==============================] - 2s 169us/step - loss: 0.0343 - val_loss: 0.0576\n",
            "Epoch 8/50\n",
            "11191/11191 [==============================] - 2s 167us/step - loss: 0.0348 - val_loss: 0.0511\n",
            "Epoch 9/50\n",
            "11191/11191 [==============================] - 2s 167us/step - loss: 0.0338 - val_loss: 0.0541\n",
            "Epoch 10/50\n",
            "11191/11191 [==============================] - 2s 163us/step - loss: 0.0334 - val_loss: 0.0539\n",
            "Epoch 11/50\n",
            "11191/11191 [==============================] - 2s 166us/step - loss: 0.0333 - val_loss: 0.0507\n",
            "Epoch 12/50\n",
            "11191/11191 [==============================] - 2s 167us/step - loss: 0.0317 - val_loss: 0.0506\n",
            "Epoch 13/50\n",
            "11191/11191 [==============================] - 2s 169us/step - loss: 0.0312 - val_loss: 0.0484\n",
            "Epoch 14/50\n",
            "11191/11191 [==============================] - 2s 162us/step - loss: 0.0301 - val_loss: 0.0459\n",
            "Epoch 15/50\n",
            "11191/11191 [==============================] - 2s 166us/step - loss: 0.0299 - val_loss: 0.0418\n",
            "Epoch 16/50\n",
            "11191/11191 [==============================] - 2s 166us/step - loss: 0.0281 - val_loss: 0.0437\n",
            "Epoch 17/50\n",
            "11191/11191 [==============================] - 2s 167us/step - loss: 0.0285 - val_loss: 0.0453\n",
            "Epoch 18/50\n",
            "11191/11191 [==============================] - 2s 163us/step - loss: 0.0273 - val_loss: 0.0411\n",
            "Epoch 19/50\n",
            "11191/11191 [==============================] - 2s 165us/step - loss: 0.0267 - val_loss: 0.0422\n",
            "Epoch 20/50\n",
            "11191/11191 [==============================] - 2s 161us/step - loss: 0.0263 - val_loss: 0.0372\n",
            "Epoch 21/50\n",
            "11191/11191 [==============================] - 2s 163us/step - loss: 0.0256 - val_loss: 0.0354\n",
            "Epoch 22/50\n",
            "11191/11191 [==============================] - 2s 164us/step - loss: 0.0254 - val_loss: 0.0339\n",
            "Epoch 23/50\n",
            "11191/11191 [==============================] - 2s 164us/step - loss: 0.0248 - val_loss: 0.0399\n",
            "Epoch 24/50\n",
            "11191/11191 [==============================] - 2s 166us/step - loss: 0.0243 - val_loss: 0.0371\n",
            "Epoch 25/50\n",
            "11191/11191 [==============================] - 2s 164us/step - loss: 0.0238 - val_loss: 0.0329\n",
            "Epoch 26/50\n",
            "11191/11191 [==============================] - 2s 162us/step - loss: 0.0235 - val_loss: 0.0320\n",
            "Epoch 27/50\n",
            "11191/11191 [==============================] - 2s 162us/step - loss: 0.0234 - val_loss: 0.0330\n",
            "Epoch 28/50\n",
            "11191/11191 [==============================] - 2s 164us/step - loss: 0.0231 - val_loss: 0.0313\n",
            "Epoch 29/50\n",
            "11191/11191 [==============================] - 2s 169us/step - loss: 0.0225 - val_loss: 0.0346\n",
            "Epoch 30/50\n",
            "11191/11191 [==============================] - 2s 163us/step - loss: 0.0224 - val_loss: 0.0362\n",
            "Epoch 31/50\n",
            "11191/11191 [==============================] - 2s 162us/step - loss: 0.0225 - val_loss: 0.0380\n",
            "Epoch 32/50\n",
            "11191/11191 [==============================] - 2s 163us/step - loss: 0.0219 - val_loss: 0.0367\n",
            "Epoch 33/50\n",
            "11191/11191 [==============================] - 2s 164us/step - loss: 0.0216 - val_loss: 0.0334\n",
            "Epoch 34/50\n",
            "11191/11191 [==============================] - 2s 164us/step - loss: 0.0216 - val_loss: 0.0371\n",
            "Epoch 35/50\n",
            "11191/11191 [==============================] - 2s 163us/step - loss: 0.0217 - val_loss: 0.0384\n",
            "Epoch 36/50\n",
            "11191/11191 [==============================] - 2s 162us/step - loss: 0.0213 - val_loss: 0.0317\n",
            "Epoch 37/50\n",
            "11191/11191 [==============================] - 2s 162us/step - loss: 0.0210 - val_loss: 0.0359\n",
            "Epoch 38/50\n",
            "11191/11191 [==============================] - 2s 159us/step - loss: 0.0210 - val_loss: 0.0359\n",
            "Epoch 39/50\n",
            "11191/11191 [==============================] - 2s 163us/step - loss: 0.0210 - val_loss: 0.0328\n",
            "Epoch 40/50\n",
            "11191/11191 [==============================] - 2s 163us/step - loss: 0.0203 - val_loss: 0.0360\n",
            "Epoch 41/50\n",
            "11191/11191 [==============================] - 2s 160us/step - loss: 0.0205 - val_loss: 0.0339\n",
            "Epoch 42/50\n",
            "11191/11191 [==============================] - 2s 165us/step - loss: 0.0201 - val_loss: 0.0320\n",
            "Epoch 43/50\n",
            "11191/11191 [==============================] - 2s 164us/step - loss: 0.0200 - val_loss: 0.0366\n",
            "Epoch 44/50\n",
            "11191/11191 [==============================] - 2s 163us/step - loss: 0.0202 - val_loss: 0.0309\n",
            "Epoch 45/50\n",
            "11191/11191 [==============================] - 2s 161us/step - loss: 0.0199 - val_loss: 0.0334\n",
            "Epoch 46/50\n",
            "11191/11191 [==============================] - 2s 164us/step - loss: 0.0195 - val_loss: 0.0356\n",
            "Epoch 47/50\n",
            "11191/11191 [==============================] - 2s 161us/step - loss: 0.0197 - val_loss: 0.0357\n",
            "Epoch 48/50\n",
            "11191/11191 [==============================] - 2s 159us/step - loss: 0.0195 - val_loss: 0.0345\n",
            "Epoch 49/50\n",
            "11191/11191 [==============================] - 2s 163us/step - loss: 0.0194 - val_loss: 0.0329\n",
            "Epoch 50/50\n",
            "11191/11191 [==============================] - 2s 164us/step - loss: 0.0194 - val_loss: 0.0340\n"
          ],
          "name": "stdout"
        }
      ]
    },
    {
      "cell_type": "code",
      "metadata": {
        "id": "eMvjnWjcL6sD",
        "colab_type": "code",
        "colab": {
          "base_uri": "https://localhost:8080/",
          "height": 69
        },
        "outputId": "dcc1ab2e-5a77-44cb-bac4-15623df149d4"
      },
      "source": [
        "#Making predictions\n",
        "yPred = model.predict(XTest)\n",
        "XTest = XTest.reshape((XTest.shape[0],XTest.shape[2]))\n",
        "invyPred = np.concatenate((yPred, XTest[:, 1:]), axis = 1)\n",
        "invyPred = scalerOne.inverse_transform(invyPred)\n",
        "invyPred = invyPred[:, 0]\n",
        "\n",
        "yTest = yTest.reshape((len(yTest), 1))\n",
        "invyTest = np.concatenate((yTest, XTest[:, 1:]), axis = 1)\n",
        "invyTest = scalerOne.inverse_transform(invyTest)\n",
        "invyTest = invyTest[:, 0]\n",
        "\n",
        "print(f'Mean absolute error {mean_absolute_error(invyTest, invyPred)}')\n",
        "print(f'Mean squared error {mean_squared_error(invyTest, invyPred)}')\n",
        "print(f'R2_Score {r2_score(invyTest, invyPred)}')"
      ],
      "execution_count": 26,
      "outputs": [
        {
          "output_type": "stream",
          "text": [
            "Mean absolute error 17.12198905355333\n",
            "Mean squared error 765.3741714353862\n",
            "R2_Score 0.9597208529168\n"
          ],
          "name": "stdout"
        }
      ]
    },
    {
      "cell_type": "code",
      "metadata": {
        "id": "TvZkwEw-L60K",
        "colab_type": "code",
        "colab": {
          "base_uri": "https://localhost:8080/",
          "height": 285
        },
        "outputId": "fb5eb8b8-b701-4102-fff9-76af2beea44f"
      },
      "source": [
        "plt.plot(invyTest[:1000])\n",
        "plt.plot(invyPred[:1000])"
      ],
      "execution_count": 27,
      "outputs": [
        {
          "output_type": "execute_result",
          "data": {
            "text/plain": [
              "[<matplotlib.lines.Line2D at 0x7f6bf99a6cc0>]"
            ]
          },
          "metadata": {
            "tags": []
          },
          "execution_count": 27
        },
        {
          "output_type": "display_data",
          "data": {
            "image/png": "[encoded data removed]",
            "text/plain": [
              "<Figure size 432x288 with 1 Axes>"
            ]
          },
          "metadata": {
            "tags": [],
            "needs_background": "light"
          }
        }
      ]
    },
    {
      "cell_type": "markdown",
      "metadata": {
        "id": "FW8JQoYhI9QS",
        "colab_type": "text"
      },
      "source": [
        "# Wind energy output forecasting\n"
      ]
    },
    {
      "cell_type": "code",
      "metadata": {
        "id": "3kL48Q-AI9W6",
        "colab_type": "code",
        "colab": {
          "base_uri": "https://localhost:8080/",
          "height": 0
        },
        "outputId": "50064e58-c1cd-4553-a500-da9ff6f4dcdc"
      },
      "source": [
        "#Selecting the feature variables and target variables for a Multivariate LSTM\n",
        "dataPredWindOutput = dataRequired[['AT_wind_onshore_generation_actual', 'AT_windspeed_10m', 'AT_temperature', 'AT_radiation_direct_horizontal', 'AT_radiation_diffuse_horizontal']]\n",
        "dataPredWindOutput['pred'] = dataPredWindOutput['AT_wind_onshore_generation_actual'].shift(-1)\n",
        "dataPredWindOutput = dataPredWindOutput.dropna()\n",
        "dataPredWindOutput.head()"
      ],
      "execution_count": 28,
      "outputs": [
        {
          "output_type": "stream",
          "text": [
            "/usr/local/lib/python3.6/dist-packages/ipykernel_launcher.py:3: SettingWithCopyWarning: \n",
            "A value is trying to be set on a copy of a slice from a DataFrame.\n",
            "Try using .loc[row_indexer,col_indexer] = value instead\n",
            "\n",
            "See the caveats in the documentation: https://pandas.pydata.org/pandas-docs/stable/user_guide/indexing.html#returning-a-view-versus-a-copy\n",
            "  This is separate from the ipykernel package so we can avoid doing imports until\n"
          ],
          "name": "stderr"
        },
        {
          "output_type": "execute_result",
          "data": {
            "text/html": [
              "<div>\n",
              "<style scoped>\n",
              "    .dataframe tbody tr th:only-of-type {\n",
              "        vertical-align: middle;\n",
              "    }\n",
              "\n",
              "    .dataframe tbody tr th {\n",
              "        vertical-align: top;\n",
              "    }\n",
              "\n",
              "    .dataframe thead th {\n",
              "        text-align: right;\n",
              "    }\n",
              "</style>\n",
              "<table border=\"1\" class=\"dataframe\">\n",
              "  <thead>\n",
              "    <tr style=\"text-align: right;\">\n",
              "      <th></th>\n",
              "      <th>AT_wind_onshore_generation_actual</th>\n",
              "      <th>AT_windspeed_10m</th>\n",
              "      <th>AT_temperature</th>\n",
              "      <th>AT_radiation_direct_horizontal</th>\n",
              "      <th>AT_radiation_diffuse_horizontal</th>\n",
              "      <th>pred</th>\n",
              "    </tr>\n",
              "  </thead>\n",
              "  <tbody>\n",
              "    <tr>\n",
              "      <th>0</th>\n",
              "      <td>109.0</td>\n",
              "      <td>3.27</td>\n",
              "      <td>-4.179</td>\n",
              "      <td>1.5614</td>\n",
              "      <td>25.9639</td>\n",
              "      <td>146.0</td>\n",
              "    </tr>\n",
              "    <tr>\n",
              "      <th>1</th>\n",
              "      <td>146.0</td>\n",
              "      <td>3.23</td>\n",
              "      <td>-2.807</td>\n",
              "      <td>7.5467</td>\n",
              "      <td>75.0443</td>\n",
              "      <td>146.0</td>\n",
              "    </tr>\n",
              "    <tr>\n",
              "      <th>2</th>\n",
              "      <td>146.0</td>\n",
              "      <td>3.22</td>\n",
              "      <td>-1.315</td>\n",
              "      <td>17.2073</td>\n",
              "      <td>116.9171</td>\n",
              "      <td>158.0</td>\n",
              "    </tr>\n",
              "    <tr>\n",
              "      <th>3</th>\n",
              "      <td>158.0</td>\n",
              "      <td>3.22</td>\n",
              "      <td>-0.051</td>\n",
              "      <td>35.4289</td>\n",
              "      <td>146.8923</td>\n",
              "      <td>187.0</td>\n",
              "    </tr>\n",
              "    <tr>\n",
              "      <th>4</th>\n",
              "      <td>187.0</td>\n",
              "      <td>3.00</td>\n",
              "      <td>0.791</td>\n",
              "      <td>58.5238</td>\n",
              "      <td>151.4721</td>\n",
              "      <td>244.0</td>\n",
              "    </tr>\n",
              "  </tbody>\n",
              "</table>\n",
              "</div>"
            ],
            "text/plain": [
              "   AT_wind_onshore_generation_actual  ...   pred\n",
              "0                              109.0  ...  146.0\n",
              "1                              146.0  ...  146.0\n",
              "2                              146.0  ...  158.0\n",
              "3                              158.0  ...  187.0\n",
              "4                              187.0  ...  244.0\n",
              "\n",
              "[5 rows x 6 columns]"
            ]
          },
          "metadata": {
            "tags": []
          },
          "execution_count": 28
        }
      ]
    },
    {
      "cell_type": "code",
      "metadata": {
        "id": "MhKAIeURMinY",
        "colab_type": "code",
        "colab": {
          "base_uri": "https://localhost:8080/",
          "height": 0
        },
        "outputId": "d0b927b2-a045-48c9-fc52-e5c4671b4ed2"
      },
      "source": [
        "scalerTwo = MinMaxScaler(feature_range=(0,1))\n",
        "windScaled = scalerTwo.fit_transform(dataPredWindOutput.values)\n",
        "windScaled = pd.DataFrame(windScaled)\n",
        "windScaled.head()"
      ],
      "execution_count": 29,
      "outputs": [
        {
          "output_type": "execute_result",
          "data": {
            "text/html": [
              "<div>\n",
              "<style scoped>\n",
              "    .dataframe tbody tr th:only-of-type {\n",
              "        vertical-align: middle;\n",
              "    }\n",
              "\n",
              "    .dataframe tbody tr th {\n",
              "        vertical-align: top;\n",
              "    }\n",
              "\n",
              "    .dataframe thead th {\n",
              "        text-align: right;\n",
              "    }\n",
              "</style>\n",
              "<table border=\"1\" class=\"dataframe\">\n",
              "  <thead>\n",
              "    <tr style=\"text-align: right;\">\n",
              "      <th></th>\n",
              "      <th>0</th>\n",
              "      <th>1</th>\n",
              "      <th>2</th>\n",
              "      <th>3</th>\n",
              "      <th>4</th>\n",
              "      <th>5</th>\n",
              "    </tr>\n",
              "  </thead>\n",
              "  <tbody>\n",
              "    <tr>\n",
              "      <th>0</th>\n",
              "      <td>0.042762</td>\n",
              "      <td>0.285083</td>\n",
              "      <td>0.178747</td>\n",
              "      <td>0.001814</td>\n",
              "      <td>0.064377</td>\n",
              "      <td>0.057277</td>\n",
              "    </tr>\n",
              "    <tr>\n",
              "      <th>1</th>\n",
              "      <td>0.057277</td>\n",
              "      <td>0.280663</td>\n",
              "      <td>0.209402</td>\n",
              "      <td>0.008767</td>\n",
              "      <td>0.186070</td>\n",
              "      <td>0.057277</td>\n",
              "    </tr>\n",
              "    <tr>\n",
              "      <th>2</th>\n",
              "      <td>0.057277</td>\n",
              "      <td>0.279558</td>\n",
              "      <td>0.242738</td>\n",
              "      <td>0.019991</td>\n",
              "      <td>0.289892</td>\n",
              "      <td>0.061985</td>\n",
              "    </tr>\n",
              "    <tr>\n",
              "      <th>3</th>\n",
              "      <td>0.061985</td>\n",
              "      <td>0.279558</td>\n",
              "      <td>0.270980</td>\n",
              "      <td>0.041160</td>\n",
              "      <td>0.364214</td>\n",
              "      <td>0.073362</td>\n",
              "    </tr>\n",
              "    <tr>\n",
              "      <th>4</th>\n",
              "      <td>0.073362</td>\n",
              "      <td>0.255249</td>\n",
              "      <td>0.289794</td>\n",
              "      <td>0.067990</td>\n",
              "      <td>0.375570</td>\n",
              "      <td>0.095724</td>\n",
              "    </tr>\n",
              "  </tbody>\n",
              "</table>\n",
              "</div>"
            ],
            "text/plain": [
              "          0         1         2         3         4         5\n",
              "0  0.042762  0.285083  0.178747  0.001814  0.064377  0.057277\n",
              "1  0.057277  0.280663  0.209402  0.008767  0.186070  0.057277\n",
              "2  0.057277  0.279558  0.242738  0.019991  0.289892  0.061985\n",
              "3  0.061985  0.279558  0.270980  0.041160  0.364214  0.073362\n",
              "4  0.073362  0.255249  0.289794  0.067990  0.375570  0.095724"
            ]
          },
          "metadata": {
            "tags": []
          },
          "execution_count": 29
        }
      ]
    },
    {
      "cell_type": "code",
      "metadata": {
        "id": "nL1QfKoFMi26",
        "colab_type": "code",
        "colab": {
          "base_uri": "https://localhost:8080/",
          "height": 0
        },
        "outputId": "f68c9d11-0b44-46b3-e557-a8f96f604e45"
      },
      "source": [
        "arrDfWind = seriesToSupervised(windScaled, 3, 0)\n",
        "arrDfWind.fillna(0, inplace = True)\n",
        "arrDfWind.head()"
      ],
      "execution_count": 30,
      "outputs": [
        {
          "output_type": "execute_result",
          "data": {
            "text/html": [
              "<div>\n",
              "<style scoped>\n",
              "    .dataframe tbody tr th:only-of-type {\n",
              "        vertical-align: middle;\n",
              "    }\n",
              "\n",
              "    .dataframe tbody tr th {\n",
              "        vertical-align: top;\n",
              "    }\n",
              "\n",
              "    .dataframe thead th {\n",
              "        text-align: right;\n",
              "    }\n",
              "</style>\n",
              "<table border=\"1\" class=\"dataframe\">\n",
              "  <thead>\n",
              "    <tr style=\"text-align: right;\">\n",
              "      <th></th>\n",
              "      <th>0</th>\n",
              "      <th>1</th>\n",
              "      <th>2</th>\n",
              "      <th>3</th>\n",
              "      <th>4</th>\n",
              "      <th>5</th>\n",
              "      <th>0</th>\n",
              "    </tr>\n",
              "    <tr>\n",
              "      <th>id</th>\n",
              "      <th></th>\n",
              "      <th></th>\n",
              "      <th></th>\n",
              "      <th></th>\n",
              "      <th></th>\n",
              "      <th></th>\n",
              "      <th></th>\n",
              "    </tr>\n",
              "  </thead>\n",
              "  <tbody>\n",
              "    <tr>\n",
              "      <th>1</th>\n",
              "      <td>0.042762</td>\n",
              "      <td>0.285083</td>\n",
              "      <td>0.178747</td>\n",
              "      <td>0.001814</td>\n",
              "      <td>0.064377</td>\n",
              "      <td>0.057277</td>\n",
              "      <td>0.061985</td>\n",
              "    </tr>\n",
              "    <tr>\n",
              "      <th>2</th>\n",
              "      <td>0.057277</td>\n",
              "      <td>0.280663</td>\n",
              "      <td>0.209402</td>\n",
              "      <td>0.008767</td>\n",
              "      <td>0.186070</td>\n",
              "      <td>0.057277</td>\n",
              "      <td>0.073362</td>\n",
              "    </tr>\n",
              "    <tr>\n",
              "      <th>3</th>\n",
              "      <td>0.057277</td>\n",
              "      <td>0.279558</td>\n",
              "      <td>0.242738</td>\n",
              "      <td>0.019991</td>\n",
              "      <td>0.289892</td>\n",
              "      <td>0.061985</td>\n",
              "      <td>0.095724</td>\n",
              "    </tr>\n",
              "    <tr>\n",
              "      <th>4</th>\n",
              "      <td>0.061985</td>\n",
              "      <td>0.279558</td>\n",
              "      <td>0.270980</td>\n",
              "      <td>0.041160</td>\n",
              "      <td>0.364214</td>\n",
              "      <td>0.073362</td>\n",
              "      <td>0.117301</td>\n",
              "    </tr>\n",
              "    <tr>\n",
              "      <th>5</th>\n",
              "      <td>0.073362</td>\n",
              "      <td>0.255249</td>\n",
              "      <td>0.289794</td>\n",
              "      <td>0.067990</td>\n",
              "      <td>0.375570</td>\n",
              "      <td>0.095724</td>\n",
              "      <td>0.128286</td>\n",
              "    </tr>\n",
              "  </tbody>\n",
              "</table>\n",
              "</div>"
            ],
            "text/plain": [
              "           0         1         2         3         4         5         0\n",
              "id                                                                      \n",
              "1   0.042762  0.285083  0.178747  0.001814  0.064377  0.057277  0.061985\n",
              "2   0.057277  0.280663  0.209402  0.008767  0.186070  0.057277  0.073362\n",
              "3   0.057277  0.279558  0.242738  0.019991  0.289892  0.061985  0.095724\n",
              "4   0.061985  0.279558  0.270980  0.041160  0.364214  0.073362  0.117301\n",
              "5   0.073362  0.255249  0.289794  0.067990  0.375570  0.095724  0.128286"
            ]
          },
          "metadata": {
            "tags": []
          },
          "execution_count": 30
        }
      ]
    },
    {
      "cell_type": "code",
      "metadata": {
        "id": "El9LI-0UMi86",
        "colab_type": "code",
        "colab": {
          "base_uri": "https://localhost:8080/",
          "height": 0
        },
        "outputId": "7757242f-c64e-4a18-80c1-ad26583b9093"
      },
      "source": [
        "values = arrDfWind.values\n",
        "trainSample = int(len(dataPredWindOutput)*0.8)\n",
        "train = values[: trainSample, :]\n",
        "test = values[trainSample:, :]\n",
        "XTrain, yTrain = train[:, :-1], train[:, -1]\n",
        "XTest, yTest = test[:,:-1], test[:, -1]\n",
        "XTrain.shape, yTrain.shape, XTest.shape, yTest.shape"
      ],
      "execution_count": 31,
      "outputs": [
        {
          "output_type": "execute_result",
          "data": {
            "text/plain": [
              "((13989, 6), (13989,), (3495, 6), (3495,))"
            ]
          },
          "metadata": {
            "tags": []
          },
          "execution_count": 31
        }
      ]
    },
    {
      "cell_type": "code",
      "metadata": {
        "id": "mr96m6zTMjDQ",
        "colab_type": "code",
        "colab": {
          "base_uri": "https://localhost:8080/",
          "height": 0
        },
        "outputId": "efe47868-eb88-4ddb-e69b-14dac9a66d4e"
      },
      "source": [
        "XTrain = XTrain.reshape((XTrain.shape[0], 1, XTrain.shape[1]))\n",
        "XTest = XTest.reshape((XTest.shape[0], 1, XTest.shape[1]))\n",
        "XTrain.shape, yTrain.shape, XTest.shape, yTest.shape"
      ],
      "execution_count": 32,
      "outputs": [
        {
          "output_type": "execute_result",
          "data": {
            "text/plain": [
              "((13989, 1, 6), (13989,), (3495, 1, 6), (3495,))"
            ]
          },
          "metadata": {
            "tags": []
          },
          "execution_count": 32
        }
      ]
    },
    {
      "cell_type": "code",
      "metadata": {
        "id": "goDWzIldMjHr",
        "colab_type": "code",
        "colab": {
          "base_uri": "https://localhost:8080/",
          "height": 0
        },
        "outputId": "83ced557-4969-4f63-8ae7-9e7c97b0d190"
      },
      "source": [
        "modelOne = Sequential()\n",
        "modelOne.add(LSTM(128, return_sequences = True, input_shape = (XTrain.shape[1], XTrain.shape[2])))\n",
        "modelOne.add(LSTM(units = 64, return_sequences=True))\n",
        "modelOne.add(LSTM(units = 32))\n",
        "modelOne.add(Dense(units = 1))\n",
        "modelOne.compile(loss = 'mae', optimizer = 'adam')\n",
        "modelOne.summary()"
      ],
      "execution_count": 33,
      "outputs": [
        {
          "output_type": "stream",
          "text": [
            "Model: \"sequential_2\"\n",
            "_________________________________________________________________\n",
            "Layer (type)                 Output Shape              Param #   \n",
            "=================================================================\n",
            "lstm_4 (LSTM)                (None, 1, 128)            69120     \n",
            "_________________________________________________________________\n",
            "lstm_5 (LSTM)                (None, 1, 64)             49408     \n",
            "_________________________________________________________________\n",
            "lstm_6 (LSTM)                (None, 32)                12416     \n",
            "_________________________________________________________________\n",
            "dense_2 (Dense)              (None, 1)                 33        \n",
            "=================================================================\n",
            "Total params: 130,977\n",
            "Trainable params: 130,977\n",
            "Non-trainable params: 0\n",
            "_________________________________________________________________\n"
          ],
          "name": "stdout"
        }
      ]
    },
    {
      "cell_type": "code",
      "metadata": {
        "id": "X_wsLWLXMjMn",
        "colab_type": "code",
        "colab": {
          "base_uri": "https://localhost:8080/",
          "height": 0
        },
        "outputId": "1adc3e74-bd85-45a1-c197-05265ae5de46"
      },
      "source": [
        "history = modelOne.fit(XTrain, yTrain, epochs= 50, batch_size=32, validation_split = 0.2, shuffle = False)"
      ],
      "execution_count": 34,
      "outputs": [
        {
          "output_type": "stream",
          "text": [
            "Train on 11191 samples, validate on 2798 samples\n",
            "Epoch 1/50\n",
            "11191/11191 [==============================] - 3s 309us/step - loss: 0.0862 - val_loss: 0.0609\n",
            "Epoch 2/50\n",
            "11191/11191 [==============================] - 2s 197us/step - loss: 0.0592 - val_loss: 0.0562\n",
            "Epoch 3/50\n",
            "11191/11191 [==============================] - 2s 206us/step - loss: 0.0563 - val_loss: 0.0543\n",
            "Epoch 4/50\n",
            "11191/11191 [==============================] - 2s 203us/step - loss: 0.0540 - val_loss: 0.0519\n",
            "Epoch 5/50\n",
            "11191/11191 [==============================] - 2s 201us/step - loss: 0.0525 - val_loss: 0.0502\n",
            "Epoch 6/50\n",
            "11191/11191 [==============================] - 2s 213us/step - loss: 0.0515 - val_loss: 0.0528\n",
            "Epoch 7/50\n",
            "11191/11191 [==============================] - 2s 199us/step - loss: 0.0508 - val_loss: 0.0544\n",
            "Epoch 8/50\n",
            "11191/11191 [==============================] - 2s 202us/step - loss: 0.0503 - val_loss: 0.0559\n",
            "Epoch 9/50\n",
            "11191/11191 [==============================] - 2s 198us/step - loss: 0.0502 - val_loss: 0.0535\n",
            "Epoch 10/50\n",
            "11191/11191 [==============================] - 2s 215us/step - loss: 0.0500 - val_loss: 0.0569\n",
            "Epoch 11/50\n",
            "11191/11191 [==============================] - 2s 213us/step - loss: 0.0496 - val_loss: 0.0547\n",
            "Epoch 12/50\n",
            "11191/11191 [==============================] - 2s 213us/step - loss: 0.0495 - val_loss: 0.0545\n",
            "Epoch 13/50\n",
            "11191/11191 [==============================] - 2s 201us/step - loss: 0.0494 - val_loss: 0.0522\n",
            "Epoch 14/50\n",
            "11191/11191 [==============================] - 2s 195us/step - loss: 0.0495 - val_loss: 0.0527\n",
            "Epoch 15/50\n",
            "11191/11191 [==============================] - 2s 195us/step - loss: 0.0492 - val_loss: 0.0519\n",
            "Epoch 16/50\n",
            "11191/11191 [==============================] - 2s 194us/step - loss: 0.0493 - val_loss: 0.0516\n",
            "Epoch 17/50\n",
            "11191/11191 [==============================] - 2s 198us/step - loss: 0.0491 - val_loss: 0.0518\n",
            "Epoch 18/50\n",
            "11191/11191 [==============================] - 2s 197us/step - loss: 0.0492 - val_loss: 0.0519\n",
            "Epoch 19/50\n",
            "11191/11191 [==============================] - 2s 193us/step - loss: 0.0492 - val_loss: 0.0513\n",
            "Epoch 20/50\n",
            "11191/11191 [==============================] - 2s 199us/step - loss: 0.0490 - val_loss: 0.0512\n",
            "Epoch 21/50\n",
            "11191/11191 [==============================] - 2s 208us/step - loss: 0.0489 - val_loss: 0.0512\n",
            "Epoch 22/50\n",
            "11191/11191 [==============================] - 2s 199us/step - loss: 0.0490 - val_loss: 0.0513\n",
            "Epoch 23/50\n",
            "11191/11191 [==============================] - 2s 192us/step - loss: 0.0488 - val_loss: 0.0520\n",
            "Epoch 24/50\n",
            "11191/11191 [==============================] - 2s 197us/step - loss: 0.0488 - val_loss: 0.0511\n",
            "Epoch 25/50\n",
            "11191/11191 [==============================] - 2s 195us/step - loss: 0.0488 - val_loss: 0.0520\n",
            "Epoch 26/50\n",
            "11191/11191 [==============================] - 2s 199us/step - loss: 0.0488 - val_loss: 0.0520\n",
            "Epoch 27/50\n",
            "11191/11191 [==============================] - 2s 192us/step - loss: 0.0487 - val_loss: 0.0512\n",
            "Epoch 28/50\n",
            "11191/11191 [==============================] - 2s 196us/step - loss: 0.0486 - val_loss: 0.0509\n",
            "Epoch 29/50\n",
            "11191/11191 [==============================] - 2s 199us/step - loss: 0.0486 - val_loss: 0.0511\n",
            "Epoch 30/50\n",
            "11191/11191 [==============================] - 2s 195us/step - loss: 0.0484 - val_loss: 0.0510\n",
            "Epoch 31/50\n",
            "11191/11191 [==============================] - 2s 196us/step - loss: 0.0485 - val_loss: 0.0505\n",
            "Epoch 32/50\n",
            "11191/11191 [==============================] - 2s 195us/step - loss: 0.0484 - val_loss: 0.0510\n",
            "Epoch 33/50\n",
            "11191/11191 [==============================] - 2s 193us/step - loss: 0.0483 - val_loss: 0.0503\n",
            "Epoch 34/50\n",
            "11191/11191 [==============================] - 2s 198us/step - loss: 0.0482 - val_loss: 0.0503\n",
            "Epoch 35/50\n",
            "11191/11191 [==============================] - 2s 212us/step - loss: 0.0483 - val_loss: 0.0508\n",
            "Epoch 36/50\n",
            "11191/11191 [==============================] - 2s 196us/step - loss: 0.0483 - val_loss: 0.0505\n",
            "Epoch 37/50\n",
            "11191/11191 [==============================] - 2s 195us/step - loss: 0.0483 - val_loss: 0.0508\n",
            "Epoch 38/50\n",
            "11191/11191 [==============================] - 2s 197us/step - loss: 0.0482 - val_loss: 0.0504\n",
            "Epoch 39/50\n",
            "11191/11191 [==============================] - 2s 202us/step - loss: 0.0482 - val_loss: 0.0504\n",
            "Epoch 40/50\n",
            "11191/11191 [==============================] - 2s 198us/step - loss: 0.0482 - val_loss: 0.0505\n",
            "Epoch 41/50\n",
            "11191/11191 [==============================] - 2s 197us/step - loss: 0.0482 - val_loss: 0.0509\n",
            "Epoch 42/50\n",
            "11191/11191 [==============================] - 2s 194us/step - loss: 0.0482 - val_loss: 0.0505\n",
            "Epoch 43/50\n",
            "11191/11191 [==============================] - 2s 195us/step - loss: 0.0481 - val_loss: 0.0506\n",
            "Epoch 44/50\n",
            "11191/11191 [==============================] - 2s 198us/step - loss: 0.0481 - val_loss: 0.0502\n",
            "Epoch 45/50\n",
            "11191/11191 [==============================] - 2s 196us/step - loss: 0.0481 - val_loss: 0.0503\n",
            "Epoch 46/50\n",
            "11191/11191 [==============================] - 2s 195us/step - loss: 0.0481 - val_loss: 0.0504\n",
            "Epoch 47/50\n",
            "11191/11191 [==============================] - 2s 193us/step - loss: 0.0481 - val_loss: 0.0502\n",
            "Epoch 48/50\n",
            "11191/11191 [==============================] - 2s 192us/step - loss: 0.0481 - val_loss: 0.0502\n",
            "Epoch 49/50\n",
            "11191/11191 [==============================] - 2s 194us/step - loss: 0.0480 - val_loss: 0.0502\n",
            "Epoch 50/50\n",
            "11191/11191 [==============================] - 2s 191us/step - loss: 0.0480 - val_loss: 0.0502\n"
          ],
          "name": "stdout"
        }
      ]
    },
    {
      "cell_type": "code",
      "metadata": {
        "id": "fJsH_unHMjS0",
        "colab_type": "code",
        "colab": {
          "base_uri": "https://localhost:8080/",
          "height": 0
        },
        "outputId": "71cc7335-400b-4049-e1f2-a73b113e157a"
      },
      "source": [
        "#Making predictions\n",
        "yPred = modelOne.predict(XTest)\n",
        "XTest = XTest.reshape((XTest.shape[0],XTest.shape[2]))\n",
        "invyPred = np.concatenate((yPred, XTest[:, 1:]), axis = 1)\n",
        "invyPred = scalerTwo.inverse_transform(invyPred)\n",
        "invyPred = invyPred[:, 0]\n",
        "\n",
        "yTest = yTest.reshape((len(yTest), 1))\n",
        "invyTest = np.concatenate((yTest, XTest[:, 1:]), axis = 1)\n",
        "invyTest = scalerTwo.inverse_transform(invyTest)\n",
        "invyTest = invyTest[:, 0]\n",
        "\n",
        "print(f'Mean absolute error {mean_absolute_error(invyTest, invyPred)}')\n",
        "print(f'Mean squared error {mean_squared_error(invyTest, invyPred)}')\n",
        "print(f'R2_Score {r2_score(invyTest, invyPred)}')"
      ],
      "execution_count": 35,
      "outputs": [
        {
          "output_type": "stream",
          "text": [
            "Mean absolute error 107.4077821757234\n",
            "Mean squared error 28002.538400330763\n",
            "R2_Score 0.9298159091719198\n"
          ],
          "name": "stdout"
        }
      ]
    },
    {
      "cell_type": "code",
      "metadata": {
        "id": "HOt2n2MaMjYV",
        "colab_type": "code",
        "colab": {
          "base_uri": "https://localhost:8080/",
          "height": 0
        },
        "outputId": "13cd385b-4624-474b-b619-c8d43abf8b54"
      },
      "source": [
        "plt.plot(invyTest[:1000])\n",
        "plt.plot(invyPred[:1000])"
      ],
      "execution_count": 36,
      "outputs": [
        {
          "output_type": "execute_result",
          "data": {
            "text/plain": [
              "[<matplotlib.lines.Line2D at 0x7f6bef051390>]"
            ]
          },
          "metadata": {
            "tags": []
          },
          "execution_count": 36
        },
        {
          "output_type": "display_data",
          "data": {
            "image/png": "[encoded data removed]",
            "text/plain": [
              "<Figure size 432x288 with 1 Axes>"
            ]
          },
          "metadata": {
            "tags": [],
            "needs_background": "light"
          }
        }
      ]
    },
    {
      "cell_type": "markdown",
      "metadata": {
        "id": "nPmsz5kAI9cZ",
        "colab_type": "text"
      },
      "source": [
        "# Demand forecasting model\n",
        "\n"
      ]
    },
    {
      "cell_type": "code",
      "metadata": {
        "id": "2G8yjUffI9im",
        "colab_type": "code",
        "colab": {
          "base_uri": "https://localhost:8080/",
          "height": 0
        },
        "outputId": "831b9d6c-701a-43b7-9d0d-26485dbd7a13"
      },
      "source": [
        "#Selecting the feature variables and target variables for a Multivariate LSTM\n",
        "dataPredDemand = dataRequired[['AT_load_actual_entsoe_power_statistics', 'AT_windspeed_10m', 'AT_temperature', 'AT_radiation_direct_horizontal', 'AT_radiation_diffuse_horizontal']]\n",
        "dataPredDemand['pred'] = dataPredDemand['AT_load_actual_entsoe_power_statistics'].shift(-1)\n",
        "dataPredDemand = dataPredDemand.dropna()\n",
        "dataPredDemand.head()"
      ],
      "execution_count": 37,
      "outputs": [
        {
          "output_type": "stream",
          "text": [
            "/usr/local/lib/python3.6/dist-packages/ipykernel_launcher.py:3: SettingWithCopyWarning: \n",
            "A value is trying to be set on a copy of a slice from a DataFrame.\n",
            "Try using .loc[row_indexer,col_indexer] = value instead\n",
            "\n",
            "See the caveats in the documentation: https://pandas.pydata.org/pandas-docs/stable/user_guide/indexing.html#returning-a-view-versus-a-copy\n",
            "  This is separate from the ipykernel package so we can avoid doing imports until\n"
          ],
          "name": "stderr"
        },
        {
          "output_type": "execute_result",
          "data": {
            "text/html": [
              "<div>\n",
              "<style scoped>\n",
              "    .dataframe tbody tr th:only-of-type {\n",
              "        vertical-align: middle;\n",
              "    }\n",
              "\n",
              "    .dataframe tbody tr th {\n",
              "        vertical-align: top;\n",
              "    }\n",
              "\n",
              "    .dataframe thead th {\n",
              "        text-align: right;\n",
              "    }\n",
              "</style>\n",
              "<table border=\"1\" class=\"dataframe\">\n",
              "  <thead>\n",
              "    <tr style=\"text-align: right;\">\n",
              "      <th></th>\n",
              "      <th>AT_load_actual_entsoe_power_statistics</th>\n",
              "      <th>AT_windspeed_10m</th>\n",
              "      <th>AT_temperature</th>\n",
              "      <th>AT_radiation_direct_horizontal</th>\n",
              "      <th>AT_radiation_diffuse_horizontal</th>\n",
              "      <th>pred</th>\n",
              "    </tr>\n",
              "  </thead>\n",
              "  <tbody>\n",
              "    <tr>\n",
              "      <th>0</th>\n",
              "      <td>7035.0</td>\n",
              "      <td>3.27</td>\n",
              "      <td>-4.179</td>\n",
              "      <td>1.5614</td>\n",
              "      <td>25.9639</td>\n",
              "      <td>7394.0</td>\n",
              "    </tr>\n",
              "    <tr>\n",
              "      <th>1</th>\n",
              "      <td>7394.0</td>\n",
              "      <td>3.23</td>\n",
              "      <td>-2.807</td>\n",
              "      <td>7.5467</td>\n",
              "      <td>75.0443</td>\n",
              "      <td>7770.0</td>\n",
              "    </tr>\n",
              "    <tr>\n",
              "      <th>2</th>\n",
              "      <td>7770.0</td>\n",
              "      <td>3.22</td>\n",
              "      <td>-1.315</td>\n",
              "      <td>17.2073</td>\n",
              "      <td>116.9171</td>\n",
              "      <td>7820.0</td>\n",
              "    </tr>\n",
              "    <tr>\n",
              "      <th>3</th>\n",
              "      <td>7820.0</td>\n",
              "      <td>3.22</td>\n",
              "      <td>-0.051</td>\n",
              "      <td>35.4289</td>\n",
              "      <td>146.8923</td>\n",
              "      <td>7694.0</td>\n",
              "    </tr>\n",
              "    <tr>\n",
              "      <th>4</th>\n",
              "      <td>7694.0</td>\n",
              "      <td>3.00</td>\n",
              "      <td>0.791</td>\n",
              "      <td>58.5238</td>\n",
              "      <td>151.4721</td>\n",
              "      <td>7565.0</td>\n",
              "    </tr>\n",
              "  </tbody>\n",
              "</table>\n",
              "</div>"
            ],
            "text/plain": [
              "   AT_load_actual_entsoe_power_statistics  ...    pred\n",
              "0                                  7035.0  ...  7394.0\n",
              "1                                  7394.0  ...  7770.0\n",
              "2                                  7770.0  ...  7820.0\n",
              "3                                  7820.0  ...  7694.0\n",
              "4                                  7694.0  ...  7565.0\n",
              "\n",
              "[5 rows x 6 columns]"
            ]
          },
          "metadata": {
            "tags": []
          },
          "execution_count": 37
        }
      ]
    },
    {
      "cell_type": "code",
      "metadata": {
        "id": "GXhErqcBI9qV",
        "colab_type": "code",
        "colab": {
          "base_uri": "https://localhost:8080/",
          "height": 0
        },
        "outputId": "958ebff5-ba43-46ce-f3c6-209df02578ec"
      },
      "source": [
        "scalerThree = MinMaxScaler(feature_range=(0,1))\n",
        "demandScaled = scalerThree.fit_transform(dataPredDemand.values)\n",
        "demandScaled = pd.DataFrame(windScaled)\n",
        "demandScaled.head()"
      ],
      "execution_count": 38,
      "outputs": [
        {
          "output_type": "execute_result",
          "data": {
            "text/html": [
              "<div>\n",
              "<style scoped>\n",
              "    .dataframe tbody tr th:only-of-type {\n",
              "        vertical-align: middle;\n",
              "    }\n",
              "\n",
              "    .dataframe tbody tr th {\n",
              "        vertical-align: top;\n",
              "    }\n",
              "\n",
              "    .dataframe thead th {\n",
              "        text-align: right;\n",
              "    }\n",
              "</style>\n",
              "<table border=\"1\" class=\"dataframe\">\n",
              "  <thead>\n",
              "    <tr style=\"text-align: right;\">\n",
              "      <th></th>\n",
              "      <th>0</th>\n",
              "      <th>1</th>\n",
              "      <th>2</th>\n",
              "      <th>3</th>\n",
              "      <th>4</th>\n",
              "      <th>5</th>\n",
              "    </tr>\n",
              "  </thead>\n",
              "  <tbody>\n",
              "    <tr>\n",
              "      <th>0</th>\n",
              "      <td>0.042762</td>\n",
              "      <td>0.285083</td>\n",
              "      <td>0.178747</td>\n",
              "      <td>0.001814</td>\n",
              "      <td>0.064377</td>\n",
              "      <td>0.057277</td>\n",
              "    </tr>\n",
              "    <tr>\n",
              "      <th>1</th>\n",
              "      <td>0.057277</td>\n",
              "      <td>0.280663</td>\n",
              "      <td>0.209402</td>\n",
              "      <td>0.008767</td>\n",
              "      <td>0.186070</td>\n",
              "      <td>0.057277</td>\n",
              "    </tr>\n",
              "    <tr>\n",
              "      <th>2</th>\n",
              "      <td>0.057277</td>\n",
              "      <td>0.279558</td>\n",
              "      <td>0.242738</td>\n",
              "      <td>0.019991</td>\n",
              "      <td>0.289892</td>\n",
              "      <td>0.061985</td>\n",
              "    </tr>\n",
              "    <tr>\n",
              "      <th>3</th>\n",
              "      <td>0.061985</td>\n",
              "      <td>0.279558</td>\n",
              "      <td>0.270980</td>\n",
              "      <td>0.041160</td>\n",
              "      <td>0.364214</td>\n",
              "      <td>0.073362</td>\n",
              "    </tr>\n",
              "    <tr>\n",
              "      <th>4</th>\n",
              "      <td>0.073362</td>\n",
              "      <td>0.255249</td>\n",
              "      <td>0.289794</td>\n",
              "      <td>0.067990</td>\n",
              "      <td>0.375570</td>\n",
              "      <td>0.095724</td>\n",
              "    </tr>\n",
              "  </tbody>\n",
              "</table>\n",
              "</div>"
            ],
            "text/plain": [
              "          0         1         2         3         4         5\n",
              "0  0.042762  0.285083  0.178747  0.001814  0.064377  0.057277\n",
              "1  0.057277  0.280663  0.209402  0.008767  0.186070  0.057277\n",
              "2  0.057277  0.279558  0.242738  0.019991  0.289892  0.061985\n",
              "3  0.061985  0.279558  0.270980  0.041160  0.364214  0.073362\n",
              "4  0.073362  0.255249  0.289794  0.067990  0.375570  0.095724"
            ]
          },
          "metadata": {
            "tags": []
          },
          "execution_count": 38
        }
      ]
    },
    {
      "cell_type": "code",
      "metadata": {
        "id": "SZ9jCYq9I9vZ",
        "colab_type": "code",
        "colab": {
          "base_uri": "https://localhost:8080/",
          "height": 0
        },
        "outputId": "8e5dad80-71b9-40af-e7b2-96716d88f96e"
      },
      "source": [
        "arrDfDemand = seriesToSupervised(demandScaled, 3, 0)\n",
        "arrDfDemand.fillna(0, inplace = True)\n",
        "arrDfDemand.head()"
      ],
      "execution_count": 39,
      "outputs": [
        {
          "output_type": "execute_result",
          "data": {
            "text/html": [
              "<div>\n",
              "<style scoped>\n",
              "    .dataframe tbody tr th:only-of-type {\n",
              "        vertical-align: middle;\n",
              "    }\n",
              "\n",
              "    .dataframe tbody tr th {\n",
              "        vertical-align: top;\n",
              "    }\n",
              "\n",
              "    .dataframe thead th {\n",
              "        text-align: right;\n",
              "    }\n",
              "</style>\n",
              "<table border=\"1\" class=\"dataframe\">\n",
              "  <thead>\n",
              "    <tr style=\"text-align: right;\">\n",
              "      <th></th>\n",
              "      <th>0</th>\n",
              "      <th>1</th>\n",
              "      <th>2</th>\n",
              "      <th>3</th>\n",
              "      <th>4</th>\n",
              "      <th>5</th>\n",
              "      <th>0</th>\n",
              "    </tr>\n",
              "    <tr>\n",
              "      <th>id</th>\n",
              "      <th></th>\n",
              "      <th></th>\n",
              "      <th></th>\n",
              "      <th></th>\n",
              "      <th></th>\n",
              "      <th></th>\n",
              "      <th></th>\n",
              "    </tr>\n",
              "  </thead>\n",
              "  <tbody>\n",
              "    <tr>\n",
              "      <th>1</th>\n",
              "      <td>0.042762</td>\n",
              "      <td>0.285083</td>\n",
              "      <td>0.178747</td>\n",
              "      <td>0.001814</td>\n",
              "      <td>0.064377</td>\n",
              "      <td>0.057277</td>\n",
              "      <td>0.061985</td>\n",
              "    </tr>\n",
              "    <tr>\n",
              "      <th>2</th>\n",
              "      <td>0.057277</td>\n",
              "      <td>0.280663</td>\n",
              "      <td>0.209402</td>\n",
              "      <td>0.008767</td>\n",
              "      <td>0.186070</td>\n",
              "      <td>0.057277</td>\n",
              "      <td>0.073362</td>\n",
              "    </tr>\n",
              "    <tr>\n",
              "      <th>3</th>\n",
              "      <td>0.057277</td>\n",
              "      <td>0.279558</td>\n",
              "      <td>0.242738</td>\n",
              "      <td>0.019991</td>\n",
              "      <td>0.289892</td>\n",
              "      <td>0.061985</td>\n",
              "      <td>0.095724</td>\n",
              "    </tr>\n",
              "    <tr>\n",
              "      <th>4</th>\n",
              "      <td>0.061985</td>\n",
              "      <td>0.279558</td>\n",
              "      <td>0.270980</td>\n",
              "      <td>0.041160</td>\n",
              "      <td>0.364214</td>\n",
              "      <td>0.073362</td>\n",
              "      <td>0.117301</td>\n",
              "    </tr>\n",
              "    <tr>\n",
              "      <th>5</th>\n",
              "      <td>0.073362</td>\n",
              "      <td>0.255249</td>\n",
              "      <td>0.289794</td>\n",
              "      <td>0.067990</td>\n",
              "      <td>0.375570</td>\n",
              "      <td>0.095724</td>\n",
              "      <td>0.128286</td>\n",
              "    </tr>\n",
              "  </tbody>\n",
              "</table>\n",
              "</div>"
            ],
            "text/plain": [
              "           0         1         2         3         4         5         0\n",
              "id                                                                      \n",
              "1   0.042762  0.285083  0.178747  0.001814  0.064377  0.057277  0.061985\n",
              "2   0.057277  0.280663  0.209402  0.008767  0.186070  0.057277  0.073362\n",
              "3   0.057277  0.279558  0.242738  0.019991  0.289892  0.061985  0.095724\n",
              "4   0.061985  0.279558  0.270980  0.041160  0.364214  0.073362  0.117301\n",
              "5   0.073362  0.255249  0.289794  0.067990  0.375570  0.095724  0.128286"
            ]
          },
          "metadata": {
            "tags": []
          },
          "execution_count": 39
        }
      ]
    },
    {
      "cell_type": "code",
      "metadata": {
        "id": "Uk5iCoOGI92R",
        "colab_type": "code",
        "colab": {
          "base_uri": "https://localhost:8080/",
          "height": 0
        },
        "outputId": "6e489f83-edb6-4394-9442-83df60aa5790"
      },
      "source": [
        "values = arrDfDemand.values\n",
        "trainSample = int(len(dataPredDemand)*0.8)\n",
        "train = values[: trainSample, :]\n",
        "test = values[trainSample:, :]\n",
        "XTrain, yTrain = train[:, :-1], train[:, -1]\n",
        "XTest, yTest = test[:,:-1], test[:, -1]\n",
        "XTrain.shape, yTrain.shape, XTest.shape, yTest.shape"
      ],
      "execution_count": 40,
      "outputs": [
        {
          "output_type": "execute_result",
          "data": {
            "text/plain": [
              "((13989, 6), (13989,), (3495, 6), (3495,))"
            ]
          },
          "metadata": {
            "tags": []
          },
          "execution_count": 40
        }
      ]
    },
    {
      "cell_type": "code",
      "metadata": {
        "id": "aX7knJAtI98c",
        "colab_type": "code",
        "colab": {
          "base_uri": "https://localhost:8080/",
          "height": 0
        },
        "outputId": "372a3df9-a614-4008-efac-37e7a0ebeaaf"
      },
      "source": [
        "XTrain = XTrain.reshape((XTrain.shape[0], 1, XTrain.shape[1]))\n",
        "XTest = XTest.reshape((XTest.shape[0], 1, XTest.shape[1]))\n",
        "XTrain.shape, yTrain.shape, XTest.shape, yTest.shape"
      ],
      "execution_count": 41,
      "outputs": [
        {
          "output_type": "execute_result",
          "data": {
            "text/plain": [
              "((13989, 1, 6), (13989,), (3495, 1, 6), (3495,))"
            ]
          },
          "metadata": {
            "tags": []
          },
          "execution_count": 41
        }
      ]
    },
    {
      "cell_type": "code",
      "metadata": {
        "id": "6Z6OL9XpI-C0",
        "colab_type": "code",
        "colab": {
          "base_uri": "https://localhost:8080/",
          "height": 0
        },
        "outputId": "5330cd09-19bb-4125-85da-0c4991e47c38"
      },
      "source": [
        "modelTwo = Sequential()\n",
        "modelTwo.add(LSTM(75, return_sequences = True, input_shape = (XTrain.shape[1], XTrain.shape[2])))\n",
        "modelTwo.add(LSTM(units = 50, return_sequences=True))\n",
        "modelTwo.add(LSTM(units = 30))\n",
        "modelTwo.add(Dense(units = 1))\n",
        "modelTwo.compile(loss = 'mae', optimizer = 'adam')\n",
        "modelTwo.summary()"
      ],
      "execution_count": 42,
      "outputs": [
        {
          "output_type": "stream",
          "text": [
            "Model: \"sequential_3\"\n",
            "_________________________________________________________________\n",
            "Layer (type)                 Output Shape              Param #   \n",
            "=================================================================\n",
            "lstm_7 (LSTM)                (None, 1, 75)             24600     \n",
            "_________________________________________________________________\n",
            "lstm_8 (LSTM)                (None, 1, 50)             25200     \n",
            "_________________________________________________________________\n",
            "lstm_9 (LSTM)                (None, 30)                9720      \n",
            "_________________________________________________________________\n",
            "dense_3 (Dense)              (None, 1)                 31        \n",
            "=================================================================\n",
            "Total params: 59,551\n",
            "Trainable params: 59,551\n",
            "Non-trainable params: 0\n",
            "_________________________________________________________________\n"
          ],
          "name": "stdout"
        }
      ]
    },
    {
      "cell_type": "code",
      "metadata": {
        "id": "P8dF_np9I-JE",
        "colab_type": "code",
        "colab": {
          "base_uri": "https://localhost:8080/",
          "height": 0
        },
        "outputId": "82192e09-3545-40bb-d0d1-ef9093344ea7"
      },
      "source": [
        "history = modelTwo.fit(XTrain, yTrain, epochs= 50, batch_size=32, validation_split = 0.2, shuffle = False)"
      ],
      "execution_count": 43,
      "outputs": [
        {
          "output_type": "stream",
          "text": [
            "Train on 11191 samples, validate on 2798 samples\n",
            "Epoch 1/50\n",
            "11191/11191 [==============================] - 3s 273us/step - loss: 0.0934 - val_loss: 0.0609\n",
            "Epoch 2/50\n",
            "11191/11191 [==============================] - 2s 161us/step - loss: 0.0588 - val_loss: 0.0572\n",
            "Epoch 3/50\n",
            "11191/11191 [==============================] - 2s 160us/step - loss: 0.0562 - val_loss: 0.0550\n",
            "Epoch 4/50\n",
            "11191/11191 [==============================] - 2s 164us/step - loss: 0.0542 - val_loss: 0.0527\n",
            "Epoch 5/50\n",
            "11191/11191 [==============================] - 2s 162us/step - loss: 0.0526 - val_loss: 0.0511\n",
            "Epoch 6/50\n",
            "11191/11191 [==============================] - 2s 162us/step - loss: 0.0513 - val_loss: 0.0502\n",
            "Epoch 7/50\n",
            "11191/11191 [==============================] - 2s 162us/step - loss: 0.0501 - val_loss: 0.0528\n",
            "Epoch 8/50\n",
            "11191/11191 [==============================] - 2s 159us/step - loss: 0.0498 - val_loss: 0.0539\n",
            "Epoch 9/50\n",
            "11191/11191 [==============================] - 2s 163us/step - loss: 0.0497 - val_loss: 0.0522\n",
            "Epoch 10/50\n",
            "11191/11191 [==============================] - 2s 162us/step - loss: 0.0494 - val_loss: 0.0508\n",
            "Epoch 11/50\n",
            "11191/11191 [==============================] - 2s 162us/step - loss: 0.0492 - val_loss: 0.0506\n",
            "Epoch 12/50\n",
            "11191/11191 [==============================] - 2s 165us/step - loss: 0.0490 - val_loss: 0.0504\n",
            "Epoch 13/50\n",
            "11191/11191 [==============================] - 2s 161us/step - loss: 0.0489 - val_loss: 0.0505\n",
            "Epoch 14/50\n",
            "11191/11191 [==============================] - 2s 159us/step - loss: 0.0489 - val_loss: 0.0512\n",
            "Epoch 15/50\n",
            "11191/11191 [==============================] - 2s 161us/step - loss: 0.0486 - val_loss: 0.0500\n",
            "Epoch 16/50\n",
            "11191/11191 [==============================] - 2s 158us/step - loss: 0.0486 - val_loss: 0.0505\n",
            "Epoch 17/50\n",
            "11191/11191 [==============================] - 2s 158us/step - loss: 0.0486 - val_loss: 0.0507\n",
            "Epoch 18/50\n",
            "11191/11191 [==============================] - 2s 165us/step - loss: 0.0485 - val_loss: 0.0501\n",
            "Epoch 19/50\n",
            "11191/11191 [==============================] - 2s 158us/step - loss: 0.0484 - val_loss: 0.0501\n",
            "Epoch 20/50\n",
            "11191/11191 [==============================] - 2s 167us/step - loss: 0.0484 - val_loss: 0.0505\n",
            "Epoch 21/50\n",
            "11191/11191 [==============================] - 2s 167us/step - loss: 0.0484 - val_loss: 0.0509\n",
            "Epoch 22/50\n",
            "11191/11191 [==============================] - 2s 175us/step - loss: 0.0483 - val_loss: 0.0504\n",
            "Epoch 23/50\n",
            "11191/11191 [==============================] - 2s 175us/step - loss: 0.0483 - val_loss: 0.0503\n",
            "Epoch 24/50\n",
            "11191/11191 [==============================] - 2s 167us/step - loss: 0.0483 - val_loss: 0.0505\n",
            "Epoch 25/50\n",
            "11191/11191 [==============================] - 2s 168us/step - loss: 0.0483 - val_loss: 0.0504\n",
            "Epoch 26/50\n",
            "11191/11191 [==============================] - 2s 168us/step - loss: 0.0482 - val_loss: 0.0507\n",
            "Epoch 27/50\n",
            "11191/11191 [==============================] - 2s 173us/step - loss: 0.0482 - val_loss: 0.0508\n",
            "Epoch 28/50\n",
            "11191/11191 [==============================] - 2s 178us/step - loss: 0.0481 - val_loss: 0.0503\n",
            "Epoch 29/50\n",
            "11191/11191 [==============================] - 2s 167us/step - loss: 0.0482 - val_loss: 0.0505\n",
            "Epoch 30/50\n",
            "11191/11191 [==============================] - 2s 171us/step - loss: 0.0482 - val_loss: 0.0501\n",
            "Epoch 31/50\n",
            "11191/11191 [==============================] - 2s 174us/step - loss: 0.0480 - val_loss: 0.0505\n",
            "Epoch 32/50\n",
            "11191/11191 [==============================] - 2s 153us/step - loss: 0.0482 - val_loss: 0.0503\n",
            "Epoch 33/50\n",
            "11191/11191 [==============================] - 2s 157us/step - loss: 0.0480 - val_loss: 0.0505\n",
            "Epoch 34/50\n",
            "11191/11191 [==============================] - 2s 157us/step - loss: 0.0481 - val_loss: 0.0500\n",
            "Epoch 35/50\n",
            "11191/11191 [==============================] - 2s 153us/step - loss: 0.0480 - val_loss: 0.0504\n",
            "Epoch 36/50\n",
            "11191/11191 [==============================] - 2s 153us/step - loss: 0.0481 - val_loss: 0.0502\n",
            "Epoch 37/50\n",
            "11191/11191 [==============================] - 2s 159us/step - loss: 0.0480 - val_loss: 0.0504\n",
            "Epoch 38/50\n",
            "11191/11191 [==============================] - 2s 151us/step - loss: 0.0480 - val_loss: 0.0501\n",
            "Epoch 39/50\n",
            "11191/11191 [==============================] - 2s 153us/step - loss: 0.0480 - val_loss: 0.0503\n",
            "Epoch 40/50\n",
            "11191/11191 [==============================] - 2s 151us/step - loss: 0.0481 - val_loss: 0.0500\n",
            "Epoch 41/50\n",
            "11191/11191 [==============================] - 2s 152us/step - loss: 0.0479 - val_loss: 0.0503\n",
            "Epoch 42/50\n",
            "11191/11191 [==============================] - 2s 160us/step - loss: 0.0480 - val_loss: 0.0501\n",
            "Epoch 43/50\n",
            "11191/11191 [==============================] - 2s 153us/step - loss: 0.0479 - val_loss: 0.0504\n",
            "Epoch 44/50\n",
            "11191/11191 [==============================] - 2s 157us/step - loss: 0.0480 - val_loss: 0.0500\n",
            "Epoch 45/50\n",
            "11191/11191 [==============================] - 2s 158us/step - loss: 0.0479 - val_loss: 0.0499\n",
            "Epoch 46/50\n",
            "11191/11191 [==============================] - 2s 154us/step - loss: 0.0478 - val_loss: 0.0498\n",
            "Epoch 47/50\n",
            "11191/11191 [==============================] - 2s 158us/step - loss: 0.0478 - val_loss: 0.0499\n",
            "Epoch 48/50\n",
            "11191/11191 [==============================] - 2s 158us/step - loss: 0.0478 - val_loss: 0.0499\n",
            "Epoch 49/50\n",
            "11191/11191 [==============================] - 2s 159us/step - loss: 0.0478 - val_loss: 0.0498\n",
            "Epoch 50/50\n",
            "11191/11191 [==============================] - 2s 160us/step - loss: 0.0478 - val_loss: 0.0498\n"
          ],
          "name": "stdout"
        }
      ]
    },
    {
      "cell_type": "code",
      "metadata": {
        "id": "UXARNmWgI-P5",
        "colab_type": "code",
        "colab": {
          "base_uri": "https://localhost:8080/",
          "height": 0
        },
        "outputId": "48080316-ad8b-4ee0-e2d1-e32714dc6363"
      },
      "source": [
        "#Making predictions\n",
        "yPred = modelTwo.predict(XTest)\n",
        "XTest = XTest.reshape((XTest.shape[0],XTest.shape[2]))\n",
        "invyPred = np.concatenate((yPred, XTest[:, 1:]), axis = 1)\n",
        "invyPred = scalerThree.inverse_transform(invyPred)\n",
        "invyPred = invyPred[:, 0]\n",
        "\n",
        "yTest = yTest.reshape((len(yTest), 1))\n",
        "invyTest = np.concatenate((yTest, XTest[:, 1:]), axis = 1)\n",
        "invyTest = scalerThree.inverse_transform(invyTest)\n",
        "invyTest = invyTest[:, 0]\n",
        "\n",
        "print(f'Mean absolute error {mean_absolute_error(invyTest, invyPred)}')\n",
        "print(f'Mean squared error {mean_squared_error(invyTest, invyPred)}')\n",
        "print(f'R2_Score {r2_score(invyTest, invyPred)}')"
      ],
      "execution_count": 44,
      "outputs": [
        {
          "output_type": "stream",
          "text": [
            "Mean absolute error 296.13222801484613\n",
            "Mean squared error 213954.0131697989\n",
            "R2_Score 0.9301767589883283\n"
          ],
          "name": "stdout"
        }
      ]
    },
    {
      "cell_type": "code",
      "metadata": {
        "id": "1WjauTNhI-WB",
        "colab_type": "code",
        "colab": {
          "base_uri": "https://localhost:8080/",
          "height": 0
        },
        "outputId": "0c5707a0-e611-4a6a-9fd8-9910718acaa4"
      },
      "source": [
        "plt.plot(invyPred[:1000])\n",
        "plt.plot(invyTest[:1000])"
      ],
      "execution_count": 45,
      "outputs": [
        {
          "output_type": "execute_result",
          "data": {
            "text/plain": [
              "[<matplotlib.lines.Line2D at 0x7f6bee8b1c88>]"
            ]
          },
          "metadata": {
            "tags": []
          },
          "execution_count": 45
        },
        {
          "output_type": "display_data",
          "data": {
            "image/png": "[encoded data removed]",
            "text/plain": [
              "<Figure size 432x288 with 1 Axes>"
            ]
          },
          "metadata": {
            "tags": [],
            "needs_background": "light"
          }
        }
      ]
    },
    {
      "cell_type": "markdown",
      "metadata": {
        "id": "2CpzLa-OORVf",
        "colab_type": "text"
      },
      "source": [
        "# Uploading the model parameters to drive\n",
        "\n"
      ]
    },
    {
      "cell_type": "code",
      "metadata": {
        "id": "u7ro4nTbI-jv",
        "colab_type": "code",
        "colab": {
          "base_uri": "https://localhost:8080/",
          "height": 451
        },
        "outputId": "d0b87a99-1a21-400c-ee92-c300b3d4d5f9"
      },
      "source": [
        "model.save('/content/drive/My Drive/SolarEnergyGenerationForecasting.h5')"
      ],
      "execution_count": 46,
      "outputs": [
        {
          "output_type": "error",
          "ename": "OSError",
          "evalue": "ignored",
          "traceback": [
            "\u001b[0;31m---------------------------------------------------------------------------\u001b[0m",
            "\u001b[0;31mOSError\u001b[0m                                   Traceback (most recent call last)",
            "\u001b[0;32m<ipython-input-46-e04ba5628a8e>\u001b[0m in \u001b[0;36m<module>\u001b[0;34m()\u001b[0m\n\u001b[0;32m----> 1\u001b[0;31m \u001b[0mmodel\u001b[0m\u001b[0;34m.\u001b[0m\u001b[0msave\u001b[0m\u001b[0;34m(\u001b[0m\u001b[0;34m'/content/drive/My Drive/SolarEnergyGenerationForecasting.h5'\u001b[0m\u001b[0;34m)\u001b[0m\u001b[0;34m\u001b[0m\u001b[0;34m\u001b[0m\u001b[0m\n\u001b[0m",
            "\u001b[0;32m/usr/local/lib/python3.6/dist-packages/keras/engine/network.py\u001b[0m in \u001b[0;36msave\u001b[0;34m(self, filepath, overwrite, include_optimizer)\u001b[0m\n\u001b[1;32m   1150\u001b[0m             \u001b[0;32mraise\u001b[0m \u001b[0mNotImplementedError\u001b[0m\u001b[0;34m\u001b[0m\u001b[0;34m\u001b[0m\u001b[0m\n\u001b[1;32m   1151\u001b[0m         \u001b[0;32mfrom\u001b[0m \u001b[0;34m.\u001b[0m\u001b[0;34m.\u001b[0m\u001b[0mmodels\u001b[0m \u001b[0;32mimport\u001b[0m \u001b[0msave_model\u001b[0m\u001b[0;34m\u001b[0m\u001b[0;34m\u001b[0m\u001b[0m\n\u001b[0;32m-> 1152\u001b[0;31m         \u001b[0msave_model\u001b[0m\u001b[0;34m(\u001b[0m\u001b[0mself\u001b[0m\u001b[0;34m,\u001b[0m \u001b[0mfilepath\u001b[0m\u001b[0;34m,\u001b[0m \u001b[0moverwrite\u001b[0m\u001b[0;34m,\u001b[0m \u001b[0minclude_optimizer\u001b[0m\u001b[0;34m)\u001b[0m\u001b[0;34m\u001b[0m\u001b[0;34m\u001b[0m\u001b[0m\n\u001b[0m\u001b[1;32m   1153\u001b[0m \u001b[0;34m\u001b[0m\u001b[0m\n\u001b[1;32m   1154\u001b[0m     \u001b[0;34m@\u001b[0m\u001b[0msaving\u001b[0m\u001b[0;34m.\u001b[0m\u001b[0mallow_write_to_gcs\u001b[0m\u001b[0;34m\u001b[0m\u001b[0;34m\u001b[0m\u001b[0m\n",
            "\u001b[0;32m/usr/local/lib/python3.6/dist-packages/keras/engine/saving.py\u001b[0m in \u001b[0;36msave_wrapper\u001b[0;34m(obj, filepath, overwrite, *args, **kwargs)\u001b[0m\n\u001b[1;32m    447\u001b[0m                 \u001b[0mos\u001b[0m\u001b[0;34m.\u001b[0m\u001b[0mremove\u001b[0m\u001b[0;34m(\u001b[0m\u001b[0mtmp_filepath\u001b[0m\u001b[0;34m)\u001b[0m\u001b[0;34m\u001b[0m\u001b[0;34m\u001b[0m\u001b[0m\n\u001b[1;32m    448\u001b[0m         \u001b[0;32melse\u001b[0m\u001b[0;34m:\u001b[0m\u001b[0;34m\u001b[0m\u001b[0;34m\u001b[0m\u001b[0m\n\u001b[0;32m--> 449\u001b[0;31m             \u001b[0msave_function\u001b[0m\u001b[0;34m(\u001b[0m\u001b[0mobj\u001b[0m\u001b[0;34m,\u001b[0m \u001b[0mfilepath\u001b[0m\u001b[0;34m,\u001b[0m \u001b[0moverwrite\u001b[0m\u001b[0;34m,\u001b[0m \u001b[0;34m*\u001b[0m\u001b[0margs\u001b[0m\u001b[0;34m,\u001b[0m \u001b[0;34m**\u001b[0m\u001b[0mkwargs\u001b[0m\u001b[0;34m)\u001b[0m\u001b[0;34m\u001b[0m\u001b[0;34m\u001b[0m\u001b[0m\n\u001b[0m\u001b[1;32m    450\u001b[0m \u001b[0;34m\u001b[0m\u001b[0m\n\u001b[1;32m    451\u001b[0m     \u001b[0;32mreturn\u001b[0m \u001b[0msave_wrapper\u001b[0m\u001b[0;34m\u001b[0m\u001b[0;34m\u001b[0m\u001b[0m\n",
            "\u001b[0;32m/usr/local/lib/python3.6/dist-packages/keras/engine/saving.py\u001b[0m in \u001b[0;36msave_model\u001b[0;34m(model, filepath, overwrite, include_optimizer)\u001b[0m\n\u001b[1;32m    538\u001b[0m             \u001b[0;32mif\u001b[0m \u001b[0;32mnot\u001b[0m \u001b[0mproceed\u001b[0m\u001b[0;34m:\u001b[0m\u001b[0;34m\u001b[0m\u001b[0;34m\u001b[0m\u001b[0m\n\u001b[1;32m    539\u001b[0m                 \u001b[0;32mreturn\u001b[0m\u001b[0;34m\u001b[0m\u001b[0;34m\u001b[0m\u001b[0m\n\u001b[0;32m--> 540\u001b[0;31m         \u001b[0;32mwith\u001b[0m \u001b[0mH5Dict\u001b[0m\u001b[0;34m(\u001b[0m\u001b[0mfilepath\u001b[0m\u001b[0;34m,\u001b[0m \u001b[0mmode\u001b[0m\u001b[0;34m=\u001b[0m\u001b[0;34m'w'\u001b[0m\u001b[0;34m)\u001b[0m \u001b[0;32mas\u001b[0m \u001b[0mh5dict\u001b[0m\u001b[0;34m:\u001b[0m\u001b[0;34m\u001b[0m\u001b[0;34m\u001b[0m\u001b[0m\n\u001b[0m\u001b[1;32m    541\u001b[0m             \u001b[0m_serialize_model\u001b[0m\u001b[0;34m(\u001b[0m\u001b[0mmodel\u001b[0m\u001b[0;34m,\u001b[0m \u001b[0mh5dict\u001b[0m\u001b[0;34m,\u001b[0m \u001b[0minclude_optimizer\u001b[0m\u001b[0;34m)\u001b[0m\u001b[0;34m\u001b[0m\u001b[0;34m\u001b[0m\u001b[0m\n\u001b[1;32m    542\u001b[0m     \u001b[0;32melif\u001b[0m \u001b[0mhasattr\u001b[0m\u001b[0;34m(\u001b[0m\u001b[0mfilepath\u001b[0m\u001b[0;34m,\u001b[0m \u001b[0;34m'write'\u001b[0m\u001b[0;34m)\u001b[0m \u001b[0;32mand\u001b[0m \u001b[0mcallable\u001b[0m\u001b[0;34m(\u001b[0m\u001b[0mfilepath\u001b[0m\u001b[0;34m.\u001b[0m\u001b[0mwrite\u001b[0m\u001b[0;34m)\u001b[0m\u001b[0;34m:\u001b[0m\u001b[0;34m\u001b[0m\u001b[0;34m\u001b[0m\u001b[0m\n",
            "\u001b[0;32m/usr/local/lib/python3.6/dist-packages/keras/utils/io_utils.py\u001b[0m in \u001b[0;36m__init__\u001b[0;34m(self, path, mode)\u001b[0m\n\u001b[1;32m    189\u001b[0m             \u001b[0mself\u001b[0m\u001b[0;34m.\u001b[0m\u001b[0m_is_file\u001b[0m \u001b[0;34m=\u001b[0m \u001b[0;32mFalse\u001b[0m\u001b[0;34m\u001b[0m\u001b[0;34m\u001b[0m\u001b[0m\n\u001b[1;32m    190\u001b[0m         \u001b[0;32melif\u001b[0m \u001b[0misinstance\u001b[0m\u001b[0;34m(\u001b[0m\u001b[0mpath\u001b[0m\u001b[0;34m,\u001b[0m \u001b[0msix\u001b[0m\u001b[0;34m.\u001b[0m\u001b[0mstring_types\u001b[0m\u001b[0;34m)\u001b[0m \u001b[0;32mor\u001b[0m \u001b[0m_is_path_instance\u001b[0m\u001b[0;34m(\u001b[0m\u001b[0mpath\u001b[0m\u001b[0;34m)\u001b[0m\u001b[0;34m:\u001b[0m\u001b[0;34m\u001b[0m\u001b[0;34m\u001b[0m\u001b[0m\n\u001b[0;32m--> 191\u001b[0;31m             \u001b[0mself\u001b[0m\u001b[0;34m.\u001b[0m\u001b[0mdata\u001b[0m \u001b[0;34m=\u001b[0m \u001b[0mh5py\u001b[0m\u001b[0;34m.\u001b[0m\u001b[0mFile\u001b[0m\u001b[0;34m(\u001b[0m\u001b[0mpath\u001b[0m\u001b[0;34m,\u001b[0m \u001b[0mmode\u001b[0m\u001b[0;34m=\u001b[0m\u001b[0mmode\u001b[0m\u001b[0;34m)\u001b[0m\u001b[0;34m\u001b[0m\u001b[0;34m\u001b[0m\u001b[0m\n\u001b[0m\u001b[1;32m    192\u001b[0m             \u001b[0mself\u001b[0m\u001b[0;34m.\u001b[0m\u001b[0m_is_file\u001b[0m \u001b[0;34m=\u001b[0m \u001b[0;32mTrue\u001b[0m\u001b[0;34m\u001b[0m\u001b[0;34m\u001b[0m\u001b[0m\n\u001b[1;32m    193\u001b[0m         \u001b[0;32melif\u001b[0m \u001b[0misinstance\u001b[0m\u001b[0;34m(\u001b[0m\u001b[0mpath\u001b[0m\u001b[0;34m,\u001b[0m \u001b[0mdict\u001b[0m\u001b[0;34m)\u001b[0m\u001b[0;34m:\u001b[0m\u001b[0;34m\u001b[0m\u001b[0;34m\u001b[0m\u001b[0m\n",
            "\u001b[0;32m/usr/local/lib/python3.6/dist-packages/h5py/_hl/files.py\u001b[0m in \u001b[0;36m__init__\u001b[0;34m(self, name, mode, driver, libver, userblock_size, swmr, rdcc_nslots, rdcc_nbytes, rdcc_w0, track_order, **kwds)\u001b[0m\n\u001b[1;32m    406\u001b[0m                 fid = make_fid(name, mode, userblock_size,\n\u001b[1;32m    407\u001b[0m                                \u001b[0mfapl\u001b[0m\u001b[0;34m,\u001b[0m \u001b[0mfcpl\u001b[0m\u001b[0;34m=\u001b[0m\u001b[0mmake_fcpl\u001b[0m\u001b[0;34m(\u001b[0m\u001b[0mtrack_order\u001b[0m\u001b[0;34m=\u001b[0m\u001b[0mtrack_order\u001b[0m\u001b[0;34m)\u001b[0m\u001b[0;34m,\u001b[0m\u001b[0;34m\u001b[0m\u001b[0;34m\u001b[0m\u001b[0m\n\u001b[0;32m--> 408\u001b[0;31m                                swmr=swmr)\n\u001b[0m\u001b[1;32m    409\u001b[0m \u001b[0;34m\u001b[0m\u001b[0m\n\u001b[1;32m    410\u001b[0m             \u001b[0;32mif\u001b[0m \u001b[0misinstance\u001b[0m\u001b[0;34m(\u001b[0m\u001b[0mlibver\u001b[0m\u001b[0;34m,\u001b[0m \u001b[0mtuple\u001b[0m\u001b[0;34m)\u001b[0m\u001b[0;34m:\u001b[0m\u001b[0;34m\u001b[0m\u001b[0;34m\u001b[0m\u001b[0m\n",
            "\u001b[0;32m/usr/local/lib/python3.6/dist-packages/h5py/_hl/files.py\u001b[0m in \u001b[0;36mmake_fid\u001b[0;34m(name, mode, userblock_size, fapl, fcpl, swmr)\u001b[0m\n\u001b[1;32m    177\u001b[0m         \u001b[0mfid\u001b[0m \u001b[0;34m=\u001b[0m \u001b[0mh5f\u001b[0m\u001b[0;34m.\u001b[0m\u001b[0mcreate\u001b[0m\u001b[0;34m(\u001b[0m\u001b[0mname\u001b[0m\u001b[0;34m,\u001b[0m \u001b[0mh5f\u001b[0m\u001b[0;34m.\u001b[0m\u001b[0mACC_EXCL\u001b[0m\u001b[0;34m,\u001b[0m \u001b[0mfapl\u001b[0m\u001b[0;34m=\u001b[0m\u001b[0mfapl\u001b[0m\u001b[0;34m,\u001b[0m \u001b[0mfcpl\u001b[0m\u001b[0;34m=\u001b[0m\u001b[0mfcpl\u001b[0m\u001b[0;34m)\u001b[0m\u001b[0;34m\u001b[0m\u001b[0;34m\u001b[0m\u001b[0m\n\u001b[1;32m    178\u001b[0m     \u001b[0;32melif\u001b[0m \u001b[0mmode\u001b[0m \u001b[0;34m==\u001b[0m \u001b[0;34m'w'\u001b[0m\u001b[0;34m:\u001b[0m\u001b[0;34m\u001b[0m\u001b[0;34m\u001b[0m\u001b[0m\n\u001b[0;32m--> 179\u001b[0;31m         \u001b[0mfid\u001b[0m \u001b[0;34m=\u001b[0m \u001b[0mh5f\u001b[0m\u001b[0;34m.\u001b[0m\u001b[0mcreate\u001b[0m\u001b[0;34m(\u001b[0m\u001b[0mname\u001b[0m\u001b[0;34m,\u001b[0m \u001b[0mh5f\u001b[0m\u001b[0;34m.\u001b[0m\u001b[0mACC_TRUNC\u001b[0m\u001b[0;34m,\u001b[0m \u001b[0mfapl\u001b[0m\u001b[0;34m=\u001b[0m\u001b[0mfapl\u001b[0m\u001b[0;34m,\u001b[0m \u001b[0mfcpl\u001b[0m\u001b[0;34m=\u001b[0m\u001b[0mfcpl\u001b[0m\u001b[0;34m)\u001b[0m\u001b[0;34m\u001b[0m\u001b[0;34m\u001b[0m\u001b[0m\n\u001b[0m\u001b[1;32m    180\u001b[0m     \u001b[0;32melif\u001b[0m \u001b[0mmode\u001b[0m \u001b[0;34m==\u001b[0m \u001b[0;34m'a'\u001b[0m\u001b[0;34m:\u001b[0m\u001b[0;34m\u001b[0m\u001b[0;34m\u001b[0m\u001b[0m\n\u001b[1;32m    181\u001b[0m         \u001b[0;31m# Open in append mode (read/write).\u001b[0m\u001b[0;34m\u001b[0m\u001b[0;34m\u001b[0m\u001b[0;34m\u001b[0m\u001b[0m\n",
            "\u001b[0;32mh5py/_objects.pyx\u001b[0m in \u001b[0;36mh5py._objects.with_phil.wrapper\u001b[0;34m()\u001b[0m\n",
            "\u001b[0;32mh5py/_objects.pyx\u001b[0m in \u001b[0;36mh5py._objects.with_phil.wrapper\u001b[0;34m()\u001b[0m\n",
            "\u001b[0;32mh5py/h5f.pyx\u001b[0m in \u001b[0;36mh5py.h5f.create\u001b[0;34m()\u001b[0m\n",
            "\u001b[0;31mOSError\u001b[0m: Unable to create file (unable to open file: name = '/content/drive/My Drive/SolarEnergyGenerationForecasting.h5', errno = 2, error message = 'No such file or directory', flags = 13, o_flags = 242)"
          ]
        }
      ]
    },
    {
      "cell_type": "code",
      "metadata": {
        "id": "1y8CZhNTI-p9",
        "colab_type": "code",
        "colab": {}
      },
      "source": [
        "modelOne.save('/content/drive/My Drive/WinEnergyGenerationForecasting.h5')"
      ],
      "execution_count": null,
      "outputs": []
    },
    {
      "cell_type": "code",
      "metadata": {
        "id": "u5FqbiiSI-w1",
        "colab_type": "code",
        "colab": {}
      },
      "source": [
        "modelTwo.save('/content/drive/My Drive/DemandForecasting.h5')"
      ],
      "execution_count": null,
      "outputs": []
    },
    {
      "cell_type": "markdown",
      "metadata": {
        "id": "wZRSkWcOI-39",
        "colab_type": "text"
      },
      "source": [
        "# Scheduling algorithm\n"
      ]
    },
    {
      "cell_type": "code",
      "metadata": {
        "id": "JnUk1bzvI-9u",
        "colab_type": "code",
        "colab": {}
      },
      "source": [
        "#Having the data in hand and in the right format"
      ],
      "execution_count": 48,
      "outputs": []
    },
    {
      "cell_type": "code",
      "metadata": {
        "id": "blcIUKi8I_EZ",
        "colab_type": "code",
        "colab": {
          "base_uri": "https://localhost:8080/",
          "height": 34
        },
        "outputId": "4584b0a4-aa97-44f5-ec48-3a0c0b82017a"
      },
      "source": [
        "#Demand model input\n",
        "values = arrDfDemand.values\n",
        "trainSample = int(len(dataPredDemand)*0.8)\n",
        "testDemand = values[trainSample:, :]\n",
        "XTestDemand, yTestDemand = testDemand[:,:-1], testDemand[:, -1]\n",
        "XTestDemand = XTestDemand.reshape((XTestDemand.shape[0], 1, XTestDemand.shape[1]))\n",
        "XTestDemand.shape, yTestDemand.shape"
      ],
      "execution_count": 49,
      "outputs": [
        {
          "output_type": "execute_result",
          "data": {
            "text/plain": [
              "((3495, 1, 6), (3495,))"
            ]
          },
          "metadata": {
            "tags": []
          },
          "execution_count": 49
        }
      ]
    },
    {
      "cell_type": "code",
      "metadata": {
        "id": "HOe1302mI_Kz",
        "colab_type": "code",
        "colab": {}
      },
      "source": [
        "# #The test demand shall be split into 24 hour intervals\n",
        "# yPredDemand = modelTwo.predict(XTestDemand)\n",
        "# XTestDemand = XTestDemand.reshape((XTestDemand.shape[0],XTestDemand.shape[2]))\n",
        "# invyPredDemand = np.concatenate((yPredDemand, XTestDemand[:, 1:]), axis = 1)\n",
        "# invyPredDemand = scalerThree.inverse_transform(invyPredDemand)\n",
        "# invyPredDemand = invyPredDemand[:, 0]\n",
        "\n",
        "# yTestDemand = yTestDemand.reshape((len(yTestDemand), 1))\n",
        "# invyTestDemand = np.concatenate((yTestDemand, XTestDemand[:, 1:]), axis = 1)\n",
        "# invyTestDemand = scalerThree.inverse_transform(invyTestDemand)\n",
        "# invyTestDemand = invyTestDemand[:, 0]"
      ],
      "execution_count": 50,
      "outputs": []
    },
    {
      "cell_type": "code",
      "metadata": {
        "id": "w2jv8-CqI_R3",
        "colab_type": "code",
        "colab": {
          "base_uri": "https://localhost:8080/",
          "height": 34
        },
        "outputId": "0eecac63-2fef-421b-e37c-45c6049027eb"
      },
      "source": [
        "#Wind Energy supply\n",
        "values = arrDfWind.values\n",
        "trainSample = int(len(dataPredWindOutput)*0.8)\n",
        "testWind = values[trainSample:, :]\n",
        "XTestWind, yTestWind = testWind[:,:-1], testWind[:, -1]\n",
        "XTestWind = XTestWind.reshape((XTestWind.shape[0], 1, XTestWind.shape[1]))\n",
        "XTestWind.shape, yTestWind.shape"
      ],
      "execution_count": 51,
      "outputs": [
        {
          "output_type": "execute_result",
          "data": {
            "text/plain": [
              "((3495, 1, 6), (3495,))"
            ]
          },
          "metadata": {
            "tags": []
          },
          "execution_count": 51
        }
      ]
    },
    {
      "cell_type": "code",
      "metadata": {
        "id": "La0v3bY7I_Ya",
        "colab_type": "code",
        "colab": {}
      },
      "source": [
        "# #The test wind shall be split into 24 hours\n",
        "# yPredWind = modelOne.predict(XTestWind)\n",
        "# XTestWind = XTestWind.reshape((XTestWind.shape[0],XTestWind.shape[2]))\n",
        "# invyPredWind = np.concatenate((yPredWind, XTestWind[:, 1:]), axis = 1)\n",
        "# invyPredWind = scalerTwo.inverse_transform(invyPredWind)\n",
        "# invyPredWind = invyPredWind[:, 0]\n",
        "\n",
        "# yTestWind = yTestWind.reshape((len(yTestWind), 1))\n",
        "# invyTestWind = np.concatenate((yTestWind, XTestWind[:, 1:]), axis = 1)\n",
        "# invyTestWind = scalerTwo.inverse_transform(invyTestWind)\n",
        "# invyTestWind = invyTestWind[:, 0]"
      ],
      "execution_count": 52,
      "outputs": []
    },
    {
      "cell_type": "code",
      "metadata": {
        "id": "269aCzVHI_f7",
        "colab_type": "code",
        "colab": {
          "base_uri": "https://localhost:8080/",
          "height": 34
        },
        "outputId": "90a9fce7-7bea-4356-daf5-6092c521aa2c"
      },
      "source": [
        "#Solar Energy supply\n",
        "values = arrDfSolar.values\n",
        "trainSample = int(len(dataPredSolarOutput)*0.8)\n",
        "testSolar = values[trainSample:, :]\n",
        "XTestSolar, yTestSolar = testSolar[:,:-1], testSolar[:, -1]\n",
        "XTestSolar = XTestSolar.reshape((XTestSolar.shape[0], 1, XTestSolar.shape[1]))\n",
        "XTestSolar.shape, yTestSolar.shape"
      ],
      "execution_count": 53,
      "outputs": [
        {
          "output_type": "execute_result",
          "data": {
            "text/plain": [
              "((3495, 1, 6), (3495,))"
            ]
          },
          "metadata": {
            "tags": []
          },
          "execution_count": 53
        }
      ]
    },
    {
      "cell_type": "code",
      "metadata": {
        "id": "ZgCw-0KbI_mS",
        "colab_type": "code",
        "colab": {}
      },
      "source": [
        "# #The test solar shall be split into 24 hour intervals\n",
        "# yPredSolar = model.predict(XTestSolar)\n",
        "# XTestSolar = XTestSolar.reshape((XTestSolar.shape[0],XTestSolar.shape[2]))\n",
        "# invyPredSolar = np.concatenate((yPredSolar, XTestSolar[:, 1:]), axis = 1)\n",
        "# invyPredSolar = scalerOne.inverse_transform(invyPredSolar)\n",
        "# invyPredSolar = invyPredSolar[:, 0]\n",
        "\n",
        "# yTestSolar = yTestSolar.reshape((len(yTestSolar), 1))\n",
        "# invyTestSolar = np.concatenate((yTestSolar, XTestSolar[:, 1:]), axis = 1)\n",
        "# invyTestSolar = scalerOne.inverse_transform(invyTestSolar)\n",
        "# invyTestSolar = invyTestSolar[:, 0]"
      ],
      "execution_count": 54,
      "outputs": []
    },
    {
      "cell_type": "code",
      "metadata": {
        "id": "v9YZKmGJI_tO",
        "colab_type": "code",
        "colab": {
          "base_uri": "https://localhost:8080/",
          "height": 34
        },
        "outputId": "5422026f-3ed7-4a60-f417-e6291e8b46f7"
      },
      "source": [
        "XTestSolar.shape, XTestDemand.shape, XTestWind.shape"
      ],
      "execution_count": 55,
      "outputs": [
        {
          "output_type": "execute_result",
          "data": {
            "text/plain": [
              "((3495, 1, 6), (3495, 1, 6), (3495, 1, 6))"
            ]
          },
          "metadata": {
            "tags": []
          },
          "execution_count": 55
        }
      ]
    },
    {
      "cell_type": "code",
      "metadata": {
        "id": "SWvlJd5SMVez",
        "colab_type": "code",
        "colab": {}
      },
      "source": [
        "def weightMatrix():\n",
        "  array = []\n",
        "  for i in range(99):\n",
        "    array.append(1/(10+5*i))\n",
        "  array.append(1-sum(array))\n",
        "  return array"
      ],
      "execution_count": 56,
      "outputs": []
    },
    {
      "cell_type": "code",
      "metadata": {
        "id": "dYRWgm8YQJRj",
        "colab_type": "code",
        "colab": {
          "base_uri": "https://localhost:8080/",
          "height": 1000
        },
        "outputId": "ddc2e6e4-43ba-48d1-adb0-7c3fb2579acf"
      },
      "source": [
        "weighs = weightMatrix()\n",
        "weighs"
      ],
      "execution_count": 57,
      "outputs": [
        {
          "output_type": "execute_result",
          "data": {
            "text/plain": [
              "[0.1,\n",
              " 0.06666666666666667,\n",
              " 0.05,\n",
              " 0.04,\n",
              " 0.03333333333333333,\n",
              " 0.02857142857142857,\n",
              " 0.025,\n",
              " 0.022222222222222223,\n",
              " 0.02,\n",
              " 0.01818181818181818,\n",
              " 0.016666666666666666,\n",
              " 0.015384615384615385,\n",
              " 0.014285714285714285,\n",
              " 0.013333333333333334,\n",
              " 0.0125,\n",
              " 0.011764705882352941,\n",
              " 0.011111111111111112,\n",
              " 0.010526315789473684,\n",
              " 0.01,\n",
              " 0.009523809523809525,\n",
              " 0.00909090909090909,\n",
              " 0.008695652173913044,\n",
              " 0.008333333333333333,\n",
              " 0.008,\n",
              " 0.007692307692307693,\n",
              " 0.007407407407407408,\n",
              " 0.007142857142857143,\n",
              " 0.006896551724137931,\n",
              " 0.006666666666666667,\n",
              " 0.0064516129032258064,\n",
              " 0.00625,\n",
              " 0.006060606060606061,\n",
              " 0.0058823529411764705,\n",
              " 0.005714285714285714,\n",
              " 0.005555555555555556,\n",
              " 0.005405405405405406,\n",
              " 0.005263157894736842,\n",
              " 0.005128205128205128,\n",
              " 0.005,\n",
              " 0.004878048780487805,\n",
              " 0.004761904761904762,\n",
              " 0.004651162790697674,\n",
              " 0.004545454545454545,\n",
              " 0.0044444444444444444,\n",
              " 0.004347826086956522,\n",
              " 0.00425531914893617,\n",
              " 0.004166666666666667,\n",
              " 0.004081632653061225,\n",
              " 0.004,\n",
              " 0.00392156862745098,\n",
              " 0.0038461538461538464,\n",
              " 0.0037735849056603774,\n",
              " 0.003703703703703704,\n",
              " 0.0036363636363636364,\n",
              " 0.0035714285714285713,\n",
              " 0.0035087719298245615,\n",
              " 0.0034482758620689655,\n",
              " 0.003389830508474576,\n",
              " 0.0033333333333333335,\n",
              " 0.003278688524590164,\n",
              " 0.0032258064516129032,\n",
              " 0.0031746031746031746,\n",
              " 0.003125,\n",
              " 0.003076923076923077,\n",
              " 0.0030303030303030303,\n",
              " 0.0029850746268656717,\n",
              " 0.0029411764705882353,\n",
              " 0.002898550724637681,\n",
              " 0.002857142857142857,\n",
              " 0.0028169014084507044,\n",
              " 0.002777777777777778,\n",
              " 0.0027397260273972603,\n",
              " 0.002702702702702703,\n",
              " 0.0026666666666666666,\n",
              " 0.002631578947368421,\n",
              " 0.0025974025974025974,\n",
              " 0.002564102564102564,\n",
              " 0.002531645569620253,\n",
              " 0.0025,\n",
              " 0.0024691358024691358,\n",
              " 0.0024390243902439024,\n",
              " 0.0024096385542168677,\n",
              " 0.002380952380952381,\n",
              " 0.002352941176470588,\n",
              " 0.002325581395348837,\n",
              " 0.0022988505747126436,\n",
              " 0.0022727272727272726,\n",
              " 0.0022471910112359553,\n",
              " 0.0022222222222222222,\n",
              " 0.002197802197802198,\n",
              " 0.002173913043478261,\n",
              " 0.002150537634408602,\n",
              " 0.002127659574468085,\n",
              " 0.002105263157894737,\n",
              " 0.0020833333333333333,\n",
              " 0.002061855670103093,\n",
              " 0.0020408163265306124,\n",
              " 0.00202020202020202,\n",
              " 0.002,\n",
              " 0.16252449647207634]"
            ]
          },
          "metadata": {
            "tags": []
          },
          "execution_count": 57
        }
      ]
    },
    {
      "cell_type": "code",
      "metadata": {
        "id": "nSgg0zJeQJXa",
        "colab_type": "code",
        "colab": {}
      },
      "source": [
        "# 124 twenty four hour long data can be generated\n",
        "for i in range(124):\n",
        "  XTestSolarHour = XTestSolar[24*i:24*(i+1)]\n",
        "  XTestWindHour = XTestWind[24*i:24*(i+1)]\n",
        "  XTestDemandHour = XTestDemand[24*i:24*(i+1)]\n",
        "  #Call the data generator here"
      ],
      "execution_count": 58,
      "outputs": []
    },
    {
      "cell_type": "code",
      "metadata": {
        "id": "KaGNzFlEI_6C",
        "colab_type": "code",
        "colab": {}
      },
      "source": [
        "#To be called at every 24 hour distribution, generates the demand supply distribution\n",
        "def dataGenerator(XTestSolarHour, XTestWindHour, XTestDemandHour, weighs):\n",
        "  #Solar Energy generation\n",
        "  yPredSolar = model.predict(XTestSolarHour)\n",
        "  XTestSolarHour = XTestSolarHour.reshape((XTestSolarHour.shape[0],XTestSolarHour.shape[2]))\n",
        "  invyPredSolar = np.concatenate((yPredSolar, XTestSolarHour[:, 1:]), axis = 1)\n",
        "  invyPredSolar = scalerOne.inverse_transform(invyPredSolar)\n",
        "  invyPredSolar = invyPredSolar[:, 0]\n",
        "\n",
        "  # yTestSolar = yTestSolar.reshape((len(yTestSolar), 1))\n",
        "  # invyTestSolar = np.concatenate((yTestSolar, XTestSolar[:, 1:]), axis = 1)\n",
        "  # invyTestSolar = scalerOne.inverse_transform(invyTestSolar)\n",
        "  # invyTestSolar = invyTestSolar[:, 0]\n",
        "\n",
        "  #Wind Energy Generation\n",
        "  yPredWind = modelOne.predict(XTestWindHour)\n",
        "  XTestWindHour = XTestWindHour.reshape((XTestWindHour.shape[0],XTestWindHour.shape[2]))\n",
        "  invyPredWind = np.concatenate((yPredWind, XTestWindHour[:, 1:]), axis = 1)\n",
        "  invyPredWind = scalerTwo.inverse_transform(invyPredWind)\n",
        "  invyPredWind = invyPredWind[:, 0]\n",
        "\n",
        "  # yTestWind = yTestWind.reshape((len(yTestWind), 1))\n",
        "  # invyTestWind = np.concatenate((yTestWind, XTestWind[:, 1:]), axis = 1)\n",
        "  # invyTestWind = scalerTwo.inverse_transform(invyTestWind)\n",
        "  # invyTestWind = invyTestWind[:, 0]\n",
        "\n",
        "  #Demand\n",
        "  yPredDemand = modelTwo.predict(XTestDemandHour)\n",
        "  XTestDemandHour = XTestDemandHour.reshape((XTestDemandHour.shape[0],XTestDemandHour.shape[2]))\n",
        "  invyPredDemand = np.concatenate((yPredDemand, XTestDemandHour[:, 1:]), axis = 1)\n",
        "  invyPredDemand = scalerThree.inverse_transform(invyPredDemand)\n",
        "  invyPredDemand = invyPredDemand[:, 0]\n",
        "\n",
        "  # yTestDemand = yTestDemand.reshape((len(yTestDemand), 1))\n",
        "  # invyTestDemand = np.concatenate((yTestDemand, XTestDemand[:, 1:]), axis = 1)\n",
        "  # invyTestDemand = scalerThree.inverse_transform(invyTestDemand)\n",
        "  # invyTestDemand = invyTestDemand[:, 0]\n",
        "\n",
        "  #Elastic and Inelastic demand\n",
        "  invyPredDemandInElastic = 0.7*invyPredDemand\n",
        "  invyPredDemandElastic = 0.3*invyPredDemand\n",
        "  elasticDemandSum = np.sum(invyPredDemandElastic)\n",
        "\n",
        "  #Renewable energy output\n",
        "  renewableEnergyOutput = invyPredSolar + invyPredWind\n",
        "\n",
        "  #Splitting the above into different prosumers according to a schema, of course in real life, with more computational power\n",
        "  #One can train separately for each prosumer\n",
        "  arrayinvyPredDemandInelastic = np.outer(np.array(weighs), np.array(invyPredDemandInElastic))\n",
        "  arrayRenewableEnergyOutput = np.outer(np.array(weighs), np.array(renewableEnergyOutput))\n",
        "  arrayElasticDemandSum = np.array(weighs)*elasticDemandSum\n",
        "\n",
        "  #returns\n",
        "\n",
        "  return arrayinvyPredDemandInelastic, arrayRenewableEnergyOutput, arrayElasticDemandSum\n"
      ],
      "execution_count": 59,
      "outputs": []
    },
    {
      "cell_type": "code",
      "metadata": {
        "id": "9Q7Mji7jJABX",
        "colab_type": "code",
        "colab": {}
      },
      "source": [
        "P, W, E = dataGenerator(XTestSolarHour, XTestWindHour, XTestDemandHour, weighs)"
      ],
      "execution_count": 60,
      "outputs": []
    },
    {
      "cell_type": "code",
      "metadata": {
        "id": "czvHwqvNJAJi",
        "colab_type": "code",
        "colab": {
          "base_uri": "https://localhost:8080/",
          "height": 34
        },
        "outputId": "0d81249a-3c52-4634-863e-797cfe6f7282"
      },
      "source": [
        "P.shape, W.shape, E.shape"
      ],
      "execution_count": 61,
      "outputs": [
        {
          "output_type": "execute_result",
          "data": {
            "text/plain": [
              "((100, 24), (100, 24), (100,))"
            ]
          },
          "metadata": {
            "tags": []
          },
          "execution_count": 61
        }
      ]
    },
    {
      "cell_type": "code",
      "metadata": {
        "id": "Wcq5sZ0ZuJtP",
        "colab_type": "code",
        "colab": {
          "base_uri": "https://localhost:8080/",
          "height": 34
        },
        "outputId": "c6fd3d16-0b44-4695-ca0b-d507cdca6635"
      },
      "source": [
        "np.max(E)"
      ],
      "execution_count": 62,
      "outputs": [
        {
          "output_type": "execute_result",
          "data": {
            "text/plain": [
              "8810.527523071736"
            ]
          },
          "metadata": {
            "tags": []
          },
          "execution_count": 62
        }
      ]
    },
    {
      "cell_type": "code",
      "metadata": {
        "id": "1IQ2guQ0wJ0q",
        "colab_type": "code",
        "colab": {
          "base_uri": "https://localhost:8080/",
          "height": 34
        },
        "outputId": "a867354a-6444-4f0a-94ca-5d0f0f2ca224"
      },
      "source": [
        "EMod = np.hstack([E]*24).reshape((100,24))\n",
        "EMod.shape"
      ],
      "execution_count": 63,
      "outputs": [
        {
          "output_type": "execute_result",
          "data": {
            "text/plain": [
              "(100, 24)"
            ]
          },
          "metadata": {
            "tags": []
          },
          "execution_count": 63
        }
      ]
    },
    {
      "cell_type": "code",
      "metadata": {
        "id": "z8ITOCMFvcXn",
        "colab_type": "code",
        "colab": {}
      },
      "source": [
        "eMinValues = np.zeros((100, 24))\n",
        "eMaxValues = EMod/12"
      ],
      "execution_count": 64,
      "outputs": []
    },
    {
      "cell_type": "code",
      "metadata": {
        "id": "IJbEk821JAQb",
        "colab_type": "code",
        "colab": {}
      },
      "source": [
        "#The Scheduling function\n",
        "from cvxpy import *\n",
        "def schedulingFunction(PValues, WValues, EValues, eMaxValues, eMinValues):\n",
        "  e = Variable((100, 24))\n",
        "  P = Parameter((100, 24))\n",
        "  W = Parameter((100, 24))\n",
        "  P.value = PValues\n",
        "  W.value = WValues\n",
        "  d = P+e-W\n",
        "  dSum = sum(d, axis = 0)\n",
        "  ramp = diff(dSum)\n",
        "  \n",
        "  cost = norm(ramp, 'inf')\n",
        "  obj = Minimize(cost)\n",
        "  #constraints = [eMinValues <= e, e<= eMaxValues, sum(e) == EValues] # INFEASIBLE\n",
        "  #constraints = [eMinValues <= e, e<= eMaxValues, sum(e) >= 0.9*EValues]      WORKS!!!!\n",
        "  constraints = [eMinValues <= e, e<= eMaxValues, sum(e) >= 0.9*EValues]\n",
        "  prob = Problem(obj, constraints)\n",
        "  optValue = prob.solve()\n",
        "  print (prob.status)\n",
        "  solutionElasticDemand = e.value\n",
        "  return np.array(solutionElasticDemand)"
      ],
      "execution_count": 108,
      "outputs": []
    },
    {
      "cell_type": "code",
      "metadata": {
        "id": "npTJ7EDfJAWs",
        "colab_type": "code",
        "colab": {
          "base_uri": "https://localhost:8080/",
          "height": 34
        },
        "outputId": "6463dd49-e0c2-4531-b02f-1ddf1658ceb3"
      },
      "source": [
        "result = schedulingFunction(P, W, E, 2*eMaxValues, eMinValues)"
      ],
      "execution_count": 109,
      "outputs": [
        {
          "output_type": "stream",
          "text": [
            "optimal_inaccurate\n"
          ],
          "name": "stdout"
        }
      ]
    },
    {
      "cell_type": "code",
      "metadata": {
        "id": "i48hVVBQJAch",
        "colab_type": "code",
        "colab": {
          "base_uri": "https://localhost:8080/",
          "height": 243
        },
        "outputId": "eb02ffd1-179e-4970-ad24-6caef716fef8"
      },
      "source": [
        "print(result)"
      ],
      "execution_count": 110,
      "outputs": [
        {
          "output_type": "stream",
          "text": [
            "[[30.5340252  33.87337878 32.72470622 ... 18.57594914 16.93830335\n",
            "  15.12977323]\n",
            " [19.83597996 20.89655658 20.13785639 ... 13.26592363 12.41190566\n",
            "  10.90874756]\n",
            " [13.84696522 14.08693866 13.68552705 ... 10.13097631  9.6962108\n",
            "   8.52942099]\n",
            " ...\n",
            " [18.54504144 19.39136423 18.72165912 ... 12.6364954  11.87469117\n",
            "  10.42934768]\n",
            " [13.14555341 13.32551651 12.96001263 ...  9.73072899  9.33996865\n",
            "   8.22458149]\n",
            " [ 9.95841353  9.97506814  9.75921483 ...  7.82088831  7.6041208\n",
            "  23.40680302]]\n"
          ],
          "name": "stdout"
        }
      ]
    },
    {
      "cell_type": "code",
      "metadata": {
        "id": "ira0zETCanOd",
        "colab_type": "code",
        "colab": {}
      },
      "source": [
        ""
      ],
      "execution_count": null,
      "outputs": []
    },
    {
      "cell_type": "markdown",
      "metadata": {
        "id": "wySrncYmiq9o",
        "colab_type": "text"
      },
      "source": [
        "**RAMPING OF SUPPLY OF GENERATORS USING CONVENTIONAL SOURCES** "
      ]
    },
    {
      "cell_type": "code",
      "metadata": {
        "id": "vLTw99nDJApz",
        "colab_type": "code",
        "colab": {
          "base_uri": "https://localhost:8080/",
          "height": 282
        },
        "outputId": "2c994bd0-abf4-4116-9ea9-eaa6fb5d95a3"
      },
      "source": [
        "plt.plot(np.diff(np.array(P+result-W)[10]))"
      ],
      "execution_count": 123,
      "outputs": [
        {
          "output_type": "execute_result",
          "data": {
            "text/plain": [
              "[<matplotlib.lines.Line2D at 0x7f6be2d33cf8>]"
            ]
          },
          "metadata": {
            "tags": []
          },
          "execution_count": 123
        },
        {
          "output_type": "display_data",
          "data": {
            "image/png": "[encoded data removed]",
            "text/plain": [
              "<Figure size 432x288 with 1 Axes>"
            ]
          },
          "metadata": {
            "tags": [],
            "needs_background": "light"
          }
        }
      ]
    },
    {
      "cell_type": "markdown",
      "metadata": {
        "id": "nx7STnnajSfR",
        "colab_type": "text"
      },
      "source": [
        "**INELASTIC DEMAND**"
      ]
    },
    {
      "cell_type": "code",
      "metadata": {
        "id": "4hl3dpR9jE57",
        "colab_type": "code",
        "colab": {
          "base_uri": "https://localhost:8080/",
          "height": 282
        },
        "outputId": "9f492b0b-1fc4-412f-bf23-df36e1ae8c95"
      },
      "source": [
        "plt.plot(P[10])"
      ],
      "execution_count": 125,
      "outputs": [
        {
          "output_type": "execute_result",
          "data": {
            "text/plain": [
              "[<matplotlib.lines.Line2D at 0x7f6be2c84128>]"
            ]
          },
          "metadata": {
            "tags": []
          },
          "execution_count": 125
        },
        {
          "output_type": "display_data",
          "data": {
            "image/png": "[encoded data removed]",
            "text/plain": [
              "<Figure size 432x288 with 1 Axes>"
            ]
          },
          "metadata": {
            "tags": [],
            "needs_background": "light"
          }
        }
      ]
    },
    {
      "cell_type": "markdown",
      "metadata": {
        "id": "k235Lm8bj2lw",
        "colab_type": "text"
      },
      "source": [
        "**ELASTIC DEMAND ALLOCATED**"
      ]
    },
    {
      "cell_type": "code",
      "metadata": {
        "id": "MwXvHiUPJAw3",
        "colab_type": "code",
        "colab": {
          "base_uri": "https://localhost:8080/",
          "height": 282
        },
        "outputId": "093b0094-9850-4557-9fd9-496a7f137ec1"
      },
      "source": [
        "plt.plot(result[10])"
      ],
      "execution_count": 127,
      "outputs": [
        {
          "output_type": "execute_result",
          "data": {
            "text/plain": [
              "[<matplotlib.lines.Line2D at 0x7f6be2bf6e48>]"
            ]
          },
          "metadata": {
            "tags": []
          },
          "execution_count": 127
        },
        {
          "output_type": "display_data",
          "data": {
            "image/png": "[encoded data removed]",
            "text/plain": [
              "<Figure size 432x288 with 1 Axes>"
            ]
          },
          "metadata": {
            "tags": [],
            "needs_background": "light"
          }
        }
      ]
    },
    {
      "cell_type": "markdown",
      "metadata": {
        "id": "UOBjiZj3kU6u",
        "colab_type": "text"
      },
      "source": [
        "**POWER SUPPLIED BY CONVENTIONAL SOURCES**"
      ]
    },
    {
      "cell_type": "code",
      "metadata": {
        "id": "1eFzfc3wJA3s",
        "colab_type": "code",
        "colab": {
          "base_uri": "https://localhost:8080/",
          "height": 282
        },
        "outputId": "fa466cdf-1445-4148-f936-fb847526e360"
      },
      "source": [
        "plt.plot((P+result-W)[10])"
      ],
      "execution_count": 130,
      "outputs": [
        {
          "output_type": "execute_result",
          "data": {
            "text/plain": [
              "[<matplotlib.lines.Line2D at 0x7f6be2b6e518>]"
            ]
          },
          "metadata": {
            "tags": []
          },
          "execution_count": 130
        },
        {
          "output_type": "display_data",
          "data": {
            "image/png": "[encoded data removed]",
            "text/plain": [
              "<Figure size 432x288 with 1 Axes>"
            ]
          },
          "metadata": {
            "tags": [],
            "needs_background": "light"
          }
        }
      ]
    },
    {
      "cell_type": "markdown",
      "metadata": {
        "id": "U6FZrkaWkznH",
        "colab_type": "text"
      },
      "source": [
        "**RENEWABLE ENERGY SUPPLIED**"
      ]
    },
    {
      "cell_type": "code",
      "metadata": {
        "id": "WmhBuCgKJA-z",
        "colab_type": "code",
        "colab": {
          "base_uri": "https://localhost:8080/",
          "height": 282
        },
        "outputId": "cc37cbc5-b207-4db0-e173-680945000c9c"
      },
      "source": [
        "plt.plot(W[10])"
      ],
      "execution_count": 132,
      "outputs": [
        {
          "output_type": "execute_result",
          "data": {
            "text/plain": [
              "[<matplotlib.lines.Line2D at 0x7f6be2aa9828>]"
            ]
          },
          "metadata": {
            "tags": []
          },
          "execution_count": 132
        },
        {
          "output_type": "display_data",
          "data": {
            "image/png": "[encoded data removed]",
            "text/plain": [
              "<Figure size 432x288 with 1 Axes>"
            ]
          },
          "metadata": {
            "tags": [],
            "needs_background": "light"
          }
        }
      ]
    },
    {
      "cell_type": "code",
      "metadata": {
        "id": "uBGQ_IERJBL8",
        "colab_type": "code",
        "colab": {}
      },
      "source": [
        "plt.plot(np.diff(np.array(P+result-W)[10]))"
      ],
      "execution_count": 67,
      "outputs": []
    },
    {
      "cell_type": "markdown",
      "metadata": {
        "id": "9B6zb5TfoSQ-",
        "colab_type": "text"
      },
      "source": [
        "**INELASTIC DEMAND OF THE FIRST 20 PROSUMERS OVER 24 HOURS**"
      ]
    },
    {
      "cell_type": "code",
      "metadata": {
        "id": "eGq3MchkJBSq",
        "colab_type": "code",
        "colab": {
          "base_uri": "https://localhost:8080/",
          "height": 265
        },
        "outputId": "e31bf441-ca52-45f9-b3f2-87e4b6d0adaf"
      },
      "source": [
        "for i in range(20):\n",
        "  plt.plot(P[i])"
      ],
      "execution_count": 137,
      "outputs": [
        {
          "output_type": "display_data",
          "data": {
            "image/png": "[encoded data removed]",
            "text/plain": [
              "<Figure size 432x288 with 1 Axes>"
            ]
          },
          "metadata": {
            "tags": [],
            "needs_background": "light"
          }
        }
      ]
    },
    {
      "cell_type": "code",
      "metadata": {
        "id": "upIxjT0pJBEr",
        "colab_type": "code",
        "colab": {
          "base_uri": "https://localhost:8080/",
          "height": 282
        },
        "outputId": "a1b05d7a-d818-4d4c-9ffa-a85b92e790f0"
      },
      "source": [
        "plt.plot(np.diff(np.array(P+result-W)[10]))\n",
        "plt.plot(P[10])\n",
        "plt.plot(result[10])\n",
        "plt.plot((P+result-W)[10])\n",
        "plt.plot(W[10])\n",
        "plt.legend(['Conventional Ramp', 'Inelastic', 'Elastic', 'Conventional', 'Renewable'])"
      ],
      "execution_count": 146,
      "outputs": [
        {
          "output_type": "execute_result",
          "data": {
            "text/plain": [
              "<matplotlib.legend.Legend at 0x7f6be0ea6da0>"
            ]
          },
          "metadata": {
            "tags": []
          },
          "execution_count": 146
        },
        {
          "output_type": "display_data",
          "data": {
            "image/png": "[encoded data removed]",
            "text/plain": [
              "<Figure size 432x288 with 1 Axes>"
            ]
          },
          "metadata": {
            "tags": [],
            "needs_background": "light"
          }
        }
      ]
    }
  ]
}