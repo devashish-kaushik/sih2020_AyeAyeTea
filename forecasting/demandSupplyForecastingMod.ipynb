{
  "nbformat": 4,
  "nbformat_minor": 0,
  "metadata": {
    "colab": {
      "name": "demandSupplyForecastingMod.ipynb",
      "provenance": []
    },
    "kernelspec": {
      "name": "python3",
      "display_name": "Python 3"
    }
  },
  "cells": [
    {
      "cell_type": "code",
      "metadata": {
        "id": "0d-0qqUjIriK",
        "colab_type": "code",
        "colab": {
          "base_uri": "https://localhost:8080/",
          "height": 34
        },
        "outputId": "2e902383-dd02-458c-862c-7a40df16ed54"
      },
      "source": [
        "#Importing the required modules, the ones I remember\n",
        "import numpy as np\n",
        "import pandas as pd\n",
        "import matplotlib.pyplot as plt\n",
        "from sklearn.preprocessing import MinMaxScaler\n",
        "from sklearn.preprocessing import LabelEncoder\n",
        "from sklearn.metrics import mean_squared_error\n",
        "from keras.models import Sequential\n",
        "from keras.layers import Dense\n",
        "from keras.layers import LSTM"
      ],
      "execution_count": 1,
      "outputs": [
        {
          "output_type": "stream",
          "text": [
            "Using TensorFlow backend.\n"
          ],
          "name": "stderr"
        }
      ]
    },
    {
      "cell_type": "code",
      "metadata": {
        "id": "poxkFG1NI8Ll",
        "colab_type": "code",
        "colab": {
          "resources": {
            "http://localhost:8080/nbextensions/google.colab/files.js": {
              "data": "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",
              "ok": true,
              "headers": [
                [
                  "content-type",
                  "application/javascript"
                ]
              ],
              "status": 200,
              "status_text": ""
            }
          },
          "base_uri": "https://localhost:8080/",
          "height": 72
        },
        "outputId": "220dd7ca-41e4-490a-c8c7-e05f1a7b7951"
      },
      "source": [
        "#Loading the data, preprocessing\n",
        "from google.colab import files\n",
        "uploaded = files.upload()"
      ],
      "execution_count": 2,
      "outputs": [
        {
          "output_type": "display_data",
          "data": {
            "text/html": [
              "\n",
              "     <input type=\"file\" id=\"files-787c0020-0a7a-4305-bc79-fc9b843681cc\" name=\"files[]\" multiple disabled\n",
              "        style=\"border:none\" />\n",
              "     <output id=\"result-787c0020-0a7a-4305-bc79-fc9b843681cc\">\n",
              "      Upload widget is only available when the cell has been executed in the\n",
              "      current browser session. Please rerun this cell to enable.\n",
              "      </output>\n",
              "      <script src=\"/nbextensions/google.colab/files.js\"></script> "
            ],
            "text/plain": [
              "<IPython.core.display.HTML object>"
            ]
          },
          "metadata": {
            "tags": []
          }
        },
        {
          "output_type": "stream",
          "text": [
            "Saving AustriaNew.csv to AustriaNew.csv\n"
          ],
          "name": "stdout"
        }
      ]
    },
    {
      "cell_type": "code",
      "metadata": {
        "id": "EmuBoihWI8ga",
        "colab_type": "code",
        "colab": {
          "base_uri": "https://localhost:8080/",
          "height": 241
        },
        "outputId": "3198ab8c-cff0-4ec2-8812-2224cbc8500b"
      },
      "source": [
        "import io\n",
        "dataRequired = pd.read_csv(io.BytesIO(uploaded['AustriaNew.csv']))\n",
        "dataRequired.head()"
      ],
      "execution_count": 3,
      "outputs": [
        {
          "output_type": "execute_result",
          "data": {
            "text/html": [
              "<div>\n",
              "<style scoped>\n",
              "    .dataframe tbody tr th:only-of-type {\n",
              "        vertical-align: middle;\n",
              "    }\n",
              "\n",
              "    .dataframe tbody tr th {\n",
              "        vertical-align: top;\n",
              "    }\n",
              "\n",
              "    .dataframe thead th {\n",
              "        text-align: right;\n",
              "    }\n",
              "</style>\n",
              "<table border=\"1\" class=\"dataframe\">\n",
              "  <thead>\n",
              "    <tr style=\"text-align: right;\">\n",
              "      <th></th>\n",
              "      <th>Unnamed: 0</th>\n",
              "      <th>index</th>\n",
              "      <th>AT_load_actual_entsoe_power_statistics</th>\n",
              "      <th>AT_load_actual_entsoe_transparency</th>\n",
              "      <th>AT_price_day_ahead</th>\n",
              "      <th>AT_solar_generation_actual</th>\n",
              "      <th>AT_wind_onshore_generation_actual</th>\n",
              "      <th>AT_windspeed_10m</th>\n",
              "      <th>AT_temperature</th>\n",
              "      <th>AT_radiation_direct_horizontal</th>\n",
              "      <th>AT_radiation_diffuse_horizontal</th>\n",
              "    </tr>\n",
              "  </thead>\n",
              "  <tbody>\n",
              "    <tr>\n",
              "      <th>0</th>\n",
              "      <td>0</td>\n",
              "      <td>87656</td>\n",
              "      <td>7035.0</td>\n",
              "      <td>6343.0</td>\n",
              "      <td>36.0</td>\n",
              "      <td>2.0</td>\n",
              "      <td>109.0</td>\n",
              "      <td>3.27</td>\n",
              "      <td>-4.179</td>\n",
              "      <td>1.5614</td>\n",
              "      <td>25.9639</td>\n",
              "    </tr>\n",
              "    <tr>\n",
              "      <th>1</th>\n",
              "      <td>1</td>\n",
              "      <td>87657</td>\n",
              "      <td>7394.0</td>\n",
              "      <td>6882.0</td>\n",
              "      <td>41.0</td>\n",
              "      <td>10.0</td>\n",
              "      <td>146.0</td>\n",
              "      <td>3.23</td>\n",
              "      <td>-2.807</td>\n",
              "      <td>7.5467</td>\n",
              "      <td>75.0443</td>\n",
              "    </tr>\n",
              "    <tr>\n",
              "      <th>2</th>\n",
              "      <td>2</td>\n",
              "      <td>87658</td>\n",
              "      <td>7770.0</td>\n",
              "      <td>6963.0</td>\n",
              "      <td>45.0</td>\n",
              "      <td>21.0</td>\n",
              "      <td>146.0</td>\n",
              "      <td>3.22</td>\n",
              "      <td>-1.315</td>\n",
              "      <td>17.2073</td>\n",
              "      <td>116.9171</td>\n",
              "    </tr>\n",
              "    <tr>\n",
              "      <th>3</th>\n",
              "      <td>3</td>\n",
              "      <td>87659</td>\n",
              "      <td>7820.0</td>\n",
              "      <td>7110.0</td>\n",
              "      <td>50.0</td>\n",
              "      <td>32.0</td>\n",
              "      <td>158.0</td>\n",
              "      <td>3.22</td>\n",
              "      <td>-0.051</td>\n",
              "      <td>35.4289</td>\n",
              "      <td>146.8923</td>\n",
              "    </tr>\n",
              "    <tr>\n",
              "      <th>4</th>\n",
              "      <td>4</td>\n",
              "      <td>87660</td>\n",
              "      <td>7694.0</td>\n",
              "      <td>7136.0</td>\n",
              "      <td>51.0</td>\n",
              "      <td>37.0</td>\n",
              "      <td>187.0</td>\n",
              "      <td>3.00</td>\n",
              "      <td>0.791</td>\n",
              "      <td>58.5238</td>\n",
              "      <td>151.4721</td>\n",
              "    </tr>\n",
              "  </tbody>\n",
              "</table>\n",
              "</div>"
            ],
            "text/plain": [
              "   Unnamed: 0  ...  AT_radiation_diffuse_horizontal\n",
              "0           0  ...                          25.9639\n",
              "1           1  ...                          75.0443\n",
              "2           2  ...                         116.9171\n",
              "3           3  ...                         146.8923\n",
              "4           4  ...                         151.4721\n",
              "\n",
              "[5 rows x 11 columns]"
            ]
          },
          "metadata": {
            "tags": []
          },
          "execution_count": 3
        }
      ]
    },
    {
      "cell_type": "code",
      "metadata": {
        "id": "7zY44Rr_I8nc",
        "colab_type": "code",
        "colab": {
          "base_uri": "https://localhost:8080/",
          "height": 34
        },
        "outputId": "15efec65-6b87-43b1-fb14-7ede6e820f62"
      },
      "source": [
        "dataRequired.shape"
      ],
      "execution_count": 4,
      "outputs": [
        {
          "output_type": "execute_result",
          "data": {
            "text/plain": [
              "(17488, 11)"
            ]
          },
          "metadata": {
            "tags": []
          },
          "execution_count": 4
        }
      ]
    },
    {
      "cell_type": "code",
      "metadata": {
        "id": "u1Vf30iAI8tx",
        "colab_type": "code",
        "colab": {
          "base_uri": "https://localhost:8080/",
          "height": 282
        },
        "outputId": "11d3f935-8a2a-42e3-dc72-d3bc7e939728"
      },
      "source": [
        "#Plotting and visualising the time series relation\n",
        "plt.scatter(dataRequired['AT_windspeed_10m'],dataRequired['AT_wind_onshore_generation_actual'])"
      ],
      "execution_count": 5,
      "outputs": [
        {
          "output_type": "execute_result",
          "data": {
            "text/plain": [
              "<matplotlib.collections.PathCollection at 0x7f91a4c10e80>"
            ]
          },
          "metadata": {
            "tags": []
          },
          "execution_count": 5
        },
        {
          "output_type": "display_data",
          "data": {
            "image/png": "[encoded data removed]",
            "text/plain": [
              "<Figure size 432x288 with 1 Axes>"
            ]
          },
          "metadata": {
            "tags": [],
            "needs_background": "light"
          }
        }
      ]
    },
    {
      "cell_type": "code",
      "metadata": {
        "id": "QvFQHR9EI8zk",
        "colab_type": "code",
        "colab": {}
      },
      "source": [
        "#Clearly, the characteristics resemble the expected characteristics, but the data had quite a bit of deviation about the standard curve.\n",
        "#It can be clearly attributed to variations in density of the air density, due to radiation changes throughout the year."
      ],
      "execution_count": 6,
      "outputs": []
    },
    {
      "cell_type": "code",
      "metadata": {
        "id": "F7922B5WI85t",
        "colab_type": "code",
        "colab": {
          "base_uri": "https://localhost:8080/",
          "height": 265
        },
        "outputId": "c50d8d99-eaec-41fb-8386-d85308585b64"
      },
      "source": [
        "#Plotting the time series\n",
        "for i in dataRequired:\n",
        "  plt.ylabel(i)\n",
        "  plt.plot(dataRequired[i][:1000])"
      ],
      "execution_count": 8,
      "outputs": [
        {
          "output_type": "display_data",
          "data": {
            "image/png": "[encoded data removed]",
            "text/plain": [
              "<Figure size 432x288 with 1 Axes>"
            ]
          },
          "metadata": {
            "tags": [],
            "needs_background": "light"
          }
        }
      ]
    },
    {
      "cell_type": "code",
      "metadata": {
        "id": "CmKbxi3VI8_f",
        "colab_type": "code",
        "colab": {}
      },
      "source": [
        "# Certain periodic trends are found in the data, also, the series appear sufficiently correlated with one another, we thus use an LSTM for training the model"
      ],
      "execution_count": 9,
      "outputs": []
    },
    {
      "cell_type": "code",
      "metadata": {
        "id": "E3IvX4nfLr9b",
        "colab_type": "code",
        "colab": {}
      },
      "source": [
        "#Converting the time series analysis problem into a supervised learning problem\n",
        "def seriesToSupervised(data, lookBack = 60, predCols = 1):\n",
        "  temp = data.copy()\n",
        "  temp['id'] = range(1, len(temp)+1)\n",
        "  temp = temp.iloc[: -lookBack, :]\n",
        "  temp.set_index('id', inplace = True)\n",
        "  predVal = data.copy()\n",
        "  predVal = predVal.iloc[lookBack:, predCols]\n",
        "  predVal.columns = ['Pred']\n",
        "  predVal = pd.DataFrame(predVal)\n",
        "  predVal['id'] = range(1, len(predVal)+1)\n",
        "  predVal.set_index('id', inplace = True)\n",
        "  finalDf = pd.concat([temp, predVal], axis = 1)\n",
        "  return finalDf"
      ],
      "execution_count": 11,
      "outputs": []
    },
    {
      "cell_type": "code",
      "metadata": {
        "id": "nnzAfIr5MUTe",
        "colab_type": "code",
        "colab": {}
      },
      "source": [
        "from sklearn.metrics import mean_absolute_error, mean_squared_error, r2_score"
      ],
      "execution_count": 12,
      "outputs": []
    },
    {
      "cell_type": "markdown",
      "metadata": {
        "id": "D6FsSUCkI9FI",
        "colab_type": "text"
      },
      "source": [
        "# Solar energy output forecasting\n",
        "\n"
      ]
    },
    {
      "cell_type": "code",
      "metadata": {
        "id": "VDg6IGC1I9Kt",
        "colab_type": "code",
        "colab": {
          "base_uri": "https://localhost:8080/",
          "height": 306
        },
        "outputId": "96500809-01dd-4fc0-e07d-00940caa0006"
      },
      "source": [
        "#Selecting the feature variables and target variables for a Multivariate LSTM\n",
        "dataPredSolarOutput=dataRequired[['AT_solar_generation_actual', 'AT_windspeed_10m', 'AT_temperature', 'AT_radiation_direct_horizontal', 'AT_radiation_diffuse_horizontal']]\n",
        "dataPredSolarOutput['pred'] = dataPredSolarOutput['AT_solar_generation_actual'].shift(-1)\n",
        "dataPredSolarOutput = dataPredSolarOutput.dropna()\n",
        "dataPredSolarOutput.head()"
      ],
      "execution_count": 13,
      "outputs": [
        {
          "output_type": "stream",
          "text": [
            "/usr/local/lib/python3.6/dist-packages/ipykernel_launcher.py:3: SettingWithCopyWarning: \n",
            "A value is trying to be set on a copy of a slice from a DataFrame.\n",
            "Try using .loc[row_indexer,col_indexer] = value instead\n",
            "\n",
            "See the caveats in the documentation: https://pandas.pydata.org/pandas-docs/stable/user_guide/indexing.html#returning-a-view-versus-a-copy\n",
            "  This is separate from the ipykernel package so we can avoid doing imports until\n"
          ],
          "name": "stderr"
        },
        {
          "output_type": "execute_result",
          "data": {
            "text/html": [
              "<div>\n",
              "<style scoped>\n",
              "    .dataframe tbody tr th:only-of-type {\n",
              "        vertical-align: middle;\n",
              "    }\n",
              "\n",
              "    .dataframe tbody tr th {\n",
              "        vertical-align: top;\n",
              "    }\n",
              "\n",
              "    .dataframe thead th {\n",
              "        text-align: right;\n",
              "    }\n",
              "</style>\n",
              "<table border=\"1\" class=\"dataframe\">\n",
              "  <thead>\n",
              "    <tr style=\"text-align: right;\">\n",
              "      <th></th>\n",
              "      <th>AT_solar_generation_actual</th>\n",
              "      <th>AT_windspeed_10m</th>\n",
              "      <th>AT_temperature</th>\n",
              "      <th>AT_radiation_direct_horizontal</th>\n",
              "      <th>AT_radiation_diffuse_horizontal</th>\n",
              "      <th>pred</th>\n",
              "    </tr>\n",
              "  </thead>\n",
              "  <tbody>\n",
              "    <tr>\n",
              "      <th>0</th>\n",
              "      <td>2.0</td>\n",
              "      <td>3.27</td>\n",
              "      <td>-4.179</td>\n",
              "      <td>1.5614</td>\n",
              "      <td>25.9639</td>\n",
              "      <td>10.0</td>\n",
              "    </tr>\n",
              "    <tr>\n",
              "      <th>1</th>\n",
              "      <td>10.0</td>\n",
              "      <td>3.23</td>\n",
              "      <td>-2.807</td>\n",
              "      <td>7.5467</td>\n",
              "      <td>75.0443</td>\n",
              "      <td>21.0</td>\n",
              "    </tr>\n",
              "    <tr>\n",
              "      <th>2</th>\n",
              "      <td>21.0</td>\n",
              "      <td>3.22</td>\n",
              "      <td>-1.315</td>\n",
              "      <td>17.2073</td>\n",
              "      <td>116.9171</td>\n",
              "      <td>32.0</td>\n",
              "    </tr>\n",
              "    <tr>\n",
              "      <th>3</th>\n",
              "      <td>32.0</td>\n",
              "      <td>3.22</td>\n",
              "      <td>-0.051</td>\n",
              "      <td>35.4289</td>\n",
              "      <td>146.8923</td>\n",
              "      <td>37.0</td>\n",
              "    </tr>\n",
              "    <tr>\n",
              "      <th>4</th>\n",
              "      <td>37.0</td>\n",
              "      <td>3.00</td>\n",
              "      <td>0.791</td>\n",
              "      <td>58.5238</td>\n",
              "      <td>151.4721</td>\n",
              "      <td>35.0</td>\n",
              "    </tr>\n",
              "  </tbody>\n",
              "</table>\n",
              "</div>"
            ],
            "text/plain": [
              "   AT_solar_generation_actual  ...  pred\n",
              "0                         2.0  ...  10.0\n",
              "1                        10.0  ...  21.0\n",
              "2                        21.0  ...  32.0\n",
              "3                        32.0  ...  37.0\n",
              "4                        37.0  ...  35.0\n",
              "\n",
              "[5 rows x 6 columns]"
            ]
          },
          "metadata": {
            "tags": []
          },
          "execution_count": 13
        }
      ]
    },
    {
      "cell_type": "code",
      "metadata": {
        "id": "uegSmV4GLZEa",
        "colab_type": "code",
        "colab": {}
      },
      "source": [
        "scalerOne = MinMaxScaler(feature_range=(0,1))\n",
        "solarScaled = scalerOne.fit_transform(dataPredSolarOutput.values)\n",
        "solarScaled = pd.DataFrame(solarScaled)"
      ],
      "execution_count": 14,
      "outputs": []
    },
    {
      "cell_type": "code",
      "metadata": {
        "id": "S9lNKY-lLgEf",
        "colab_type": "code",
        "colab": {
          "base_uri": "https://localhost:8080/",
          "height": 204
        },
        "outputId": "cff0b067-bfb1-4fd9-b851-44e8902c7d07"
      },
      "source": [
        "solarScaled.head()"
      ],
      "execution_count": 15,
      "outputs": [
        {
          "output_type": "execute_result",
          "data": {
            "text/html": [
              "<div>\n",
              "<style scoped>\n",
              "    .dataframe tbody tr th:only-of-type {\n",
              "        vertical-align: middle;\n",
              "    }\n",
              "\n",
              "    .dataframe tbody tr th {\n",
              "        vertical-align: top;\n",
              "    }\n",
              "\n",
              "    .dataframe thead th {\n",
              "        text-align: right;\n",
              "    }\n",
              "</style>\n",
              "<table border=\"1\" class=\"dataframe\">\n",
              "  <thead>\n",
              "    <tr style=\"text-align: right;\">\n",
              "      <th></th>\n",
              "      <th>0</th>\n",
              "      <th>1</th>\n",
              "      <th>2</th>\n",
              "      <th>3</th>\n",
              "      <th>4</th>\n",
              "      <th>5</th>\n",
              "    </tr>\n",
              "  </thead>\n",
              "  <tbody>\n",
              "    <tr>\n",
              "      <th>0</th>\n",
              "      <td>0.003279</td>\n",
              "      <td>0.285083</td>\n",
              "      <td>0.178747</td>\n",
              "      <td>0.001814</td>\n",
              "      <td>0.064377</td>\n",
              "      <td>0.016393</td>\n",
              "    </tr>\n",
              "    <tr>\n",
              "      <th>1</th>\n",
              "      <td>0.016393</td>\n",
              "      <td>0.280663</td>\n",
              "      <td>0.209402</td>\n",
              "      <td>0.008767</td>\n",
              "      <td>0.186070</td>\n",
              "      <td>0.034426</td>\n",
              "    </tr>\n",
              "    <tr>\n",
              "      <th>2</th>\n",
              "      <td>0.034426</td>\n",
              "      <td>0.279558</td>\n",
              "      <td>0.242738</td>\n",
              "      <td>0.019991</td>\n",
              "      <td>0.289892</td>\n",
              "      <td>0.052459</td>\n",
              "    </tr>\n",
              "    <tr>\n",
              "      <th>3</th>\n",
              "      <td>0.052459</td>\n",
              "      <td>0.279558</td>\n",
              "      <td>0.270980</td>\n",
              "      <td>0.041160</td>\n",
              "      <td>0.364214</td>\n",
              "      <td>0.060656</td>\n",
              "    </tr>\n",
              "    <tr>\n",
              "      <th>4</th>\n",
              "      <td>0.060656</td>\n",
              "      <td>0.255249</td>\n",
              "      <td>0.289794</td>\n",
              "      <td>0.067990</td>\n",
              "      <td>0.375570</td>\n",
              "      <td>0.057377</td>\n",
              "    </tr>\n",
              "  </tbody>\n",
              "</table>\n",
              "</div>"
            ],
            "text/plain": [
              "          0         1         2         3         4         5\n",
              "0  0.003279  0.285083  0.178747  0.001814  0.064377  0.016393\n",
              "1  0.016393  0.280663  0.209402  0.008767  0.186070  0.034426\n",
              "2  0.034426  0.279558  0.242738  0.019991  0.289892  0.052459\n",
              "3  0.052459  0.279558  0.270980  0.041160  0.364214  0.060656\n",
              "4  0.060656  0.255249  0.289794  0.067990  0.375570  0.057377"
            ]
          },
          "metadata": {
            "tags": []
          },
          "execution_count": 15
        }
      ]
    },
    {
      "cell_type": "code",
      "metadata": {
        "id": "wvxLR6CzLmao",
        "colab_type": "code",
        "colab": {
          "base_uri": "https://localhost:8080/",
          "height": 235
        },
        "outputId": "03db6ad0-7fc2-4f34-f461-a6d9e01899ba"
      },
      "source": [
        "arrDfSolar = seriesToSupervised(solarScaled, 3, 0)\n",
        "arrDfSolar.fillna(0, inplace = True)\n",
        "arrDfSolar.head()"
      ],
      "execution_count": 16,
      "outputs": [
        {
          "output_type": "execute_result",
          "data": {
            "text/html": [
              "<div>\n",
              "<style scoped>\n",
              "    .dataframe tbody tr th:only-of-type {\n",
              "        vertical-align: middle;\n",
              "    }\n",
              "\n",
              "    .dataframe tbody tr th {\n",
              "        vertical-align: top;\n",
              "    }\n",
              "\n",
              "    .dataframe thead th {\n",
              "        text-align: right;\n",
              "    }\n",
              "</style>\n",
              "<table border=\"1\" class=\"dataframe\">\n",
              "  <thead>\n",
              "    <tr style=\"text-align: right;\">\n",
              "      <th></th>\n",
              "      <th>0</th>\n",
              "      <th>1</th>\n",
              "      <th>2</th>\n",
              "      <th>3</th>\n",
              "      <th>4</th>\n",
              "      <th>5</th>\n",
              "      <th>0</th>\n",
              "    </tr>\n",
              "    <tr>\n",
              "      <th>id</th>\n",
              "      <th></th>\n",
              "      <th></th>\n",
              "      <th></th>\n",
              "      <th></th>\n",
              "      <th></th>\n",
              "      <th></th>\n",
              "      <th></th>\n",
              "    </tr>\n",
              "  </thead>\n",
              "  <tbody>\n",
              "    <tr>\n",
              "      <th>1</th>\n",
              "      <td>0.003279</td>\n",
              "      <td>0.285083</td>\n",
              "      <td>0.178747</td>\n",
              "      <td>0.001814</td>\n",
              "      <td>0.064377</td>\n",
              "      <td>0.016393</td>\n",
              "      <td>0.052459</td>\n",
              "    </tr>\n",
              "    <tr>\n",
              "      <th>2</th>\n",
              "      <td>0.016393</td>\n",
              "      <td>0.280663</td>\n",
              "      <td>0.209402</td>\n",
              "      <td>0.008767</td>\n",
              "      <td>0.186070</td>\n",
              "      <td>0.034426</td>\n",
              "      <td>0.060656</td>\n",
              "    </tr>\n",
              "    <tr>\n",
              "      <th>3</th>\n",
              "      <td>0.034426</td>\n",
              "      <td>0.279558</td>\n",
              "      <td>0.242738</td>\n",
              "      <td>0.019991</td>\n",
              "      <td>0.289892</td>\n",
              "      <td>0.052459</td>\n",
              "      <td>0.057377</td>\n",
              "    </tr>\n",
              "    <tr>\n",
              "      <th>4</th>\n",
              "      <td>0.052459</td>\n",
              "      <td>0.279558</td>\n",
              "      <td>0.270980</td>\n",
              "      <td>0.041160</td>\n",
              "      <td>0.364214</td>\n",
              "      <td>0.060656</td>\n",
              "      <td>0.044262</td>\n",
              "    </tr>\n",
              "    <tr>\n",
              "      <th>5</th>\n",
              "      <td>0.060656</td>\n",
              "      <td>0.255249</td>\n",
              "      <td>0.289794</td>\n",
              "      <td>0.067990</td>\n",
              "      <td>0.375570</td>\n",
              "      <td>0.057377</td>\n",
              "      <td>0.022951</td>\n",
              "    </tr>\n",
              "  </tbody>\n",
              "</table>\n",
              "</div>"
            ],
            "text/plain": [
              "           0         1         2         3         4         5         0\n",
              "id                                                                      \n",
              "1   0.003279  0.285083  0.178747  0.001814  0.064377  0.016393  0.052459\n",
              "2   0.016393  0.280663  0.209402  0.008767  0.186070  0.034426  0.060656\n",
              "3   0.034426  0.279558  0.242738  0.019991  0.289892  0.052459  0.057377\n",
              "4   0.052459  0.279558  0.270980  0.041160  0.364214  0.060656  0.044262\n",
              "5   0.060656  0.255249  0.289794  0.067990  0.375570  0.057377  0.022951"
            ]
          },
          "metadata": {
            "tags": []
          },
          "execution_count": 16
        }
      ]
    },
    {
      "cell_type": "code",
      "metadata": {
        "id": "XmjYskxdLmpZ",
        "colab_type": "code",
        "colab": {
          "base_uri": "https://localhost:8080/",
          "height": 34
        },
        "outputId": "27245225-3885-4132-df79-13bc12bf749f"
      },
      "source": [
        "# splitting and converting the data to right shape, around 80:20 ratio would be good for validation\n",
        "values = arrDfSolar.values\n",
        "trainSample = int(len(dataPredSolarOutput)*0.8)\n",
        "train = values[: trainSample, :]\n",
        "test = values[trainSample:, :]\n",
        "XTrain, yTrain = train[:, :-1], train[:, -1]\n",
        "XTest, yTest = test[:,:-1], test[:, -1]\n",
        "XTrain.shape, yTrain.shape, XTest.shape, yTest.shape"
      ],
      "execution_count": 23,
      "outputs": [
        {
          "output_type": "execute_result",
          "data": {
            "text/plain": [
              "((13989, 6), (13989,), (3495, 6), (3495,))"
            ]
          },
          "metadata": {
            "tags": []
          },
          "execution_count": 23
        }
      ]
    },
    {
      "cell_type": "code",
      "metadata": {
        "id": "Ir6w3JeCLmt9",
        "colab_type": "code",
        "colab": {
          "base_uri": "https://localhost:8080/",
          "height": 34
        },
        "outputId": "7de62aa1-32d5-4811-dcbb-dacbf43e451a"
      },
      "source": [
        "# We need a 3D data as (sample size, look back steps, input features)\n",
        "XTrain = XTrain.reshape((XTrain.shape[0], 1, XTrain.shape[1]))\n",
        "XTest = XTest.reshape((XTest.shape[0], 1, XTest.shape[1]))\n",
        "XTrain.shape, yTrain.shape, XTest.shape, yTest.shape"
      ],
      "execution_count": 24,
      "outputs": [
        {
          "output_type": "execute_result",
          "data": {
            "text/plain": [
              "((13989, 1, 6), (13989,), (3495, 1, 6), (3495,))"
            ]
          },
          "metadata": {
            "tags": []
          },
          "execution_count": 24
        }
      ]
    },
    {
      "cell_type": "code",
      "metadata": {
        "id": "6P1SmJaAL6cf",
        "colab_type": "code",
        "colab": {
          "base_uri": "https://localhost:8080/",
          "height": 289
        },
        "outputId": "9a9dd483-edb2-4ff5-99c2-b88d77e2956b"
      },
      "source": [
        "model = Sequential()\n",
        "model.add(LSTM(75, return_sequences = True, input_shape = (XTrain.shape[1], XTrain.shape[2])))\n",
        "model.add(LSTM(units = 50, return_sequences=True))\n",
        "model.add(LSTM(units = 30))\n",
        "model.add(Dense(units = 1))\n",
        "model.compile(loss = 'mae', optimizer = 'adam')\n",
        "model.summary()"
      ],
      "execution_count": 20,
      "outputs": [
        {
          "output_type": "stream",
          "text": [
            "Model: \"sequential_1\"\n",
            "_________________________________________________________________\n",
            "Layer (type)                 Output Shape              Param #   \n",
            "=================================================================\n",
            "lstm_1 (LSTM)                (None, 1, 75)             24600     \n",
            "_________________________________________________________________\n",
            "lstm_2 (LSTM)                (None, 1, 50)             25200     \n",
            "_________________________________________________________________\n",
            "lstm_3 (LSTM)                (None, 30)                9720      \n",
            "_________________________________________________________________\n",
            "dense_1 (Dense)              (None, 1)                 31        \n",
            "=================================================================\n",
            "Total params: 59,551\n",
            "Trainable params: 59,551\n",
            "Non-trainable params: 0\n",
            "_________________________________________________________________\n"
          ],
          "name": "stdout"
        }
      ]
    },
    {
      "cell_type": "code",
      "metadata": {
        "id": "8zDqx4xWL6ka",
        "colab_type": "code",
        "colab": {
          "base_uri": "https://localhost:8080/",
          "height": 1000
        },
        "outputId": "d0c9b384-2765-49a8-d7d7-d75fd96793e1"
      },
      "source": [
        "history = model.fit(XTrain, yTrain, epochs= 50, batch_size=32, validation_split = 0.2, shuffle = False)"
      ],
      "execution_count": 21,
      "outputs": [
        {
          "output_type": "stream",
          "text": [
            "Train on 11191 samples, validate on 2798 samples\n",
            "Epoch 1/50\n",
            "11191/11191 [==============================] - 3s 286us/step - loss: 0.0802 - val_loss: 0.1194\n",
            "Epoch 2/50\n",
            "11191/11191 [==============================] - 2s 162us/step - loss: 0.0456 - val_loss: 0.0685\n",
            "Epoch 3/50\n",
            "11191/11191 [==============================] - 2s 159us/step - loss: 0.0379 - val_loss: 0.0628\n",
            "Epoch 4/50\n",
            "11191/11191 [==============================] - 2s 154us/step - loss: 0.0353 - val_loss: 0.0559\n",
            "Epoch 5/50\n",
            "11191/11191 [==============================] - 2s 156us/step - loss: 0.0347 - val_loss: 0.0555\n",
            "Epoch 6/50\n",
            "11191/11191 [==============================] - 2s 154us/step - loss: 0.0347 - val_loss: 0.0612\n",
            "Epoch 7/50\n",
            "11191/11191 [==============================] - 2s 157us/step - loss: 0.0341 - val_loss: 0.0528\n",
            "Epoch 8/50\n",
            "11191/11191 [==============================] - 2s 155us/step - loss: 0.0338 - val_loss: 0.0548\n",
            "Epoch 9/50\n",
            "11191/11191 [==============================] - 2s 162us/step - loss: 0.0329 - val_loss: 0.0493\n",
            "Epoch 10/50\n",
            "11191/11191 [==============================] - 2s 153us/step - loss: 0.0320 - val_loss: 0.0506\n",
            "Epoch 11/50\n",
            "11191/11191 [==============================] - 2s 155us/step - loss: 0.0304 - val_loss: 0.0444\n",
            "Epoch 12/50\n",
            "11191/11191 [==============================] - 2s 158us/step - loss: 0.0293 - val_loss: 0.0426\n",
            "Epoch 13/50\n",
            "11191/11191 [==============================] - 2s 154us/step - loss: 0.0292 - val_loss: 0.0443\n",
            "Epoch 14/50\n",
            "11191/11191 [==============================] - 2s 148us/step - loss: 0.0283 - val_loss: 0.0412\n",
            "Epoch 15/50\n",
            "11191/11191 [==============================] - 2s 151us/step - loss: 0.0292 - val_loss: 0.0444\n",
            "Epoch 16/50\n",
            "11191/11191 [==============================] - 2s 149us/step - loss: 0.0281 - val_loss: 0.0399\n",
            "Epoch 17/50\n",
            "11191/11191 [==============================] - 2s 149us/step - loss: 0.0276 - val_loss: 0.0405\n",
            "Epoch 18/50\n",
            "11191/11191 [==============================] - 2s 146us/step - loss: 0.0272 - val_loss: 0.0387\n",
            "Epoch 19/50\n",
            "11191/11191 [==============================] - 2s 148us/step - loss: 0.0267 - val_loss: 0.0439\n",
            "Epoch 20/50\n",
            "11191/11191 [==============================] - 2s 150us/step - loss: 0.0269 - val_loss: 0.0382\n",
            "Epoch 21/50\n",
            "11191/11191 [==============================] - 2s 154us/step - loss: 0.0257 - val_loss: 0.0374\n",
            "Epoch 22/50\n",
            "11191/11191 [==============================] - 2s 151us/step - loss: 0.0258 - val_loss: 0.0409\n",
            "Epoch 23/50\n",
            "11191/11191 [==============================] - 2s 148us/step - loss: 0.0253 - val_loss: 0.0395\n",
            "Epoch 24/50\n",
            "11191/11191 [==============================] - 2s 149us/step - loss: 0.0246 - val_loss: 0.0332\n",
            "Epoch 25/50\n",
            "11191/11191 [==============================] - 2s 150us/step - loss: 0.0244 - val_loss: 0.0385\n",
            "Epoch 26/50\n",
            "11191/11191 [==============================] - 2s 150us/step - loss: 0.0241 - val_loss: 0.0381\n",
            "Epoch 27/50\n",
            "11191/11191 [==============================] - 2s 161us/step - loss: 0.0242 - val_loss: 0.0374\n",
            "Epoch 28/50\n",
            "11191/11191 [==============================] - 2s 161us/step - loss: 0.0240 - val_loss: 0.0333\n",
            "Epoch 29/50\n",
            "11191/11191 [==============================] - 2s 160us/step - loss: 0.0233 - val_loss: 0.0349\n",
            "Epoch 30/50\n",
            "11191/11191 [==============================] - 2s 159us/step - loss: 0.0229 - val_loss: 0.0308\n",
            "Epoch 31/50\n",
            "11191/11191 [==============================] - 2s 161us/step - loss: 0.0226 - val_loss: 0.0366\n",
            "Epoch 32/50\n",
            "11191/11191 [==============================] - 2s 159us/step - loss: 0.0226 - val_loss: 0.0342\n",
            "Epoch 33/50\n",
            "11191/11191 [==============================] - 2s 159us/step - loss: 0.0223 - val_loss: 0.0339\n",
            "Epoch 34/50\n",
            "11191/11191 [==============================] - 2s 157us/step - loss: 0.0219 - val_loss: 0.0306\n",
            "Epoch 35/50\n",
            "11191/11191 [==============================] - 2s 168us/step - loss: 0.0218 - val_loss: 0.0342\n",
            "Epoch 36/50\n",
            "11191/11191 [==============================] - 2s 158us/step - loss: 0.0218 - val_loss: 0.0340\n",
            "Epoch 37/50\n",
            "11191/11191 [==============================] - 2s 156us/step - loss: 0.0216 - val_loss: 0.0343\n",
            "Epoch 38/50\n",
            "11191/11191 [==============================] - 2s 154us/step - loss: 0.0212 - val_loss: 0.0336\n",
            "Epoch 39/50\n",
            "11191/11191 [==============================] - 2s 154us/step - loss: 0.0211 - val_loss: 0.0364\n",
            "Epoch 40/50\n",
            "11191/11191 [==============================] - 2s 146us/step - loss: 0.0208 - val_loss: 0.0370\n",
            "Epoch 41/50\n",
            "11191/11191 [==============================] - 2s 152us/step - loss: 0.0211 - val_loss: 0.0366\n",
            "Epoch 42/50\n",
            "11191/11191 [==============================] - 2s 147us/step - loss: 0.0213 - val_loss: 0.0335\n",
            "Epoch 43/50\n",
            "11191/11191 [==============================] - 2s 147us/step - loss: 0.0205 - val_loss: 0.0366\n",
            "Epoch 44/50\n",
            "11191/11191 [==============================] - 2s 148us/step - loss: 0.0203 - val_loss: 0.0385\n",
            "Epoch 45/50\n",
            "11191/11191 [==============================] - 2s 146us/step - loss: 0.0206 - val_loss: 0.0327\n",
            "Epoch 46/50\n",
            "11191/11191 [==============================] - 2s 143us/step - loss: 0.0201 - val_loss: 0.0355\n",
            "Epoch 47/50\n",
            "11191/11191 [==============================] - 2s 144us/step - loss: 0.0208 - val_loss: 0.0358\n",
            "Epoch 48/50\n",
            "11191/11191 [==============================] - 2s 150us/step - loss: 0.0202 - val_loss: 0.0318\n",
            "Epoch 49/50\n",
            "11191/11191 [==============================] - 2s 148us/step - loss: 0.0199 - val_loss: 0.0384\n",
            "Epoch 50/50\n",
            "11191/11191 [==============================] - 2s 151us/step - loss: 0.0199 - val_loss: 0.0361\n"
          ],
          "name": "stdout"
        }
      ]
    },
    {
      "cell_type": "code",
      "metadata": {
        "id": "eMvjnWjcL6sD",
        "colab_type": "code",
        "colab": {
          "base_uri": "https://localhost:8080/",
          "height": 68
        },
        "outputId": "9d106e86-fd9a-423f-ca28-eb6eba7a0235"
      },
      "source": [
        "#Making predictions\n",
        "yPred = model.predict(XTest)\n",
        "XTest = XTest.reshape((XTest.shape[0],XTest.shape[2]))\n",
        "invyPred = np.concatenate((yPred, XTest[:, 1:]), axis = 1)\n",
        "invyPred = scalerOne.inverse_transform(invyPred)\n",
        "invyPred = invyPred[:, 0]\n",
        "\n",
        "yTest = yTest.reshape((len(yTest), 1))\n",
        "invyTest = np.concatenate((yTest, XTest[:, 1:]), axis = 1)\n",
        "invyTest = scalerOne.inverse_transform(invyTest)\n",
        "invyTest = invyTest[:, 0]\n",
        "\n",
        "print(f'Mean absolute error {mean_absolute_error(invyTest, invyPred)}')\n",
        "print(f'Mean squared error {mean_squared_error(invyTest, invyPred)}')\n",
        "print(f'R2_Score {r2_score(invyTest, invyPred)}')"
      ],
      "execution_count": 25,
      "outputs": [
        {
          "output_type": "stream",
          "text": [
            "Mean absolute error 19.775166717056553\n",
            "Mean squared error 933.6409925913919\n",
            "R2_Score 0.9508655187658521\n"
          ],
          "name": "stdout"
        }
      ]
    },
    {
      "cell_type": "code",
      "metadata": {
        "id": "TvZkwEw-L60K",
        "colab_type": "code",
        "colab": {
          "base_uri": "https://localhost:8080/",
          "height": 285
        },
        "outputId": "388e25ba-defa-4410-8951-68e44ad7a231"
      },
      "source": [
        "plt.plot(invyTest[:1000])\n",
        "plt.plot(invyPred[:1000])"
      ],
      "execution_count": 26,
      "outputs": [
        {
          "output_type": "execute_result",
          "data": {
            "text/plain": [
              "[<matplotlib.lines.Line2D at 0x7f919a01d2b0>]"
            ]
          },
          "metadata": {
            "tags": []
          },
          "execution_count": 26
        },
        {
          "output_type": "display_data",
          "data": {
            "image/png": "[encoded data removed]",
            "text/plain": [
              "<Figure size 432x288 with 1 Axes>"
            ]
          },
          "metadata": {
            "tags": [],
            "needs_background": "light"
          }
        }
      ]
    },
    {
      "cell_type": "markdown",
      "metadata": {
        "id": "FW8JQoYhI9QS",
        "colab_type": "text"
      },
      "source": [
        "# Wind energy output forecasting\n"
      ]
    },
    {
      "cell_type": "code",
      "metadata": {
        "id": "3kL48Q-AI9W6",
        "colab_type": "code",
        "colab": {
          "base_uri": "https://localhost:8080/",
          "height": 306
        },
        "outputId": "1be7cd7d-7c37-477d-99dc-792550348733"
      },
      "source": [
        "#Selecting the feature variables and target variables for a Multivariate LSTM\n",
        "dataPredWindOutput = dataRequired[['AT_wind_onshore_generation_actual', 'AT_windspeed_10m', 'AT_temperature', 'AT_radiation_direct_horizontal', 'AT_radiation_diffuse_horizontal']]\n",
        "dataPredWindOutput['pred'] = dataPredWindOutput['AT_wind_onshore_generation_actual'].shift(-1)\n",
        "dataPredWindOutput = dataPredWindOutput.dropna()\n",
        "dataPredWindOutput.head()"
      ],
      "execution_count": 27,
      "outputs": [
        {
          "output_type": "stream",
          "text": [
            "/usr/local/lib/python3.6/dist-packages/ipykernel_launcher.py:3: SettingWithCopyWarning: \n",
            "A value is trying to be set on a copy of a slice from a DataFrame.\n",
            "Try using .loc[row_indexer,col_indexer] = value instead\n",
            "\n",
            "See the caveats in the documentation: https://pandas.pydata.org/pandas-docs/stable/user_guide/indexing.html#returning-a-view-versus-a-copy\n",
            "  This is separate from the ipykernel package so we can avoid doing imports until\n"
          ],
          "name": "stderr"
        },
        {
          "output_type": "execute_result",
          "data": {
            "text/html": [
              "<div>\n",
              "<style scoped>\n",
              "    .dataframe tbody tr th:only-of-type {\n",
              "        vertical-align: middle;\n",
              "    }\n",
              "\n",
              "    .dataframe tbody tr th {\n",
              "        vertical-align: top;\n",
              "    }\n",
              "\n",
              "    .dataframe thead th {\n",
              "        text-align: right;\n",
              "    }\n",
              "</style>\n",
              "<table border=\"1\" class=\"dataframe\">\n",
              "  <thead>\n",
              "    <tr style=\"text-align: right;\">\n",
              "      <th></th>\n",
              "      <th>AT_wind_onshore_generation_actual</th>\n",
              "      <th>AT_windspeed_10m</th>\n",
              "      <th>AT_temperature</th>\n",
              "      <th>AT_radiation_direct_horizontal</th>\n",
              "      <th>AT_radiation_diffuse_horizontal</th>\n",
              "      <th>pred</th>\n",
              "    </tr>\n",
              "  </thead>\n",
              "  <tbody>\n",
              "    <tr>\n",
              "      <th>0</th>\n",
              "      <td>109.0</td>\n",
              "      <td>3.27</td>\n",
              "      <td>-4.179</td>\n",
              "      <td>1.5614</td>\n",
              "      <td>25.9639</td>\n",
              "      <td>146.0</td>\n",
              "    </tr>\n",
              "    <tr>\n",
              "      <th>1</th>\n",
              "      <td>146.0</td>\n",
              "      <td>3.23</td>\n",
              "      <td>-2.807</td>\n",
              "      <td>7.5467</td>\n",
              "      <td>75.0443</td>\n",
              "      <td>146.0</td>\n",
              "    </tr>\n",
              "    <tr>\n",
              "      <th>2</th>\n",
              "      <td>146.0</td>\n",
              "      <td>3.22</td>\n",
              "      <td>-1.315</td>\n",
              "      <td>17.2073</td>\n",
              "      <td>116.9171</td>\n",
              "      <td>158.0</td>\n",
              "    </tr>\n",
              "    <tr>\n",
              "      <th>3</th>\n",
              "      <td>158.0</td>\n",
              "      <td>3.22</td>\n",
              "      <td>-0.051</td>\n",
              "      <td>35.4289</td>\n",
              "      <td>146.8923</td>\n",
              "      <td>187.0</td>\n",
              "    </tr>\n",
              "    <tr>\n",
              "      <th>4</th>\n",
              "      <td>187.0</td>\n",
              "      <td>3.00</td>\n",
              "      <td>0.791</td>\n",
              "      <td>58.5238</td>\n",
              "      <td>151.4721</td>\n",
              "      <td>244.0</td>\n",
              "    </tr>\n",
              "  </tbody>\n",
              "</table>\n",
              "</div>"
            ],
            "text/plain": [
              "   AT_wind_onshore_generation_actual  ...   pred\n",
              "0                              109.0  ...  146.0\n",
              "1                              146.0  ...  146.0\n",
              "2                              146.0  ...  158.0\n",
              "3                              158.0  ...  187.0\n",
              "4                              187.0  ...  244.0\n",
              "\n",
              "[5 rows x 6 columns]"
            ]
          },
          "metadata": {
            "tags": []
          },
          "execution_count": 27
        }
      ]
    },
    {
      "cell_type": "code",
      "metadata": {
        "id": "MhKAIeURMinY",
        "colab_type": "code",
        "colab": {
          "base_uri": "https://localhost:8080/",
          "height": 204
        },
        "outputId": "b58473ae-5019-46cf-b33e-2beb4d73c823"
      },
      "source": [
        "scalerTwo = MinMaxScaler(feature_range=(0,1))\n",
        "windScaled = scalerTwo.fit_transform(dataPredWindOutput.values)\n",
        "windScaled = pd.DataFrame(windScaled)\n",
        "windScaled.head()"
      ],
      "execution_count": 28,
      "outputs": [
        {
          "output_type": "execute_result",
          "data": {
            "text/html": [
              "<div>\n",
              "<style scoped>\n",
              "    .dataframe tbody tr th:only-of-type {\n",
              "        vertical-align: middle;\n",
              "    }\n",
              "\n",
              "    .dataframe tbody tr th {\n",
              "        vertical-align: top;\n",
              "    }\n",
              "\n",
              "    .dataframe thead th {\n",
              "        text-align: right;\n",
              "    }\n",
              "</style>\n",
              "<table border=\"1\" class=\"dataframe\">\n",
              "  <thead>\n",
              "    <tr style=\"text-align: right;\">\n",
              "      <th></th>\n",
              "      <th>0</th>\n",
              "      <th>1</th>\n",
              "      <th>2</th>\n",
              "      <th>3</th>\n",
              "      <th>4</th>\n",
              "      <th>5</th>\n",
              "    </tr>\n",
              "  </thead>\n",
              "  <tbody>\n",
              "    <tr>\n",
              "      <th>0</th>\n",
              "      <td>0.042762</td>\n",
              "      <td>0.285083</td>\n",
              "      <td>0.178747</td>\n",
              "      <td>0.001814</td>\n",
              "      <td>0.064377</td>\n",
              "      <td>0.057277</td>\n",
              "    </tr>\n",
              "    <tr>\n",
              "      <th>1</th>\n",
              "      <td>0.057277</td>\n",
              "      <td>0.280663</td>\n",
              "      <td>0.209402</td>\n",
              "      <td>0.008767</td>\n",
              "      <td>0.186070</td>\n",
              "      <td>0.057277</td>\n",
              "    </tr>\n",
              "    <tr>\n",
              "      <th>2</th>\n",
              "      <td>0.057277</td>\n",
              "      <td>0.279558</td>\n",
              "      <td>0.242738</td>\n",
              "      <td>0.019991</td>\n",
              "      <td>0.289892</td>\n",
              "      <td>0.061985</td>\n",
              "    </tr>\n",
              "    <tr>\n",
              "      <th>3</th>\n",
              "      <td>0.061985</td>\n",
              "      <td>0.279558</td>\n",
              "      <td>0.270980</td>\n",
              "      <td>0.041160</td>\n",
              "      <td>0.364214</td>\n",
              "      <td>0.073362</td>\n",
              "    </tr>\n",
              "    <tr>\n",
              "      <th>4</th>\n",
              "      <td>0.073362</td>\n",
              "      <td>0.255249</td>\n",
              "      <td>0.289794</td>\n",
              "      <td>0.067990</td>\n",
              "      <td>0.375570</td>\n",
              "      <td>0.095724</td>\n",
              "    </tr>\n",
              "  </tbody>\n",
              "</table>\n",
              "</div>"
            ],
            "text/plain": [
              "          0         1         2         3         4         5\n",
              "0  0.042762  0.285083  0.178747  0.001814  0.064377  0.057277\n",
              "1  0.057277  0.280663  0.209402  0.008767  0.186070  0.057277\n",
              "2  0.057277  0.279558  0.242738  0.019991  0.289892  0.061985\n",
              "3  0.061985  0.279558  0.270980  0.041160  0.364214  0.073362\n",
              "4  0.073362  0.255249  0.289794  0.067990  0.375570  0.095724"
            ]
          },
          "metadata": {
            "tags": []
          },
          "execution_count": 28
        }
      ]
    },
    {
      "cell_type": "code",
      "metadata": {
        "id": "nL1QfKoFMi26",
        "colab_type": "code",
        "colab": {
          "base_uri": "https://localhost:8080/",
          "height": 235
        },
        "outputId": "3cb407c1-02cb-41ce-b625-502ccd93aef5"
      },
      "source": [
        "arrDfWind = seriesToSupervised(windScaled, 3, 0)\n",
        "arrDfWind.fillna(0, inplace = True)\n",
        "arrDfWind.head()"
      ],
      "execution_count": 29,
      "outputs": [
        {
          "output_type": "execute_result",
          "data": {
            "text/html": [
              "<div>\n",
              "<style scoped>\n",
              "    .dataframe tbody tr th:only-of-type {\n",
              "        vertical-align: middle;\n",
              "    }\n",
              "\n",
              "    .dataframe tbody tr th {\n",
              "        vertical-align: top;\n",
              "    }\n",
              "\n",
              "    .dataframe thead th {\n",
              "        text-align: right;\n",
              "    }\n",
              "</style>\n",
              "<table border=\"1\" class=\"dataframe\">\n",
              "  <thead>\n",
              "    <tr style=\"text-align: right;\">\n",
              "      <th></th>\n",
              "      <th>0</th>\n",
              "      <th>1</th>\n",
              "      <th>2</th>\n",
              "      <th>3</th>\n",
              "      <th>4</th>\n",
              "      <th>5</th>\n",
              "      <th>0</th>\n",
              "    </tr>\n",
              "    <tr>\n",
              "      <th>id</th>\n",
              "      <th></th>\n",
              "      <th></th>\n",
              "      <th></th>\n",
              "      <th></th>\n",
              "      <th></th>\n",
              "      <th></th>\n",
              "      <th></th>\n",
              "    </tr>\n",
              "  </thead>\n",
              "  <tbody>\n",
              "    <tr>\n",
              "      <th>1</th>\n",
              "      <td>0.042762</td>\n",
              "      <td>0.285083</td>\n",
              "      <td>0.178747</td>\n",
              "      <td>0.001814</td>\n",
              "      <td>0.064377</td>\n",
              "      <td>0.057277</td>\n",
              "      <td>0.061985</td>\n",
              "    </tr>\n",
              "    <tr>\n",
              "      <th>2</th>\n",
              "      <td>0.057277</td>\n",
              "      <td>0.280663</td>\n",
              "      <td>0.209402</td>\n",
              "      <td>0.008767</td>\n",
              "      <td>0.186070</td>\n",
              "      <td>0.057277</td>\n",
              "      <td>0.073362</td>\n",
              "    </tr>\n",
              "    <tr>\n",
              "      <th>3</th>\n",
              "      <td>0.057277</td>\n",
              "      <td>0.279558</td>\n",
              "      <td>0.242738</td>\n",
              "      <td>0.019991</td>\n",
              "      <td>0.289892</td>\n",
              "      <td>0.061985</td>\n",
              "      <td>0.095724</td>\n",
              "    </tr>\n",
              "    <tr>\n",
              "      <th>4</th>\n",
              "      <td>0.061985</td>\n",
              "      <td>0.279558</td>\n",
              "      <td>0.270980</td>\n",
              "      <td>0.041160</td>\n",
              "      <td>0.364214</td>\n",
              "      <td>0.073362</td>\n",
              "      <td>0.117301</td>\n",
              "    </tr>\n",
              "    <tr>\n",
              "      <th>5</th>\n",
              "      <td>0.073362</td>\n",
              "      <td>0.255249</td>\n",
              "      <td>0.289794</td>\n",
              "      <td>0.067990</td>\n",
              "      <td>0.375570</td>\n",
              "      <td>0.095724</td>\n",
              "      <td>0.128286</td>\n",
              "    </tr>\n",
              "  </tbody>\n",
              "</table>\n",
              "</div>"
            ],
            "text/plain": [
              "           0         1         2         3         4         5         0\n",
              "id                                                                      \n",
              "1   0.042762  0.285083  0.178747  0.001814  0.064377  0.057277  0.061985\n",
              "2   0.057277  0.280663  0.209402  0.008767  0.186070  0.057277  0.073362\n",
              "3   0.057277  0.279558  0.242738  0.019991  0.289892  0.061985  0.095724\n",
              "4   0.061985  0.279558  0.270980  0.041160  0.364214  0.073362  0.117301\n",
              "5   0.073362  0.255249  0.289794  0.067990  0.375570  0.095724  0.128286"
            ]
          },
          "metadata": {
            "tags": []
          },
          "execution_count": 29
        }
      ]
    },
    {
      "cell_type": "code",
      "metadata": {
        "id": "El9LI-0UMi86",
        "colab_type": "code",
        "colab": {
          "base_uri": "https://localhost:8080/",
          "height": 34
        },
        "outputId": "4522ac27-2450-4f93-b70b-0010f08e1baf"
      },
      "source": [
        "values = arrDfWind.values\n",
        "trainSample = int(len(dataPredWindOutput)*0.8)\n",
        "train = values[: trainSample, :]\n",
        "test = values[trainSample:, :]\n",
        "XTrain, yTrain = train[:, :-1], train[:, -1]\n",
        "XTest, yTest = test[:,:-1], test[:, -1]\n",
        "XTrain.shape, yTrain.shape, XTest.shape, yTest.shape"
      ],
      "execution_count": 30,
      "outputs": [
        {
          "output_type": "execute_result",
          "data": {
            "text/plain": [
              "((13989, 6), (13989,), (3495, 6), (3495,))"
            ]
          },
          "metadata": {
            "tags": []
          },
          "execution_count": 30
        }
      ]
    },
    {
      "cell_type": "code",
      "metadata": {
        "id": "mr96m6zTMjDQ",
        "colab_type": "code",
        "colab": {
          "base_uri": "https://localhost:8080/",
          "height": 34
        },
        "outputId": "78b1a9e0-3c7f-4e0b-f168-c3eb071f0cde"
      },
      "source": [
        "XTrain = XTrain.reshape((XTrain.shape[0], 1, XTrain.shape[1]))\n",
        "XTest = XTest.reshape((XTest.shape[0], 1, XTest.shape[1]))\n",
        "XTrain.shape, yTrain.shape, XTest.shape, yTest.shape"
      ],
      "execution_count": 31,
      "outputs": [
        {
          "output_type": "execute_result",
          "data": {
            "text/plain": [
              "((13989, 1, 6), (13989,), (3495, 1, 6), (3495,))"
            ]
          },
          "metadata": {
            "tags": []
          },
          "execution_count": 31
        }
      ]
    },
    {
      "cell_type": "code",
      "metadata": {
        "id": "goDWzIldMjHr",
        "colab_type": "code",
        "colab": {
          "base_uri": "https://localhost:8080/",
          "height": 289
        },
        "outputId": "fbedcc15-078a-4744-ab69-85420cb9b23e"
      },
      "source": [
        "modelOne = Sequential()\n",
        "modelOne.add(LSTM(128, return_sequences = True, input_shape = (XTrain.shape[1], XTrain.shape[2])))\n",
        "modelOne.add(LSTM(units = 64, return_sequences=True))\n",
        "modelOne.add(LSTM(units = 32))\n",
        "modelOne.add(Dense(units = 1))\n",
        "modelOne.compile(loss = 'mae', optimizer = 'adam')\n",
        "modelOne.summary()"
      ],
      "execution_count": 32,
      "outputs": [
        {
          "output_type": "stream",
          "text": [
            "Model: \"sequential_2\"\n",
            "_________________________________________________________________\n",
            "Layer (type)                 Output Shape              Param #   \n",
            "=================================================================\n",
            "lstm_4 (LSTM)                (None, 1, 128)            69120     \n",
            "_________________________________________________________________\n",
            "lstm_5 (LSTM)                (None, 1, 64)             49408     \n",
            "_________________________________________________________________\n",
            "lstm_6 (LSTM)                (None, 32)                12416     \n",
            "_________________________________________________________________\n",
            "dense_2 (Dense)              (None, 1)                 33        \n",
            "=================================================================\n",
            "Total params: 130,977\n",
            "Trainable params: 130,977\n",
            "Non-trainable params: 0\n",
            "_________________________________________________________________\n"
          ],
          "name": "stdout"
        }
      ]
    },
    {
      "cell_type": "code",
      "metadata": {
        "id": "X_wsLWLXMjMn",
        "colab_type": "code",
        "colab": {
          "base_uri": "https://localhost:8080/",
          "height": 1000
        },
        "outputId": "38640297-222d-405e-dd22-ec609b086b28"
      },
      "source": [
        "history = modelOne.fit(XTrain, yTrain, epochs= 50, batch_size=32, validation_split = 0.2, shuffle = False)"
      ],
      "execution_count": 33,
      "outputs": [
        {
          "output_type": "stream",
          "text": [
            "Train on 11191 samples, validate on 2798 samples\n",
            "Epoch 1/50\n",
            "11191/11191 [==============================] - 3s 306us/step - loss: 0.0870 - val_loss: 0.0608\n",
            "Epoch 2/50\n",
            "11191/11191 [==============================] - 2s 189us/step - loss: 0.0584 - val_loss: 0.0558\n",
            "Epoch 3/50\n",
            "11191/11191 [==============================] - 2s 190us/step - loss: 0.0556 - val_loss: 0.0533\n",
            "Epoch 4/50\n",
            "11191/11191 [==============================] - 2s 196us/step - loss: 0.0532 - val_loss: 0.0524\n",
            "Epoch 5/50\n",
            "11191/11191 [==============================] - 2s 192us/step - loss: 0.0521 - val_loss: 0.0508\n",
            "Epoch 6/50\n",
            "11191/11191 [==============================] - 2s 189us/step - loss: 0.0511 - val_loss: 0.0521\n",
            "Epoch 7/50\n",
            "11191/11191 [==============================] - 2s 194us/step - loss: 0.0506 - val_loss: 0.0552\n",
            "Epoch 8/50\n",
            "11191/11191 [==============================] - 2s 193us/step - loss: 0.0501 - val_loss: 0.0545\n",
            "Epoch 9/50\n",
            "11191/11191 [==============================] - 2s 197us/step - loss: 0.0500 - val_loss: 0.0514\n",
            "Epoch 10/50\n",
            "11191/11191 [==============================] - 2s 193us/step - loss: 0.0496 - val_loss: 0.0537\n",
            "Epoch 11/50\n",
            "11191/11191 [==============================] - 2s 192us/step - loss: 0.0495 - val_loss: 0.0517\n",
            "Epoch 12/50\n",
            "11191/11191 [==============================] - 2s 196us/step - loss: 0.0494 - val_loss: 0.0525\n",
            "Epoch 13/50\n",
            "11191/11191 [==============================] - 2s 196us/step - loss: 0.0493 - val_loss: 0.0513\n",
            "Epoch 14/50\n",
            "11191/11191 [==============================] - 2s 193us/step - loss: 0.0493 - val_loss: 0.0515\n",
            "Epoch 15/50\n",
            "11191/11191 [==============================] - 2s 192us/step - loss: 0.0493 - val_loss: 0.0517\n",
            "Epoch 16/50\n",
            "11191/11191 [==============================] - 2s 193us/step - loss: 0.0491 - val_loss: 0.0513\n",
            "Epoch 17/50\n",
            "11191/11191 [==============================] - 2s 193us/step - loss: 0.0491 - val_loss: 0.0515\n",
            "Epoch 18/50\n",
            "11191/11191 [==============================] - 2s 188us/step - loss: 0.0491 - val_loss: 0.0515\n",
            "Epoch 19/50\n",
            "11191/11191 [==============================] - 2s 183us/step - loss: 0.0488 - val_loss: 0.0514\n",
            "Epoch 20/50\n",
            "11191/11191 [==============================] - 2s 178us/step - loss: 0.0488 - val_loss: 0.0517\n",
            "Epoch 21/50\n",
            "11191/11191 [==============================] - 2s 184us/step - loss: 0.0489 - val_loss: 0.0514\n",
            "Epoch 22/50\n",
            "11191/11191 [==============================] - 2s 177us/step - loss: 0.0488 - val_loss: 0.0514\n",
            "Epoch 23/50\n",
            "11191/11191 [==============================] - 2s 178us/step - loss: 0.0488 - val_loss: 0.0513\n",
            "Epoch 24/50\n",
            "11191/11191 [==============================] - 2s 179us/step - loss: 0.0487 - val_loss: 0.0521\n",
            "Epoch 25/50\n",
            "11191/11191 [==============================] - 2s 177us/step - loss: 0.0487 - val_loss: 0.0525\n",
            "Epoch 26/50\n",
            "11191/11191 [==============================] - 2s 183us/step - loss: 0.0487 - val_loss: 0.0512\n",
            "Epoch 27/50\n",
            "11191/11191 [==============================] - 2s 191us/step - loss: 0.0487 - val_loss: 0.0512\n",
            "Epoch 28/50\n",
            "11191/11191 [==============================] - 2s 195us/step - loss: 0.0485 - val_loss: 0.0509\n",
            "Epoch 29/50\n",
            "11191/11191 [==============================] - 2s 199us/step - loss: 0.0485 - val_loss: 0.0508\n",
            "Epoch 30/50\n",
            "11191/11191 [==============================] - 2s 192us/step - loss: 0.0484 - val_loss: 0.0509\n",
            "Epoch 31/50\n",
            "11191/11191 [==============================] - 2s 191us/step - loss: 0.0484 - val_loss: 0.0513\n",
            "Epoch 32/50\n",
            "11191/11191 [==============================] - 2s 190us/step - loss: 0.0484 - val_loss: 0.0510\n",
            "Epoch 33/50\n",
            "11191/11191 [==============================] - 2s 190us/step - loss: 0.0483 - val_loss: 0.0501\n",
            "Epoch 34/50\n",
            "11191/11191 [==============================] - 2s 185us/step - loss: 0.0482 - val_loss: 0.0507\n",
            "Epoch 35/50\n",
            "11191/11191 [==============================] - 2s 187us/step - loss: 0.0483 - val_loss: 0.0507\n",
            "Epoch 36/50\n",
            "11191/11191 [==============================] - 2s 186us/step - loss: 0.0483 - val_loss: 0.0505\n",
            "Epoch 37/50\n",
            "11191/11191 [==============================] - 2s 187us/step - loss: 0.0482 - val_loss: 0.0506\n",
            "Epoch 38/50\n",
            "11191/11191 [==============================] - 2s 190us/step - loss: 0.0483 - val_loss: 0.0503\n",
            "Epoch 39/50\n",
            "11191/11191 [==============================] - 2s 188us/step - loss: 0.0482 - val_loss: 0.0506\n",
            "Epoch 40/50\n",
            "11191/11191 [==============================] - 2s 183us/step - loss: 0.0481 - val_loss: 0.0505\n",
            "Epoch 41/50\n",
            "11191/11191 [==============================] - 2s 187us/step - loss: 0.0482 - val_loss: 0.0505\n",
            "Epoch 42/50\n",
            "11191/11191 [==============================] - 2s 186us/step - loss: 0.0482 - val_loss: 0.0503\n",
            "Epoch 43/50\n",
            "11191/11191 [==============================] - 2s 187us/step - loss: 0.0481 - val_loss: 0.0505\n",
            "Epoch 44/50\n",
            "11191/11191 [==============================] - 2s 187us/step - loss: 0.0481 - val_loss: 0.0503\n",
            "Epoch 45/50\n",
            "11191/11191 [==============================] - 2s 188us/step - loss: 0.0481 - val_loss: 0.0505\n",
            "Epoch 46/50\n",
            "11191/11191 [==============================] - 2s 193us/step - loss: 0.0481 - val_loss: 0.0502\n",
            "Epoch 47/50\n",
            "11191/11191 [==============================] - 2s 196us/step - loss: 0.0479 - val_loss: 0.0502\n",
            "Epoch 48/50\n",
            "11191/11191 [==============================] - 2s 193us/step - loss: 0.0480 - val_loss: 0.0501\n",
            "Epoch 49/50\n",
            "11191/11191 [==============================] - 2s 190us/step - loss: 0.0480 - val_loss: 0.0503\n",
            "Epoch 50/50\n",
            "11191/11191 [==============================] - 2s 190us/step - loss: 0.0480 - val_loss: 0.0503\n"
          ],
          "name": "stdout"
        }
      ]
    },
    {
      "cell_type": "code",
      "metadata": {
        "id": "fJsH_unHMjS0",
        "colab_type": "code",
        "colab": {
          "base_uri": "https://localhost:8080/",
          "height": 68
        },
        "outputId": "d1163c75-0118-4088-dd42-b765c70710fb"
      },
      "source": [
        "#Making predictions\n",
        "yPred = modelOne.predict(XTest)\n",
        "XTest = XTest.reshape((XTest.shape[0],XTest.shape[2]))\n",
        "invyPred = np.concatenate((yPred, XTest[:, 1:]), axis = 1)\n",
        "invyPred = scalerTwo.inverse_transform(invyPred)\n",
        "invyPred = invyPred[:, 0]\n",
        "\n",
        "yTest = yTest.reshape((len(yTest), 1))\n",
        "invyTest = np.concatenate((yTest, XTest[:, 1:]), axis = 1)\n",
        "invyTest = scalerTwo.inverse_transform(invyTest)\n",
        "invyTest = invyTest[:, 0]\n",
        "\n",
        "print(f'Mean absolute error {mean_absolute_error(invyTest, invyPred)}')\n",
        "print(f'Mean squared error {mean_squared_error(invyTest, invyPred)}')\n",
        "print(f'R2_Score {r2_score(invyTest, invyPred)}')"
      ],
      "execution_count": 34,
      "outputs": [
        {
          "output_type": "stream",
          "text": [
            "Mean absolute error 107.48180423247307\n",
            "Mean squared error 28092.957266278256\n",
            "R2_Score 0.9295892880774494\n"
          ],
          "name": "stdout"
        }
      ]
    },
    {
      "cell_type": "code",
      "metadata": {
        "id": "HOt2n2MaMjYV",
        "colab_type": "code",
        "colab": {
          "base_uri": "https://localhost:8080/",
          "height": 282
        },
        "outputId": "7d2c6835-7b88-480d-8e1a-39962460153f"
      },
      "source": [
        "plt.plot(invyTest[:1000])\n",
        "plt.plot(invyPred[:1000])"
      ],
      "execution_count": 35,
      "outputs": [
        {
          "output_type": "execute_result",
          "data": {
            "text/plain": [
              "[<matplotlib.lines.Line2D at 0x7f91998e6a58>]"
            ]
          },
          "metadata": {
            "tags": []
          },
          "execution_count": 35
        },
        {
          "output_type": "display_data",
          "data": {
            "image/png": "[encoded data removed]",
            "text/plain": [
              "<Figure size 432x288 with 1 Axes>"
            ]
          },
          "metadata": {
            "tags": [],
            "needs_background": "light"
          }
        }
      ]
    },
    {
      "cell_type": "markdown",
      "metadata": {
        "id": "nPmsz5kAI9cZ",
        "colab_type": "text"
      },
      "source": [
        "# Demand forecasting model\n",
        "\n"
      ]
    },
    {
      "cell_type": "code",
      "metadata": {
        "id": "2G8yjUffI9im",
        "colab_type": "code",
        "colab": {
          "base_uri": "https://localhost:8080/",
          "height": 306
        },
        "outputId": "ea1f601e-95ec-4b11-f03c-85e6e8b64786"
      },
      "source": [
        "#Selecting the feature variables and target variables for a Multivariate LSTM\n",
        "dataPredDemand = dataRequired[['AT_load_actual_entsoe_power_statistics', 'AT_windspeed_10m', 'AT_temperature', 'AT_radiation_direct_horizontal', 'AT_radiation_diffuse_horizontal']]\n",
        "dataPredDemand['pred'] = dataPredDemand['AT_load_actual_entsoe_power_statistics'].shift(-1)\n",
        "dataPredDemand = dataPredDemand.dropna()\n",
        "dataPredDemand.head()"
      ],
      "execution_count": 36,
      "outputs": [
        {
          "output_type": "stream",
          "text": [
            "/usr/local/lib/python3.6/dist-packages/ipykernel_launcher.py:3: SettingWithCopyWarning: \n",
            "A value is trying to be set on a copy of a slice from a DataFrame.\n",
            "Try using .loc[row_indexer,col_indexer] = value instead\n",
            "\n",
            "See the caveats in the documentation: https://pandas.pydata.org/pandas-docs/stable/user_guide/indexing.html#returning-a-view-versus-a-copy\n",
            "  This is separate from the ipykernel package so we can avoid doing imports until\n"
          ],
          "name": "stderr"
        },
        {
          "output_type": "execute_result",
          "data": {
            "text/html": [
              "<div>\n",
              "<style scoped>\n",
              "    .dataframe tbody tr th:only-of-type {\n",
              "        vertical-align: middle;\n",
              "    }\n",
              "\n",
              "    .dataframe tbody tr th {\n",
              "        vertical-align: top;\n",
              "    }\n",
              "\n",
              "    .dataframe thead th {\n",
              "        text-align: right;\n",
              "    }\n",
              "</style>\n",
              "<table border=\"1\" class=\"dataframe\">\n",
              "  <thead>\n",
              "    <tr style=\"text-align: right;\">\n",
              "      <th></th>\n",
              "      <th>AT_load_actual_entsoe_power_statistics</th>\n",
              "      <th>AT_windspeed_10m</th>\n",
              "      <th>AT_temperature</th>\n",
              "      <th>AT_radiation_direct_horizontal</th>\n",
              "      <th>AT_radiation_diffuse_horizontal</th>\n",
              "      <th>pred</th>\n",
              "    </tr>\n",
              "  </thead>\n",
              "  <tbody>\n",
              "    <tr>\n",
              "      <th>0</th>\n",
              "      <td>7035.0</td>\n",
              "      <td>3.27</td>\n",
              "      <td>-4.179</td>\n",
              "      <td>1.5614</td>\n",
              "      <td>25.9639</td>\n",
              "      <td>7394.0</td>\n",
              "    </tr>\n",
              "    <tr>\n",
              "      <th>1</th>\n",
              "      <td>7394.0</td>\n",
              "      <td>3.23</td>\n",
              "      <td>-2.807</td>\n",
              "      <td>7.5467</td>\n",
              "      <td>75.0443</td>\n",
              "      <td>7770.0</td>\n",
              "    </tr>\n",
              "    <tr>\n",
              "      <th>2</th>\n",
              "      <td>7770.0</td>\n",
              "      <td>3.22</td>\n",
              "      <td>-1.315</td>\n",
              "      <td>17.2073</td>\n",
              "      <td>116.9171</td>\n",
              "      <td>7820.0</td>\n",
              "    </tr>\n",
              "    <tr>\n",
              "      <th>3</th>\n",
              "      <td>7820.0</td>\n",
              "      <td>3.22</td>\n",
              "      <td>-0.051</td>\n",
              "      <td>35.4289</td>\n",
              "      <td>146.8923</td>\n",
              "      <td>7694.0</td>\n",
              "    </tr>\n",
              "    <tr>\n",
              "      <th>4</th>\n",
              "      <td>7694.0</td>\n",
              "      <td>3.00</td>\n",
              "      <td>0.791</td>\n",
              "      <td>58.5238</td>\n",
              "      <td>151.4721</td>\n",
              "      <td>7565.0</td>\n",
              "    </tr>\n",
              "  </tbody>\n",
              "</table>\n",
              "</div>"
            ],
            "text/plain": [
              "   AT_load_actual_entsoe_power_statistics  ...    pred\n",
              "0                                  7035.0  ...  7394.0\n",
              "1                                  7394.0  ...  7770.0\n",
              "2                                  7770.0  ...  7820.0\n",
              "3                                  7820.0  ...  7694.0\n",
              "4                                  7694.0  ...  7565.0\n",
              "\n",
              "[5 rows x 6 columns]"
            ]
          },
          "metadata": {
            "tags": []
          },
          "execution_count": 36
        }
      ]
    },
    {
      "cell_type": "code",
      "metadata": {
        "id": "GXhErqcBI9qV",
        "colab_type": "code",
        "colab": {
          "base_uri": "https://localhost:8080/",
          "height": 204
        },
        "outputId": "f770c171-70bc-4823-a3ee-cd63cced3996"
      },
      "source": [
        "scalerThree = MinMaxScaler(feature_range=(0,1))\n",
        "demandScaled = scalerThree.fit_transform(dataPredDemand.values)\n",
        "demandScaled = pd.DataFrame(windScaled)\n",
        "demandScaled.head()"
      ],
      "execution_count": 37,
      "outputs": [
        {
          "output_type": "execute_result",
          "data": {
            "text/html": [
              "<div>\n",
              "<style scoped>\n",
              "    .dataframe tbody tr th:only-of-type {\n",
              "        vertical-align: middle;\n",
              "    }\n",
              "\n",
              "    .dataframe tbody tr th {\n",
              "        vertical-align: top;\n",
              "    }\n",
              "\n",
              "    .dataframe thead th {\n",
              "        text-align: right;\n",
              "    }\n",
              "</style>\n",
              "<table border=\"1\" class=\"dataframe\">\n",
              "  <thead>\n",
              "    <tr style=\"text-align: right;\">\n",
              "      <th></th>\n",
              "      <th>0</th>\n",
              "      <th>1</th>\n",
              "      <th>2</th>\n",
              "      <th>3</th>\n",
              "      <th>4</th>\n",
              "      <th>5</th>\n",
              "    </tr>\n",
              "  </thead>\n",
              "  <tbody>\n",
              "    <tr>\n",
              "      <th>0</th>\n",
              "      <td>0.042762</td>\n",
              "      <td>0.285083</td>\n",
              "      <td>0.178747</td>\n",
              "      <td>0.001814</td>\n",
              "      <td>0.064377</td>\n",
              "      <td>0.057277</td>\n",
              "    </tr>\n",
              "    <tr>\n",
              "      <th>1</th>\n",
              "      <td>0.057277</td>\n",
              "      <td>0.280663</td>\n",
              "      <td>0.209402</td>\n",
              "      <td>0.008767</td>\n",
              "      <td>0.186070</td>\n",
              "      <td>0.057277</td>\n",
              "    </tr>\n",
              "    <tr>\n",
              "      <th>2</th>\n",
              "      <td>0.057277</td>\n",
              "      <td>0.279558</td>\n",
              "      <td>0.242738</td>\n",
              "      <td>0.019991</td>\n",
              "      <td>0.289892</td>\n",
              "      <td>0.061985</td>\n",
              "    </tr>\n",
              "    <tr>\n",
              "      <th>3</th>\n",
              "      <td>0.061985</td>\n",
              "      <td>0.279558</td>\n",
              "      <td>0.270980</td>\n",
              "      <td>0.041160</td>\n",
              "      <td>0.364214</td>\n",
              "      <td>0.073362</td>\n",
              "    </tr>\n",
              "    <tr>\n",
              "      <th>4</th>\n",
              "      <td>0.073362</td>\n",
              "      <td>0.255249</td>\n",
              "      <td>0.289794</td>\n",
              "      <td>0.067990</td>\n",
              "      <td>0.375570</td>\n",
              "      <td>0.095724</td>\n",
              "    </tr>\n",
              "  </tbody>\n",
              "</table>\n",
              "</div>"
            ],
            "text/plain": [
              "          0         1         2         3         4         5\n",
              "0  0.042762  0.285083  0.178747  0.001814  0.064377  0.057277\n",
              "1  0.057277  0.280663  0.209402  0.008767  0.186070  0.057277\n",
              "2  0.057277  0.279558  0.242738  0.019991  0.289892  0.061985\n",
              "3  0.061985  0.279558  0.270980  0.041160  0.364214  0.073362\n",
              "4  0.073362  0.255249  0.289794  0.067990  0.375570  0.095724"
            ]
          },
          "metadata": {
            "tags": []
          },
          "execution_count": 37
        }
      ]
    },
    {
      "cell_type": "code",
      "metadata": {
        "id": "SZ9jCYq9I9vZ",
        "colab_type": "code",
        "colab": {
          "base_uri": "https://localhost:8080/",
          "height": 235
        },
        "outputId": "d354cc49-b8db-4049-a23d-7455da5bce2d"
      },
      "source": [
        "arrDfDemand = seriesToSupervised(demandScaled, 3, 0)\n",
        "arrDfDemand.fillna(0, inplace = True)\n",
        "arrDfDemand.head()"
      ],
      "execution_count": 38,
      "outputs": [
        {
          "output_type": "execute_result",
          "data": {
            "text/html": [
              "<div>\n",
              "<style scoped>\n",
              "    .dataframe tbody tr th:only-of-type {\n",
              "        vertical-align: middle;\n",
              "    }\n",
              "\n",
              "    .dataframe tbody tr th {\n",
              "        vertical-align: top;\n",
              "    }\n",
              "\n",
              "    .dataframe thead th {\n",
              "        text-align: right;\n",
              "    }\n",
              "</style>\n",
              "<table border=\"1\" class=\"dataframe\">\n",
              "  <thead>\n",
              "    <tr style=\"text-align: right;\">\n",
              "      <th></th>\n",
              "      <th>0</th>\n",
              "      <th>1</th>\n",
              "      <th>2</th>\n",
              "      <th>3</th>\n",
              "      <th>4</th>\n",
              "      <th>5</th>\n",
              "      <th>0</th>\n",
              "    </tr>\n",
              "    <tr>\n",
              "      <th>id</th>\n",
              "      <th></th>\n",
              "      <th></th>\n",
              "      <th></th>\n",
              "      <th></th>\n",
              "      <th></th>\n",
              "      <th></th>\n",
              "      <th></th>\n",
              "    </tr>\n",
              "  </thead>\n",
              "  <tbody>\n",
              "    <tr>\n",
              "      <th>1</th>\n",
              "      <td>0.042762</td>\n",
              "      <td>0.285083</td>\n",
              "      <td>0.178747</td>\n",
              "      <td>0.001814</td>\n",
              "      <td>0.064377</td>\n",
              "      <td>0.057277</td>\n",
              "      <td>0.061985</td>\n",
              "    </tr>\n",
              "    <tr>\n",
              "      <th>2</th>\n",
              "      <td>0.057277</td>\n",
              "      <td>0.280663</td>\n",
              "      <td>0.209402</td>\n",
              "      <td>0.008767</td>\n",
              "      <td>0.186070</td>\n",
              "      <td>0.057277</td>\n",
              "      <td>0.073362</td>\n",
              "    </tr>\n",
              "    <tr>\n",
              "      <th>3</th>\n",
              "      <td>0.057277</td>\n",
              "      <td>0.279558</td>\n",
              "      <td>0.242738</td>\n",
              "      <td>0.019991</td>\n",
              "      <td>0.289892</td>\n",
              "      <td>0.061985</td>\n",
              "      <td>0.095724</td>\n",
              "    </tr>\n",
              "    <tr>\n",
              "      <th>4</th>\n",
              "      <td>0.061985</td>\n",
              "      <td>0.279558</td>\n",
              "      <td>0.270980</td>\n",
              "      <td>0.041160</td>\n",
              "      <td>0.364214</td>\n",
              "      <td>0.073362</td>\n",
              "      <td>0.117301</td>\n",
              "    </tr>\n",
              "    <tr>\n",
              "      <th>5</th>\n",
              "      <td>0.073362</td>\n",
              "      <td>0.255249</td>\n",
              "      <td>0.289794</td>\n",
              "      <td>0.067990</td>\n",
              "      <td>0.375570</td>\n",
              "      <td>0.095724</td>\n",
              "      <td>0.128286</td>\n",
              "    </tr>\n",
              "  </tbody>\n",
              "</table>\n",
              "</div>"
            ],
            "text/plain": [
              "           0         1         2         3         4         5         0\n",
              "id                                                                      \n",
              "1   0.042762  0.285083  0.178747  0.001814  0.064377  0.057277  0.061985\n",
              "2   0.057277  0.280663  0.209402  0.008767  0.186070  0.057277  0.073362\n",
              "3   0.057277  0.279558  0.242738  0.019991  0.289892  0.061985  0.095724\n",
              "4   0.061985  0.279558  0.270980  0.041160  0.364214  0.073362  0.117301\n",
              "5   0.073362  0.255249  0.289794  0.067990  0.375570  0.095724  0.128286"
            ]
          },
          "metadata": {
            "tags": []
          },
          "execution_count": 38
        }
      ]
    },
    {
      "cell_type": "code",
      "metadata": {
        "id": "Uk5iCoOGI92R",
        "colab_type": "code",
        "colab": {
          "base_uri": "https://localhost:8080/",
          "height": 34
        },
        "outputId": "b3d0d862-5803-4a30-85e0-1f494919397c"
      },
      "source": [
        "values = arrDfDemand.values\n",
        "trainSample = int(len(dataPredDemand)*0.8)\n",
        "train = values[: trainSample, :]\n",
        "test = values[trainSample:, :]\n",
        "XTrain, yTrain = train[:, :-1], train[:, -1]\n",
        "XTest, yTest = test[:,:-1], test[:, -1]\n",
        "XTrain.shape, yTrain.shape, XTest.shape, yTest.shape"
      ],
      "execution_count": 39,
      "outputs": [
        {
          "output_type": "execute_result",
          "data": {
            "text/plain": [
              "((13989, 6), (13989,), (3495, 6), (3495,))"
            ]
          },
          "metadata": {
            "tags": []
          },
          "execution_count": 39
        }
      ]
    },
    {
      "cell_type": "code",
      "metadata": {
        "id": "aX7knJAtI98c",
        "colab_type": "code",
        "colab": {
          "base_uri": "https://localhost:8080/",
          "height": 34
        },
        "outputId": "ce0d6b49-b7b0-4d6f-a5a3-e2eb299666a6"
      },
      "source": [
        "XTrain = XTrain.reshape((XTrain.shape[0], 1, XTrain.shape[1]))\n",
        "XTest = XTest.reshape((XTest.shape[0], 1, XTest.shape[1]))\n",
        "XTrain.shape, yTrain.shape, XTest.shape, yTest.shape"
      ],
      "execution_count": 40,
      "outputs": [
        {
          "output_type": "execute_result",
          "data": {
            "text/plain": [
              "((13989, 1, 6), (13989,), (3495, 1, 6), (3495,))"
            ]
          },
          "metadata": {
            "tags": []
          },
          "execution_count": 40
        }
      ]
    },
    {
      "cell_type": "code",
      "metadata": {
        "id": "6Z6OL9XpI-C0",
        "colab_type": "code",
        "colab": {
          "base_uri": "https://localhost:8080/",
          "height": 289
        },
        "outputId": "376213ff-ebbe-4810-f266-9f3218751f50"
      },
      "source": [
        "modelTwo = Sequential()\n",
        "modelTwo.add(LSTM(75, return_sequences = True, input_shape = (XTrain.shape[1], XTrain.shape[2])))\n",
        "modelTwo.add(LSTM(units = 50, return_sequences=True))\n",
        "modelTwo.add(LSTM(units = 30))\n",
        "modelTwo.add(Dense(units = 1))\n",
        "modelTwo.compile(loss = 'mae', optimizer = 'adam')\n",
        "modelTwo.summary()"
      ],
      "execution_count": 41,
      "outputs": [
        {
          "output_type": "stream",
          "text": [
            "Model: \"sequential_3\"\n",
            "_________________________________________________________________\n",
            "Layer (type)                 Output Shape              Param #   \n",
            "=================================================================\n",
            "lstm_7 (LSTM)                (None, 1, 75)             24600     \n",
            "_________________________________________________________________\n",
            "lstm_8 (LSTM)                (None, 1, 50)             25200     \n",
            "_________________________________________________________________\n",
            "lstm_9 (LSTM)                (None, 30)                9720      \n",
            "_________________________________________________________________\n",
            "dense_3 (Dense)              (None, 1)                 31        \n",
            "=================================================================\n",
            "Total params: 59,551\n",
            "Trainable params: 59,551\n",
            "Non-trainable params: 0\n",
            "_________________________________________________________________\n"
          ],
          "name": "stdout"
        }
      ]
    },
    {
      "cell_type": "code",
      "metadata": {
        "id": "P8dF_np9I-JE",
        "colab_type": "code",
        "colab": {
          "base_uri": "https://localhost:8080/",
          "height": 1000
        },
        "outputId": "c33c40c4-df65-45dc-fea6-b7358a01736a"
      },
      "source": [
        "history = modelTwo.fit(XTrain, yTrain, epochs= 50, batch_size=32, validation_split = 0.2, shuffle = False)"
      ],
      "execution_count": 42,
      "outputs": [
        {
          "output_type": "stream",
          "text": [
            "Train on 11191 samples, validate on 2798 samples\n",
            "Epoch 1/50\n",
            "11191/11191 [==============================] - 3s 277us/step - loss: 0.0928 - val_loss: 0.0614\n",
            "Epoch 2/50\n",
            "11191/11191 [==============================] - 2s 165us/step - loss: 0.0588 - val_loss: 0.0572\n",
            "Epoch 3/50\n",
            "11191/11191 [==============================] - 2s 157us/step - loss: 0.0560 - val_loss: 0.0547\n",
            "Epoch 4/50\n",
            "11191/11191 [==============================] - 2s 152us/step - loss: 0.0542 - val_loss: 0.0532\n",
            "Epoch 5/50\n",
            "11191/11191 [==============================] - 2s 157us/step - loss: 0.0522 - val_loss: 0.0516\n",
            "Epoch 6/50\n",
            "11191/11191 [==============================] - 2s 155us/step - loss: 0.0509 - val_loss: 0.0508\n",
            "Epoch 7/50\n",
            "11191/11191 [==============================] - 2s 156us/step - loss: 0.0501 - val_loss: 0.0522\n",
            "Epoch 8/50\n",
            "11191/11191 [==============================] - 2s 157us/step - loss: 0.0498 - val_loss: 0.0523\n",
            "Epoch 9/50\n",
            "11191/11191 [==============================] - 2s 158us/step - loss: 0.0496 - val_loss: 0.0511\n",
            "Epoch 10/50\n",
            "11191/11191 [==============================] - 2s 168us/step - loss: 0.0494 - val_loss: 0.0503\n",
            "Epoch 11/50\n",
            "11191/11191 [==============================] - 2s 165us/step - loss: 0.0491 - val_loss: 0.0510\n",
            "Epoch 12/50\n",
            "11191/11191 [==============================] - 2s 163us/step - loss: 0.0489 - val_loss: 0.0505\n",
            "Epoch 13/50\n",
            "11191/11191 [==============================] - 2s 156us/step - loss: 0.0488 - val_loss: 0.0506\n",
            "Epoch 14/50\n",
            "11191/11191 [==============================] - 2s 150us/step - loss: 0.0488 - val_loss: 0.0506\n",
            "Epoch 15/50\n",
            "11191/11191 [==============================] - 2s 150us/step - loss: 0.0486 - val_loss: 0.0505\n",
            "Epoch 16/50\n",
            "11191/11191 [==============================] - 2s 149us/step - loss: 0.0485 - val_loss: 0.0508\n",
            "Epoch 17/50\n",
            "11191/11191 [==============================] - 2s 147us/step - loss: 0.0485 - val_loss: 0.0504\n",
            "Epoch 18/50\n",
            "11191/11191 [==============================] - 2s 147us/step - loss: 0.0485 - val_loss: 0.0511\n",
            "Epoch 19/50\n",
            "11191/11191 [==============================] - 2s 159us/step - loss: 0.0484 - val_loss: 0.0507\n",
            "Epoch 20/50\n",
            "11191/11191 [==============================] - 2s 155us/step - loss: 0.0485 - val_loss: 0.0504\n",
            "Epoch 21/50\n",
            "11191/11191 [==============================] - 2s 149us/step - loss: 0.0482 - val_loss: 0.0503\n",
            "Epoch 22/50\n",
            "11191/11191 [==============================] - 2s 151us/step - loss: 0.0484 - val_loss: 0.0506\n",
            "Epoch 23/50\n",
            "11191/11191 [==============================] - 2s 150us/step - loss: 0.0482 - val_loss: 0.0504\n",
            "Epoch 24/50\n",
            "11191/11191 [==============================] - 2s 150us/step - loss: 0.0483 - val_loss: 0.0507\n",
            "Epoch 25/50\n",
            "11191/11191 [==============================] - 2s 149us/step - loss: 0.0482 - val_loss: 0.0507\n",
            "Epoch 26/50\n",
            "11191/11191 [==============================] - 2s 147us/step - loss: 0.0483 - val_loss: 0.0504\n",
            "Epoch 27/50\n",
            "11191/11191 [==============================] - 2s 156us/step - loss: 0.0483 - val_loss: 0.0508\n",
            "Epoch 28/50\n",
            "11191/11191 [==============================] - 2s 151us/step - loss: 0.0482 - val_loss: 0.0507\n",
            "Epoch 29/50\n",
            "11191/11191 [==============================] - 2s 146us/step - loss: 0.0483 - val_loss: 0.0505\n",
            "Epoch 30/50\n",
            "11191/11191 [==============================] - 2s 149us/step - loss: 0.0481 - val_loss: 0.0501\n",
            "Epoch 31/50\n",
            "11191/11191 [==============================] - 2s 152us/step - loss: 0.0481 - val_loss: 0.0504\n",
            "Epoch 32/50\n",
            "11191/11191 [==============================] - 2s 152us/step - loss: 0.0482 - val_loss: 0.0501\n",
            "Epoch 33/50\n",
            "11191/11191 [==============================] - 2s 156us/step - loss: 0.0481 - val_loss: 0.0502\n",
            "Epoch 34/50\n",
            "11191/11191 [==============================] - 2s 157us/step - loss: 0.0481 - val_loss: 0.0501\n",
            "Epoch 35/50\n",
            "11191/11191 [==============================] - 2s 159us/step - loss: 0.0481 - val_loss: 0.0502\n",
            "Epoch 36/50\n",
            "11191/11191 [==============================] - 2s 157us/step - loss: 0.0480 - val_loss: 0.0503\n",
            "Epoch 37/50\n",
            "11191/11191 [==============================] - 2s 160us/step - loss: 0.0480 - val_loss: 0.0502\n",
            "Epoch 38/50\n",
            "11191/11191 [==============================] - 2s 158us/step - loss: 0.0480 - val_loss: 0.0503\n",
            "Epoch 39/50\n",
            "11191/11191 [==============================] - 2s 162us/step - loss: 0.0480 - val_loss: 0.0501\n",
            "Epoch 40/50\n",
            "11191/11191 [==============================] - 2s 162us/step - loss: 0.0480 - val_loss: 0.0500\n",
            "Epoch 41/50\n",
            "11191/11191 [==============================] - 2s 160us/step - loss: 0.0479 - val_loss: 0.0499\n",
            "Epoch 42/50\n",
            "11191/11191 [==============================] - 2s 157us/step - loss: 0.0480 - val_loss: 0.0499\n",
            "Epoch 43/50\n",
            "11191/11191 [==============================] - 2s 158us/step - loss: 0.0479 - val_loss: 0.0499\n",
            "Epoch 44/50\n",
            "11191/11191 [==============================] - 2s 163us/step - loss: 0.0478 - val_loss: 0.0498\n",
            "Epoch 45/50\n",
            "11191/11191 [==============================] - 2s 167us/step - loss: 0.0479 - val_loss: 0.0502\n",
            "Epoch 46/50\n",
            "11191/11191 [==============================] - 2s 168us/step - loss: 0.0479 - val_loss: 0.0499\n",
            "Epoch 47/50\n",
            "11191/11191 [==============================] - 2s 160us/step - loss: 0.0478 - val_loss: 0.0500\n",
            "Epoch 48/50\n",
            "11191/11191 [==============================] - 2s 165us/step - loss: 0.0478 - val_loss: 0.0501\n",
            "Epoch 49/50\n",
            "11191/11191 [==============================] - 2s 157us/step - loss: 0.0479 - val_loss: 0.0501\n",
            "Epoch 50/50\n",
            "11191/11191 [==============================] - 2s 160us/step - loss: 0.0478 - val_loss: 0.0500\n"
          ],
          "name": "stdout"
        }
      ]
    },
    {
      "cell_type": "code",
      "metadata": {
        "id": "UXARNmWgI-P5",
        "colab_type": "code",
        "colab": {
          "base_uri": "https://localhost:8080/",
          "height": 68
        },
        "outputId": "2987b138-c352-4eec-8d85-4ce38e400ec8"
      },
      "source": [
        "#Making predictions\n",
        "yPred = modelTwo.predict(XTest)\n",
        "XTest = XTest.reshape((XTest.shape[0],XTest.shape[2]))\n",
        "invyPred = np.concatenate((yPred, XTest[:, 1:]), axis = 1)\n",
        "invyPred = scalerThree.inverse_transform(invyPred)\n",
        "invyPred = invyPred[:, 0]\n",
        "\n",
        "yTest = yTest.reshape((len(yTest), 1))\n",
        "invyTest = np.concatenate((yTest, XTest[:, 1:]), axis = 1)\n",
        "invyTest = scalerThree.inverse_transform(invyTest)\n",
        "invyTest = invyTest[:, 0]\n",
        "\n",
        "print(f'Mean absolute error {mean_absolute_error(invyTest, invyPred)}')\n",
        "print(f'Mean squared error {mean_squared_error(invyTest, invyPred)}')\n",
        "print(f'R2_Score {r2_score(invyTest, invyPred)}')"
      ],
      "execution_count": 43,
      "outputs": [
        {
          "output_type": "stream",
          "text": [
            "Mean absolute error 296.36897689345477\n",
            "Mean squared error 214199.11260666736\n",
            "R2_Score 0.9300967715330862\n"
          ],
          "name": "stdout"
        }
      ]
    },
    {
      "cell_type": "code",
      "metadata": {
        "id": "1WjauTNhI-WB",
        "colab_type": "code",
        "colab": {
          "base_uri": "https://localhost:8080/",
          "height": 282
        },
        "outputId": "3b3832ae-41de-40f8-ae65-832ed8dc794a"
      },
      "source": [
        "plt.plot(invyPred[:1000])\n",
        "plt.plot(invyTest[:1000])"
      ],
      "execution_count": 44,
      "outputs": [
        {
          "output_type": "execute_result",
          "data": {
            "text/plain": [
              "[<matplotlib.lines.Line2D at 0x7f9199130eb8>]"
            ]
          },
          "metadata": {
            "tags": []
          },
          "execution_count": 44
        },
        {
          "output_type": "display_data",
          "data": {
            "image/png": "[encoded data removed]",
            "text/plain": [
              "<Figure size 432x288 with 1 Axes>"
            ]
          },
          "metadata": {
            "tags": [],
            "needs_background": "light"
          }
        }
      ]
    },
    {
      "cell_type": "markdown",
      "metadata": {
        "id": "2CpzLa-OORVf",
        "colab_type": "text"
      },
      "source": [
        "# Uplaoding the model parameters to drive\n"
      ]
    },
    {
      "cell_type": "code",
      "metadata": {
        "id": "Mzdvb_7hI-dk",
        "colab_type": "code",
        "colab": {
          "base_uri": "https://localhost:8080/",
          "height": 122
        },
        "outputId": "b8989a07-aa58-40ef-84d3-cfdb31c4a0d5"
      },
      "source": [
        "from google.colab import drive\n",
        "drive.mount('/content/drive')"
      ],
      "execution_count": 45,
      "outputs": [
        {
          "output_type": "stream",
          "text": [
            "Go to this URL in a browser: https://accounts.google.com/o/oauth2/auth?client_id=947318989803-6bn6qk8qdgf4n4g3pfee6491hc0brc4i.apps.googleusercontent.com&redirect_uri=urn%3aietf%3awg%3aoauth%3a2.0%3aoob&response_type=code&scope=email%20https%3a%2f%2fwww.googleapis.com%2fauth%2fdocs.test%20https%3a%2f%2fwww.googleapis.com%2fauth%2fdrive%20https%3a%2f%2fwww.googleapis.com%2fauth%2fdrive.photos.readonly%20https%3a%2f%2fwww.googleapis.com%2fauth%2fpeopleapi.readonly\n",
            "\n",
            "Enter your authorization code:\n",
            "··········\n",
            "Mounted at /content/drive\n"
          ],
          "name": "stdout"
        }
      ]
    },
    {
      "cell_type": "code",
      "metadata": {
        "id": "u7ro4nTbI-jv",
        "colab_type": "code",
        "colab": {}
      },
      "source": [
        "model.save('/content/drive/My Drive/SolarEnergyGenerationForecasting.h5')"
      ],
      "execution_count": 46,
      "outputs": []
    },
    {
      "cell_type": "code",
      "metadata": {
        "id": "1y8CZhNTI-p9",
        "colab_type": "code",
        "colab": {}
      },
      "source": [
        "modelOne.save('/content/drive/My Drive/WinEnergyGenerationForecasting.h5')"
      ],
      "execution_count": 47,
      "outputs": []
    },
    {
      "cell_type": "code",
      "metadata": {
        "id": "u5FqbiiSI-w1",
        "colab_type": "code",
        "colab": {}
      },
      "source": [
        "modelTwo.save('/content/drive/My Drive/DemandForecasting.h5')"
      ],
      "execution_count": 48,
      "outputs": []
    },
    {
      "cell_type": "code",
      "metadata": {
        "id": "wZRSkWcOI-39",
        "colab_type": "code",
        "colab": {}
      },
      "source": [
        ""
      ],
      "execution_count": null,
      "outputs": []
    },
    {
      "cell_type": "code",
      "metadata": {
        "id": "JnUk1bzvI-9u",
        "colab_type": "code",
        "colab": {}
      },
      "source": [
        ""
      ],
      "execution_count": null,
      "outputs": []
    },
    {
      "cell_type": "code",
      "metadata": {
        "id": "blcIUKi8I_EZ",
        "colab_type": "code",
        "colab": {}
      },
      "source": [
        ""
      ],
      "execution_count": null,
      "outputs": []
    },
    {
      "cell_type": "code",
      "metadata": {
        "id": "HOe1302mI_Kz",
        "colab_type": "code",
        "colab": {}
      },
      "source": [
        ""
      ],
      "execution_count": null,
      "outputs": []
    },
    {
      "cell_type": "code",
      "metadata": {
        "id": "w2jv8-CqI_R3",
        "colab_type": "code",
        "colab": {}
      },
      "source": [
        ""
      ],
      "execution_count": null,
      "outputs": []
    },
    {
      "cell_type": "code",
      "metadata": {
        "id": "La0v3bY7I_Ya",
        "colab_type": "code",
        "colab": {}
      },
      "source": [
        ""
      ],
      "execution_count": null,
      "outputs": []
    },
    {
      "cell_type": "code",
      "metadata": {
        "id": "269aCzVHI_f7",
        "colab_type": "code",
        "colab": {}
      },
      "source": [
        ""
      ],
      "execution_count": null,
      "outputs": []
    },
    {
      "cell_type": "code",
      "metadata": {
        "id": "ZgCw-0KbI_mS",
        "colab_type": "code",
        "colab": {}
      },
      "source": [
        ""
      ],
      "execution_count": null,
      "outputs": []
    },
    {
      "cell_type": "code",
      "metadata": {
        "id": "v9YZKmGJI_tO",
        "colab_type": "code",
        "colab": {}
      },
      "source": [
        ""
      ],
      "execution_count": null,
      "outputs": []
    },
    {
      "cell_type": "code",
      "metadata": {
        "id": "LgQnLZZII_zX",
        "colab_type": "code",
        "colab": {}
      },
      "source": [
        ""
      ],
      "execution_count": null,
      "outputs": []
    },
    {
      "cell_type": "code",
      "metadata": {
        "id": "KaGNzFlEI_6C",
        "colab_type": "code",
        "colab": {}
      },
      "source": [
        ""
      ],
      "execution_count": null,
      "outputs": []
    },
    {
      "cell_type": "code",
      "metadata": {
        "id": "9Q7Mji7jJABX",
        "colab_type": "code",
        "colab": {}
      },
      "source": [
        ""
      ],
      "execution_count": null,
      "outputs": []
    },
    {
      "cell_type": "code",
      "metadata": {
        "id": "czvHwqvNJAJi",
        "colab_type": "code",
        "colab": {}
      },
      "source": [
        ""
      ],
      "execution_count": null,
      "outputs": []
    },
    {
      "cell_type": "code",
      "metadata": {
        "id": "IJbEk821JAQb",
        "colab_type": "code",
        "colab": {}
      },
      "source": [
        ""
      ],
      "execution_count": null,
      "outputs": []
    },
    {
      "cell_type": "code",
      "metadata": {
        "id": "npTJ7EDfJAWs",
        "colab_type": "code",
        "colab": {}
      },
      "source": [
        ""
      ],
      "execution_count": null,
      "outputs": []
    },
    {
      "cell_type": "code",
      "metadata": {
        "id": "i48hVVBQJAch",
        "colab_type": "code",
        "colab": {}
      },
      "source": [
        ""
      ],
      "execution_count": null,
      "outputs": []
    },
    {
      "cell_type": "code",
      "metadata": {
        "id": "LHLRh-LZJAji",
        "colab_type": "code",
        "colab": {}
      },
      "source": [
        ""
      ],
      "execution_count": null,
      "outputs": []
    },
    {
      "cell_type": "code",
      "metadata": {
        "id": "vLTw99nDJApz",
        "colab_type": "code",
        "colab": {}
      },
      "source": [
        ""
      ],
      "execution_count": null,
      "outputs": []
    },
    {
      "cell_type": "code",
      "metadata": {
        "id": "MwXvHiUPJAw3",
        "colab_type": "code",
        "colab": {}
      },
      "source": [
        ""
      ],
      "execution_count": null,
      "outputs": []
    },
    {
      "cell_type": "code",
      "metadata": {
        "id": "1eFzfc3wJA3s",
        "colab_type": "code",
        "colab": {}
      },
      "source": [
        ""
      ],
      "execution_count": null,
      "outputs": []
    },
    {
      "cell_type": "code",
      "metadata": {
        "id": "WmhBuCgKJA-z",
        "colab_type": "code",
        "colab": {}
      },
      "source": [
        ""
      ],
      "execution_count": null,
      "outputs": []
    },
    {
      "cell_type": "code",
      "metadata": {
        "id": "upIxjT0pJBEr",
        "colab_type": "code",
        "colab": {}
      },
      "source": [
        ""
      ],
      "execution_count": null,
      "outputs": []
    },
    {
      "cell_type": "code",
      "metadata": {
        "id": "uBGQ_IERJBL8",
        "colab_type": "code",
        "colab": {}
      },
      "source": [
        ""
      ],
      "execution_count": null,
      "outputs": []
    },
    {
      "cell_type": "code",
      "metadata": {
        "id": "eGq3MchkJBSq",
        "colab_type": "code",
        "colab": {}
      },
      "source": [
        ""
      ],
      "execution_count": null,
      "outputs": []
    }
  ]
}