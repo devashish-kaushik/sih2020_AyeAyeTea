{
  "nbformat": 4,
  "nbformat_minor": 0,
  "metadata": {
    "colab": {
      "name": "demandSupplyForecastingNearComplete.ipynb",
      "provenance": []
    },
    "kernelspec": {
      "name": "python3",
      "display_name": "Python 3"
    }
  },
  "cells": [
    {
      "cell_type": "markdown",
      "metadata": {
        "id": "PBtCXeWYrnkK",
        "colab_type": "text"
      },
      "source": [
        "# Importing modules, preprocessing\n"
      ]
    },
    {
      "cell_type": "code",
      "metadata": {
        "id": "0d-0qqUjIriK",
        "colab_type": "code",
        "colab": {
          "base_uri": "https://localhost:8080/",
          "height": 34
        },
        "outputId": "9539116f-dcc4-476f-cc0b-9dcaa7cdad91"
      },
      "source": [
        "#Importing the required modules, the ones I remember\n",
        "import numpy as np\n",
        "import pandas as pd\n",
        "import matplotlib.pyplot as plt\n",
        "from sklearn.preprocessing import MinMaxScaler\n",
        "from sklearn.preprocessing import LabelEncoder\n",
        "from sklearn.metrics import mean_squared_error\n",
        "from keras.models import Sequential\n",
        "from keras.layers import Dense\n",
        "from keras.layers import LSTM"
      ],
      "execution_count": null,
      "outputs": [
        {
          "output_type": "stream",
          "text": [
            "Using TensorFlow backend.\n"
          ],
          "name": "stderr"
        }
      ]
    },
    {
      "cell_type": "code",
      "metadata": {
        "id": "poxkFG1NI8Ll",
        "colab_type": "code",
        "colab": {
          "resources": {
            "http://localhost:8080/nbextensions/google.colab/files.js": {
              "data": "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",
              "ok": true,
              "headers": [
                [
                  "content-type",
                  "application/javascript"
                ]
              ],
              "status": 200,
              "status_text": ""
            }
          },
          "base_uri": "https://localhost:8080/",
          "height": 72
        },
        "outputId": "97a482d5-ccc5-4312-ed09-5a84d947befa"
      },
      "source": [
        "#Loading the data, preprocessing\n",
        "from google.colab import files\n",
        "uploaded = files.upload()"
      ],
      "execution_count": null,
      "outputs": [
        {
          "output_type": "display_data",
          "data": {
            "text/html": [
              "\n",
              "     <input type=\"file\" id=\"files-56c5a835-1fbe-43a3-9c2a-f6707c58d368\" name=\"files[]\" multiple disabled\n",
              "        style=\"border:none\" />\n",
              "     <output id=\"result-56c5a835-1fbe-43a3-9c2a-f6707c58d368\">\n",
              "      Upload widget is only available when the cell has been executed in the\n",
              "      current browser session. Please rerun this cell to enable.\n",
              "      </output>\n",
              "      <script src=\"/nbextensions/google.colab/files.js\"></script> "
            ],
            "text/plain": [
              "<IPython.core.display.HTML object>"
            ]
          },
          "metadata": {
            "tags": []
          }
        },
        {
          "output_type": "stream",
          "text": [
            "Saving AustriaNew.csv to AustriaNew.csv\n"
          ],
          "name": "stdout"
        }
      ]
    },
    {
      "cell_type": "code",
      "metadata": {
        "id": "EmuBoihWI8ga",
        "colab_type": "code",
        "colab": {
          "base_uri": "https://localhost:8080/",
          "height": 241
        },
        "outputId": "369ea507-d4fb-4b3d-af68-e5d8bd4b10ac"
      },
      "source": [
        "import io\n",
        "dataRequired = pd.read_csv(io.BytesIO(uploaded['AustriaNew.csv']))\n",
        "dataRequired.head()"
      ],
      "execution_count": null,
      "outputs": [
        {
          "output_type": "execute_result",
          "data": {
            "text/html": [
              "<div>\n",
              "<style scoped>\n",
              "    .dataframe tbody tr th:only-of-type {\n",
              "        vertical-align: middle;\n",
              "    }\n",
              "\n",
              "    .dataframe tbody tr th {\n",
              "        vertical-align: top;\n",
              "    }\n",
              "\n",
              "    .dataframe thead th {\n",
              "        text-align: right;\n",
              "    }\n",
              "</style>\n",
              "<table border=\"1\" class=\"dataframe\">\n",
              "  <thead>\n",
              "    <tr style=\"text-align: right;\">\n",
              "      <th></th>\n",
              "      <th>Unnamed: 0</th>\n",
              "      <th>index</th>\n",
              "      <th>AT_load_actual_entsoe_power_statistics</th>\n",
              "      <th>AT_load_actual_entsoe_transparency</th>\n",
              "      <th>AT_price_day_ahead</th>\n",
              "      <th>AT_solar_generation_actual</th>\n",
              "      <th>AT_wind_onshore_generation_actual</th>\n",
              "      <th>AT_windspeed_10m</th>\n",
              "      <th>AT_temperature</th>\n",
              "      <th>AT_radiation_direct_horizontal</th>\n",
              "      <th>AT_radiation_diffuse_horizontal</th>\n",
              "    </tr>\n",
              "  </thead>\n",
              "  <tbody>\n",
              "    <tr>\n",
              "      <th>0</th>\n",
              "      <td>0</td>\n",
              "      <td>87656</td>\n",
              "      <td>7035.0</td>\n",
              "      <td>6343.0</td>\n",
              "      <td>36.0</td>\n",
              "      <td>2.0</td>\n",
              "      <td>109.0</td>\n",
              "      <td>3.27</td>\n",
              "      <td>-4.179</td>\n",
              "      <td>1.5614</td>\n",
              "      <td>25.9639</td>\n",
              "    </tr>\n",
              "    <tr>\n",
              "      <th>1</th>\n",
              "      <td>1</td>\n",
              "      <td>87657</td>\n",
              "      <td>7394.0</td>\n",
              "      <td>6882.0</td>\n",
              "      <td>41.0</td>\n",
              "      <td>10.0</td>\n",
              "      <td>146.0</td>\n",
              "      <td>3.23</td>\n",
              "      <td>-2.807</td>\n",
              "      <td>7.5467</td>\n",
              "      <td>75.0443</td>\n",
              "    </tr>\n",
              "    <tr>\n",
              "      <th>2</th>\n",
              "      <td>2</td>\n",
              "      <td>87658</td>\n",
              "      <td>7770.0</td>\n",
              "      <td>6963.0</td>\n",
              "      <td>45.0</td>\n",
              "      <td>21.0</td>\n",
              "      <td>146.0</td>\n",
              "      <td>3.22</td>\n",
              "      <td>-1.315</td>\n",
              "      <td>17.2073</td>\n",
              "      <td>116.9171</td>\n",
              "    </tr>\n",
              "    <tr>\n",
              "      <th>3</th>\n",
              "      <td>3</td>\n",
              "      <td>87659</td>\n",
              "      <td>7820.0</td>\n",
              "      <td>7110.0</td>\n",
              "      <td>50.0</td>\n",
              "      <td>32.0</td>\n",
              "      <td>158.0</td>\n",
              "      <td>3.22</td>\n",
              "      <td>-0.051</td>\n",
              "      <td>35.4289</td>\n",
              "      <td>146.8923</td>\n",
              "    </tr>\n",
              "    <tr>\n",
              "      <th>4</th>\n",
              "      <td>4</td>\n",
              "      <td>87660</td>\n",
              "      <td>7694.0</td>\n",
              "      <td>7136.0</td>\n",
              "      <td>51.0</td>\n",
              "      <td>37.0</td>\n",
              "      <td>187.0</td>\n",
              "      <td>3.00</td>\n",
              "      <td>0.791</td>\n",
              "      <td>58.5238</td>\n",
              "      <td>151.4721</td>\n",
              "    </tr>\n",
              "  </tbody>\n",
              "</table>\n",
              "</div>"
            ],
            "text/plain": [
              "   Unnamed: 0  ...  AT_radiation_diffuse_horizontal\n",
              "0           0  ...                          25.9639\n",
              "1           1  ...                          75.0443\n",
              "2           2  ...                         116.9171\n",
              "3           3  ...                         146.8923\n",
              "4           4  ...                         151.4721\n",
              "\n",
              "[5 rows x 11 columns]"
            ]
          },
          "metadata": {
            "tags": []
          },
          "execution_count": 5
        }
      ]
    },
    {
      "cell_type": "code",
      "metadata": {
        "id": "7zY44Rr_I8nc",
        "colab_type": "code",
        "colab": {
          "base_uri": "https://localhost:8080/",
          "height": 34
        },
        "outputId": "2711128a-60ed-4442-ecea-b4559568d38d"
      },
      "source": [
        "dataRequired.shape"
      ],
      "execution_count": null,
      "outputs": [
        {
          "output_type": "execute_result",
          "data": {
            "text/plain": [
              "(17488, 11)"
            ]
          },
          "metadata": {
            "tags": []
          },
          "execution_count": 6
        }
      ]
    },
    {
      "cell_type": "code",
      "metadata": {
        "id": "u1Vf30iAI8tx",
        "colab_type": "code",
        "colab": {
          "base_uri": "https://localhost:8080/",
          "height": 282
        },
        "outputId": "fdd1a3b6-07dc-45cf-db48-61d285f46910"
      },
      "source": [
        "#Plotting and visualising the time series relation\n",
        "plt.scatter(dataRequired['AT_windspeed_10m'],dataRequired['AT_wind_onshore_generation_actual'])"
      ],
      "execution_count": null,
      "outputs": [
        {
          "output_type": "execute_result",
          "data": {
            "text/plain": [
              "<matplotlib.collections.PathCollection at 0x7f147ebcaa58>"
            ]
          },
          "metadata": {
            "tags": []
          },
          "execution_count": 7
        },
        {
          "output_type": "display_data",
          "data": {
            "image/png": "[encoded data removed]",
            "text/plain": [
              "<Figure size 432x288 with 1 Axes>"
            ]
          },
          "metadata": {
            "tags": [],
            "needs_background": "light"
          }
        }
      ]
    },
    {
      "cell_type": "code",
      "metadata": {
        "id": "QvFQHR9EI8zk",
        "colab_type": "code",
        "colab": {}
      },
      "source": [
        "#Clearly, the characteristics resemble the expected characteristics, but the data had quite a bit of deviation about the standard curve.\n",
        "#It can be clearly attributed to variations in density of the air density, due to radiation changes throughout the year."
      ],
      "execution_count": null,
      "outputs": []
    },
    {
      "cell_type": "code",
      "metadata": {
        "id": "F7922B5WI85t",
        "colab_type": "code",
        "colab": {
          "base_uri": "https://localhost:8080/",
          "height": 265
        },
        "outputId": "530e9426-a444-43ac-86ea-1825256851ab"
      },
      "source": [
        "#Plotting the time series\n",
        "for i in dataRequired:\n",
        "  plt.ylabel(i)\n",
        "  plt.plot(dataRequired[i][:1000])"
      ],
      "execution_count": null,
      "outputs": [
        {
          "output_type": "display_data",
          "data": {
            "image/png": "[encoded data removed]",
            "text/plain": [
              "<Figure size 432x288 with 1 Axes>"
            ]
          },
          "metadata": {
            "tags": [],
            "needs_background": "light"
          }
        }
      ]
    },
    {
      "cell_type": "code",
      "metadata": {
        "id": "CmKbxi3VI8_f",
        "colab_type": "code",
        "colab": {}
      },
      "source": [
        "# Certain periodic trends are found in the data, also, the series appear sufficiently correlated with one another, we thus use an LSTM for training the model"
      ],
      "execution_count": null,
      "outputs": []
    },
    {
      "cell_type": "code",
      "metadata": {
        "id": "E3IvX4nfLr9b",
        "colab_type": "code",
        "colab": {}
      },
      "source": [
        "#Converting the time series analysis problem into a supervised learning problem\n",
        "def seriesToSupervised(data, lookBack = 60, predCols = 1):\n",
        "  temp = data.copy()\n",
        "  temp['id'] = range(1, len(temp)+1)\n",
        "  temp = temp.iloc[: -lookBack, :]\n",
        "  temp.set_index('id', inplace = True)\n",
        "  predVal = data.copy()\n",
        "  predVal = predVal.iloc[lookBack:, predCols]\n",
        "  predVal.columns = ['Pred']\n",
        "  predVal = pd.DataFrame(predVal)\n",
        "  predVal['id'] = range(1, len(predVal)+1)\n",
        "  predVal.set_index('id', inplace = True)\n",
        "  finalDf = pd.concat([temp, predVal], axis = 1)\n",
        "  return finalDf"
      ],
      "execution_count": null,
      "outputs": []
    },
    {
      "cell_type": "code",
      "metadata": {
        "id": "nnzAfIr5MUTe",
        "colab_type": "code",
        "colab": {}
      },
      "source": [
        "from sklearn.metrics import mean_absolute_error, mean_squared_error, r2_score"
      ],
      "execution_count": null,
      "outputs": []
    },
    {
      "cell_type": "markdown",
      "metadata": {
        "id": "D6FsSUCkI9FI",
        "colab_type": "text"
      },
      "source": [
        "# Solar energy output forecasting\n",
        "\n"
      ]
    },
    {
      "cell_type": "code",
      "metadata": {
        "id": "VDg6IGC1I9Kt",
        "colab_type": "code",
        "colab": {
          "base_uri": "https://localhost:8080/",
          "height": 306
        },
        "outputId": "d4aac34b-266d-447b-e86f-915d31800b84"
      },
      "source": [
        "#Selecting the feature variables and target variables for a Multivariate LSTM\n",
        "dataPredSolarOutput=dataRequired[['AT_solar_generation_actual', 'AT_windspeed_10m', 'AT_temperature', 'AT_radiation_direct_horizontal', 'AT_radiation_diffuse_horizontal']]\n",
        "dataPredSolarOutput['pred'] = dataPredSolarOutput['AT_solar_generation_actual'].shift(-1)\n",
        "dataPredSolarOutput = dataPredSolarOutput.dropna()\n",
        "dataPredSolarOutput.head()"
      ],
      "execution_count": null,
      "outputs": [
        {
          "output_type": "stream",
          "text": [
            "/usr/local/lib/python3.6/dist-packages/ipykernel_launcher.py:3: SettingWithCopyWarning: \n",
            "A value is trying to be set on a copy of a slice from a DataFrame.\n",
            "Try using .loc[row_indexer,col_indexer] = value instead\n",
            "\n",
            "See the caveats in the documentation: https://pandas.pydata.org/pandas-docs/stable/user_guide/indexing.html#returning-a-view-versus-a-copy\n",
            "  This is separate from the ipykernel package so we can avoid doing imports until\n"
          ],
          "name": "stderr"
        },
        {
          "output_type": "execute_result",
          "data": {
            "text/html": [
              "<div>\n",
              "<style scoped>\n",
              "    .dataframe tbody tr th:only-of-type {\n",
              "        vertical-align: middle;\n",
              "    }\n",
              "\n",
              "    .dataframe tbody tr th {\n",
              "        vertical-align: top;\n",
              "    }\n",
              "\n",
              "    .dataframe thead th {\n",
              "        text-align: right;\n",
              "    }\n",
              "</style>\n",
              "<table border=\"1\" class=\"dataframe\">\n",
              "  <thead>\n",
              "    <tr style=\"text-align: right;\">\n",
              "      <th></th>\n",
              "      <th>AT_solar_generation_actual</th>\n",
              "      <th>AT_windspeed_10m</th>\n",
              "      <th>AT_temperature</th>\n",
              "      <th>AT_radiation_direct_horizontal</th>\n",
              "      <th>AT_radiation_diffuse_horizontal</th>\n",
              "      <th>pred</th>\n",
              "    </tr>\n",
              "  </thead>\n",
              "  <tbody>\n",
              "    <tr>\n",
              "      <th>0</th>\n",
              "      <td>2.0</td>\n",
              "      <td>3.27</td>\n",
              "      <td>-4.179</td>\n",
              "      <td>1.5614</td>\n",
              "      <td>25.9639</td>\n",
              "      <td>10.0</td>\n",
              "    </tr>\n",
              "    <tr>\n",
              "      <th>1</th>\n",
              "      <td>10.0</td>\n",
              "      <td>3.23</td>\n",
              "      <td>-2.807</td>\n",
              "      <td>7.5467</td>\n",
              "      <td>75.0443</td>\n",
              "      <td>21.0</td>\n",
              "    </tr>\n",
              "    <tr>\n",
              "      <th>2</th>\n",
              "      <td>21.0</td>\n",
              "      <td>3.22</td>\n",
              "      <td>-1.315</td>\n",
              "      <td>17.2073</td>\n",
              "      <td>116.9171</td>\n",
              "      <td>32.0</td>\n",
              "    </tr>\n",
              "    <tr>\n",
              "      <th>3</th>\n",
              "      <td>32.0</td>\n",
              "      <td>3.22</td>\n",
              "      <td>-0.051</td>\n",
              "      <td>35.4289</td>\n",
              "      <td>146.8923</td>\n",
              "      <td>37.0</td>\n",
              "    </tr>\n",
              "    <tr>\n",
              "      <th>4</th>\n",
              "      <td>37.0</td>\n",
              "      <td>3.00</td>\n",
              "      <td>0.791</td>\n",
              "      <td>58.5238</td>\n",
              "      <td>151.4721</td>\n",
              "      <td>35.0</td>\n",
              "    </tr>\n",
              "  </tbody>\n",
              "</table>\n",
              "</div>"
            ],
            "text/plain": [
              "   AT_solar_generation_actual  ...  pred\n",
              "0                         2.0  ...  10.0\n",
              "1                        10.0  ...  21.0\n",
              "2                        21.0  ...  32.0\n",
              "3                        32.0  ...  37.0\n",
              "4                        37.0  ...  35.0\n",
              "\n",
              "[5 rows x 6 columns]"
            ]
          },
          "metadata": {
            "tags": []
          },
          "execution_count": 13
        }
      ]
    },
    {
      "cell_type": "code",
      "metadata": {
        "id": "uegSmV4GLZEa",
        "colab_type": "code",
        "colab": {}
      },
      "source": [
        "scalerOne = MinMaxScaler(feature_range=(0,1))\n",
        "solarScaled = scalerOne.fit_transform(dataPredSolarOutput.values)\n",
        "solarScaled = pd.DataFrame(solarScaled)"
      ],
      "execution_count": null,
      "outputs": []
    },
    {
      "cell_type": "code",
      "metadata": {
        "id": "S9lNKY-lLgEf",
        "colab_type": "code",
        "colab": {
          "base_uri": "https://localhost:8080/",
          "height": 204
        },
        "outputId": "fa159d37-e90d-4a45-ed76-c49276f8a69e"
      },
      "source": [
        "solarScaled.head()"
      ],
      "execution_count": null,
      "outputs": [
        {
          "output_type": "execute_result",
          "data": {
            "text/html": [
              "<div>\n",
              "<style scoped>\n",
              "    .dataframe tbody tr th:only-of-type {\n",
              "        vertical-align: middle;\n",
              "    }\n",
              "\n",
              "    .dataframe tbody tr th {\n",
              "        vertical-align: top;\n",
              "    }\n",
              "\n",
              "    .dataframe thead th {\n",
              "        text-align: right;\n",
              "    }\n",
              "</style>\n",
              "<table border=\"1\" class=\"dataframe\">\n",
              "  <thead>\n",
              "    <tr style=\"text-align: right;\">\n",
              "      <th></th>\n",
              "      <th>0</th>\n",
              "      <th>1</th>\n",
              "      <th>2</th>\n",
              "      <th>3</th>\n",
              "      <th>4</th>\n",
              "      <th>5</th>\n",
              "    </tr>\n",
              "  </thead>\n",
              "  <tbody>\n",
              "    <tr>\n",
              "      <th>0</th>\n",
              "      <td>0.003279</td>\n",
              "      <td>0.285083</td>\n",
              "      <td>0.178747</td>\n",
              "      <td>0.001814</td>\n",
              "      <td>0.064377</td>\n",
              "      <td>0.016393</td>\n",
              "    </tr>\n",
              "    <tr>\n",
              "      <th>1</th>\n",
              "      <td>0.016393</td>\n",
              "      <td>0.280663</td>\n",
              "      <td>0.209402</td>\n",
              "      <td>0.008767</td>\n",
              "      <td>0.186070</td>\n",
              "      <td>0.034426</td>\n",
              "    </tr>\n",
              "    <tr>\n",
              "      <th>2</th>\n",
              "      <td>0.034426</td>\n",
              "      <td>0.279558</td>\n",
              "      <td>0.242738</td>\n",
              "      <td>0.019991</td>\n",
              "      <td>0.289892</td>\n",
              "      <td>0.052459</td>\n",
              "    </tr>\n",
              "    <tr>\n",
              "      <th>3</th>\n",
              "      <td>0.052459</td>\n",
              "      <td>0.279558</td>\n",
              "      <td>0.270980</td>\n",
              "      <td>0.041160</td>\n",
              "      <td>0.364214</td>\n",
              "      <td>0.060656</td>\n",
              "    </tr>\n",
              "    <tr>\n",
              "      <th>4</th>\n",
              "      <td>0.060656</td>\n",
              "      <td>0.255249</td>\n",
              "      <td>0.289794</td>\n",
              "      <td>0.067990</td>\n",
              "      <td>0.375570</td>\n",
              "      <td>0.057377</td>\n",
              "    </tr>\n",
              "  </tbody>\n",
              "</table>\n",
              "</div>"
            ],
            "text/plain": [
              "          0         1         2         3         4         5\n",
              "0  0.003279  0.285083  0.178747  0.001814  0.064377  0.016393\n",
              "1  0.016393  0.280663  0.209402  0.008767  0.186070  0.034426\n",
              "2  0.034426  0.279558  0.242738  0.019991  0.289892  0.052459\n",
              "3  0.052459  0.279558  0.270980  0.041160  0.364214  0.060656\n",
              "4  0.060656  0.255249  0.289794  0.067990  0.375570  0.057377"
            ]
          },
          "metadata": {
            "tags": []
          },
          "execution_count": 15
        }
      ]
    },
    {
      "cell_type": "code",
      "metadata": {
        "id": "wvxLR6CzLmao",
        "colab_type": "code",
        "colab": {
          "base_uri": "https://localhost:8080/",
          "height": 235
        },
        "outputId": "e1cdd8bd-a72b-4d71-a4b4-2f6a5e0bd99f"
      },
      "source": [
        "arrDfSolar = seriesToSupervised(solarScaled, 3, 0)\n",
        "arrDfSolar.fillna(0, inplace = True)\n",
        "arrDfSolar.head()"
      ],
      "execution_count": null,
      "outputs": [
        {
          "output_type": "execute_result",
          "data": {
            "text/html": [
              "<div>\n",
              "<style scoped>\n",
              "    .dataframe tbody tr th:only-of-type {\n",
              "        vertical-align: middle;\n",
              "    }\n",
              "\n",
              "    .dataframe tbody tr th {\n",
              "        vertical-align: top;\n",
              "    }\n",
              "\n",
              "    .dataframe thead th {\n",
              "        text-align: right;\n",
              "    }\n",
              "</style>\n",
              "<table border=\"1\" class=\"dataframe\">\n",
              "  <thead>\n",
              "    <tr style=\"text-align: right;\">\n",
              "      <th></th>\n",
              "      <th>0</th>\n",
              "      <th>1</th>\n",
              "      <th>2</th>\n",
              "      <th>3</th>\n",
              "      <th>4</th>\n",
              "      <th>5</th>\n",
              "      <th>0</th>\n",
              "    </tr>\n",
              "    <tr>\n",
              "      <th>id</th>\n",
              "      <th></th>\n",
              "      <th></th>\n",
              "      <th></th>\n",
              "      <th></th>\n",
              "      <th></th>\n",
              "      <th></th>\n",
              "      <th></th>\n",
              "    </tr>\n",
              "  </thead>\n",
              "  <tbody>\n",
              "    <tr>\n",
              "      <th>1</th>\n",
              "      <td>0.003279</td>\n",
              "      <td>0.285083</td>\n",
              "      <td>0.178747</td>\n",
              "      <td>0.001814</td>\n",
              "      <td>0.064377</td>\n",
              "      <td>0.016393</td>\n",
              "      <td>0.052459</td>\n",
              "    </tr>\n",
              "    <tr>\n",
              "      <th>2</th>\n",
              "      <td>0.016393</td>\n",
              "      <td>0.280663</td>\n",
              "      <td>0.209402</td>\n",
              "      <td>0.008767</td>\n",
              "      <td>0.186070</td>\n",
              "      <td>0.034426</td>\n",
              "      <td>0.060656</td>\n",
              "    </tr>\n",
              "    <tr>\n",
              "      <th>3</th>\n",
              "      <td>0.034426</td>\n",
              "      <td>0.279558</td>\n",
              "      <td>0.242738</td>\n",
              "      <td>0.019991</td>\n",
              "      <td>0.289892</td>\n",
              "      <td>0.052459</td>\n",
              "      <td>0.057377</td>\n",
              "    </tr>\n",
              "    <tr>\n",
              "      <th>4</th>\n",
              "      <td>0.052459</td>\n",
              "      <td>0.279558</td>\n",
              "      <td>0.270980</td>\n",
              "      <td>0.041160</td>\n",
              "      <td>0.364214</td>\n",
              "      <td>0.060656</td>\n",
              "      <td>0.044262</td>\n",
              "    </tr>\n",
              "    <tr>\n",
              "      <th>5</th>\n",
              "      <td>0.060656</td>\n",
              "      <td>0.255249</td>\n",
              "      <td>0.289794</td>\n",
              "      <td>0.067990</td>\n",
              "      <td>0.375570</td>\n",
              "      <td>0.057377</td>\n",
              "      <td>0.022951</td>\n",
              "    </tr>\n",
              "  </tbody>\n",
              "</table>\n",
              "</div>"
            ],
            "text/plain": [
              "           0         1         2         3         4         5         0\n",
              "id                                                                      \n",
              "1   0.003279  0.285083  0.178747  0.001814  0.064377  0.016393  0.052459\n",
              "2   0.016393  0.280663  0.209402  0.008767  0.186070  0.034426  0.060656\n",
              "3   0.034426  0.279558  0.242738  0.019991  0.289892  0.052459  0.057377\n",
              "4   0.052459  0.279558  0.270980  0.041160  0.364214  0.060656  0.044262\n",
              "5   0.060656  0.255249  0.289794  0.067990  0.375570  0.057377  0.022951"
            ]
          },
          "metadata": {
            "tags": []
          },
          "execution_count": 16
        }
      ]
    },
    {
      "cell_type": "code",
      "metadata": {
        "id": "XmjYskxdLmpZ",
        "colab_type": "code",
        "colab": {
          "base_uri": "https://localhost:8080/",
          "height": 34
        },
        "outputId": "7cc5100e-6339-42c5-8f37-d60b17d98da9"
      },
      "source": [
        "# splitting and converting the data to right shape, around 80:20 ratio would be good for validation\n",
        "values = arrDfSolar.values\n",
        "trainSample = int(len(dataPredSolarOutput)*0.8)\n",
        "train = values[: trainSample, :]\n",
        "test = values[trainSample:, :]\n",
        "XTrain, yTrain = train[:, :-1], train[:, -1]\n",
        "XTest, yTest = test[:,:-1], test[:, -1]\n",
        "XTrain.shape, yTrain.shape, XTest.shape, yTest.shape"
      ],
      "execution_count": null,
      "outputs": [
        {
          "output_type": "execute_result",
          "data": {
            "text/plain": [
              "((13989, 6), (13989,), (3495, 6), (3495,))"
            ]
          },
          "metadata": {
            "tags": []
          },
          "execution_count": 17
        }
      ]
    },
    {
      "cell_type": "code",
      "metadata": {
        "id": "Ir6w3JeCLmt9",
        "colab_type": "code",
        "colab": {
          "base_uri": "https://localhost:8080/",
          "height": 34
        },
        "outputId": "83d285a6-ce0d-4737-9c3d-fba51b1ddf38"
      },
      "source": [
        "# We need a 3D data as (sample size, look back steps, input features)\n",
        "XTrain = XTrain.reshape((XTrain.shape[0], 1, XTrain.shape[1]))\n",
        "XTest = XTest.reshape((XTest.shape[0], 1, XTest.shape[1]))\n",
        "XTrain.shape, yTrain.shape, XTest.shape, yTest.shape"
      ],
      "execution_count": null,
      "outputs": [
        {
          "output_type": "execute_result",
          "data": {
            "text/plain": [
              "((13989, 1, 6), (13989,), (3495, 1, 6), (3495,))"
            ]
          },
          "metadata": {
            "tags": []
          },
          "execution_count": 18
        }
      ]
    },
    {
      "cell_type": "code",
      "metadata": {
        "id": "6P1SmJaAL6cf",
        "colab_type": "code",
        "colab": {
          "base_uri": "https://localhost:8080/",
          "height": 289
        },
        "outputId": "6bfaffdc-d3af-4fe9-ae4f-6794894e3032"
      },
      "source": [
        "model = Sequential()\n",
        "model.add(LSTM(75, return_sequences = True, input_shape = (XTrain.shape[1], XTrain.shape[2])))\n",
        "model.add(LSTM(units = 50, return_sequences=True))\n",
        "model.add(LSTM(units = 30))\n",
        "model.add(Dense(units = 1))\n",
        "model.compile(loss = 'mae', optimizer = 'adam')\n",
        "model.summary()"
      ],
      "execution_count": null,
      "outputs": [
        {
          "output_type": "stream",
          "text": [
            "Model: \"sequential_1\"\n",
            "_________________________________________________________________\n",
            "Layer (type)                 Output Shape              Param #   \n",
            "=================================================================\n",
            "lstm_1 (LSTM)                (None, 1, 75)             24600     \n",
            "_________________________________________________________________\n",
            "lstm_2 (LSTM)                (None, 1, 50)             25200     \n",
            "_________________________________________________________________\n",
            "lstm_3 (LSTM)                (None, 30)                9720      \n",
            "_________________________________________________________________\n",
            "dense_1 (Dense)              (None, 1)                 31        \n",
            "=================================================================\n",
            "Total params: 59,551\n",
            "Trainable params: 59,551\n",
            "Non-trainable params: 0\n",
            "_________________________________________________________________\n"
          ],
          "name": "stdout"
        }
      ]
    },
    {
      "cell_type": "code",
      "metadata": {
        "id": "8zDqx4xWL6ka",
        "colab_type": "code",
        "colab": {
          "base_uri": "https://localhost:8080/",
          "height": 1000
        },
        "outputId": "6959f1d8-dee7-42b9-c1b7-41e64cd79f85"
      },
      "source": [
        "history = model.fit(XTrain, yTrain, epochs= 50, batch_size=32, validation_split = 0.2, shuffle = False)"
      ],
      "execution_count": null,
      "outputs": [
        {
          "output_type": "stream",
          "text": [
            "Train on 11191 samples, validate on 2798 samples\n",
            "Epoch 1/50\n",
            "11191/11191 [==============================] - 3s 299us/step - loss: 0.0785 - val_loss: 0.0721\n",
            "Epoch 2/50\n",
            "11191/11191 [==============================] - 2s 159us/step - loss: 0.0413 - val_loss: 0.0701\n",
            "Epoch 3/50\n",
            "11191/11191 [==============================] - 2s 161us/step - loss: 0.0368 - val_loss: 0.0607\n",
            "Epoch 4/50\n",
            "11191/11191 [==============================] - 2s 155us/step - loss: 0.0350 - val_loss: 0.0564\n",
            "Epoch 5/50\n",
            "11191/11191 [==============================] - 2s 159us/step - loss: 0.0349 - val_loss: 0.0550\n",
            "Epoch 6/50\n",
            "11191/11191 [==============================] - 2s 157us/step - loss: 0.0347 - val_loss: 0.0597\n",
            "Epoch 7/50\n",
            "11191/11191 [==============================] - 2s 158us/step - loss: 0.0345 - val_loss: 0.0566\n",
            "Epoch 8/50\n",
            "11191/11191 [==============================] - 2s 154us/step - loss: 0.0334 - val_loss: 0.0499\n",
            "Epoch 9/50\n",
            "11191/11191 [==============================] - 2s 156us/step - loss: 0.0327 - val_loss: 0.0480\n",
            "Epoch 10/50\n",
            "11191/11191 [==============================] - 2s 159us/step - loss: 0.0315 - val_loss: 0.0465\n",
            "Epoch 11/50\n",
            "11191/11191 [==============================] - 2s 157us/step - loss: 0.0316 - val_loss: 0.0436\n",
            "Epoch 12/50\n",
            "11191/11191 [==============================] - 2s 158us/step - loss: 0.0303 - val_loss: 0.0499\n",
            "Epoch 13/50\n",
            "11191/11191 [==============================] - 2s 162us/step - loss: 0.0282 - val_loss: 0.0433\n",
            "Epoch 14/50\n",
            "11191/11191 [==============================] - 2s 155us/step - loss: 0.0283 - val_loss: 0.0487\n",
            "Epoch 15/50\n",
            "11191/11191 [==============================] - 2s 157us/step - loss: 0.0277 - val_loss: 0.0464\n",
            "Epoch 16/50\n",
            "11191/11191 [==============================] - 2s 155us/step - loss: 0.0263 - val_loss: 0.0402\n",
            "Epoch 17/50\n",
            "11191/11191 [==============================] - 2s 162us/step - loss: 0.0262 - val_loss: 0.0440\n",
            "Epoch 18/50\n",
            "11191/11191 [==============================] - 2s 156us/step - loss: 0.0257 - val_loss: 0.0417\n",
            "Epoch 19/50\n",
            "11191/11191 [==============================] - 2s 158us/step - loss: 0.0248 - val_loss: 0.0396\n",
            "Epoch 20/50\n",
            "11191/11191 [==============================] - 2s 156us/step - loss: 0.0244 - val_loss: 0.0372\n",
            "Epoch 21/50\n",
            "11191/11191 [==============================] - 2s 157us/step - loss: 0.0237 - val_loss: 0.0322\n",
            "Epoch 22/50\n",
            "11191/11191 [==============================] - 2s 157us/step - loss: 0.0232 - val_loss: 0.0379\n",
            "Epoch 23/50\n",
            "11191/11191 [==============================] - 2s 154us/step - loss: 0.0233 - val_loss: 0.0333\n",
            "Epoch 24/50\n",
            "11191/11191 [==============================] - 2s 161us/step - loss: 0.0228 - val_loss: 0.0341\n",
            "Epoch 25/50\n",
            "11191/11191 [==============================] - 2s 153us/step - loss: 0.0226 - val_loss: 0.0345\n",
            "Epoch 26/50\n",
            "11191/11191 [==============================] - 2s 158us/step - loss: 0.0222 - val_loss: 0.0369\n",
            "Epoch 27/50\n",
            "11191/11191 [==============================] - 2s 153us/step - loss: 0.0222 - val_loss: 0.0379\n",
            "Epoch 28/50\n",
            "11191/11191 [==============================] - 2s 159us/step - loss: 0.0219 - val_loss: 0.0396\n",
            "Epoch 29/50\n",
            "11191/11191 [==============================] - 2s 153us/step - loss: 0.0222 - val_loss: 0.0374\n",
            "Epoch 30/50\n",
            "11191/11191 [==============================] - 2s 151us/step - loss: 0.0215 - val_loss: 0.0394\n",
            "Epoch 31/50\n",
            "11191/11191 [==============================] - 2s 154us/step - loss: 0.0217 - val_loss: 0.0376\n",
            "Epoch 32/50\n",
            "11191/11191 [==============================] - 2s 153us/step - loss: 0.0213 - val_loss: 0.0380\n",
            "Epoch 33/50\n",
            "11191/11191 [==============================] - 2s 152us/step - loss: 0.0213 - val_loss: 0.0348\n",
            "Epoch 34/50\n",
            "11191/11191 [==============================] - 2s 157us/step - loss: 0.0212 - val_loss: 0.0407\n",
            "Epoch 35/50\n",
            "11191/11191 [==============================] - 2s 157us/step - loss: 0.0215 - val_loss: 0.0395\n",
            "Epoch 36/50\n",
            "11191/11191 [==============================] - 2s 166us/step - loss: 0.0207 - val_loss: 0.0400\n",
            "Epoch 37/50\n",
            "11191/11191 [==============================] - 2s 163us/step - loss: 0.0208 - val_loss: 0.0395\n",
            "Epoch 38/50\n",
            "11191/11191 [==============================] - 2s 169us/step - loss: 0.0206 - val_loss: 0.0369\n",
            "Epoch 39/50\n",
            "11191/11191 [==============================] - 2s 168us/step - loss: 0.0205 - val_loss: 0.0406\n",
            "Epoch 40/50\n",
            "11191/11191 [==============================] - 2s 170us/step - loss: 0.0208 - val_loss: 0.0391\n",
            "Epoch 41/50\n",
            "11191/11191 [==============================] - 2s 173us/step - loss: 0.0202 - val_loss: 0.0358\n",
            "Epoch 42/50\n",
            "11191/11191 [==============================] - 2s 151us/step - loss: 0.0202 - val_loss: 0.0403\n",
            "Epoch 43/50\n",
            "11191/11191 [==============================] - 2s 147us/step - loss: 0.0201 - val_loss: 0.0335\n",
            "Epoch 44/50\n",
            "11191/11191 [==============================] - 2s 150us/step - loss: 0.0200 - val_loss: 0.0331\n",
            "Epoch 45/50\n",
            "11191/11191 [==============================] - 2s 149us/step - loss: 0.0199 - val_loss: 0.0336\n",
            "Epoch 46/50\n",
            "11191/11191 [==============================] - 2s 149us/step - loss: 0.0199 - val_loss: 0.0399\n",
            "Epoch 47/50\n",
            "11191/11191 [==============================] - 2s 156us/step - loss: 0.0200 - val_loss: 0.0366\n",
            "Epoch 48/50\n",
            "11191/11191 [==============================] - 2s 153us/step - loss: 0.0195 - val_loss: 0.0342\n",
            "Epoch 49/50\n",
            "11191/11191 [==============================] - 2s 153us/step - loss: 0.0195 - val_loss: 0.0373\n",
            "Epoch 50/50\n",
            "11191/11191 [==============================] - 2s 151us/step - loss: 0.0194 - val_loss: 0.0362\n"
          ],
          "name": "stdout"
        }
      ]
    },
    {
      "cell_type": "code",
      "metadata": {
        "id": "eMvjnWjcL6sD",
        "colab_type": "code",
        "colab": {
          "base_uri": "https://localhost:8080/",
          "height": 68
        },
        "outputId": "141bb060-9f1b-4bab-efac-6b12736d3ab8"
      },
      "source": [
        "#Making predictions\n",
        "yPred = model.predict(XTest)\n",
        "XTest = XTest.reshape((XTest.shape[0],XTest.shape[2]))\n",
        "invyPred = np.concatenate((yPred, XTest[:, 1:]), axis = 1)\n",
        "invyPred = scalerOne.inverse_transform(invyPred)\n",
        "invyPred = invyPred[:, 0]\n",
        "\n",
        "yTest = yTest.reshape((len(yTest), 1))\n",
        "invyTest = np.concatenate((yTest, XTest[:, 1:]), axis = 1)\n",
        "invyTest = scalerOne.inverse_transform(invyTest)\n",
        "invyTest = invyTest[:, 0]\n",
        "\n",
        "print(f'Mean absolute error {mean_absolute_error(invyTest, invyPred)}')\n",
        "print(f'Mean squared error {mean_squared_error(invyTest, invyPred)}')\n",
        "print(f'R2_Score {r2_score(invyTest, invyPred)}')"
      ],
      "execution_count": null,
      "outputs": [
        {
          "output_type": "stream",
          "text": [
            "Mean absolute error 18.680933113586963\n",
            "Mean squared error 861.1587123186256\n",
            "R2_Score 0.9546800248427388\n"
          ],
          "name": "stdout"
        }
      ]
    },
    {
      "cell_type": "code",
      "metadata": {
        "id": "TvZkwEw-L60K",
        "colab_type": "code",
        "colab": {
          "base_uri": "https://localhost:8080/",
          "height": 285
        },
        "outputId": "1c6a81bb-0077-404e-9120-ea3072f82679"
      },
      "source": [
        "plt.plot(invyTest[:1000])\n",
        "plt.plot(invyPred[:1000])"
      ],
      "execution_count": null,
      "outputs": [
        {
          "output_type": "execute_result",
          "data": {
            "text/plain": [
              "[<matplotlib.lines.Line2D at 0x7f1475206588>]"
            ]
          },
          "metadata": {
            "tags": []
          },
          "execution_count": 22
        },
        {
          "output_type": "display_data",
          "data": {
            "image/png": "[encoded data removed]",
            "text/plain": [
              "<Figure size 432x288 with 1 Axes>"
            ]
          },
          "metadata": {
            "tags": [],
            "needs_background": "light"
          }
        }
      ]
    },
    {
      "cell_type": "markdown",
      "metadata": {
        "id": "FW8JQoYhI9QS",
        "colab_type": "text"
      },
      "source": [
        "# Wind energy output forecasting\n"
      ]
    },
    {
      "cell_type": "code",
      "metadata": {
        "id": "3kL48Q-AI9W6",
        "colab_type": "code",
        "colab": {
          "base_uri": "https://localhost:8080/",
          "height": 306
        },
        "outputId": "d6d7eed5-8578-4e59-8d37-5213f510900d"
      },
      "source": [
        "#Selecting the feature variables and target variables for a Multivariate LSTM\n",
        "dataPredWindOutput = dataRequired[['AT_wind_onshore_generation_actual', 'AT_windspeed_10m', 'AT_temperature', 'AT_radiation_direct_horizontal', 'AT_radiation_diffuse_horizontal']]\n",
        "dataPredWindOutput['pred'] = dataPredWindOutput['AT_wind_onshore_generation_actual'].shift(-1)\n",
        "dataPredWindOutput = dataPredWindOutput.dropna()\n",
        "dataPredWindOutput.head()"
      ],
      "execution_count": null,
      "outputs": [
        {
          "output_type": "stream",
          "text": [
            "/usr/local/lib/python3.6/dist-packages/ipykernel_launcher.py:3: SettingWithCopyWarning: \n",
            "A value is trying to be set on a copy of a slice from a DataFrame.\n",
            "Try using .loc[row_indexer,col_indexer] = value instead\n",
            "\n",
            "See the caveats in the documentation: https://pandas.pydata.org/pandas-docs/stable/user_guide/indexing.html#returning-a-view-versus-a-copy\n",
            "  This is separate from the ipykernel package so we can avoid doing imports until\n"
          ],
          "name": "stderr"
        },
        {
          "output_type": "execute_result",
          "data": {
            "text/html": [
              "<div>\n",
              "<style scoped>\n",
              "    .dataframe tbody tr th:only-of-type {\n",
              "        vertical-align: middle;\n",
              "    }\n",
              "\n",
              "    .dataframe tbody tr th {\n",
              "        vertical-align: top;\n",
              "    }\n",
              "\n",
              "    .dataframe thead th {\n",
              "        text-align: right;\n",
              "    }\n",
              "</style>\n",
              "<table border=\"1\" class=\"dataframe\">\n",
              "  <thead>\n",
              "    <tr style=\"text-align: right;\">\n",
              "      <th></th>\n",
              "      <th>AT_wind_onshore_generation_actual</th>\n",
              "      <th>AT_windspeed_10m</th>\n",
              "      <th>AT_temperature</th>\n",
              "      <th>AT_radiation_direct_horizontal</th>\n",
              "      <th>AT_radiation_diffuse_horizontal</th>\n",
              "      <th>pred</th>\n",
              "    </tr>\n",
              "  </thead>\n",
              "  <tbody>\n",
              "    <tr>\n",
              "      <th>0</th>\n",
              "      <td>109.0</td>\n",
              "      <td>3.27</td>\n",
              "      <td>-4.179</td>\n",
              "      <td>1.5614</td>\n",
              "      <td>25.9639</td>\n",
              "      <td>146.0</td>\n",
              "    </tr>\n",
              "    <tr>\n",
              "      <th>1</th>\n",
              "      <td>146.0</td>\n",
              "      <td>3.23</td>\n",
              "      <td>-2.807</td>\n",
              "      <td>7.5467</td>\n",
              "      <td>75.0443</td>\n",
              "      <td>146.0</td>\n",
              "    </tr>\n",
              "    <tr>\n",
              "      <th>2</th>\n",
              "      <td>146.0</td>\n",
              "      <td>3.22</td>\n",
              "      <td>-1.315</td>\n",
              "      <td>17.2073</td>\n",
              "      <td>116.9171</td>\n",
              "      <td>158.0</td>\n",
              "    </tr>\n",
              "    <tr>\n",
              "      <th>3</th>\n",
              "      <td>158.0</td>\n",
              "      <td>3.22</td>\n",
              "      <td>-0.051</td>\n",
              "      <td>35.4289</td>\n",
              "      <td>146.8923</td>\n",
              "      <td>187.0</td>\n",
              "    </tr>\n",
              "    <tr>\n",
              "      <th>4</th>\n",
              "      <td>187.0</td>\n",
              "      <td>3.00</td>\n",
              "      <td>0.791</td>\n",
              "      <td>58.5238</td>\n",
              "      <td>151.4721</td>\n",
              "      <td>244.0</td>\n",
              "    </tr>\n",
              "  </tbody>\n",
              "</table>\n",
              "</div>"
            ],
            "text/plain": [
              "   AT_wind_onshore_generation_actual  ...   pred\n",
              "0                              109.0  ...  146.0\n",
              "1                              146.0  ...  146.0\n",
              "2                              146.0  ...  158.0\n",
              "3                              158.0  ...  187.0\n",
              "4                              187.0  ...  244.0\n",
              "\n",
              "[5 rows x 6 columns]"
            ]
          },
          "metadata": {
            "tags": []
          },
          "execution_count": 23
        }
      ]
    },
    {
      "cell_type": "code",
      "metadata": {
        "id": "MhKAIeURMinY",
        "colab_type": "code",
        "colab": {
          "base_uri": "https://localhost:8080/",
          "height": 204
        },
        "outputId": "6c8c007d-9da0-4b51-89b3-6d1fc1d4aea0"
      },
      "source": [
        "scalerTwo = MinMaxScaler(feature_range=(0,1))\n",
        "windScaled = scalerTwo.fit_transform(dataPredWindOutput.values)\n",
        "windScaled = pd.DataFrame(windScaled)\n",
        "windScaled.head()"
      ],
      "execution_count": null,
      "outputs": [
        {
          "output_type": "execute_result",
          "data": {
            "text/html": [
              "<div>\n",
              "<style scoped>\n",
              "    .dataframe tbody tr th:only-of-type {\n",
              "        vertical-align: middle;\n",
              "    }\n",
              "\n",
              "    .dataframe tbody tr th {\n",
              "        vertical-align: top;\n",
              "    }\n",
              "\n",
              "    .dataframe thead th {\n",
              "        text-align: right;\n",
              "    }\n",
              "</style>\n",
              "<table border=\"1\" class=\"dataframe\">\n",
              "  <thead>\n",
              "    <tr style=\"text-align: right;\">\n",
              "      <th></th>\n",
              "      <th>0</th>\n",
              "      <th>1</th>\n",
              "      <th>2</th>\n",
              "      <th>3</th>\n",
              "      <th>4</th>\n",
              "      <th>5</th>\n",
              "    </tr>\n",
              "  </thead>\n",
              "  <tbody>\n",
              "    <tr>\n",
              "      <th>0</th>\n",
              "      <td>0.042762</td>\n",
              "      <td>0.285083</td>\n",
              "      <td>0.178747</td>\n",
              "      <td>0.001814</td>\n",
              "      <td>0.064377</td>\n",
              "      <td>0.057277</td>\n",
              "    </tr>\n",
              "    <tr>\n",
              "      <th>1</th>\n",
              "      <td>0.057277</td>\n",
              "      <td>0.280663</td>\n",
              "      <td>0.209402</td>\n",
              "      <td>0.008767</td>\n",
              "      <td>0.186070</td>\n",
              "      <td>0.057277</td>\n",
              "    </tr>\n",
              "    <tr>\n",
              "      <th>2</th>\n",
              "      <td>0.057277</td>\n",
              "      <td>0.279558</td>\n",
              "      <td>0.242738</td>\n",
              "      <td>0.019991</td>\n",
              "      <td>0.289892</td>\n",
              "      <td>0.061985</td>\n",
              "    </tr>\n",
              "    <tr>\n",
              "      <th>3</th>\n",
              "      <td>0.061985</td>\n",
              "      <td>0.279558</td>\n",
              "      <td>0.270980</td>\n",
              "      <td>0.041160</td>\n",
              "      <td>0.364214</td>\n",
              "      <td>0.073362</td>\n",
              "    </tr>\n",
              "    <tr>\n",
              "      <th>4</th>\n",
              "      <td>0.073362</td>\n",
              "      <td>0.255249</td>\n",
              "      <td>0.289794</td>\n",
              "      <td>0.067990</td>\n",
              "      <td>0.375570</td>\n",
              "      <td>0.095724</td>\n",
              "    </tr>\n",
              "  </tbody>\n",
              "</table>\n",
              "</div>"
            ],
            "text/plain": [
              "          0         1         2         3         4         5\n",
              "0  0.042762  0.285083  0.178747  0.001814  0.064377  0.057277\n",
              "1  0.057277  0.280663  0.209402  0.008767  0.186070  0.057277\n",
              "2  0.057277  0.279558  0.242738  0.019991  0.289892  0.061985\n",
              "3  0.061985  0.279558  0.270980  0.041160  0.364214  0.073362\n",
              "4  0.073362  0.255249  0.289794  0.067990  0.375570  0.095724"
            ]
          },
          "metadata": {
            "tags": []
          },
          "execution_count": 24
        }
      ]
    },
    {
      "cell_type": "code",
      "metadata": {
        "id": "nL1QfKoFMi26",
        "colab_type": "code",
        "colab": {
          "base_uri": "https://localhost:8080/",
          "height": 235
        },
        "outputId": "042139f5-5d87-496d-c90d-f429cce99bab"
      },
      "source": [
        "arrDfWind = seriesToSupervised(windScaled, 3, 0)\n",
        "arrDfWind.fillna(0, inplace = True)\n",
        "arrDfWind.head()"
      ],
      "execution_count": null,
      "outputs": [
        {
          "output_type": "execute_result",
          "data": {
            "text/html": [
              "<div>\n",
              "<style scoped>\n",
              "    .dataframe tbody tr th:only-of-type {\n",
              "        vertical-align: middle;\n",
              "    }\n",
              "\n",
              "    .dataframe tbody tr th {\n",
              "        vertical-align: top;\n",
              "    }\n",
              "\n",
              "    .dataframe thead th {\n",
              "        text-align: right;\n",
              "    }\n",
              "</style>\n",
              "<table border=\"1\" class=\"dataframe\">\n",
              "  <thead>\n",
              "    <tr style=\"text-align: right;\">\n",
              "      <th></th>\n",
              "      <th>0</th>\n",
              "      <th>1</th>\n",
              "      <th>2</th>\n",
              "      <th>3</th>\n",
              "      <th>4</th>\n",
              "      <th>5</th>\n",
              "      <th>0</th>\n",
              "    </tr>\n",
              "    <tr>\n",
              "      <th>id</th>\n",
              "      <th></th>\n",
              "      <th></th>\n",
              "      <th></th>\n",
              "      <th></th>\n",
              "      <th></th>\n",
              "      <th></th>\n",
              "      <th></th>\n",
              "    </tr>\n",
              "  </thead>\n",
              "  <tbody>\n",
              "    <tr>\n",
              "      <th>1</th>\n",
              "      <td>0.042762</td>\n",
              "      <td>0.285083</td>\n",
              "      <td>0.178747</td>\n",
              "      <td>0.001814</td>\n",
              "      <td>0.064377</td>\n",
              "      <td>0.057277</td>\n",
              "      <td>0.061985</td>\n",
              "    </tr>\n",
              "    <tr>\n",
              "      <th>2</th>\n",
              "      <td>0.057277</td>\n",
              "      <td>0.280663</td>\n",
              "      <td>0.209402</td>\n",
              "      <td>0.008767</td>\n",
              "      <td>0.186070</td>\n",
              "      <td>0.057277</td>\n",
              "      <td>0.073362</td>\n",
              "    </tr>\n",
              "    <tr>\n",
              "      <th>3</th>\n",
              "      <td>0.057277</td>\n",
              "      <td>0.279558</td>\n",
              "      <td>0.242738</td>\n",
              "      <td>0.019991</td>\n",
              "      <td>0.289892</td>\n",
              "      <td>0.061985</td>\n",
              "      <td>0.095724</td>\n",
              "    </tr>\n",
              "    <tr>\n",
              "      <th>4</th>\n",
              "      <td>0.061985</td>\n",
              "      <td>0.279558</td>\n",
              "      <td>0.270980</td>\n",
              "      <td>0.041160</td>\n",
              "      <td>0.364214</td>\n",
              "      <td>0.073362</td>\n",
              "      <td>0.117301</td>\n",
              "    </tr>\n",
              "    <tr>\n",
              "      <th>5</th>\n",
              "      <td>0.073362</td>\n",
              "      <td>0.255249</td>\n",
              "      <td>0.289794</td>\n",
              "      <td>0.067990</td>\n",
              "      <td>0.375570</td>\n",
              "      <td>0.095724</td>\n",
              "      <td>0.128286</td>\n",
              "    </tr>\n",
              "  </tbody>\n",
              "</table>\n",
              "</div>"
            ],
            "text/plain": [
              "           0         1         2         3         4         5         0\n",
              "id                                                                      \n",
              "1   0.042762  0.285083  0.178747  0.001814  0.064377  0.057277  0.061985\n",
              "2   0.057277  0.280663  0.209402  0.008767  0.186070  0.057277  0.073362\n",
              "3   0.057277  0.279558  0.242738  0.019991  0.289892  0.061985  0.095724\n",
              "4   0.061985  0.279558  0.270980  0.041160  0.364214  0.073362  0.117301\n",
              "5   0.073362  0.255249  0.289794  0.067990  0.375570  0.095724  0.128286"
            ]
          },
          "metadata": {
            "tags": []
          },
          "execution_count": 25
        }
      ]
    },
    {
      "cell_type": "code",
      "metadata": {
        "id": "El9LI-0UMi86",
        "colab_type": "code",
        "colab": {
          "base_uri": "https://localhost:8080/",
          "height": 34
        },
        "outputId": "c5cf7383-111f-49ad-d7da-67e89f1f3928"
      },
      "source": [
        "values = arrDfWind.values\n",
        "trainSample = int(len(dataPredWindOutput)*0.8)\n",
        "train = values[: trainSample, :]\n",
        "test = values[trainSample:, :]\n",
        "XTrain, yTrain = train[:, :-1], train[:, -1]\n",
        "XTest, yTest = test[:,:-1], test[:, -1]\n",
        "XTrain.shape, yTrain.shape, XTest.shape, yTest.shape"
      ],
      "execution_count": null,
      "outputs": [
        {
          "output_type": "execute_result",
          "data": {
            "text/plain": [
              "((13989, 6), (13989,), (3495, 6), (3495,))"
            ]
          },
          "metadata": {
            "tags": []
          },
          "execution_count": 26
        }
      ]
    },
    {
      "cell_type": "code",
      "metadata": {
        "id": "mr96m6zTMjDQ",
        "colab_type": "code",
        "colab": {
          "base_uri": "https://localhost:8080/",
          "height": 34
        },
        "outputId": "61ada0dd-302a-42c3-9d9b-facd7d124487"
      },
      "source": [
        "XTrain = XTrain.reshape((XTrain.shape[0], 1, XTrain.shape[1]))\n",
        "XTest = XTest.reshape((XTest.shape[0], 1, XTest.shape[1]))\n",
        "XTrain.shape, yTrain.shape, XTest.shape, yTest.shape"
      ],
      "execution_count": null,
      "outputs": [
        {
          "output_type": "execute_result",
          "data": {
            "text/plain": [
              "((13989, 1, 6), (13989,), (3495, 1, 6), (3495,))"
            ]
          },
          "metadata": {
            "tags": []
          },
          "execution_count": 27
        }
      ]
    },
    {
      "cell_type": "code",
      "metadata": {
        "id": "goDWzIldMjHr",
        "colab_type": "code",
        "colab": {
          "base_uri": "https://localhost:8080/",
          "height": 289
        },
        "outputId": "b367b9e1-d746-4b68-da57-5abdcd637c72"
      },
      "source": [
        "modelOne = Sequential()\n",
        "modelOne.add(LSTM(128, return_sequences = True, input_shape = (XTrain.shape[1], XTrain.shape[2])))\n",
        "modelOne.add(LSTM(units = 64, return_sequences=True))\n",
        "modelOne.add(LSTM(units = 32))\n",
        "modelOne.add(Dense(units = 1))\n",
        "modelOne.compile(loss = 'mae', optimizer = 'adam')\n",
        "modelOne.summary()"
      ],
      "execution_count": null,
      "outputs": [
        {
          "output_type": "stream",
          "text": [
            "Model: \"sequential_2\"\n",
            "_________________________________________________________________\n",
            "Layer (type)                 Output Shape              Param #   \n",
            "=================================================================\n",
            "lstm_4 (LSTM)                (None, 1, 128)            69120     \n",
            "_________________________________________________________________\n",
            "lstm_5 (LSTM)                (None, 1, 64)             49408     \n",
            "_________________________________________________________________\n",
            "lstm_6 (LSTM)                (None, 32)                12416     \n",
            "_________________________________________________________________\n",
            "dense_2 (Dense)              (None, 1)                 33        \n",
            "=================================================================\n",
            "Total params: 130,977\n",
            "Trainable params: 130,977\n",
            "Non-trainable params: 0\n",
            "_________________________________________________________________\n"
          ],
          "name": "stdout"
        }
      ]
    },
    {
      "cell_type": "code",
      "metadata": {
        "id": "X_wsLWLXMjMn",
        "colab_type": "code",
        "colab": {
          "base_uri": "https://localhost:8080/",
          "height": 1000
        },
        "outputId": "dfffd28c-4875-491a-c440-efe072637dc4"
      },
      "source": [
        "history = modelOne.fit(XTrain, yTrain, epochs= 50, batch_size=32, validation_split = 0.2, shuffle = False)"
      ],
      "execution_count": null,
      "outputs": [
        {
          "output_type": "stream",
          "text": [
            "Train on 11191 samples, validate on 2798 samples\n",
            "Epoch 1/50\n",
            "11191/11191 [==============================] - 3s 299us/step - loss: 0.0876 - val_loss: 0.0608\n",
            "Epoch 2/50\n",
            "11191/11191 [==============================] - 2s 188us/step - loss: 0.0586 - val_loss: 0.0557\n",
            "Epoch 3/50\n",
            "11191/11191 [==============================] - 2s 184us/step - loss: 0.0555 - val_loss: 0.0529\n",
            "Epoch 4/50\n",
            "11191/11191 [==============================] - 2s 183us/step - loss: 0.0533 - val_loss: 0.0515\n",
            "Epoch 5/50\n",
            "11191/11191 [==============================] - 2s 187us/step - loss: 0.0519 - val_loss: 0.0512\n",
            "Epoch 6/50\n",
            "11191/11191 [==============================] - 2s 188us/step - loss: 0.0510 - val_loss: 0.0539\n",
            "Epoch 7/50\n",
            "11191/11191 [==============================] - 2s 187us/step - loss: 0.0504 - val_loss: 0.0553\n",
            "Epoch 8/50\n",
            "11191/11191 [==============================] - 2s 190us/step - loss: 0.0501 - val_loss: 0.0552\n",
            "Epoch 9/50\n",
            "11191/11191 [==============================] - 2s 184us/step - loss: 0.0498 - val_loss: 0.0546\n",
            "Epoch 10/50\n",
            "11191/11191 [==============================] - 2s 183us/step - loss: 0.0498 - val_loss: 0.0533\n",
            "Epoch 11/50\n",
            "11191/11191 [==============================] - 2s 185us/step - loss: 0.0495 - val_loss: 0.0527\n",
            "Epoch 12/50\n",
            "11191/11191 [==============================] - 2s 187us/step - loss: 0.0495 - val_loss: 0.0523\n",
            "Epoch 13/50\n",
            "11191/11191 [==============================] - 2s 184us/step - loss: 0.0494 - val_loss: 0.0522\n",
            "Epoch 14/50\n",
            "11191/11191 [==============================] - 2s 186us/step - loss: 0.0492 - val_loss: 0.0512\n",
            "Epoch 15/50\n",
            "11191/11191 [==============================] - 2s 201us/step - loss: 0.0492 - val_loss: 0.0511\n",
            "Epoch 16/50\n",
            "11191/11191 [==============================] - 2s 211us/step - loss: 0.0491 - val_loss: 0.0521\n",
            "Epoch 17/50\n",
            "11191/11191 [==============================] - 2s 200us/step - loss: 0.0491 - val_loss: 0.0528\n",
            "Epoch 18/50\n",
            "11191/11191 [==============================] - 2s 182us/step - loss: 0.0490 - val_loss: 0.0514\n",
            "Epoch 19/50\n",
            "11191/11191 [==============================] - 2s 185us/step - loss: 0.0489 - val_loss: 0.0515\n",
            "Epoch 20/50\n",
            "11191/11191 [==============================] - 2s 181us/step - loss: 0.0490 - val_loss: 0.0521\n",
            "Epoch 21/50\n",
            "11191/11191 [==============================] - 2s 184us/step - loss: 0.0488 - val_loss: 0.0516\n",
            "Epoch 22/50\n",
            "11191/11191 [==============================] - 2s 189us/step - loss: 0.0488 - val_loss: 0.0519\n",
            "Epoch 23/50\n",
            "11191/11191 [==============================] - 2s 182us/step - loss: 0.0487 - val_loss: 0.0518\n",
            "Epoch 24/50\n",
            "11191/11191 [==============================] - 2s 184us/step - loss: 0.0488 - val_loss: 0.0512\n",
            "Epoch 25/50\n",
            "11191/11191 [==============================] - 2s 187us/step - loss: 0.0486 - val_loss: 0.0518\n",
            "Epoch 26/50\n",
            "11191/11191 [==============================] - 2s 191us/step - loss: 0.0487 - val_loss: 0.0523\n",
            "Epoch 27/50\n",
            "11191/11191 [==============================] - 2s 186us/step - loss: 0.0487 - val_loss: 0.0514\n",
            "Epoch 28/50\n",
            "11191/11191 [==============================] - 2s 188us/step - loss: 0.0486 - val_loss: 0.0510\n",
            "Epoch 29/50\n",
            "11191/11191 [==============================] - 2s 186us/step - loss: 0.0486 - val_loss: 0.0506\n",
            "Epoch 30/50\n",
            "11191/11191 [==============================] - 2s 186us/step - loss: 0.0484 - val_loss: 0.0506\n",
            "Epoch 31/50\n",
            "11191/11191 [==============================] - 2s 187us/step - loss: 0.0484 - val_loss: 0.0512\n",
            "Epoch 32/50\n",
            "11191/11191 [==============================] - 2s 190us/step - loss: 0.0483 - val_loss: 0.0512\n",
            "Epoch 33/50\n",
            "11191/11191 [==============================] - 2s 188us/step - loss: 0.0484 - val_loss: 0.0512\n",
            "Epoch 34/50\n",
            "11191/11191 [==============================] - 2s 186us/step - loss: 0.0484 - val_loss: 0.0510\n",
            "Epoch 35/50\n",
            "11191/11191 [==============================] - 2s 185us/step - loss: 0.0483 - val_loss: 0.0507\n",
            "Epoch 36/50\n",
            "11191/11191 [==============================] - 2s 186us/step - loss: 0.0482 - val_loss: 0.0504\n",
            "Epoch 37/50\n",
            "11191/11191 [==============================] - 2s 187us/step - loss: 0.0482 - val_loss: 0.0509\n",
            "Epoch 38/50\n",
            "11191/11191 [==============================] - 2s 185us/step - loss: 0.0482 - val_loss: 0.0505\n",
            "Epoch 39/50\n",
            "11191/11191 [==============================] - 2s 187us/step - loss: 0.0481 - val_loss: 0.0505\n",
            "Epoch 40/50\n",
            "11191/11191 [==============================] - 2s 188us/step - loss: 0.0482 - val_loss: 0.0503\n",
            "Epoch 41/50\n",
            "11191/11191 [==============================] - 2s 184us/step - loss: 0.0482 - val_loss: 0.0507\n",
            "Epoch 42/50\n",
            "11191/11191 [==============================] - 2s 191us/step - loss: 0.0481 - val_loss: 0.0507\n",
            "Epoch 43/50\n",
            "11191/11191 [==============================] - 2s 186us/step - loss: 0.0481 - val_loss: 0.0501\n",
            "Epoch 44/50\n",
            "11191/11191 [==============================] - 2s 188us/step - loss: 0.0481 - val_loss: 0.0501\n",
            "Epoch 45/50\n",
            "11191/11191 [==============================] - 2s 188us/step - loss: 0.0479 - val_loss: 0.0507\n",
            "Epoch 46/50\n",
            "11191/11191 [==============================] - 2s 190us/step - loss: 0.0481 - val_loss: 0.0503\n",
            "Epoch 47/50\n",
            "11191/11191 [==============================] - 2s 189us/step - loss: 0.0481 - val_loss: 0.0503\n",
            "Epoch 48/50\n",
            "11191/11191 [==============================] - 2s 186us/step - loss: 0.0480 - val_loss: 0.0501\n",
            "Epoch 49/50\n",
            "11191/11191 [==============================] - 2s 185us/step - loss: 0.0480 - val_loss: 0.0500\n",
            "Epoch 50/50\n",
            "11191/11191 [==============================] - 2s 188us/step - loss: 0.0479 - val_loss: 0.0502\n"
          ],
          "name": "stdout"
        }
      ]
    },
    {
      "cell_type": "code",
      "metadata": {
        "id": "fJsH_unHMjS0",
        "colab_type": "code",
        "colab": {
          "base_uri": "https://localhost:8080/",
          "height": 68
        },
        "outputId": "fa93008d-e8b6-440e-b71b-755319e792ba"
      },
      "source": [
        "#Making predictions\n",
        "yPred = modelOne.predict(XTest)\n",
        "XTest = XTest.reshape((XTest.shape[0],XTest.shape[2]))\n",
        "invyPred = np.concatenate((yPred, XTest[:, 1:]), axis = 1)\n",
        "invyPred = scalerTwo.inverse_transform(invyPred)\n",
        "invyPred = invyPred[:, 0]\n",
        "\n",
        "yTest = yTest.reshape((len(yTest), 1))\n",
        "invyTest = np.concatenate((yTest, XTest[:, 1:]), axis = 1)\n",
        "invyTest = scalerTwo.inverse_transform(invyTest)\n",
        "invyTest = invyTest[:, 0]\n",
        "\n",
        "print(f'Mean absolute error {mean_absolute_error(invyTest, invyPred)}')\n",
        "print(f'Mean squared error {mean_squared_error(invyTest, invyPred)}')\n",
        "print(f'R2_Score {r2_score(invyTest, invyPred)}')"
      ],
      "execution_count": null,
      "outputs": [
        {
          "output_type": "stream",
          "text": [
            "Mean absolute error 107.15763367960211\n",
            "Mean squared error 28197.646247335262\n",
            "R2_Score 0.9293269011163046\n"
          ],
          "name": "stdout"
        }
      ]
    },
    {
      "cell_type": "code",
      "metadata": {
        "id": "HOt2n2MaMjYV",
        "colab_type": "code",
        "colab": {
          "base_uri": "https://localhost:8080/",
          "height": 282
        },
        "outputId": "05b6cd76-7b0d-40e3-de37-94d5faa1f8d3"
      },
      "source": [
        "plt.plot(invyTest[:1000])\n",
        "plt.plot(invyPred[:1000])"
      ],
      "execution_count": null,
      "outputs": [
        {
          "output_type": "execute_result",
          "data": {
            "text/plain": [
              "[<matplotlib.lines.Line2D at 0x7f1473d7ed30>]"
            ]
          },
          "metadata": {
            "tags": []
          },
          "execution_count": 31
        },
        {
          "output_type": "display_data",
          "data": {
            "image/png": "[encoded data removed]",
            "text/plain": [
              "<Figure size 432x288 with 1 Axes>"
            ]
          },
          "metadata": {
            "tags": [],
            "needs_background": "light"
          }
        }
      ]
    },
    {
      "cell_type": "markdown",
      "metadata": {
        "id": "nPmsz5kAI9cZ",
        "colab_type": "text"
      },
      "source": [
        "# Demand forecasting model\n",
        "\n"
      ]
    },
    {
      "cell_type": "code",
      "metadata": {
        "id": "2G8yjUffI9im",
        "colab_type": "code",
        "colab": {
          "base_uri": "https://localhost:8080/",
          "height": 306
        },
        "outputId": "941101d1-238c-4d34-b1a0-f13c9bde71e5"
      },
      "source": [
        "#Selecting the feature variables and target variables for a Multivariate LSTM\n",
        "dataPredDemand = dataRequired[['AT_load_actual_entsoe_power_statistics', 'AT_windspeed_10m', 'AT_temperature', 'AT_radiation_direct_horizontal', 'AT_radiation_diffuse_horizontal']]\n",
        "dataPredDemand['pred'] = dataPredDemand['AT_load_actual_entsoe_power_statistics'].shift(-1)\n",
        "dataPredDemand = dataPredDemand.dropna()\n",
        "dataPredDemand.head()"
      ],
      "execution_count": null,
      "outputs": [
        {
          "output_type": "stream",
          "text": [
            "/usr/local/lib/python3.6/dist-packages/ipykernel_launcher.py:3: SettingWithCopyWarning: \n",
            "A value is trying to be set on a copy of a slice from a DataFrame.\n",
            "Try using .loc[row_indexer,col_indexer] = value instead\n",
            "\n",
            "See the caveats in the documentation: https://pandas.pydata.org/pandas-docs/stable/user_guide/indexing.html#returning-a-view-versus-a-copy\n",
            "  This is separate from the ipykernel package so we can avoid doing imports until\n"
          ],
          "name": "stderr"
        },
        {
          "output_type": "execute_result",
          "data": {
            "text/html": [
              "<div>\n",
              "<style scoped>\n",
              "    .dataframe tbody tr th:only-of-type {\n",
              "        vertical-align: middle;\n",
              "    }\n",
              "\n",
              "    .dataframe tbody tr th {\n",
              "        vertical-align: top;\n",
              "    }\n",
              "\n",
              "    .dataframe thead th {\n",
              "        text-align: right;\n",
              "    }\n",
              "</style>\n",
              "<table border=\"1\" class=\"dataframe\">\n",
              "  <thead>\n",
              "    <tr style=\"text-align: right;\">\n",
              "      <th></th>\n",
              "      <th>AT_load_actual_entsoe_power_statistics</th>\n",
              "      <th>AT_windspeed_10m</th>\n",
              "      <th>AT_temperature</th>\n",
              "      <th>AT_radiation_direct_horizontal</th>\n",
              "      <th>AT_radiation_diffuse_horizontal</th>\n",
              "      <th>pred</th>\n",
              "    </tr>\n",
              "  </thead>\n",
              "  <tbody>\n",
              "    <tr>\n",
              "      <th>0</th>\n",
              "      <td>7035.0</td>\n",
              "      <td>3.27</td>\n",
              "      <td>-4.179</td>\n",
              "      <td>1.5614</td>\n",
              "      <td>25.9639</td>\n",
              "      <td>7394.0</td>\n",
              "    </tr>\n",
              "    <tr>\n",
              "      <th>1</th>\n",
              "      <td>7394.0</td>\n",
              "      <td>3.23</td>\n",
              "      <td>-2.807</td>\n",
              "      <td>7.5467</td>\n",
              "      <td>75.0443</td>\n",
              "      <td>7770.0</td>\n",
              "    </tr>\n",
              "    <tr>\n",
              "      <th>2</th>\n",
              "      <td>7770.0</td>\n",
              "      <td>3.22</td>\n",
              "      <td>-1.315</td>\n",
              "      <td>17.2073</td>\n",
              "      <td>116.9171</td>\n",
              "      <td>7820.0</td>\n",
              "    </tr>\n",
              "    <tr>\n",
              "      <th>3</th>\n",
              "      <td>7820.0</td>\n",
              "      <td>3.22</td>\n",
              "      <td>-0.051</td>\n",
              "      <td>35.4289</td>\n",
              "      <td>146.8923</td>\n",
              "      <td>7694.0</td>\n",
              "    </tr>\n",
              "    <tr>\n",
              "      <th>4</th>\n",
              "      <td>7694.0</td>\n",
              "      <td>3.00</td>\n",
              "      <td>0.791</td>\n",
              "      <td>58.5238</td>\n",
              "      <td>151.4721</td>\n",
              "      <td>7565.0</td>\n",
              "    </tr>\n",
              "  </tbody>\n",
              "</table>\n",
              "</div>"
            ],
            "text/plain": [
              "   AT_load_actual_entsoe_power_statistics  ...    pred\n",
              "0                                  7035.0  ...  7394.0\n",
              "1                                  7394.0  ...  7770.0\n",
              "2                                  7770.0  ...  7820.0\n",
              "3                                  7820.0  ...  7694.0\n",
              "4                                  7694.0  ...  7565.0\n",
              "\n",
              "[5 rows x 6 columns]"
            ]
          },
          "metadata": {
            "tags": []
          },
          "execution_count": 32
        }
      ]
    },
    {
      "cell_type": "code",
      "metadata": {
        "id": "GXhErqcBI9qV",
        "colab_type": "code",
        "colab": {
          "base_uri": "https://localhost:8080/",
          "height": 204
        },
        "outputId": "c306a8fc-8208-4894-cd4a-7ed76136940d"
      },
      "source": [
        "scalerThree = MinMaxScaler(feature_range=(0,1))\n",
        "demandScaled = scalerThree.fit_transform(dataPredDemand.values)\n",
        "demandScaled = pd.DataFrame(windScaled)\n",
        "demandScaled.head()"
      ],
      "execution_count": null,
      "outputs": [
        {
          "output_type": "execute_result",
          "data": {
            "text/html": [
              "<div>\n",
              "<style scoped>\n",
              "    .dataframe tbody tr th:only-of-type {\n",
              "        vertical-align: middle;\n",
              "    }\n",
              "\n",
              "    .dataframe tbody tr th {\n",
              "        vertical-align: top;\n",
              "    }\n",
              "\n",
              "    .dataframe thead th {\n",
              "        text-align: right;\n",
              "    }\n",
              "</style>\n",
              "<table border=\"1\" class=\"dataframe\">\n",
              "  <thead>\n",
              "    <tr style=\"text-align: right;\">\n",
              "      <th></th>\n",
              "      <th>0</th>\n",
              "      <th>1</th>\n",
              "      <th>2</th>\n",
              "      <th>3</th>\n",
              "      <th>4</th>\n",
              "      <th>5</th>\n",
              "    </tr>\n",
              "  </thead>\n",
              "  <tbody>\n",
              "    <tr>\n",
              "      <th>0</th>\n",
              "      <td>0.042762</td>\n",
              "      <td>0.285083</td>\n",
              "      <td>0.178747</td>\n",
              "      <td>0.001814</td>\n",
              "      <td>0.064377</td>\n",
              "      <td>0.057277</td>\n",
              "    </tr>\n",
              "    <tr>\n",
              "      <th>1</th>\n",
              "      <td>0.057277</td>\n",
              "      <td>0.280663</td>\n",
              "      <td>0.209402</td>\n",
              "      <td>0.008767</td>\n",
              "      <td>0.186070</td>\n",
              "      <td>0.057277</td>\n",
              "    </tr>\n",
              "    <tr>\n",
              "      <th>2</th>\n",
              "      <td>0.057277</td>\n",
              "      <td>0.279558</td>\n",
              "      <td>0.242738</td>\n",
              "      <td>0.019991</td>\n",
              "      <td>0.289892</td>\n",
              "      <td>0.061985</td>\n",
              "    </tr>\n",
              "    <tr>\n",
              "      <th>3</th>\n",
              "      <td>0.061985</td>\n",
              "      <td>0.279558</td>\n",
              "      <td>0.270980</td>\n",
              "      <td>0.041160</td>\n",
              "      <td>0.364214</td>\n",
              "      <td>0.073362</td>\n",
              "    </tr>\n",
              "    <tr>\n",
              "      <th>4</th>\n",
              "      <td>0.073362</td>\n",
              "      <td>0.255249</td>\n",
              "      <td>0.289794</td>\n",
              "      <td>0.067990</td>\n",
              "      <td>0.375570</td>\n",
              "      <td>0.095724</td>\n",
              "    </tr>\n",
              "  </tbody>\n",
              "</table>\n",
              "</div>"
            ],
            "text/plain": [
              "          0         1         2         3         4         5\n",
              "0  0.042762  0.285083  0.178747  0.001814  0.064377  0.057277\n",
              "1  0.057277  0.280663  0.209402  0.008767  0.186070  0.057277\n",
              "2  0.057277  0.279558  0.242738  0.019991  0.289892  0.061985\n",
              "3  0.061985  0.279558  0.270980  0.041160  0.364214  0.073362\n",
              "4  0.073362  0.255249  0.289794  0.067990  0.375570  0.095724"
            ]
          },
          "metadata": {
            "tags": []
          },
          "execution_count": 33
        }
      ]
    },
    {
      "cell_type": "code",
      "metadata": {
        "id": "SZ9jCYq9I9vZ",
        "colab_type": "code",
        "colab": {
          "base_uri": "https://localhost:8080/",
          "height": 235
        },
        "outputId": "262535af-7891-450c-e642-424587b61447"
      },
      "source": [
        "arrDfDemand = seriesToSupervised(demandScaled, 3, 0)\n",
        "arrDfDemand.fillna(0, inplace = True)\n",
        "arrDfDemand.head()"
      ],
      "execution_count": null,
      "outputs": [
        {
          "output_type": "execute_result",
          "data": {
            "text/html": [
              "<div>\n",
              "<style scoped>\n",
              "    .dataframe tbody tr th:only-of-type {\n",
              "        vertical-align: middle;\n",
              "    }\n",
              "\n",
              "    .dataframe tbody tr th {\n",
              "        vertical-align: top;\n",
              "    }\n",
              "\n",
              "    .dataframe thead th {\n",
              "        text-align: right;\n",
              "    }\n",
              "</style>\n",
              "<table border=\"1\" class=\"dataframe\">\n",
              "  <thead>\n",
              "    <tr style=\"text-align: right;\">\n",
              "      <th></th>\n",
              "      <th>0</th>\n",
              "      <th>1</th>\n",
              "      <th>2</th>\n",
              "      <th>3</th>\n",
              "      <th>4</th>\n",
              "      <th>5</th>\n",
              "      <th>0</th>\n",
              "    </tr>\n",
              "    <tr>\n",
              "      <th>id</th>\n",
              "      <th></th>\n",
              "      <th></th>\n",
              "      <th></th>\n",
              "      <th></th>\n",
              "      <th></th>\n",
              "      <th></th>\n",
              "      <th></th>\n",
              "    </tr>\n",
              "  </thead>\n",
              "  <tbody>\n",
              "    <tr>\n",
              "      <th>1</th>\n",
              "      <td>0.042762</td>\n",
              "      <td>0.285083</td>\n",
              "      <td>0.178747</td>\n",
              "      <td>0.001814</td>\n",
              "      <td>0.064377</td>\n",
              "      <td>0.057277</td>\n",
              "      <td>0.061985</td>\n",
              "    </tr>\n",
              "    <tr>\n",
              "      <th>2</th>\n",
              "      <td>0.057277</td>\n",
              "      <td>0.280663</td>\n",
              "      <td>0.209402</td>\n",
              "      <td>0.008767</td>\n",
              "      <td>0.186070</td>\n",
              "      <td>0.057277</td>\n",
              "      <td>0.073362</td>\n",
              "    </tr>\n",
              "    <tr>\n",
              "      <th>3</th>\n",
              "      <td>0.057277</td>\n",
              "      <td>0.279558</td>\n",
              "      <td>0.242738</td>\n",
              "      <td>0.019991</td>\n",
              "      <td>0.289892</td>\n",
              "      <td>0.061985</td>\n",
              "      <td>0.095724</td>\n",
              "    </tr>\n",
              "    <tr>\n",
              "      <th>4</th>\n",
              "      <td>0.061985</td>\n",
              "      <td>0.279558</td>\n",
              "      <td>0.270980</td>\n",
              "      <td>0.041160</td>\n",
              "      <td>0.364214</td>\n",
              "      <td>0.073362</td>\n",
              "      <td>0.117301</td>\n",
              "    </tr>\n",
              "    <tr>\n",
              "      <th>5</th>\n",
              "      <td>0.073362</td>\n",
              "      <td>0.255249</td>\n",
              "      <td>0.289794</td>\n",
              "      <td>0.067990</td>\n",
              "      <td>0.375570</td>\n",
              "      <td>0.095724</td>\n",
              "      <td>0.128286</td>\n",
              "    </tr>\n",
              "  </tbody>\n",
              "</table>\n",
              "</div>"
            ],
            "text/plain": [
              "           0         1         2         3         4         5         0\n",
              "id                                                                      \n",
              "1   0.042762  0.285083  0.178747  0.001814  0.064377  0.057277  0.061985\n",
              "2   0.057277  0.280663  0.209402  0.008767  0.186070  0.057277  0.073362\n",
              "3   0.057277  0.279558  0.242738  0.019991  0.289892  0.061985  0.095724\n",
              "4   0.061985  0.279558  0.270980  0.041160  0.364214  0.073362  0.117301\n",
              "5   0.073362  0.255249  0.289794  0.067990  0.375570  0.095724  0.128286"
            ]
          },
          "metadata": {
            "tags": []
          },
          "execution_count": 34
        }
      ]
    },
    {
      "cell_type": "code",
      "metadata": {
        "id": "Uk5iCoOGI92R",
        "colab_type": "code",
        "colab": {
          "base_uri": "https://localhost:8080/",
          "height": 34
        },
        "outputId": "2513071d-a50c-482d-ff8e-8e6cd5f864e8"
      },
      "source": [
        "values = arrDfDemand.values\n",
        "trainSample = int(len(dataPredDemand)*0.8)\n",
        "train = values[: trainSample, :]\n",
        "test = values[trainSample:, :]\n",
        "XTrain, yTrain = train[:, :-1], train[:, -1]\n",
        "XTest, yTest = test[:,:-1], test[:, -1]\n",
        "XTrain.shape, yTrain.shape, XTest.shape, yTest.shape"
      ],
      "execution_count": null,
      "outputs": [
        {
          "output_type": "execute_result",
          "data": {
            "text/plain": [
              "((13989, 6), (13989,), (3495, 6), (3495,))"
            ]
          },
          "metadata": {
            "tags": []
          },
          "execution_count": 35
        }
      ]
    },
    {
      "cell_type": "code",
      "metadata": {
        "id": "aX7knJAtI98c",
        "colab_type": "code",
        "colab": {
          "base_uri": "https://localhost:8080/",
          "height": 34
        },
        "outputId": "835a8e2f-a8d6-4152-a53e-ed5d0c490526"
      },
      "source": [
        "XTrain = XTrain.reshape((XTrain.shape[0], 1, XTrain.shape[1]))\n",
        "XTest = XTest.reshape((XTest.shape[0], 1, XTest.shape[1]))\n",
        "XTrain.shape, yTrain.shape, XTest.shape, yTest.shape"
      ],
      "execution_count": null,
      "outputs": [
        {
          "output_type": "execute_result",
          "data": {
            "text/plain": [
              "((13989, 1, 6), (13989,), (3495, 1, 6), (3495,))"
            ]
          },
          "metadata": {
            "tags": []
          },
          "execution_count": 36
        }
      ]
    },
    {
      "cell_type": "code",
      "metadata": {
        "id": "6Z6OL9XpI-C0",
        "colab_type": "code",
        "colab": {
          "base_uri": "https://localhost:8080/",
          "height": 289
        },
        "outputId": "ff0736d6-ef87-40a6-b292-c590081d6861"
      },
      "source": [
        "modelTwo = Sequential()\n",
        "modelTwo.add(LSTM(75, return_sequences = True, input_shape = (XTrain.shape[1], XTrain.shape[2])))\n",
        "modelTwo.add(LSTM(units = 50, return_sequences=True))\n",
        "modelTwo.add(LSTM(units = 30))\n",
        "modelTwo.add(Dense(units = 1))\n",
        "modelTwo.compile(loss = 'mae', optimizer = 'adam')\n",
        "modelTwo.summary()"
      ],
      "execution_count": null,
      "outputs": [
        {
          "output_type": "stream",
          "text": [
            "Model: \"sequential_3\"\n",
            "_________________________________________________________________\n",
            "Layer (type)                 Output Shape              Param #   \n",
            "=================================================================\n",
            "lstm_7 (LSTM)                (None, 1, 75)             24600     \n",
            "_________________________________________________________________\n",
            "lstm_8 (LSTM)                (None, 1, 50)             25200     \n",
            "_________________________________________________________________\n",
            "lstm_9 (LSTM)                (None, 30)                9720      \n",
            "_________________________________________________________________\n",
            "dense_3 (Dense)              (None, 1)                 31        \n",
            "=================================================================\n",
            "Total params: 59,551\n",
            "Trainable params: 59,551\n",
            "Non-trainable params: 0\n",
            "_________________________________________________________________\n"
          ],
          "name": "stdout"
        }
      ]
    },
    {
      "cell_type": "code",
      "metadata": {
        "id": "P8dF_np9I-JE",
        "colab_type": "code",
        "colab": {
          "base_uri": "https://localhost:8080/",
          "height": 1000
        },
        "outputId": "d6f305cf-0bc4-459b-baad-8c27d078670e"
      },
      "source": [
        "history = modelTwo.fit(XTrain, yTrain, epochs= 50, batch_size=32, validation_split = 0.2, shuffle = False)"
      ],
      "execution_count": null,
      "outputs": [
        {
          "output_type": "stream",
          "text": [
            "Train on 11191 samples, validate on 2798 samples\n",
            "Epoch 1/50\n",
            "11191/11191 [==============================] - 3s 261us/step - loss: 0.0915 - val_loss: 0.0619\n",
            "Epoch 2/50\n",
            "11191/11191 [==============================] - 2s 144us/step - loss: 0.0595 - val_loss: 0.0578\n",
            "Epoch 3/50\n",
            "11191/11191 [==============================] - 2s 154us/step - loss: 0.0567 - val_loss: 0.0550\n",
            "Epoch 4/50\n",
            "11191/11191 [==============================] - 2s 148us/step - loss: 0.0545 - val_loss: 0.0536\n",
            "Epoch 5/50\n",
            "11191/11191 [==============================] - 2s 150us/step - loss: 0.0528 - val_loss: 0.0518\n",
            "Epoch 6/50\n",
            "11191/11191 [==============================] - 2s 150us/step - loss: 0.0509 - val_loss: 0.0513\n",
            "Epoch 7/50\n",
            "11191/11191 [==============================] - 2s 150us/step - loss: 0.0505 - val_loss: 0.0539\n",
            "Epoch 8/50\n",
            "11191/11191 [==============================] - 2s 152us/step - loss: 0.0499 - val_loss: 0.0527\n",
            "Epoch 9/50\n",
            "11191/11191 [==============================] - 2s 151us/step - loss: 0.0497 - val_loss: 0.0517\n",
            "Epoch 10/50\n",
            "11191/11191 [==============================] - 2s 147us/step - loss: 0.0495 - val_loss: 0.0520\n",
            "Epoch 11/50\n",
            "11191/11191 [==============================] - 2s 151us/step - loss: 0.0493 - val_loss: 0.0514\n",
            "Epoch 12/50\n",
            "11191/11191 [==============================] - 2s 151us/step - loss: 0.0491 - val_loss: 0.0511\n",
            "Epoch 13/50\n",
            "11191/11191 [==============================] - 2s 153us/step - loss: 0.0490 - val_loss: 0.0516\n",
            "Epoch 14/50\n",
            "11191/11191 [==============================] - 2s 150us/step - loss: 0.0490 - val_loss: 0.0513\n",
            "Epoch 15/50\n",
            "11191/11191 [==============================] - 2s 151us/step - loss: 0.0488 - val_loss: 0.0512\n",
            "Epoch 16/50\n",
            "11191/11191 [==============================] - 2s 151us/step - loss: 0.0488 - val_loss: 0.0513\n",
            "Epoch 17/50\n",
            "11191/11191 [==============================] - 2s 152us/step - loss: 0.0487 - val_loss: 0.0507\n",
            "Epoch 18/50\n",
            "11191/11191 [==============================] - 2s 147us/step - loss: 0.0485 - val_loss: 0.0505\n",
            "Epoch 19/50\n",
            "11191/11191 [==============================] - 2s 147us/step - loss: 0.0486 - val_loss: 0.0507\n",
            "Epoch 20/50\n",
            "11191/11191 [==============================] - 2s 148us/step - loss: 0.0486 - val_loss: 0.0504\n",
            "Epoch 21/50\n",
            "11191/11191 [==============================] - 2s 151us/step - loss: 0.0484 - val_loss: 0.0505\n",
            "Epoch 22/50\n",
            "11191/11191 [==============================] - 2s 152us/step - loss: 0.0484 - val_loss: 0.0506\n",
            "Epoch 23/50\n",
            "11191/11191 [==============================] - 2s 149us/step - loss: 0.0484 - val_loss: 0.0504\n",
            "Epoch 24/50\n",
            "11191/11191 [==============================] - 2s 149us/step - loss: 0.0485 - val_loss: 0.0508\n",
            "Epoch 25/50\n",
            "11191/11191 [==============================] - 2s 147us/step - loss: 0.0484 - val_loss: 0.0504\n",
            "Epoch 26/50\n",
            "11191/11191 [==============================] - 2s 149us/step - loss: 0.0483 - val_loss: 0.0504\n",
            "Epoch 27/50\n",
            "11191/11191 [==============================] - 2s 153us/step - loss: 0.0483 - val_loss: 0.0505\n",
            "Epoch 28/50\n",
            "11191/11191 [==============================] - 2s 147us/step - loss: 0.0482 - val_loss: 0.0505\n",
            "Epoch 29/50\n",
            "11191/11191 [==============================] - 2s 148us/step - loss: 0.0482 - val_loss: 0.0507\n",
            "Epoch 30/50\n",
            "11191/11191 [==============================] - 2s 150us/step - loss: 0.0482 - val_loss: 0.0504\n",
            "Epoch 31/50\n",
            "11191/11191 [==============================] - 2s 146us/step - loss: 0.0481 - val_loss: 0.0505\n",
            "Epoch 32/50\n",
            "11191/11191 [==============================] - 2s 152us/step - loss: 0.0482 - val_loss: 0.0505\n",
            "Epoch 33/50\n",
            "11191/11191 [==============================] - 2s 147us/step - loss: 0.0481 - val_loss: 0.0505\n",
            "Epoch 34/50\n",
            "11191/11191 [==============================] - 2s 147us/step - loss: 0.0482 - val_loss: 0.0503\n",
            "Epoch 35/50\n",
            "11191/11191 [==============================] - 2s 147us/step - loss: 0.0480 - val_loss: 0.0499\n",
            "Epoch 36/50\n",
            "11191/11191 [==============================] - 2s 150us/step - loss: 0.0480 - val_loss: 0.0503\n",
            "Epoch 37/50\n",
            "11191/11191 [==============================] - 2s 149us/step - loss: 0.0481 - val_loss: 0.0501\n",
            "Epoch 38/50\n",
            "11191/11191 [==============================] - 2s 144us/step - loss: 0.0481 - val_loss: 0.0499\n",
            "Epoch 39/50\n",
            "11191/11191 [==============================] - 2s 153us/step - loss: 0.0480 - val_loss: 0.0499\n",
            "Epoch 40/50\n",
            "11191/11191 [==============================] - 2s 147us/step - loss: 0.0479 - val_loss: 0.0502\n",
            "Epoch 41/50\n",
            "11191/11191 [==============================] - 2s 148us/step - loss: 0.0480 - val_loss: 0.0500\n",
            "Epoch 42/50\n",
            "11191/11191 [==============================] - 2s 150us/step - loss: 0.0480 - val_loss: 0.0505\n",
            "Epoch 43/50\n",
            "11191/11191 [==============================] - 2s 147us/step - loss: 0.0480 - val_loss: 0.0501\n",
            "Epoch 44/50\n",
            "11191/11191 [==============================] - 2s 150us/step - loss: 0.0480 - val_loss: 0.0500\n",
            "Epoch 45/50\n",
            "11191/11191 [==============================] - 2s 150us/step - loss: 0.0479 - val_loss: 0.0501\n",
            "Epoch 46/50\n",
            "11191/11191 [==============================] - 2s 147us/step - loss: 0.0480 - val_loss: 0.0500\n",
            "Epoch 47/50\n",
            "11191/11191 [==============================] - 2s 141us/step - loss: 0.0478 - val_loss: 0.0500\n",
            "Epoch 48/50\n",
            "11191/11191 [==============================] - 2s 153us/step - loss: 0.0479 - val_loss: 0.0501\n",
            "Epoch 49/50\n",
            "11191/11191 [==============================] - 2s 147us/step - loss: 0.0479 - val_loss: 0.0500\n",
            "Epoch 50/50\n",
            "11191/11191 [==============================] - 2s 149us/step - loss: 0.0478 - val_loss: 0.0499\n"
          ],
          "name": "stdout"
        }
      ]
    },
    {
      "cell_type": "code",
      "metadata": {
        "id": "UXARNmWgI-P5",
        "colab_type": "code",
        "colab": {
          "base_uri": "https://localhost:8080/",
          "height": 68
        },
        "outputId": "a101ffc9-5b94-4b49-c053-ef0a7639c868"
      },
      "source": [
        "#Making predictions\n",
        "yPred = modelTwo.predict(XTest)\n",
        "XTest = XTest.reshape((XTest.shape[0],XTest.shape[2]))\n",
        "invyPred = np.concatenate((yPred, XTest[:, 1:]), axis = 1)\n",
        "invyPred = scalerThree.inverse_transform(invyPred)\n",
        "invyPred = invyPred[:, 0]\n",
        "\n",
        "yTest = yTest.reshape((len(yTest), 1))\n",
        "invyTest = np.concatenate((yTest, XTest[:, 1:]), axis = 1)\n",
        "invyTest = scalerThree.inverse_transform(invyTest)\n",
        "invyTest = invyTest[:, 0]\n",
        "\n",
        "print(f'Mean absolute error {mean_absolute_error(invyTest, invyPred)}')\n",
        "print(f'Mean squared error {mean_squared_error(invyTest, invyPred)}')\n",
        "print(f'R2_Score {r2_score(invyTest, invyPred)}')"
      ],
      "execution_count": null,
      "outputs": [
        {
          "output_type": "stream",
          "text": [
            "Mean absolute error 296.0471314543749\n",
            "Mean squared error 214831.2987966421\n",
            "R2_Score 0.9298904594940975\n"
          ],
          "name": "stdout"
        }
      ]
    },
    {
      "cell_type": "code",
      "metadata": {
        "id": "1WjauTNhI-WB",
        "colab_type": "code",
        "colab": {
          "base_uri": "https://localhost:8080/",
          "height": 282
        },
        "outputId": "56ad0b00-be99-4677-fe9e-1d99f517f741"
      },
      "source": [
        "plt.plot(invyPred[:1000])\n",
        "plt.plot(invyTest[:1000])"
      ],
      "execution_count": null,
      "outputs": [
        {
          "output_type": "execute_result",
          "data": {
            "text/plain": [
              "[<matplotlib.lines.Line2D at 0x7f14735626d8>]"
            ]
          },
          "metadata": {
            "tags": []
          },
          "execution_count": 40
        },
        {
          "output_type": "display_data",
          "data": {
            "image/png": "[encoded data removed]",
            "text/plain": [
              "<Figure size 432x288 with 1 Axes>"
            ]
          },
          "metadata": {
            "tags": [],
            "needs_background": "light"
          }
        }
      ]
    },
    {
      "cell_type": "markdown",
      "metadata": {
        "id": "2CpzLa-OORVf",
        "colab_type": "text"
      },
      "source": [
        "# Uploading the model parameters to drive\n",
        "\n"
      ]
    },
    {
      "cell_type": "code",
      "metadata": {
        "id": "Mzdvb_7hI-dk",
        "colab_type": "code",
        "colab": {
          "base_uri": "https://localhost:8080/",
          "height": 34
        },
        "outputId": "2361607e-1380-4348-baf2-802df81830cd"
      },
      "source": [
        "from google.colab import drive\n",
        "drive.mount('/content/drive')"
      ],
      "execution_count": 151,
      "outputs": [
        {
          "output_type": "stream",
          "text": [
            "Mounted at /content/drive\n"
          ],
          "name": "stdout"
        }
      ]
    },
    {
      "cell_type": "code",
      "metadata": {
        "id": "u7ro4nTbI-jv",
        "colab_type": "code",
        "colab": {}
      },
      "source": [
        "model.save('/content/drive/My Drive/SolarEnergyGenerationForecasting.h5')"
      ],
      "execution_count": null,
      "outputs": []
    },
    {
      "cell_type": "code",
      "metadata": {
        "id": "1y8CZhNTI-p9",
        "colab_type": "code",
        "colab": {}
      },
      "source": [
        "modelOne.save('/content/drive/My Drive/WinEnergyGenerationForecasting.h5')"
      ],
      "execution_count": null,
      "outputs": []
    },
    {
      "cell_type": "code",
      "metadata": {
        "id": "u5FqbiiSI-w1",
        "colab_type": "code",
        "colab": {}
      },
      "source": [
        "modelTwo.save('/content/drive/My Drive/DemandForecasting.h5')"
      ],
      "execution_count": null,
      "outputs": []
    },
    {
      "cell_type": "markdown",
      "metadata": {
        "id": "wZRSkWcOI-39",
        "colab_type": "text"
      },
      "source": [
        "# The simulation cum forecasting model\n"
      ]
    },
    {
      "cell_type": "code",
      "metadata": {
        "id": "JnUk1bzvI-9u",
        "colab_type": "code",
        "colab": {}
      },
      "source": [
        "#Having the data in hand and in the right format"
      ],
      "execution_count": null,
      "outputs": []
    },
    {
      "cell_type": "code",
      "metadata": {
        "id": "blcIUKi8I_EZ",
        "colab_type": "code",
        "colab": {
          "base_uri": "https://localhost:8080/",
          "height": 34
        },
        "outputId": "e53106cf-8eac-4df6-a39c-d121e8974eb2"
      },
      "source": [
        "#Demand model input\n",
        "values = arrDfDemand.values\n",
        "trainSample = int(len(dataPredDemand)*0.8)\n",
        "testDemand = values[trainSample:, :]\n",
        "XTestDemand, yTestDemand = testDemand[:,:-1], testDemand[:, -1]\n",
        "XTestDemand = XTestDemand.reshape((XTestDemand.shape[0], 1, XTestDemand.shape[1]))\n",
        "XTestDemand.shape, yTestDemand.shape"
      ],
      "execution_count": null,
      "outputs": [
        {
          "output_type": "execute_result",
          "data": {
            "text/plain": [
              "((3495, 1, 6), (3495,))"
            ]
          },
          "metadata": {
            "tags": []
          },
          "execution_count": 43
        }
      ]
    },
    {
      "cell_type": "code",
      "metadata": {
        "id": "HOe1302mI_Kz",
        "colab_type": "code",
        "colab": {}
      },
      "source": [
        "# #The test demand shall be split into 24 hour intervals\n",
        "# yPredDemand = modelTwo.predict(XTestDemand)\n",
        "# XTestDemand = XTestDemand.reshape((XTestDemand.shape[0],XTestDemand.shape[2]))\n",
        "# invyPredDemand = np.concatenate((yPredDemand, XTestDemand[:, 1:]), axis = 1)\n",
        "# invyPredDemand = scalerThree.inverse_transform(invyPredDemand)\n",
        "# invyPredDemand = invyPredDemand[:, 0]\n",
        "\n",
        "# yTestDemand = yTestDemand.reshape((len(yTestDemand), 1))\n",
        "# invyTestDemand = np.concatenate((yTestDemand, XTestDemand[:, 1:]), axis = 1)\n",
        "# invyTestDemand = scalerThree.inverse_transform(invyTestDemand)\n",
        "# invyTestDemand = invyTestDemand[:, 0]"
      ],
      "execution_count": null,
      "outputs": []
    },
    {
      "cell_type": "code",
      "metadata": {
        "id": "w2jv8-CqI_R3",
        "colab_type": "code",
        "colab": {
          "base_uri": "https://localhost:8080/",
          "height": 34
        },
        "outputId": "d4610c4c-e9aa-4ffb-dc6f-a8cb00c72b6e"
      },
      "source": [
        "#Wind Energy supply\n",
        "values = arrDfWind.values\n",
        "trainSample = int(len(dataPredWindOutput)*0.8)\n",
        "testWind = values[trainSample:, :]\n",
        "XTestWind, yTestWind = testWind[:,:-1], testWind[:, -1]\n",
        "XTestWind = XTestWind.reshape((XTestWind.shape[0], 1, XTestWind.shape[1]))\n",
        "XTestWind.shape, yTestWind.shape"
      ],
      "execution_count": null,
      "outputs": [
        {
          "output_type": "execute_result",
          "data": {
            "text/plain": [
              "((3495, 1, 6), (3495,))"
            ]
          },
          "metadata": {
            "tags": []
          },
          "execution_count": 45
        }
      ]
    },
    {
      "cell_type": "code",
      "metadata": {
        "id": "La0v3bY7I_Ya",
        "colab_type": "code",
        "colab": {}
      },
      "source": [
        "# #The test wind shall be split into 24 hours\n",
        "# yPredWind = modelOne.predict(XTestWind)\n",
        "# XTestWind = XTestWind.reshape((XTestWind.shape[0],XTestWind.shape[2]))\n",
        "# invyPredWind = np.concatenate((yPredWind, XTestWind[:, 1:]), axis = 1)\n",
        "# invyPredWind = scalerTwo.inverse_transform(invyPredWind)\n",
        "# invyPredWind = invyPredWind[:, 0]\n",
        "\n",
        "# yTestWind = yTestWind.reshape((len(yTestWind), 1))\n",
        "# invyTestWind = np.concatenate((yTestWind, XTestWind[:, 1:]), axis = 1)\n",
        "# invyTestWind = scalerTwo.inverse_transform(invyTestWind)\n",
        "# invyTestWind = invyTestWind[:, 0]"
      ],
      "execution_count": null,
      "outputs": []
    },
    {
      "cell_type": "code",
      "metadata": {
        "id": "269aCzVHI_f7",
        "colab_type": "code",
        "colab": {
          "base_uri": "https://localhost:8080/",
          "height": 34
        },
        "outputId": "91911326-fd60-4c99-fcd1-ac9bbde3c2e6"
      },
      "source": [
        "#Solar Energy supply\n",
        "values = arrDfSolar.values\n",
        "trainSample = int(len(dataPredSolarOutput)*0.8)\n",
        "testSolar = values[trainSample:, :]\n",
        "XTestSolar, yTestSolar = testSolar[:,:-1], testSolar[:, -1]\n",
        "XTestSolar = XTestSolar.reshape((XTestSolar.shape[0], 1, XTestSolar.shape[1]))\n",
        "XTestSolar.shape, yTestSolar.shape"
      ],
      "execution_count": null,
      "outputs": [
        {
          "output_type": "execute_result",
          "data": {
            "text/plain": [
              "((3495, 1, 6), (3495,))"
            ]
          },
          "metadata": {
            "tags": []
          },
          "execution_count": 47
        }
      ]
    },
    {
      "cell_type": "code",
      "metadata": {
        "id": "ZgCw-0KbI_mS",
        "colab_type": "code",
        "colab": {}
      },
      "source": [
        "# #The test solar shall be split into 24 hour intervals\n",
        "# yPredSolar = model.predict(XTestSolar)\n",
        "# XTestSolar = XTestSolar.reshape((XTestSolar.shape[0],XTestSolar.shape[2]))\n",
        "# invyPredSolar = np.concatenate((yPredSolar, XTestSolar[:, 1:]), axis = 1)\n",
        "# invyPredSolar = scalerOne.inverse_transform(invyPredSolar)\n",
        "# invyPredSolar = invyPredSolar[:, 0]\n",
        "\n",
        "# yTestSolar = yTestSolar.reshape((len(yTestSolar), 1))\n",
        "# invyTestSolar = np.concatenate((yTestSolar, XTestSolar[:, 1:]), axis = 1)\n",
        "# invyTestSolar = scalerOne.inverse_transform(invyTestSolar)\n",
        "# invyTestSolar = invyTestSolar[:, 0]"
      ],
      "execution_count": null,
      "outputs": []
    },
    {
      "cell_type": "code",
      "metadata": {
        "id": "v9YZKmGJI_tO",
        "colab_type": "code",
        "colab": {
          "base_uri": "https://localhost:8080/",
          "height": 34
        },
        "outputId": "adb07f73-5ecc-4e19-8926-47ca32e34e1c"
      },
      "source": [
        "XTestSolar.shape, XTestDemand.shape, XTestWind.shape"
      ],
      "execution_count": null,
      "outputs": [
        {
          "output_type": "execute_result",
          "data": {
            "text/plain": [
              "((3495, 1, 6), (3495, 1, 6), (3495, 1, 6))"
            ]
          },
          "metadata": {
            "tags": []
          },
          "execution_count": 49
        }
      ]
    },
    {
      "cell_type": "code",
      "metadata": {
        "id": "SWvlJd5SMVez",
        "colab_type": "code",
        "colab": {}
      },
      "source": [
        "def weightMatrix():\n",
        "  array = []\n",
        "  for i in range(99):\n",
        "    array.append(1/(10+5*i))\n",
        "  array.append(1-sum(array))\n",
        "  return array"
      ],
      "execution_count": null,
      "outputs": []
    },
    {
      "cell_type": "code",
      "metadata": {
        "id": "dYRWgm8YQJRj",
        "colab_type": "code",
        "colab": {
          "base_uri": "https://localhost:8080/",
          "height": 1000
        },
        "outputId": "ff265d17-c90d-4843-c04e-aff18adabc6c"
      },
      "source": [
        "weighs = weightMatrix()\n",
        "weighs"
      ],
      "execution_count": 163,
      "outputs": [
        {
          "output_type": "execute_result",
          "data": {
            "text/plain": [
              "[0.1,\n",
              " 0.06666666666666667,\n",
              " 0.05,\n",
              " 0.04,\n",
              " 0.03333333333333333,\n",
              " 0.02857142857142857,\n",
              " 0.025,\n",
              " 0.022222222222222223,\n",
              " 0.02,\n",
              " 0.01818181818181818,\n",
              " 0.016666666666666666,\n",
              " 0.015384615384615385,\n",
              " 0.014285714285714285,\n",
              " 0.013333333333333334,\n",
              " 0.0125,\n",
              " 0.011764705882352941,\n",
              " 0.011111111111111112,\n",
              " 0.010526315789473684,\n",
              " 0.01,\n",
              " 0.009523809523809525,\n",
              " 0.00909090909090909,\n",
              " 0.008695652173913044,\n",
              " 0.008333333333333333,\n",
              " 0.008,\n",
              " 0.007692307692307693,\n",
              " 0.007407407407407408,\n",
              " 0.007142857142857143,\n",
              " 0.006896551724137931,\n",
              " 0.006666666666666667,\n",
              " 0.0064516129032258064,\n",
              " 0.00625,\n",
              " 0.006060606060606061,\n",
              " 0.0058823529411764705,\n",
              " 0.005714285714285714,\n",
              " 0.005555555555555556,\n",
              " 0.005405405405405406,\n",
              " 0.005263157894736842,\n",
              " 0.005128205128205128,\n",
              " 0.005,\n",
              " 0.004878048780487805,\n",
              " 0.004761904761904762,\n",
              " 0.004651162790697674,\n",
              " 0.004545454545454545,\n",
              " 0.0044444444444444444,\n",
              " 0.004347826086956522,\n",
              " 0.00425531914893617,\n",
              " 0.004166666666666667,\n",
              " 0.004081632653061225,\n",
              " 0.004,\n",
              " 0.00392156862745098,\n",
              " 0.0038461538461538464,\n",
              " 0.0037735849056603774,\n",
              " 0.003703703703703704,\n",
              " 0.0036363636363636364,\n",
              " 0.0035714285714285713,\n",
              " 0.0035087719298245615,\n",
              " 0.0034482758620689655,\n",
              " 0.003389830508474576,\n",
              " 0.0033333333333333335,\n",
              " 0.003278688524590164,\n",
              " 0.0032258064516129032,\n",
              " 0.0031746031746031746,\n",
              " 0.003125,\n",
              " 0.003076923076923077,\n",
              " 0.0030303030303030303,\n",
              " 0.0029850746268656717,\n",
              " 0.0029411764705882353,\n",
              " 0.002898550724637681,\n",
              " 0.002857142857142857,\n",
              " 0.0028169014084507044,\n",
              " 0.002777777777777778,\n",
              " 0.0027397260273972603,\n",
              " 0.002702702702702703,\n",
              " 0.0026666666666666666,\n",
              " 0.002631578947368421,\n",
              " 0.0025974025974025974,\n",
              " 0.002564102564102564,\n",
              " 0.002531645569620253,\n",
              " 0.0025,\n",
              " 0.0024691358024691358,\n",
              " 0.0024390243902439024,\n",
              " 0.0024096385542168677,\n",
              " 0.002380952380952381,\n",
              " 0.002352941176470588,\n",
              " 0.002325581395348837,\n",
              " 0.0022988505747126436,\n",
              " 0.0022727272727272726,\n",
              " 0.0022471910112359553,\n",
              " 0.0022222222222222222,\n",
              " 0.002197802197802198,\n",
              " 0.002173913043478261,\n",
              " 0.002150537634408602,\n",
              " 0.002127659574468085,\n",
              " 0.002105263157894737,\n",
              " 0.0020833333333333333,\n",
              " 0.002061855670103093,\n",
              " 0.0020408163265306124,\n",
              " 0.00202020202020202,\n",
              " 0.002,\n",
              " 0.16252449647207634]"
            ]
          },
          "metadata": {
            "tags": []
          },
          "execution_count": 163
        }
      ]
    },
    {
      "cell_type": "code",
      "metadata": {
        "id": "nSgg0zJeQJXa",
        "colab_type": "code",
        "colab": {}
      },
      "source": [
        "# 124 twenty four hour long data can be generated\n",
        "#The running simulation in tandem with forecasting models\n",
        "batteryLevel = 5000*np.ones((100, 24))\n",
        "BatteryCapacity = 10000*np.ones((100,24))\n",
        "for i in range(124):\n",
        "  XTestSolarHour = XTestSolar[24*i:24*(i+1)]\n",
        "  XTestWindHour = XTestWind[24*i:24*(i+1)]\n",
        "  XTestDemandHour = XTestDemand[24*i:24*(i+1)]\n",
        "  yTestSolarHour = yTestSolar[24*i: 24*(i+1)]\n",
        "  yTestWindHour = yTestWind[24*i: 24*(i+1)]\n",
        "  yTestDemandHour = yTestDemand[24*i: 24*(i+1)]\n",
        "\n",
        "  #Calling the predictor generator scheduler, #Ruchir, we need to display and plot these values, for each 24 hour interval\n",
        "  arrayinvyPredDemandInelastic, arrayRenewableEnergyOutput, arrayElasticDemandSum, arrayinvyPredDemandElastic, arrayinvyTestDemandInelastic, arrayRenewableEnergyOutputAct, arrayElasticDemandSumAct, arrayinvyTestDemandElastic, whatWeFindOutWeNeeded, whatWeTakeFromGrid, shitLetsTakeItFromBatteryOrDumpItThere = dataGenerator(XTestSolarHour, XTestWindHour, XTestDemandHour, weighs, yTestSolarHour, yTestWindHour, yTestDemandHour)\n",
        "\n",
        "  #battery updation\n",
        "  batteryLevel = batteryLevel + shitLetsTakeItFromBatteryOrDumpItThere\n",
        "\n",
        "  if((batteryLevel>=BatteryCapacity).any()):\n",
        "    print('Outage!!!')\n",
        "  "
      ],
      "execution_count": 164,
      "outputs": []
    },
    {
      "cell_type": "code",
      "metadata": {
        "id": "KaGNzFlEI_6C",
        "colab_type": "code",
        "colab": {}
      },
      "source": [
        "#To be called at every 24 hour distribution, generates the demand supply distribution\n",
        "def dataGenerator(XTestSolarHour, XTestWindHour, XTestDemandHour, weighs, yTestSolarHour, yTestWindHour, yTestDemandHour):\n",
        "  #Solar Energy generation\n",
        "  yPredSolar = model.predict(XTestSolarHour)\n",
        "  XTestSolarHour = XTestSolarHour.reshape((XTestSolarHour.shape[0],XTestSolarHour.shape[2]))\n",
        "  invyPredSolar = np.concatenate((yPredSolar, XTestSolarHour[:, 1:]), axis = 1)\n",
        "  invyPredSolar = scalerOne.inverse_transform(invyPredSolar)\n",
        "  invyPredSolar = invyPredSolar[:, 0]\n",
        "\n",
        "  yTestSolarHour = yTestSolarHour.reshape((len(yTestSolarHour), 1))\n",
        "  invyTestSolarHour = np.concatenate((yTestSolarHour, XTestSolarHour[:, 1:]), axis = 1)\n",
        "  invyTestSolarHour = scalerOne.inverse_transform(invyTestSolarHour)\n",
        "  invyTestSolarHour = invyTestSolarHour[:, 0]\n",
        "\n",
        "  #Wind Energy Generation\n",
        "  yPredWind = modelOne.predict(XTestWindHour)\n",
        "  XTestWindHour = XTestWindHour.reshape((XTestWindHour.shape[0],XTestWindHour.shape[2]))\n",
        "  invyPredWind = np.concatenate((yPredWind, XTestWindHour[:, 1:]), axis = 1)\n",
        "  invyPredWind = scalerTwo.inverse_transform(invyPredWind)\n",
        "  invyPredWind = invyPredWind[:, 0]\n",
        "\n",
        "  yTestWindHour = yTestWindHour.reshape((len(yTestWindHour), 1))\n",
        "  invyTestWindHour = np.concatenate((yTestWindHour, XTestWindHour[:, 1:]), axis = 1)\n",
        "  invyTestWindHour = scalerTwo.inverse_transform(invyTestWindHour)\n",
        "  invyTestWindHour = invyTestWindHour[:, 0]\n",
        "\n",
        "  #Demand\n",
        "  yPredDemand = modelTwo.predict(XTestDemandHour)\n",
        "  XTestDemandHour = XTestDemandHour.reshape((XTestDemandHour.shape[0],XTestDemandHour.shape[2]))\n",
        "  invyPredDemand = np.concatenate((yPredDemand, XTestDemandHour[:, 1:]), axis = 1)\n",
        "  invyPredDemand = scalerThree.inverse_transform(invyPredDemand)\n",
        "  invyPredDemand = invyPredDemand[:, 0]\n",
        "\n",
        "  yTestDemandHour = yTestDemandHour.reshape((len(yTestDemandHour), 1))\n",
        "  invyTestDemandHour = np.concatenate((yTestDemandHour, XTestDemandHour[:, 1:]), axis = 1)\n",
        "  invyTestDemandHour = scalerThree.inverse_transform(invyTestDemandHour)\n",
        "  invyTestDemandHour = invyTestDemandHour[:, 0]\n",
        "\n",
        "  #Elastic and Inelastic demand forecast\n",
        "  invyPredDemandInElastic = 0.7*invyPredDemand\n",
        "  invyPredDemandElastic = 0.3*invyPredDemand\n",
        "  elasticDemandSum = np.sum(invyPredDemandElastic)\n",
        "\n",
        "\n",
        "  #Elastic and Inelastic demand actual\n",
        "  invyTestDemandInElastic = 0.7*invyTestDemandHour\n",
        "  invyTestDemandElastic = 0.3*invyTestDemandHour\n",
        "  elasticDemandSumAct = np.sum(invyTestDemandElastic)\n",
        "\n",
        "  #Renewable energy output forecast\n",
        "  renewableEnergyOutput = invyPredSolar + invyPredWind\n",
        "\n",
        "  #Renewable energy output actual\n",
        "  renewableEnergyOutputActual = invyTestSolarHour + invyTestWindHour\n",
        "\n",
        "  #Splitting the above into different prosumers according to a schema, of course in real life, with more computational power\n",
        "  #One can train separately for each prosumer\n",
        "  arrayinvyPredDemandInelastic = np.outer(np.array(weighs), np.array(invyPredDemandInElastic))\n",
        "  arrayRenewableEnergyOutput = np.outer(np.array(weighs), np.array(renewableEnergyOutput))\n",
        "  arrayElasticDemandSum = np.array(weighs)*elasticDemandSum    #24 hours\n",
        "  arrayinvyPredDemandElastic = np.outer(np.array(weighs), np.array(invyPredDemandElastic))\n",
        "\n",
        "  arrayinvyTestDemandInelastic = np.outer(np.array(weighs), np.array(invyTestDemandInElastic))\n",
        "  arrayRenewableEnergyOutputAct = np.outer(np.array(weighs), np.array(renewableEnergyOutputActual))\n",
        "  arrayElasticDemandSumAct = np.array(weighs)*elasticDemandSumAct   #24 hours\n",
        "  arrayinvyTestDemandElastic = np.outer(np.array(weighs), np.array(invyTestDemandElastic))\n",
        "\n",
        "  #Calculating the excess offset and meeting it with conventional source, we can only supply what we have forecasted beforehand,\n",
        "  #not the actual values, we calculate what the each prosumer can take from the grid\n",
        "  whatWeTakeFromGrid = arrayinvyPredDemandElastic+arrayinvyPredDemandInelastic-arrayRenewableEnergyOutput\n",
        "  whatWeFindOutWeNeeded = arrayinvyTestDemandElastic+arrayinvyTestDemandInelastic-arrayRenewableEnergyOutputAct\n",
        "\n",
        "  # The auxiliary battery for managing the errors in prediction of the system, present at each of the nodes\n",
        "  shitLetsTakeItFromBatteryOrDumpItThere = whatWeTakeFromGrid-whatWeFindOutWeNeeded\n",
        "\n",
        "  \n",
        "\n",
        "\n",
        "\n",
        "  #returns\n",
        "\n",
        "  return arrayinvyPredDemandInelastic, arrayRenewableEnergyOutput, arrayElasticDemandSum, arrayinvyPredDemandElastic, arrayinvyTestDemandInelastic, arrayRenewableEnergyOutputAct, arrayElasticDemandSumAct, arrayinvyTestDemandElastic, whatWeFindOutWeNeeded, whatWeTakeFromGrid, shitLetsTakeItFromBatteryOrDumpItThere\n"
      ],
      "execution_count": null,
      "outputs": []
    },
    {
      "cell_type": "code",
      "metadata": {
        "id": "9Q7Mji7jJABX",
        "colab_type": "code",
        "colab": {
          "base_uri": "https://localhost:8080/",
          "height": 1000
        },
        "outputId": "33ede4db-d893-4572-ec92-2493327c5fa8"
      },
      "source": [
        ""
      ],
      "execution_count": null,
      "outputs": [
        {
          "output_type": "execute_result",
          "data": {
            "text/plain": [
              "(array([[409.58567845, 417.17279235, 451.43269442, ..., 435.54279584,\n",
              "         456.41764708, 471.20278304],\n",
              "        [273.05711897, 278.1151949 , 300.95512961, ..., 290.36186389,\n",
              "         304.27843139, 314.1351887 ],\n",
              "        [204.79283923, 208.58639618, 225.71634721, ..., 217.77139792,\n",
              "         228.20882354, 235.60139152],\n",
              "        ...,\n",
              "        [  8.27445815,   8.42773318,   9.11985241, ...,   8.79884436,\n",
              "           9.22055853,   9.51924814],\n",
              "        [  8.19171357,   8.34345585,   9.02865389, ...,   8.71085592,\n",
              "           9.12835294,   9.42405566],\n",
              "        [665.67706153, 678.00798019, 733.68871352, ..., 707.86373586,\n",
              "         741.79048273, 765.8199505 ]]),\n",
              " array([[ 47.36691173,  62.95521078,  92.32292082, ...,  55.93808353,\n",
              "          66.84215808,  74.56118586],\n",
              "        [ 31.57794115,  41.97014052,  61.54861388, ...,  37.29205568,\n",
              "          44.56143872,  49.70745724],\n",
              "        [ 23.68345586,  31.47760539,  46.16146041, ...,  27.96904176,\n",
              "          33.42107904,  37.28059293],\n",
              "        ...,\n",
              "        [  0.95690731,   1.27182244,   1.86510951, ...,   1.13006229,\n",
              "           1.35034663,   1.50628658],\n",
              "        [  0.94733823,   1.25910422,   1.84645842, ...,   1.11876167,\n",
              "           1.33684316,   1.49122372],\n",
              "        [ 76.98283478, 102.31763932, 150.04736219, ...,  90.91308859,\n",
              "         108.63488084, 121.18019188]]),\n",
              " array([5434.54382917, 3623.02921944, 2717.27191458, 2173.81753167,\n",
              "        1811.51460972, 1552.72680833, 1358.63595729, 1207.67640648,\n",
              "        1086.90876583,  988.09887803,  905.75730486,  836.08366603,\n",
              "         776.36340417,  724.60584389,  679.31797865,  639.35809755,\n",
              "         603.83820324,  572.05724518,  543.45438292,  517.57560278,\n",
              "         494.04943902,  472.56902862,  452.87865243,  434.76350633,\n",
              "         418.04183301,  402.55880216,  388.18170208,  374.79612615,\n",
              "         362.30292194,  350.61573091,  339.65898932,  329.36629268,\n",
              "         319.67904877,  310.54536167,  301.91910162,  293.7591259 ,\n",
              "         286.02862259,  278.69455534,  271.72719146,  265.09969898,\n",
              "         258.78780139,  252.76948043,  247.02471951,  241.5352813 ,\n",
              "         236.28451431,  231.25718422,  226.43932622,  221.81811548,\n",
              "         217.38175317,  213.11936585,  209.02091651,  205.07712563,\n",
              "         201.27940108,  197.61977561,  194.09085104,  190.68574839,\n",
              "         187.39806307,  184.22182472,  181.15146097,  178.18176489,\n",
              "         175.30786546,  172.52520093,  169.82949466,  167.21673321,\n",
              "         164.68314634,  162.22518893,  159.83952439,  157.52300954,\n",
              "         155.27268083,  153.08574167,  150.95955081,  148.89161176,\n",
              "         146.87956295,  144.92116878,  143.01431129,  141.15698258,\n",
              "         139.34727767,  137.58338808,  135.86359573,  134.18626739,\n",
              "         132.54984949,  130.95286335,  129.39390069,  127.87161951,\n",
              "         126.38474021,  124.93204205,  123.51235975,  122.12458043,\n",
              "         120.76764065,  119.44052372,  118.14225716,  116.8719103 ,\n",
              "         115.62859211,  114.41144904,  113.21966311,  112.05245009,\n",
              "         110.90905774,  109.78876423,  108.69087658, 8832.46499391]),\n",
              " array([[175.53671934, 178.78833958, 193.47115475, ..., 186.66119822,\n",
              "         195.60756304, 201.94404988],\n",
              "        [117.02447956, 119.19222639, 128.98076983, ..., 124.44079881,\n",
              "         130.40504202, 134.62936658],\n",
              "        [ 87.76835967,  89.39416979,  96.73557738, ...,  93.33059911,\n",
              "          97.80378152, 100.97202494],\n",
              "        ...,\n",
              "        [  3.54619635,   3.61188565,   3.90850818, ...,   3.7709333 ,\n",
              "           3.95166794,   4.07967778],\n",
              "        [  3.51073439,   3.57576679,   3.8694231 , ...,   3.73322396,\n",
              "           3.91215126,   4.038881  ],\n",
              "        [285.29016923, 290.57484865, 314.43802008, ..., 303.37017251,\n",
              "         317.91020688, 328.20855022]]),\n",
              " array([[428.13065516, 450.82746175, 491.37132993, ..., 460.52695175,\n",
              "         461.88488035, 451.02145155],\n",
              "        [285.42043677, 300.55164117, 327.58088662, ..., 307.01796783,\n",
              "         307.92325356, 300.6809677 ],\n",
              "        [214.06532758, 225.41373087, 245.68566497, ..., 230.26347587,\n",
              "         230.94244017, 225.51072577],\n",
              "        ...,\n",
              "        [  8.64910414,   9.10762549,   9.92669353, ...,   9.30357478,\n",
              "           9.33100768,   9.11154448],\n",
              "        [  8.5626131 ,   9.01654923,   9.8274266 , ...,   9.21053903,\n",
              "           9.23769761,   9.02042903],\n",
              "        [695.81719154, 732.70506217, 798.59877978, ..., 748.46910944,\n",
              "         750.67607606, 733.02034311]]),\n",
              " array([[ 61.6       ,  80.3       , 106.1       , ...,  69.1       ,\n",
              "          70.6       ,  67.2       ],\n",
              "        [ 41.06666667,  53.53333333,  70.73333333, ...,  46.06666667,\n",
              "          47.06666667,  44.8       ],\n",
              "        [ 30.8       ,  40.15      ,  53.05      , ...,  34.55      ,\n",
              "          35.3       ,  33.6       ],\n",
              "        ...,\n",
              "        [  1.24444444,   1.62222222,   2.14343434, ...,   1.3959596 ,\n",
              "           1.42626263,   1.35757576],\n",
              "        [  1.232     ,   1.606     ,   2.122     , ...,   1.382     ,\n",
              "           1.412     ,   1.344     ],\n",
              "        [100.11508983, 130.50717067, 172.43849076, ..., 112.30442706,\n",
              "         114.74229451, 109.21646163]]),\n",
              " array([5470.8783366 , 3647.2522244 , 2735.4391683 , 2188.35133464,\n",
              "        1823.6261122 , 1563.10809617, 1367.71958415, 1215.75074147,\n",
              "        1094.17566732,  994.70515211,  911.8130561 ,  841.67359025,\n",
              "         781.55404809,  729.45044488,  683.85979208,  643.63274548,\n",
              "         607.87537073,  575.88193017,  547.08783366,  521.03603206,\n",
              "         497.35257605,  475.72855101,  455.90652805,  437.67026693,\n",
              "         420.83679512,  405.25024716,  390.77702404,  377.30195425,\n",
              "         364.72522244,  352.95989268,  341.92989604,  331.56838404,\n",
              "         321.81637274,  312.62161923,  303.93768537,  295.72315333,\n",
              "         287.94096508,  280.55786342,  273.54391683,  266.87211398,\n",
              "         260.51801603,  254.45945752,  248.67628803,  243.15014829,\n",
              "         237.8642755 ,  232.80333347,  227.95326403,  223.3011566 ,\n",
              "         218.83513346,  214.54424849,  210.41839756,  206.44823912,\n",
              "         202.62512358,  198.94103042,  195.38851202,  191.96064339,\n",
              "         188.65097712,  185.45350294,  182.36261122,  179.37306022,\n",
              "         176.47994634,  173.67867735,  170.96494802,  168.33471805,\n",
              "         165.78419202,  163.30980109,  160.90818637,  158.57618367,\n",
              "         156.31080962,  154.10924892,  151.96884268,  149.88707772,\n",
              "         147.86157666,  145.89008898,  143.97048254,  142.10073602,\n",
              "         140.27893171,  138.50324903,  136.77195842,  135.08341572,\n",
              "         133.43605699,  131.82839365,  130.25900801,  128.7265491 ,\n",
              "         127.22972876,  125.76731808,  124.33814401,  122.94108622,\n",
              "         121.57507415,  120.23908432,  118.93213775,  117.65329756,\n",
              "         116.40166674,  115.17638603,  113.97663201,  112.80161519,\n",
              "         111.6505783 ,  110.52279468,  109.41756673, 8891.51746916]),\n",
              " array([[183.4845665 , 193.21176932, 210.58771283, ..., 197.36869361,\n",
              "         197.95066301, 193.29490781],\n",
              "        [122.32304433, 128.80784621, 140.39180855, ..., 131.57912907,\n",
              "         131.96710867, 128.86327187],\n",
              "        [ 91.74228325,  96.60588466, 105.29385641, ...,  98.6843468 ,\n",
              "          98.9753315 ,  96.6474539 ],\n",
              "        ...,\n",
              "        [  3.70675892,   3.90326807,   4.25429723, ...,   3.98724634,\n",
              "           3.99900329,   3.90494763],\n",
              "        [  3.66969133,   3.86423539,   4.21175426, ...,   3.94737387,\n",
              "           3.95901326,   3.86589816],\n",
              "        [298.2073678 , 314.01645521, 342.25661991, ..., 320.77247548,\n",
              "         321.71831831, 314.15157562]]),\n",
              " array([[550.01522166, 563.73923107, 595.85904276, ..., 588.79564535,\n",
              "         589.23554335, 577.11635936],\n",
              "        [366.67681444, 375.82615405, 397.23936184, ..., 392.53043023,\n",
              "         392.82369557, 384.74423957],\n",
              "        [275.00761083, 281.86961554, 297.92952138, ..., 294.39782268,\n",
              "         294.61777168, 288.55817968],\n",
              "        ...,\n",
              "        [ 11.11141862,  11.38867133,  12.03755642, ...,  11.89486152,\n",
              "          11.90374835,  11.65891635],\n",
              "        [ 11.00030443,  11.27478462,  11.91718086, ...,  11.77591291,\n",
              "          11.78471087,  11.54232719],\n",
              "        [893.90946952, 916.21434671, 968.41690893, ..., 956.93715786,\n",
              "         957.65209986, 937.9554571 ]]),\n",
              " array([[537.75548606, 533.00592116, 552.58092836, ..., 566.26591053,\n",
              "         585.18305204, 598.58564706],\n",
              "        [358.50365738, 355.33728077, 368.38728557, ..., 377.51060702,\n",
              "         390.1220347 , 399.05709804],\n",
              "        [268.87774303, 266.50296058, 276.29046418, ..., 283.13295527,\n",
              "         292.59152602, 299.29282353],\n",
              "        ...,\n",
              "        [ 10.86374719,  10.76779639,  11.16325108, ...,  11.43971536,\n",
              "          11.82187984,  12.09263933],\n",
              "        [ 10.75510972,  10.66011842,  11.05161857, ...,  11.32531821,\n",
              "          11.70366104,  11.97171294],\n",
              "        [873.98439598, 866.26518952, 898.07937141, ..., 920.32081979,\n",
              "         951.06580877, 972.84830884]]),\n",
              " array([[-12.25973559, -30.73330992, -43.27811441, ..., -22.52973482,\n",
              "          -4.05249131,  21.4692877 ],\n",
              "        [ -8.17315706, -20.48887328, -28.85207627, ..., -15.01982321,\n",
              "          -2.70166087,  14.31285847],\n",
              "        [ -6.1298678 , -15.36665496, -21.6390572 , ..., -11.26486741,\n",
              "          -2.02624565,  10.73464385],\n",
              "        ...,\n",
              "        [ -0.24767143,  -0.62087495,  -0.87430534, ...,  -0.45514616,\n",
              "          -0.08186851,   0.43372298],\n",
              "        [ -0.24519471,  -0.6146662 ,  -0.86556229, ...,  -0.4505947 ,\n",
              "          -0.08104983,   0.42938575],\n",
              "        [-19.92507354, -49.94915719, -70.33753752, ..., -36.61633807,\n",
              "          -6.58629109,  34.89285174]]))"
            ]
          },
          "metadata": {
            "tags": []
          },
          "execution_count": 139
        }
      ]
    },
    {
      "cell_type": "code",
      "metadata": {
        "id": "czvHwqvNJAJi",
        "colab_type": "code",
        "colab": {
          "base_uri": "https://localhost:8080/",
          "height": 34
        },
        "outputId": "98a17be6-8dd1-4b77-beba-b8ba1cdaf6b6"
      },
      "source": [
        "P.shape, W.shape, E.shape, e.shape"
      ],
      "execution_count": null,
      "outputs": [
        {
          "output_type": "execute_result",
          "data": {
            "text/plain": [
              "((100, 24), (100, 24), (100,), (100, 24))"
            ]
          },
          "metadata": {
            "tags": []
          },
          "execution_count": 127
        }
      ]
    },
    {
      "cell_type": "code",
      "metadata": {
        "id": "Wcq5sZ0ZuJtP",
        "colab_type": "code",
        "colab": {
          "base_uri": "https://localhost:8080/",
          "height": 34
        },
        "outputId": "d3139399-ad8b-4859-fdad-194ec18e971f"
      },
      "source": [
        "np.max(E)"
      ],
      "execution_count": null,
      "outputs": [
        {
          "output_type": "execute_result",
          "data": {
            "text/plain": [
              "8832.464993905845"
            ]
          },
          "metadata": {
            "tags": []
          },
          "execution_count": 81
        }
      ]
    },
    {
      "cell_type": "markdown",
      "metadata": {
        "id": "RG75DI1NIEdV",
        "colab_type": "text"
      },
      "source": [
        "# The scheduling algorithm\n"
      ]
    },
    {
      "cell_type": "code",
      "metadata": {
        "id": "1IQ2guQ0wJ0q",
        "colab_type": "code",
        "colab": {
          "base_uri": "https://localhost:8080/",
          "height": 34
        },
        "outputId": "49302765-cac9-4848-8f67-38747cb23fe3"
      },
      "source": [
        "EMod = np.hstack([E]*24).reshape((100,24))\n",
        "EMod.shape"
      ],
      "execution_count": null,
      "outputs": [
        {
          "output_type": "execute_result",
          "data": {
            "text/plain": [
              "(100, 24)"
            ]
          },
          "metadata": {
            "tags": []
          },
          "execution_count": 89
        }
      ]
    },
    {
      "cell_type": "code",
      "metadata": {
        "id": "z8ITOCMFvcXn",
        "colab_type": "code",
        "colab": {}
      },
      "source": [
        "eMinValues = np.zeros((100, 24))\n",
        "eMaxValues = EMod/12"
      ],
      "execution_count": null,
      "outputs": []
    },
    {
      "cell_type": "code",
      "metadata": {
        "id": "IJbEk821JAQb",
        "colab_type": "code",
        "colab": {
          "base_uri": "https://localhost:8080/"
        },
        "outputId": "3b5899c6-b4ea-49b0-9bda-a1d259224d40"
      },
      "source": [
        "#The Scheduling function\n",
        "from cvxpy import *\n",
        "# def schedulingFunction(PValues, WValues, EValues, eMaxValues, eMinValues):\n",
        "  e = Variable((100, 24))\n",
        "  P = Parameter((100, 24))\n",
        "  W = Parameter((100, 24))\n",
        "  P.value = PValues\n",
        "  W.value = WValues\n",
        "  d = P+e-W\n",
        "  dSum = sum(d, axis = 0)\n",
        "  ramp = diff(dSum)\n",
        "\n",
        "  cost = norm(ramp, 'inf')\n",
        "  obj = Minimize(cost)\n",
        "  constraints = [eMinValues <= e, e<= eMaxValues, sum(e) == EValues]\n",
        "  prob = Problem(obj, constraints)\n",
        "  optValue = prob.solve()\n",
        "  solutionElasticDemand = e.value\n",
        "  return np.array(solutionElasticDemand)"
      ],
      "execution_count": null,
      "outputs": [
        {
          "output_type": "error",
          "ename": "IndentationError",
          "evalue": "ignored",
          "traceback": [
            "\u001b[0;36m  File \u001b[0;32m\"<ipython-input-1-c05fb764a709>\"\u001b[0;36m, line \u001b[0;32m4\u001b[0m\n\u001b[0;31m    e = Variable((100, 24))\u001b[0m\n\u001b[0m    ^\u001b[0m\n\u001b[0;31mIndentationError\u001b[0m\u001b[0;31m:\u001b[0m unexpected indent\n"
          ]
        }
      ]
    },
    {
      "cell_type": "code",
      "metadata": {
        "id": "npTJ7EDfJAWs",
        "colab_type": "code",
        "colab": {}
      },
      "source": [
        "result = schedulingFunction(P, W, E, 2*eMaxValues, eMinValues)"
      ],
      "execution_count": null,
      "outputs": []
    },
    {
      "cell_type": "code",
      "metadata": {
        "id": "i48hVVBQJAch",
        "colab_type": "code",
        "colab": {
          "base_uri": "https://localhost:8080/",
          "height": 34
        },
        "outputId": "ddfc2a16-4a47-486f-ce96-1f070c812c0c"
      },
      "source": [
        "print(result)"
      ],
      "execution_count": null,
      "outputs": [
        {
          "output_type": "stream",
          "text": [
            "None\n"
          ],
          "name": "stdout"
        }
      ]
    },
    {
      "cell_type": "code",
      "metadata": {
        "id": "LHLRh-LZJAji",
        "colab_type": "code",
        "colab": {}
      },
      "source": [
        "#The generating function for actual values\n"
      ],
      "execution_count": null,
      "outputs": []
    },
    {
      "cell_type": "code",
      "metadata": {
        "id": "vLTw99nDJApz",
        "colab_type": "code",
        "colab": {}
      },
      "source": [
        "pd.DataFrame(arrayinvyPredDemandElastic).to_csv('sendToRuchirShitMyMemorySucks.csv')\n"
      ],
      "execution_count": 155,
      "outputs": []
    },
    {
      "cell_type": "code",
      "metadata": {
        "id": "MwXvHiUPJAw3",
        "colab_type": "code",
        "colab": {
          "base_uri": "https://localhost:8080/",
          "height": 34
        },
        "outputId": "e0f70c38-d20e-4dfd-e7c9-6ba154927555"
      },
      "source": [
        "from google.colab import drive\n",
        "drive.mount('drive')"
      ],
      "execution_count": 159,
      "outputs": [
        {
          "output_type": "stream",
          "text": [
            "Drive already mounted at drive; to attempt to forcibly remount, call drive.mount(\"drive\", force_remount=True).\n"
          ],
          "name": "stdout"
        }
      ]
    },
    {
      "cell_type": "code",
      "metadata": {
        "id": "1eFzfc3wJA3s",
        "colab_type": "code",
        "colab": {
          "base_uri": "https://localhost:8080/",
          "height": 34
        },
        "outputId": "66e2fcbc-c3fe-4e87-ba6e-303b87dac3c9"
      },
      "source": [
        "!cp sendToRuchirShitMyMemorySucks.csv '/drive/My Drive'"
      ],
      "execution_count": 161,
      "outputs": [
        {
          "output_type": "stream",
          "text": [
            "cp: failed to access '/drive/My Drive': Transport endpoint is not connected\n"
          ],
          "name": "stdout"
        }
      ]
    },
    {
      "cell_type": "code",
      "metadata": {
        "id": "WmhBuCgKJA-z",
        "colab_type": "code",
        "colab": {}
      },
      "source": [
        ""
      ],
      "execution_count": null,
      "outputs": []
    },
    {
      "cell_type": "code",
      "metadata": {
        "id": "upIxjT0pJBEr",
        "colab_type": "code",
        "colab": {}
      },
      "source": [
        ""
      ],
      "execution_count": null,
      "outputs": []
    },
    {
      "cell_type": "code",
      "metadata": {
        "id": "uBGQ_IERJBL8",
        "colab_type": "code",
        "colab": {}
      },
      "source": [
        ""
      ],
      "execution_count": null,
      "outputs": []
    },
    {
      "cell_type": "code",
      "metadata": {
        "id": "eGq3MchkJBSq",
        "colab_type": "code",
        "colab": {}
      },
      "source": [
        ""
      ],
      "execution_count": null,
      "outputs": []
    }
  ]
}