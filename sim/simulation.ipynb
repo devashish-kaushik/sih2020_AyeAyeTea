{
  "nbformat": 4,
  "nbformat_minor": 0,
  "metadata": {
    "colab": {
      "name": "Simulation.ipynb",
      "provenance": [],
      "collapsed_sections": []
    },
    "kernelspec": {
      "name": "python3",
      "display_name": "Python 3"
    }
  },
  "cells": [
    {
      "cell_type": "markdown",
      "metadata": {
        "id": "f3FECrzKtN3k",
        "colab_type": "text"
      },
      "source": [
        "# **Simulation of Smart Grid**"
      ]
    },
    {
      "cell_type": "markdown",
      "metadata": {
        "id": "FobhoH2DtZaG",
        "colab_type": "text"
      },
      "source": [
        "Install and import mosaik"
      ]
    },
    {
      "cell_type": "code",
      "metadata": {
        "id": "sN2Apbi9tOGV",
        "colab_type": "code",
        "colab": {}
      },
      "source": [
        "!pip install mosaik\n",
        "\n",
        "import mosaik\n"
      ],
      "execution_count": null,
      "outputs": []
    },
    {
      "cell_type": "markdown",
      "metadata": {
        "id": "ZMLXLcb-tdZ1",
        "colab_type": "text"
      },
      "source": [
        "Install krangpower (To simulate grid based on OpenDDS)"
      ]
    },
    {
      "cell_type": "code",
      "metadata": {
        "id": "xyHb_79Oi3Nn",
        "colab_type": "code",
        "colab": {
          "base_uri": "https://localhost:8080/",
          "height": 924
        },
        "outputId": "5e63186e-b5b3-475f-f9f7-b4c7cd960026"
      },
      "source": [
        "!pip install krangpower"
      ],
      "execution_count": 2,
      "outputs": [
        {
          "output_type": "stream",
          "text": [
            "Collecting krangpower\n",
            "\u001b[?25l  Downloading https://files.pythonhosted.org/packages/a0/26/0c866dcc18cdc945acb4b7368f0f400e6f6bafda43e6d9ae53691379d823/krangpower-0.2.5-py3-none-any.whl (207kB)\n",
            "\r\u001b[K     |█▋                              | 10kB 13.4MB/s eta 0:00:01\r\u001b[K     |███▏                            | 20kB 1.7MB/s eta 0:00:01\r\u001b[K     |████▊                           | 30kB 2.3MB/s eta 0:00:01\r\u001b[K     |██████▎                         | 40kB 2.6MB/s eta 0:00:01\r\u001b[K     |████████                        | 51kB 2.0MB/s eta 0:00:01\r\u001b[K     |█████████▌                      | 61kB 2.3MB/s eta 0:00:01\r\u001b[K     |███████████                     | 71kB 2.5MB/s eta 0:00:01\r\u001b[K     |████████████▋                   | 81kB 2.7MB/s eta 0:00:01\r\u001b[K     |██████████████▎                 | 92kB 2.9MB/s eta 0:00:01\r\u001b[K     |███████████████▉                | 102kB 2.7MB/s eta 0:00:01\r\u001b[K     |█████████████████▍              | 112kB 2.7MB/s eta 0:00:01\r\u001b[K     |███████████████████             | 122kB 2.7MB/s eta 0:00:01\r\u001b[K     |████████████████████▋           | 133kB 2.7MB/s eta 0:00:01\r\u001b[K     |██████████████████████▏         | 143kB 2.7MB/s eta 0:00:01\r\u001b[K     |███████████████████████▊        | 153kB 2.7MB/s eta 0:00:01\r\u001b[K     |█████████████████████████▎      | 163kB 2.7MB/s eta 0:00:01\r\u001b[K     |██████████████████████████▉     | 174kB 2.7MB/s eta 0:00:01\r\u001b[K     |████████████████████████████▌   | 184kB 2.7MB/s eta 0:00:01\r\u001b[K     |██████████████████████████████  | 194kB 2.7MB/s eta 0:00:01\r\u001b[K     |███████████████████████████████▋| 204kB 2.7MB/s eta 0:00:01\r\u001b[K     |████████████████████████████████| 215kB 2.7MB/s \n",
            "\u001b[?25hCollecting canonicaljson\n",
            "  Downloading https://files.pythonhosted.org/packages/ce/9e/6a04ffa759cd5d293b0f15c43aea6ce4fd58438135d8ae4eb79b1b119d41/canonicaljson-1.2.0-py3-none-any.whl\n",
            "Requirement already satisfied: tqdm in /usr/local/lib/python3.6/dist-packages (from krangpower) (4.41.1)\n",
            "Requirement already satisfied: python-dateutil in /usr/local/lib/python3.6/dist-packages (from krangpower) (2.8.1)\n",
            "Requirement already satisfied: pandas in /usr/local/lib/python3.6/dist-packages (from krangpower) (1.0.5)\n",
            "Requirement already satisfied: networkx in /usr/local/lib/python3.6/dist-packages (from krangpower) (2.4)\n",
            "Collecting pint\n",
            "\u001b[?25l  Downloading https://files.pythonhosted.org/packages/66/a9/18b232462dee45443994b19254cf6fe49893ea81bc7534cb984932d59e38/Pint-0.14-py2.py3-none-any.whl (197kB)\n",
            "\r\u001b[K     |█▋                              | 10kB 14.2MB/s eta 0:00:01\r\u001b[K     |███▎                            | 20kB 20.0MB/s eta 0:00:01\r\u001b[K     |█████                           | 30kB 25.5MB/s eta 0:00:01\r\u001b[K     |██████▋                         | 40kB 10.7MB/s eta 0:00:01\r\u001b[K     |████████▎                       | 51kB 11.4MB/s eta 0:00:01\r\u001b[K     |██████████                      | 61kB 13.1MB/s eta 0:00:01\r\u001b[K     |███████████▋                    | 71kB 12.3MB/s eta 0:00:01\r\u001b[K     |█████████████▎                  | 81kB 13.5MB/s eta 0:00:01\r\u001b[K     |███████████████                 | 92kB 11.3MB/s eta 0:00:01\r\u001b[K     |████████████████▋               | 102kB 8.9MB/s eta 0:00:01\r\u001b[K     |██████████████████▎             | 112kB 8.9MB/s eta 0:00:01\r\u001b[K     |████████████████████            | 122kB 8.9MB/s eta 0:00:01\r\u001b[K     |█████████████████████▋          | 133kB 8.9MB/s eta 0:00:01\r\u001b[K     |███████████████████████▎        | 143kB 8.9MB/s eta 0:00:01\r\u001b[K     |█████████████████████████       | 153kB 8.9MB/s eta 0:00:01\r\u001b[K     |██████████████████████████▋     | 163kB 8.9MB/s eta 0:00:01\r\u001b[K     |████████████████████████████▎   | 174kB 8.9MB/s eta 0:00:01\r\u001b[K     |█████████████████████████████▉  | 184kB 8.9MB/s eta 0:00:01\r\u001b[K     |███████████████████████████████▌| 194kB 8.9MB/s eta 0:00:01\r\u001b[K     |████████████████████████████████| 204kB 8.9MB/s \n",
            "\u001b[?25hRequirement already satisfied: numpy in /usr/local/lib/python3.6/dist-packages (from krangpower) (1.18.5)\n",
            "Requirement already satisfied: scipy in /usr/local/lib/python3.6/dist-packages (from krangpower) (1.4.1)\n",
            "Collecting OpenDSSDirect.py\n",
            "\u001b[?25l  Downloading https://files.pythonhosted.org/packages/51/68/4a03250ecbdf47d41a33d6b9e58f89cd1f196324f5a2f4beb55075d0e01c/OpenDSSDirect.py-0.4.0.tar.gz (82kB)\n",
            "\r\u001b[K     |████                            | 10kB 14.1MB/s eta 0:00:01\r\u001b[K     |████████                        | 20kB 19.8MB/s eta 0:00:01\r\u001b[K     |████████████                    | 30kB 25.2MB/s eta 0:00:01\r\u001b[K     |████████████████                | 40kB 12.3MB/s eta 0:00:01\r\u001b[K     |████████████████████            | 51kB 10.3MB/s eta 0:00:01\r\u001b[K     |████████████████████████        | 61kB 11.8MB/s eta 0:00:01\r\u001b[K     |████████████████████████████    | 71kB 12.0MB/s eta 0:00:01\r\u001b[K     |████████████████████████████████| 81kB 13.2MB/s eta 0:00:01\r\u001b[K     |████████████████████████████████| 92kB 6.3MB/s \n",
            "\u001b[?25hRequirement already satisfied: requests in /usr/local/lib/python3.6/dist-packages (from krangpower) (2.23.0)\n",
            "Requirement already satisfied: matplotlib in /usr/local/lib/python3.6/dist-packages (from krangpower) (3.2.2)\n",
            "Collecting simplejson>=3.6.5\n",
            "\u001b[?25l  Downloading https://files.pythonhosted.org/packages/73/96/1e6b19045375890068d7342cbe280dd64ae73fd90b9735b5efb8d1e044a1/simplejson-3.17.2-cp36-cp36m-manylinux2010_x86_64.whl (127kB)\n",
            "\r\u001b[K     |██▋                             | 10kB 13.2MB/s eta 0:00:01\r\u001b[K     |█████▏                          | 20kB 19.3MB/s eta 0:00:01\r\u001b[K     |███████▊                        | 30kB 25.0MB/s eta 0:00:01\r\u001b[K     |██████████▎                     | 40kB 21.7MB/s eta 0:00:01\r\u001b[K     |████████████▉                   | 51kB 14.2MB/s eta 0:00:01\r\u001b[K     |███████████████▍                | 61kB 16.2MB/s eta 0:00:01\r\u001b[K     |██████████████████              | 71kB 13.3MB/s eta 0:00:01\r\u001b[K     |████████████████████▌           | 81kB 14.5MB/s eta 0:00:01\r\u001b[K     |███████████████████████         | 92kB 12.8MB/s eta 0:00:01\r\u001b[K     |█████████████████████████▋      | 102kB 11.7MB/s eta 0:00:01\r\u001b[K     |████████████████████████████▏   | 112kB 11.7MB/s eta 0:00:01\r\u001b[K     |██████████████████████████████▊ | 122kB 11.7MB/s eta 0:00:01\r\u001b[K     |████████████████████████████████| 133kB 11.7MB/s \n",
            "\u001b[?25hCollecting frozendict>=1.0\n",
            "  Downloading https://files.pythonhosted.org/packages/4e/55/a12ded2c426a4d2bee73f88304c9c08ebbdbadb82569ebdd6a0c007cfd08/frozendict-1.2.tar.gz\n",
            "Requirement already satisfied: six>=1.5 in /usr/local/lib/python3.6/dist-packages (from python-dateutil->krangpower) (1.15.0)\n",
            "Requirement already satisfied: pytz>=2017.2 in /usr/local/lib/python3.6/dist-packages (from pandas->krangpower) (2018.9)\n",
            "Requirement already satisfied: decorator>=4.3.0 in /usr/local/lib/python3.6/dist-packages (from networkx->krangpower) (4.4.2)\n",
            "Requirement already satisfied: packaging in /usr/local/lib/python3.6/dist-packages (from pint->krangpower) (20.4)\n",
            "Requirement already satisfied: importlib-metadata; python_version < \"3.8\" in /usr/local/lib/python3.6/dist-packages (from pint->krangpower) (1.7.0)\n",
            "Requirement already satisfied: setuptools in /usr/local/lib/python3.6/dist-packages (from pint->krangpower) (49.2.0)\n",
            "Requirement already satisfied: future in /usr/local/lib/python3.6/dist-packages (from OpenDSSDirect.py->krangpower) (0.16.0)\n",
            "Collecting dss_python<0.11,>=0.10.5\n",
            "\u001b[?25l  Downloading https://files.pythonhosted.org/packages/58/1f/ecc88c255a1918ee471e50e8179ce9f3ddb4102d671e8641491db0b0c154/dss_python-0.10.6-cp36-cp36m-manylinux2010_x86_64.whl (7.8MB)\n",
            "\u001b[K     |████████████████████████████████| 7.8MB 8.8MB/s \n",
            "\u001b[?25hRequirement already satisfied: certifi>=2017.4.17 in /usr/local/lib/python3.6/dist-packages (from requests->krangpower) (2020.6.20)\n",
            "Requirement already satisfied: urllib3!=1.25.0,!=1.25.1,<1.26,>=1.21.1 in /usr/local/lib/python3.6/dist-packages (from requests->krangpower) (1.24.3)\n",
            "Requirement already satisfied: chardet<4,>=3.0.2 in /usr/local/lib/python3.6/dist-packages (from requests->krangpower) (3.0.4)\n",
            "Requirement already satisfied: idna<3,>=2.5 in /usr/local/lib/python3.6/dist-packages (from requests->krangpower) (2.10)\n",
            "Requirement already satisfied: kiwisolver>=1.0.1 in /usr/local/lib/python3.6/dist-packages (from matplotlib->krangpower) (1.2.0)\n",
            "Requirement already satisfied: cycler>=0.10 in /usr/local/lib/python3.6/dist-packages (from matplotlib->krangpower) (0.10.0)\n",
            "Requirement already satisfied: pyparsing!=2.0.4,!=2.1.2,!=2.1.6,>=2.0.1 in /usr/local/lib/python3.6/dist-packages (from matplotlib->krangpower) (2.4.7)\n",
            "Requirement already satisfied: zipp>=0.5 in /usr/local/lib/python3.6/dist-packages (from importlib-metadata; python_version < \"3.8\"->pint->krangpower) (3.1.0)\n",
            "Requirement already satisfied: cffi>=1.11.2 in /usr/local/lib/python3.6/dist-packages (from dss_python<0.11,>=0.10.5->OpenDSSDirect.py->krangpower) (1.14.1)\n",
            "Requirement already satisfied: pycparser in /usr/local/lib/python3.6/dist-packages (from cffi>=1.11.2->dss_python<0.11,>=0.10.5->OpenDSSDirect.py->krangpower) (2.20)\n",
            "Building wheels for collected packages: OpenDSSDirect.py, frozendict\n",
            "  Building wheel for OpenDSSDirect.py (setup.py) ... \u001b[?25l\u001b[?25hdone\n",
            "  Created wheel for OpenDSSDirect.py: filename=OpenDSSDirect.py-0.4.0-cp36-none-any.whl size=65712 sha256=fd5b317369adbe5a969070e5d7e61b074e6658bd7963a633cddecd97814eef35\n",
            "  Stored in directory: /root/.cache/pip/wheels/15/be/cf/69ac9f38f37f7d6034bcaf471ea851473fa46962a19615ef59\n",
            "  Building wheel for frozendict (setup.py) ... \u001b[?25l\u001b[?25hdone\n",
            "  Created wheel for frozendict: filename=frozendict-1.2-cp36-none-any.whl size=3149 sha256=95fa90fa91d96085573288336e096f1d6720991fc3f3714d1b46d8574c45254d\n",
            "  Stored in directory: /root/.cache/pip/wheels/6c/6c/e9/534386165bd12cf1885582c75eb6d0ffcb321b65c23fe0f834\n",
            "Successfully built OpenDSSDirect.py frozendict\n",
            "Installing collected packages: simplejson, frozendict, canonicaljson, pint, dss-python, OpenDSSDirect.py, krangpower\n",
            "Successfully installed OpenDSSDirect.py-0.4.0 canonicaljson-1.2.0 dss-python-0.10.6 frozendict-1.2 krangpower-0.2.5 pint-0.14 simplejson-3.17.2\n"
          ],
          "name": "stdout"
        }
      ]
    },
    {
      "cell_type": "markdown",
      "metadata": {
        "id": "aL7iHltitz8F",
        "colab_type": "text"
      },
      "source": [
        "Import essential libraries and define units to use the pint library"
      ]
    },
    {
      "cell_type": "code",
      "metadata": {
        "id": "INXvOK1kkiCw",
        "colab_type": "code",
        "colab": {}
      },
      "source": [
        "import numpy as np\n",
        "import numpy.fft as fft\n",
        "from PIL import Image\n",
        "import matplotlib.pyplot as plt\n",
        "import cvxpy as cp  # For optimization\n",
        "\n",
        "import krangpower as kp  # This is our main library\n",
        "unit = kp.UM"
      ],
      "execution_count": 3,
      "outputs": []
    },
    {
      "cell_type": "markdown",
      "metadata": {
        "id": "JU1xMj4HuBf7",
        "colab_type": "text"
      },
      "source": [
        "# Start with our grid"
      ]
    },
    {
      "cell_type": "code",
      "metadata": {
        "id": "yTxABrZ0kavL",
        "colab_type": "code",
        "colab": {}
      },
      "source": [
        "src = kp.Vsource(basekv=220*unit.V, frequency=100.0) # Make a voltage source with voltage 220 V and frquency 100 Hz"
      ],
      "execution_count": 15,
      "outputs": []
    },
    {
      "cell_type": "code",
      "metadata": {
        "id": "SYXmuPZGkbHN",
        "colab_type": "code",
        "colab": {}
      },
      "source": [
        "grid = kp.Krang('theGrid', src)  # Instantiate a grid as a krang object (we can have only one of those) with our source above"
      ],
      "execution_count": 16,
      "outputs": []
    },
    {
      "cell_type": "code",
      "metadata": {
        "id": "KSxWs-V3kbIs",
        "colab_type": "code",
        "colab": {}
      },
      "source": [
        ""
      ],
      "execution_count": null,
      "outputs": []
    },
    {
      "cell_type": "code",
      "metadata": {
        "id": "XE_yUptfkbMx",
        "colab_type": "code",
        "colab": {}
      },
      "source": [
        ""
      ],
      "execution_count": null,
      "outputs": []
    },
    {
      "cell_type": "code",
      "metadata": {
        "id": "1SPJuZwHkj2l",
        "colab_type": "code",
        "colab": {}
      },
      "source": [
        "totalProduction=0\n",
        "totalConsumption=0"
      ],
      "execution_count": 7,
      "outputs": []
    },
    {
      "cell_type": "markdown",
      "metadata": {
        "id": "MQrCymR8uauA",
        "colab_type": "text"
      },
      "source": [
        "## The prosumer class"
      ]
    },
    {
      "cell_type": "code",
      "metadata": {
        "id": "ACaNrNJXbY49",
        "colab_type": "code",
        "colab": {}
      },
      "source": [
        "class prosumer(kp.DecisionModel, id):\n",
        "  def __init__(id, production =, consumption=):\n",
        "    self.id = id\n",
        "    self.production = production\n",
        "    self.consumption = consumption\n",
        "\n",
        "  def decide_pq(self, oek, mynode):\n",
        "    hour = oek.brain.Solution.DblHour()  # Extracts which hour the simulation is currently on\n",
        "    # Optimization by scheduling algo goes here\n"
      ],
      "execution_count": null,
      "outputs": []
    },
    {
      "cell_type": "code",
      "metadata": {
        "id": "H0fIo8Gzumxj",
        "colab_type": "code",
        "colab": {}
      },
      "source": [
        "\n",
        "  \n"
      ],
      "execution_count": null,
      "outputs": []
    }
  ]
}