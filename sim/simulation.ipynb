{
  "nbformat": 4,
  "nbformat_minor": 0,
  "metadata": {
    "colab": {
      "name": "simulation.ipynb",
      "provenance": [],
      "collapsed_sections": []
    },
    "kernelspec": {
      "name": "python3",
      "display_name": "Python 3"
    }
  },
  "cells": [
    {
      "cell_type": "markdown",
      "metadata": {
        "id": "f3FECrzKtN3k",
        "colab_type": "text"
      },
      "source": [
        "# **Simulation of Smart Grid**"
      ]
    },
    {
      "cell_type": "markdown",
      "metadata": {
        "id": "FobhoH2DtZaG",
        "colab_type": "text"
      },
      "source": [
        "Install and import mosaik"
      ]
    },
    {
      "cell_type": "code",
      "metadata": {
        "id": "sN2Apbi9tOGV",
        "colab_type": "code",
        "colab": {
          "base_uri": "https://localhost:8080/",
          "height": 134
        },
        "outputId": "9213b4d9-4411-43c0-cf48-930c4fa6a1e0"
      },
      "source": [
        "!pip install mosaik\n",
        "\n",
        "import mosaik\n"
      ],
      "execution_count": 4,
      "outputs": [
        {
          "output_type": "stream",
          "text": [
            "Requirement already satisfied: mosaik in /usr/local/lib/python3.6/dist-packages (2.6.0)\n",
            "Requirement already satisfied: simpy<4.0.0,>=3.0.10 in /usr/local/lib/python3.6/dist-packages (from mosaik) (3.0.13)\n",
            "Requirement already satisfied: networkx>=2.0 in /usr/local/lib/python3.6/dist-packages (from mosaik) (2.4)\n",
            "Requirement already satisfied: mosaik-api>=2.3 in /usr/local/lib/python3.6/dist-packages (from mosaik) (2.4)\n",
            "Requirement already satisfied: simpy.io>=0.2.3 in /usr/local/lib/python3.6/dist-packages (from mosaik) (0.2.3)\n",
            "Requirement already satisfied: decorator>=4.3.0 in /usr/local/lib/python3.6/dist-packages (from networkx>=2.0->mosaik) (4.4.2)\n",
            "Requirement already satisfied: docopt>=0.6.1 in /usr/local/lib/python3.6/dist-packages (from mosaik-api>=2.3->mosaik) (0.6.2)\n"
          ],
          "name": "stdout"
        }
      ]
    },
    {
      "cell_type": "markdown",
      "metadata": {
        "id": "ZMLXLcb-tdZ1",
        "colab_type": "text"
      },
      "source": [
        "Install krangpower (To simulate grid based on OpenDDS)"
      ]
    },
    {
      "cell_type": "code",
      "metadata": {
        "id": "xyHb_79Oi3Nn",
        "colab_type": "code",
        "colab": {
          "base_uri": "https://localhost:8080/",
          "height": 554
        },
        "outputId": "3d7f0b02-4ae9-4de0-e2fe-505ec6305b27"
      },
      "source": [
        "!pip install krangpower"
      ],
      "execution_count": 5,
      "outputs": [
        {
          "output_type": "stream",
          "text": [
            "Requirement already satisfied: krangpower in /usr/local/lib/python3.6/dist-packages (0.2.5)\n",
            "Requirement already satisfied: numpy in /usr/local/lib/python3.6/dist-packages (from krangpower) (1.18.5)\n",
            "Requirement already satisfied: python-dateutil in /usr/local/lib/python3.6/dist-packages (from krangpower) (2.8.1)\n",
            "Requirement already satisfied: scipy in /usr/local/lib/python3.6/dist-packages (from krangpower) (1.4.1)\n",
            "Requirement already satisfied: networkx in /usr/local/lib/python3.6/dist-packages (from krangpower) (2.4)\n",
            "Requirement already satisfied: pandas in /usr/local/lib/python3.6/dist-packages (from krangpower) (1.0.5)\n",
            "Requirement already satisfied: matplotlib in /usr/local/lib/python3.6/dist-packages (from krangpower) (3.2.2)\n",
            "Requirement already satisfied: pint in /usr/local/lib/python3.6/dist-packages (from krangpower) (0.14)\n",
            "Requirement already satisfied: requests in /usr/local/lib/python3.6/dist-packages (from krangpower) (2.23.0)\n",
            "Requirement already satisfied: OpenDSSDirect.py in /usr/local/lib/python3.6/dist-packages (from krangpower) (0.4.0)\n",
            "Requirement already satisfied: canonicaljson in /usr/local/lib/python3.6/dist-packages (from krangpower) (1.2.0)\n",
            "Requirement already satisfied: tqdm in /usr/local/lib/python3.6/dist-packages (from krangpower) (4.41.1)\n",
            "Requirement already satisfied: six>=1.5 in /usr/local/lib/python3.6/dist-packages (from python-dateutil->krangpower) (1.15.0)\n",
            "Requirement already satisfied: decorator>=4.3.0 in /usr/local/lib/python3.6/dist-packages (from networkx->krangpower) (4.4.2)\n",
            "Requirement already satisfied: pytz>=2017.2 in /usr/local/lib/python3.6/dist-packages (from pandas->krangpower) (2018.9)\n",
            "Requirement already satisfied: cycler>=0.10 in /usr/local/lib/python3.6/dist-packages (from matplotlib->krangpower) (0.10.0)\n",
            "Requirement already satisfied: kiwisolver>=1.0.1 in /usr/local/lib/python3.6/dist-packages (from matplotlib->krangpower) (1.2.0)\n",
            "Requirement already satisfied: pyparsing!=2.0.4,!=2.1.2,!=2.1.6,>=2.0.1 in /usr/local/lib/python3.6/dist-packages (from matplotlib->krangpower) (2.4.7)\n",
            "Requirement already satisfied: setuptools in /usr/local/lib/python3.6/dist-packages (from pint->krangpower) (49.2.0)\n",
            "Requirement already satisfied: packaging in /usr/local/lib/python3.6/dist-packages (from pint->krangpower) (20.4)\n",
            "Requirement already satisfied: importlib-metadata; python_version < \"3.8\" in /usr/local/lib/python3.6/dist-packages (from pint->krangpower) (1.7.0)\n",
            "Requirement already satisfied: urllib3!=1.25.0,!=1.25.1,<1.26,>=1.21.1 in /usr/local/lib/python3.6/dist-packages (from requests->krangpower) (1.24.3)\n",
            "Requirement already satisfied: certifi>=2017.4.17 in /usr/local/lib/python3.6/dist-packages (from requests->krangpower) (2020.6.20)\n",
            "Requirement already satisfied: idna<3,>=2.5 in /usr/local/lib/python3.6/dist-packages (from requests->krangpower) (2.10)\n",
            "Requirement already satisfied: chardet<4,>=3.0.2 in /usr/local/lib/python3.6/dist-packages (from requests->krangpower) (3.0.4)\n",
            "Requirement already satisfied: dss-python<0.11,>=0.10.5 in /usr/local/lib/python3.6/dist-packages (from OpenDSSDirect.py->krangpower) (0.10.6)\n",
            "Requirement already satisfied: future in /usr/local/lib/python3.6/dist-packages (from OpenDSSDirect.py->krangpower) (0.16.0)\n",
            "Requirement already satisfied: frozendict>=1.0 in /usr/local/lib/python3.6/dist-packages (from canonicaljson->krangpower) (1.2)\n",
            "Requirement already satisfied: simplejson>=3.6.5 in /usr/local/lib/python3.6/dist-packages (from canonicaljson->krangpower) (3.17.2)\n",
            "Requirement already satisfied: zipp>=0.5 in /usr/local/lib/python3.6/dist-packages (from importlib-metadata; python_version < \"3.8\"->pint->krangpower) (3.1.0)\n",
            "Requirement already satisfied: cffi>=1.11.2 in /usr/local/lib/python3.6/dist-packages (from dss-python<0.11,>=0.10.5->OpenDSSDirect.py->krangpower) (1.14.1)\n",
            "Requirement already satisfied: pycparser in /usr/local/lib/python3.6/dist-packages (from cffi>=1.11.2->dss-python<0.11,>=0.10.5->OpenDSSDirect.py->krangpower) (2.20)\n"
          ],
          "name": "stdout"
        }
      ]
    },
    {
      "cell_type": "markdown",
      "metadata": {
        "id": "aL7iHltitz8F",
        "colab_type": "text"
      },
      "source": [
        "Import essential libraries and define units to use the pint library"
      ]
    },
    {
      "cell_type": "code",
      "metadata": {
        "id": "INXvOK1kkiCw",
        "colab_type": "code",
        "colab": {}
      },
      "source": [
        "import numpy as np\n",
        "import numpy.fft as fft\n",
        "from PIL import Image\n",
        "import matplotlib.pyplot as plt\n",
        "import cvxpy as cp  # For optimization\n",
        "\n",
        "import krangpower as kp  # This is our main library\n",
        "unit = kp.UM"
      ],
      "execution_count": 6,
      "outputs": []
    },
    {
      "cell_type": "markdown",
      "metadata": {
        "id": "JU1xMj4HuBf7",
        "colab_type": "text"
      },
      "source": [
        "# Start with our grid"
      ]
    },
    {
      "cell_type": "code",
      "metadata": {
        "id": "yTxABrZ0kavL",
        "colab_type": "code",
        "colab": {}
      },
      "source": [
        "src = kp.Vsource(basekv=220*unit.V, frequency=100.0) # Make a voltage source with voltage 220 V and frquency 100 Hz"
      ],
      "execution_count": 7,
      "outputs": []
    },
    {
      "cell_type": "code",
      "metadata": {
        "id": "SYXmuPZGkbHN",
        "colab_type": "code",
        "colab": {}
      },
      "source": [
        "grid = kp.Krang('theGrid', voltage_source=src)  # Instantiate a grid as a krang object (we can have only one of those) with our source above"
      ],
      "execution_count": 8,
      "outputs": []
    },
    {
      "cell_type": "code",
      "metadata": {
        "id": "KSxWs-V3kbIs",
        "colab_type": "code",
        "colab": {}
      },
      "source": [
        "mainLine = kp.LineCode_S('mainTransmission', nphases=3) # Declare a transmission line"
      ],
      "execution_count": 9,
      "outputs": []
    },
    {
      "cell_type": "code",
      "metadata": {
        "id": "XE_yUptfkbMx",
        "colab_type": "code",
        "colab": {
          "base_uri": "https://localhost:8080/",
          "height": 34
        },
        "outputId": "2cb9465d-72f9-4b9d-bc42-f9cf5f05dfe6"
      },
      "source": [
        "grid << mainLine\n",
        "grid['sourcebus', 'alpha']"
      ],
      "execution_count": 13,
      "outputs": [
        {
          "output_type": "execute_result",
          "data": {
            "text/plain": [
              "<BusView['sourcebus', 'alpha']>"
            ]
          },
          "metadata": {
            "tags": []
          },
          "execution_count": 13
        }
      ]
    },
    {
      "cell_type": "code",
      "metadata": {
        "id": "1SPJuZwHkj2l",
        "colab_type": "code",
        "colab": {}
      },
      "source": [
        ""
      ],
      "execution_count": 7,
      "outputs": []
    },
    {
      "cell_type": "markdown",
      "metadata": {
        "id": "MQrCymR8uauA",
        "colab_type": "text"
      },
      "source": [
        "## The prosumer class"
      ]
    },
    {
      "cell_type": "code",
      "metadata": {
        "id": "ACaNrNJXbY49",
        "colab_type": "code",
        "colab": {}
      },
      "source": [
        "class prosumer(kp.DecisionModel):\n",
        "\n",
        "  def __init__(self, id, production, consumption, solarIrradiance):  # All the attributes would take their values from dataset - both initially and on each iteration\n",
        "    self.id = id\n",
        "    self.production = production\n",
        "    self.consumption = consumption\n",
        "    self.solarIrradiance = solarIrradiance\n",
        "\n",
        "    prosumerLine = kp.LineCode_S(str(id)+'Transmission', nphases=3).aka(str(id)+'Transmisssion') # Make a transmission line in the internal prosumer model\n",
        "    grid[str(id)+'Transmission'] <<kp.PvSystem(phases =3, irrandiance = solarIrradiance).aka('prosumerPV'+str(id))\n",
        "    # Add a solar photovoltaic that uses the irradiance from the dataset to generate power\n",
        "\n",
        "\n",
        "  \n",
        "  def update(self, oek, mynode):\n",
        "    hour = oek.brain.Solution.DblHour()  # Extracts which hour the simulation is currently on\n",
        "\n",
        "    # Update prosuction and irradiance from dataset\n",
        "\n",
        "    # Optimization by scheduling algo goes here\n",
        "\n",
        "    # Update production as per scheduling algo\n",
        "  \n",
        "  \n",
        "\n",
        "\n",
        "\n"
      ],
      "execution_count": 55,
      "outputs": []
    },
    {
      "cell_type": "code",
      "metadata": {
        "id": "H0fIo8Gzumxj",
        "colab_type": "code",
        "colab": {}
      },
      "source": [
        "prosumer1 = prosumer(id = 1, production =10, consumption=5, solarIrradiance =30*unit.W)\n"
      ],
      "execution_count": 43,
      "outputs": []
    }
  ]
}