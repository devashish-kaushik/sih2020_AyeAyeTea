{
  "nbformat": 4,
  "nbformat_minor": 0,
  "metadata": {
    "colab": {
      "name": "simulation.ipynb",
      "provenance": [],
      "collapsed_sections": []
    },
    "kernelspec": {
      "name": "python3",
      "display_name": "Python 3"
    }
  },
  "cells": [
    {
      "cell_type": "markdown",
      "metadata": {
        "id": "f3FECrzKtN3k",
        "colab_type": "text"
      },
      "source": [
        "# **Simulation of Smart Grid**"
      ]
    },
    {
      "cell_type": "markdown",
      "metadata": {
        "id": "FobhoH2DtZaG",
        "colab_type": "text"
      },
      "source": [
        "Install and import mosaik    -- ( **DON'T USE. BROKE STUFF** )"
      ]
    },
    {
      "cell_type": "code",
      "metadata": {
        "id": "sN2Apbi9tOGV",
        "colab_type": "code",
        "colab": {
          "base_uri": "https://localhost:8080/",
          "height": 134
        },
        "outputId": "11143b37-ae30-4f0c-c79f-cd1cc656303e"
      },
      "source": [
        "!pip install mosaik\n",
        "\n",
        "import mosaik\n",
        "\n",
        "\n",
        "#DON'T USE MOSAIK ANYMORE. INTEGRATION WITH IT BROKE STUFF"
      ],
      "execution_count": 109,
      "outputs": [
        {
          "output_type": "stream",
          "text": [
            "Requirement already satisfied: mosaik in /usr/local/lib/python3.6/dist-packages (2.6.0)\n",
            "Requirement already satisfied: mosaik-api>=2.3 in /usr/local/lib/python3.6/dist-packages (from mosaik) (2.4)\n",
            "Requirement already satisfied: networkx>=2.0 in /usr/local/lib/python3.6/dist-packages (from mosaik) (2.4)\n",
            "Requirement already satisfied: simpy.io>=0.2.3 in /usr/local/lib/python3.6/dist-packages (from mosaik) (0.2.3)\n",
            "Requirement already satisfied: simpy<4.0.0,>=3.0.10 in /usr/local/lib/python3.6/dist-packages (from mosaik) (3.0.13)\n",
            "Requirement already satisfied: docopt>=0.6.1 in /usr/local/lib/python3.6/dist-packages (from mosaik-api>=2.3->mosaik) (0.6.2)\n",
            "Requirement already satisfied: decorator>=4.3.0 in /usr/local/lib/python3.6/dist-packages (from networkx>=2.0->mosaik) (4.4.2)\n"
          ],
          "name": "stdout"
        }
      ]
    },
    {
      "cell_type": "markdown",
      "metadata": {
        "id": "ZMLXLcb-tdZ1",
        "colab_type": "text"
      },
      "source": [
        "Install krangpower (To simulate grid based on OpenDDS)    (https://pypi.org/project/krangpower/)"
      ]
    },
    {
      "cell_type": "code",
      "metadata": {
        "id": "xyHb_79Oi3Nn",
        "colab_type": "code",
        "colab": {
          "base_uri": "https://localhost:8080/",
          "height": 554
        },
        "outputId": "e2d67d4f-6194-4aac-de62-c2b29e5eaa5f"
      },
      "source": [
        "!pip install krangpower\n",
        "\n",
        "# https://pypi.org/project/krangpower/0\n",
        "# Docs : https://krangpower.readthedocs.io/en/master/usage.html"
      ],
      "execution_count": 110,
      "outputs": [
        {
          "output_type": "stream",
          "text": [
            "Requirement already satisfied: krangpower in /usr/local/lib/python3.6/dist-packages (0.2.5)\n",
            "Requirement already satisfied: python-dateutil in /usr/local/lib/python3.6/dist-packages (from krangpower) (2.8.1)\n",
            "Requirement already satisfied: networkx in /usr/local/lib/python3.6/dist-packages (from krangpower) (2.4)\n",
            "Requirement already satisfied: requests in /usr/local/lib/python3.6/dist-packages (from krangpower) (2.23.0)\n",
            "Requirement already satisfied: pint in /usr/local/lib/python3.6/dist-packages (from krangpower) (0.14)\n",
            "Requirement already satisfied: numpy in /usr/local/lib/python3.6/dist-packages (from krangpower) (1.18.5)\n",
            "Requirement already satisfied: canonicaljson in /usr/local/lib/python3.6/dist-packages (from krangpower) (1.2.0)\n",
            "Requirement already satisfied: matplotlib in /usr/local/lib/python3.6/dist-packages (from krangpower) (3.2.2)\n",
            "Requirement already satisfied: OpenDSSDirect.py in /usr/local/lib/python3.6/dist-packages (from krangpower) (0.4.0)\n",
            "Requirement already satisfied: pandas in /usr/local/lib/python3.6/dist-packages (from krangpower) (1.0.5)\n",
            "Requirement already satisfied: scipy in /usr/local/lib/python3.6/dist-packages (from krangpower) (1.4.1)\n",
            "Requirement already satisfied: tqdm in /usr/local/lib/python3.6/dist-packages (from krangpower) (4.41.1)\n",
            "Requirement already satisfied: six>=1.5 in /usr/local/lib/python3.6/dist-packages (from python-dateutil->krangpower) (1.15.0)\n",
            "Requirement already satisfied: decorator>=4.3.0 in /usr/local/lib/python3.6/dist-packages (from networkx->krangpower) (4.4.2)\n",
            "Requirement already satisfied: certifi>=2017.4.17 in /usr/local/lib/python3.6/dist-packages (from requests->krangpower) (2020.6.20)\n",
            "Requirement already satisfied: chardet<4,>=3.0.2 in /usr/local/lib/python3.6/dist-packages (from requests->krangpower) (3.0.4)\n",
            "Requirement already satisfied: urllib3!=1.25.0,!=1.25.1,<1.26,>=1.21.1 in /usr/local/lib/python3.6/dist-packages (from requests->krangpower) (1.24.3)\n",
            "Requirement already satisfied: idna<3,>=2.5 in /usr/local/lib/python3.6/dist-packages (from requests->krangpower) (2.10)\n",
            "Requirement already satisfied: importlib-metadata; python_version < \"3.8\" in /usr/local/lib/python3.6/dist-packages (from pint->krangpower) (1.7.0)\n",
            "Requirement already satisfied: setuptools in /usr/local/lib/python3.6/dist-packages (from pint->krangpower) (49.2.0)\n",
            "Requirement already satisfied: packaging in /usr/local/lib/python3.6/dist-packages (from pint->krangpower) (20.4)\n",
            "Requirement already satisfied: frozendict>=1.0 in /usr/local/lib/python3.6/dist-packages (from canonicaljson->krangpower) (1.2)\n",
            "Requirement already satisfied: simplejson>=3.6.5 in /usr/local/lib/python3.6/dist-packages (from canonicaljson->krangpower) (3.17.2)\n",
            "Requirement already satisfied: cycler>=0.10 in /usr/local/lib/python3.6/dist-packages (from matplotlib->krangpower) (0.10.0)\n",
            "Requirement already satisfied: pyparsing!=2.0.4,!=2.1.2,!=2.1.6,>=2.0.1 in /usr/local/lib/python3.6/dist-packages (from matplotlib->krangpower) (2.4.7)\n",
            "Requirement already satisfied: kiwisolver>=1.0.1 in /usr/local/lib/python3.6/dist-packages (from matplotlib->krangpower) (1.2.0)\n",
            "Requirement already satisfied: dss-python<0.11,>=0.10.5 in /usr/local/lib/python3.6/dist-packages (from OpenDSSDirect.py->krangpower) (0.10.6)\n",
            "Requirement already satisfied: future in /usr/local/lib/python3.6/dist-packages (from OpenDSSDirect.py->krangpower) (0.16.0)\n",
            "Requirement already satisfied: pytz>=2017.2 in /usr/local/lib/python3.6/dist-packages (from pandas->krangpower) (2018.9)\n",
            "Requirement already satisfied: zipp>=0.5 in /usr/local/lib/python3.6/dist-packages (from importlib-metadata; python_version < \"3.8\"->pint->krangpower) (3.1.0)\n",
            "Requirement already satisfied: cffi>=1.11.2 in /usr/local/lib/python3.6/dist-packages (from dss-python<0.11,>=0.10.5->OpenDSSDirect.py->krangpower) (1.14.1)\n",
            "Requirement already satisfied: pycparser in /usr/local/lib/python3.6/dist-packages (from cffi>=1.11.2->dss-python<0.11,>=0.10.5->OpenDSSDirect.py->krangpower) (2.20)\n"
          ],
          "name": "stdout"
        }
      ]
    },
    {
      "cell_type": "markdown",
      "metadata": {
        "id": "aL7iHltitz8F",
        "colab_type": "text"
      },
      "source": [
        "Import essential libraries and define units to use the pint library"
      ]
    },
    {
      "cell_type": "code",
      "metadata": {
        "id": "INXvOK1kkiCw",
        "colab_type": "code",
        "colab": {}
      },
      "source": [
        "import numpy as np\n",
        "import numpy.fft as fft\n",
        "from PIL import Image\n",
        "import matplotlib.pyplot as plt\n",
        "import cvxpy as cp  # For optimization\n",
        "\n",
        "import krangpower as kp  # This is our main library\n",
        "unit = kp.UM    # Pint library for units\n",
        "# https://pypi.org/project/Pint/\n",
        "# Docs : https://pint.readthedocs.io/en/stable/"
      ],
      "execution_count": 111,
      "outputs": []
    },
    {
      "cell_type": "markdown",
      "metadata": {
        "id": "JU1xMj4HuBf7",
        "colab_type": "text"
      },
      "source": [
        "# Start with our grid"
      ]
    },
    {
      "cell_type": "code",
      "metadata": {
        "id": "yTxABrZ0kavL",
        "colab_type": "code",
        "colab": {}
      },
      "source": [
        "src = kp.Vsource(basekv=220*unit.V, frequency=100.0) # Make a voltage source with voltage 220 V and frquency 100 Hz"
      ],
      "execution_count": 112,
      "outputs": []
    },
    {
      "cell_type": "code",
      "metadata": {
        "id": "SYXmuPZGkbHN",
        "colab_type": "code",
        "colab": {
          "base_uri": "https://localhost:8080/",
          "height": 296
        },
        "outputId": "54ab388e-7930-422e-a9dd-42b036c17f5c"
      },
      "source": [
        "grid = kp.Krang('theGrid', voltage_source=src)  # Instantiate a grid as a krang object (we can have only one of those) with our source above"
      ],
      "execution_count": 113,
      "outputs": [
        {
          "output_type": "error",
          "ename": "KrangInstancingError",
          "evalue": "ignored",
          "traceback": [
            "\u001b[0;31m---------------------------------------------------------------------------\u001b[0m",
            "\u001b[0;31mKrangInstancingError\u001b[0m                      Traceback (most recent call last)",
            "\u001b[0;32m<ipython-input-113-dbbebcca3092>\u001b[0m in \u001b[0;36m<module>\u001b[0;34m()\u001b[0m\n\u001b[0;32m----> 1\u001b[0;31m \u001b[0mgrid\u001b[0m \u001b[0;34m=\u001b[0m \u001b[0mkp\u001b[0m\u001b[0;34m.\u001b[0m\u001b[0mKrang\u001b[0m\u001b[0;34m(\u001b[0m\u001b[0;34m'theGrid'\u001b[0m\u001b[0;34m,\u001b[0m \u001b[0mvoltage_source\u001b[0m\u001b[0;34m=\u001b[0m\u001b[0msrc\u001b[0m\u001b[0;34m)\u001b[0m  \u001b[0;31m# Instantiate a grid as a krang object (we can have only one of those) with our source above\u001b[0m\u001b[0;34m\u001b[0m\u001b[0;34m\u001b[0m\u001b[0m\n\u001b[0m",
            "\u001b[0;32m/usr/local/lib/python3.6/dist-packages/krangpower/_krangsuit.py\u001b[0m in \u001b[0;36m__new__\u001b[0;34m(cls, *args, **kwargs)\u001b[0m\n\u001b[1;32m    204\u001b[0m         \u001b[0;31m# Krang is a singleton; attempting to create a second one will raise an error\u001b[0m\u001b[0;34m\u001b[0m\u001b[0;34m\u001b[0m\u001b[0;34m\u001b[0m\u001b[0m\n\u001b[1;32m    205\u001b[0m         \u001b[0;32mif\u001b[0m \u001b[0mglobals\u001b[0m\u001b[0;34m(\u001b[0m\u001b[0;34m)\u001b[0m\u001b[0;34m[\u001b[0m\u001b[0;34m'_INSTANCE'\u001b[0m\u001b[0;34m]\u001b[0m \u001b[0;32mis\u001b[0m \u001b[0;32mnot\u001b[0m \u001b[0;32mNone\u001b[0m\u001b[0;34m:\u001b[0m\u001b[0;34m\u001b[0m\u001b[0;34m\u001b[0m\u001b[0m\n\u001b[0;32m--> 206\u001b[0;31m             \u001b[0;32mraise\u001b[0m \u001b[0mKrangInstancingError\u001b[0m\u001b[0;34m(\u001b[0m\u001b[0mglobals\u001b[0m\u001b[0;34m(\u001b[0m\u001b[0;34m)\u001b[0m\u001b[0;34m[\u001b[0m\u001b[0;34m'_INSTANCE'\u001b[0m\u001b[0;34m]\u001b[0m\u001b[0;34m)\u001b[0m\u001b[0;34m\u001b[0m\u001b[0;34m\u001b[0m\u001b[0m\n\u001b[0m\u001b[1;32m    207\u001b[0m \u001b[0;34m\u001b[0m\u001b[0m\n\u001b[1;32m    208\u001b[0m         \u001b[0;32mreturn\u001b[0m \u001b[0msuper\u001b[0m\u001b[0;34m(\u001b[0m\u001b[0;34m)\u001b[0m\u001b[0;34m.\u001b[0m\u001b[0m__new__\u001b[0m\u001b[0;34m(\u001b[0m\u001b[0mcls\u001b[0m\u001b[0;34m)\u001b[0m\u001b[0;34m\u001b[0m\u001b[0;34m\u001b[0m\u001b[0m\n",
            "\u001b[0;31mKrangInstancingError\u001b[0m: Cannot create a new Krang - A Krang (<weakref at 0x7fb5b6843a98; to 'Krang' at 0x7fb5e92e2438>) already exists.Delete every reference to it if you want to instantiate another."
          ]
        }
      ]
    },
    {
      "cell_type": "code",
      "metadata": {
        "id": "KSxWs-V3kbIs",
        "colab_type": "code",
        "colab": {}
      },
      "source": [
        "mainLine = kp.LineCode_S('mainTransmission', nphases=3) # Declare a transmission line"
      ],
      "execution_count": 114,
      "outputs": []
    },
    {
      "cell_type": "code",
      "metadata": {
        "id": "XE_yUptfkbMx",
        "colab_type": "code",
        "colab": {
          "base_uri": "https://localhost:8080/",
          "height": 34
        },
        "outputId": "f3e3c150-12d6-47df-fce3-06be339bf091"
      },
      "source": [
        "grid << mainLine\n",
        "grid['sourcebus', 'alpha']"
      ],
      "execution_count": 115,
      "outputs": [
        {
          "output_type": "execute_result",
          "data": {
            "text/plain": [
              "<BusView['sourcebus', 'alpha']>"
            ]
          },
          "metadata": {
            "tags": []
          },
          "execution_count": 115
        }
      ]
    },
    {
      "cell_type": "code",
      "metadata": {
        "id": "1SPJuZwHkj2l",
        "colab_type": "code",
        "colab": {}
      },
      "source": [
        ""
      ],
      "execution_count": 7,
      "outputs": []
    },
    {
      "cell_type": "markdown",
      "metadata": {
        "id": "MQrCymR8uauA",
        "colab_type": "text"
      },
      "source": [
        "## The prosumer class"
      ]
    },
    {
      "cell_type": "code",
      "metadata": {
        "id": "ACaNrNJXbY49",
        "colab_type": "code",
        "colab": {}
      },
      "source": [
        "class prosumer(kp.DecisionModel):\n",
        "\n",
        "  def __init__(self, id, production, consumption, solarIrradiance, lineNumber):  # All the attributes would take their values from dataset - both initially and on each iteration\n",
        "    self.id = id\n",
        "    self.production = production\n",
        "    self.consumption = consumption\n",
        "    self.solarIrradiance = solarIrradiance\n",
        "\n",
        "    prosumerLine = kp.LineCode_S(str(id)+'Transmission', nphases=3).aka(str(id)+'Transmisssion') # Make a transmission line in the internal prosumer model\n",
        "    grid['transmission'+str(lineNumber), 'alpha'] <<kp.PvSystem(phases =3, irradiance = solarIrradiance).aka('prosumerPV'+str(id))\n",
        "    # Add a solar photovoltaic that uses the irradiance from the dataset to generate power\n",
        "\n",
        "\n",
        "  \n",
        "  def update(self, oek, mynode):\n",
        "    hour = oek.brain.Solution.DblHour()  # Extracts which hour the simulation is currently on\n",
        "\n",
        "    # Update cpmsumption and irradiance from dataset\n",
        "\n",
        "    # Optimization by scheduling algo goes here\n",
        "\n",
        "    # Update production as per scheduling algo\n",
        "  \n",
        "  \n",
        "\n",
        "\n",
        "\n"
      ],
      "execution_count": 116,
      "outputs": []
    },
    {
      "cell_type": "markdown",
      "metadata": {
        "id": "XyXCoVc6wbOq",
        "colab_type": "text"
      },
      "source": [
        "## Making a grid with prosumers"
      ]
    },
    {
      "cell_type": "code",
      "metadata": {
        "id": "H0fIo8Gzumxj",
        "colab_type": "code",
        "colab": {}
      },
      "source": [
        "transmission1 = kp.LineCode_S('transmission1', nphases=3)\n",
        "grid<<transmission1\n",
        "prosumer2 = prosumer(id = 2, production =10, consumption=5, solarIrradiance =30.0*unit.kilowatt/(unit.metre)**2, lineNumber =1)\n"
      ],
      "execution_count": 118,
      "outputs": []
    },
    {
      "cell_type": "markdown",
      "metadata": {
        "id": "f0FnQ6RUCq6m",
        "colab_type": "text"
      },
      "source": [
        "We can make prosumer with a given ID once\n",
        "Running the cell again tries to overwrite the prosumer and produces an error   (NO IDEA WHY)"
      ]
    },
    {
      "cell_type": "code",
      "metadata": {
        "id": "RWH2NXlVCl8X",
        "colab_type": "code",
        "colab": {
          "base_uri": "https://localhost:8080/",
          "height": 320
        },
        "outputId": "ff47b3bf-23f3-4206-f16b-c23b012b056d"
      },
      "source": [
        "prosumer1 = prosumer(id = 1, production =10, consumption=5, solarIrradiance =30.0*unit.kilowatt/(unit.metre)**2, lineNumber =1)"
      ],
      "execution_count": 119,
      "outputs": [
        {
          "output_type": "error",
          "ename": "OpenDSSTextError",
          "evalue": "ignored",
          "traceback": [
            "\u001b[0;31m---------------------------------------------------------------------------\u001b[0m",
            "\u001b[0;31mOpenDSSTextError\u001b[0m                          Traceback (most recent call last)",
            "\u001b[0;32m<ipython-input-119-7eee6075b990>\u001b[0m in \u001b[0;36m<module>\u001b[0;34m()\u001b[0m\n\u001b[0;32m----> 1\u001b[0;31m \u001b[0mprosumer1\u001b[0m \u001b[0;34m=\u001b[0m \u001b[0mprosumer\u001b[0m\u001b[0;34m(\u001b[0m\u001b[0mid\u001b[0m \u001b[0;34m=\u001b[0m \u001b[0;36m1\u001b[0m\u001b[0;34m,\u001b[0m \u001b[0mproduction\u001b[0m \u001b[0;34m=\u001b[0m\u001b[0;36m10\u001b[0m\u001b[0;34m,\u001b[0m \u001b[0mconsumption\u001b[0m\u001b[0;34m=\u001b[0m\u001b[0;36m5\u001b[0m\u001b[0;34m,\u001b[0m \u001b[0msolarIrradiance\u001b[0m \u001b[0;34m=\u001b[0m\u001b[0;36m30.0\u001b[0m\u001b[0;34m*\u001b[0m\u001b[0munit\u001b[0m\u001b[0;34m.\u001b[0m\u001b[0mkilowatt\u001b[0m\u001b[0;34m/\u001b[0m\u001b[0;34m(\u001b[0m\u001b[0munit\u001b[0m\u001b[0;34m.\u001b[0m\u001b[0mmetre\u001b[0m\u001b[0;34m)\u001b[0m\u001b[0;34m**\u001b[0m\u001b[0;36m2\u001b[0m\u001b[0;34m,\u001b[0m \u001b[0mlineNumber\u001b[0m \u001b[0;34m=\u001b[0m\u001b[0;36m1\u001b[0m\u001b[0;34m)\u001b[0m\u001b[0;34m\u001b[0m\u001b[0;34m\u001b[0m\u001b[0m\n\u001b[0m",
            "\u001b[0;32m<ipython-input-116-9146cec50664>\u001b[0m in \u001b[0;36m__init__\u001b[0;34m(self, id, production, consumption, solarIrradiance, lineNumber)\u001b[0m\n\u001b[1;32m      8\u001b[0m \u001b[0;34m\u001b[0m\u001b[0m\n\u001b[1;32m      9\u001b[0m     \u001b[0mprosumerLine\u001b[0m \u001b[0;34m=\u001b[0m \u001b[0mkp\u001b[0m\u001b[0;34m.\u001b[0m\u001b[0mLineCode_S\u001b[0m\u001b[0;34m(\u001b[0m\u001b[0mstr\u001b[0m\u001b[0;34m(\u001b[0m\u001b[0mid\u001b[0m\u001b[0;34m)\u001b[0m\u001b[0;34m+\u001b[0m\u001b[0;34m'Transmission'\u001b[0m\u001b[0;34m,\u001b[0m \u001b[0mnphases\u001b[0m\u001b[0;34m=\u001b[0m\u001b[0;36m3\u001b[0m\u001b[0;34m)\u001b[0m\u001b[0;34m.\u001b[0m\u001b[0maka\u001b[0m\u001b[0;34m(\u001b[0m\u001b[0mstr\u001b[0m\u001b[0;34m(\u001b[0m\u001b[0mid\u001b[0m\u001b[0;34m)\u001b[0m\u001b[0;34m+\u001b[0m\u001b[0;34m'Transmisssion'\u001b[0m\u001b[0;34m)\u001b[0m \u001b[0;31m# Make a transmission line in the internal prosumer model\u001b[0m\u001b[0;34m\u001b[0m\u001b[0;34m\u001b[0m\u001b[0m\n\u001b[0;32m---> 10\u001b[0;31m     \u001b[0mgrid\u001b[0m\u001b[0;34m[\u001b[0m\u001b[0;34m'transmission'\u001b[0m\u001b[0;34m+\u001b[0m\u001b[0mstr\u001b[0m\u001b[0;34m(\u001b[0m\u001b[0mlineNumber\u001b[0m\u001b[0;34m)\u001b[0m\u001b[0;34m,\u001b[0m \u001b[0;34m'alpha'\u001b[0m\u001b[0;34m]\u001b[0m \u001b[0;34m<<\u001b[0m\u001b[0mkp\u001b[0m\u001b[0;34m.\u001b[0m\u001b[0mPvSystem\u001b[0m\u001b[0;34m(\u001b[0m\u001b[0mphases\u001b[0m \u001b[0;34m=\u001b[0m\u001b[0;36m3\u001b[0m\u001b[0;34m,\u001b[0m \u001b[0mirradiance\u001b[0m \u001b[0;34m=\u001b[0m \u001b[0msolarIrradiance\u001b[0m\u001b[0;34m)\u001b[0m\u001b[0;34m.\u001b[0m\u001b[0maka\u001b[0m\u001b[0;34m(\u001b[0m\u001b[0;34m'prosumerPV'\u001b[0m\u001b[0;34m+\u001b[0m\u001b[0mstr\u001b[0m\u001b[0;34m(\u001b[0m\u001b[0mid\u001b[0m\u001b[0;34m)\u001b[0m\u001b[0;34m)\u001b[0m\u001b[0;34m\u001b[0m\u001b[0;34m\u001b[0m\u001b[0m\n\u001b[0m\u001b[1;32m     11\u001b[0m     \u001b[0;31m# Add a solar photovoltaic that uses the irradiance from the dataset to generate power\u001b[0m\u001b[0;34m\u001b[0m\u001b[0;34m\u001b[0m\u001b[0;34m\u001b[0m\u001b[0m\n\u001b[1;32m     12\u001b[0m \u001b[0;34m\u001b[0m\u001b[0m\n",
            "\u001b[0;32m/usr/local/lib/python3.6/dist-packages/krangpower/_krangsuit.py\u001b[0m in \u001b[0;36mcached_invalidator_f\u001b[0;34m(self, *args, **kwargs)\u001b[0m\n\u001b[1;32m    104\u001b[0m         \u001b[0;32melse\u001b[0m\u001b[0;34m:\u001b[0m\u001b[0;34m\u001b[0m\u001b[0;34m\u001b[0m\u001b[0m\n\u001b[1;32m    105\u001b[0m             \u001b[0;32mraise\u001b[0m \u001b[0mAttributeError\u001b[0m\u001b[0;34m\u001b[0m\u001b[0;34m\u001b[0m\u001b[0m\n\u001b[0;32m--> 106\u001b[0;31m         \u001b[0;32mreturn\u001b[0m \u001b[0mf\u001b[0m\u001b[0;34m(\u001b[0m\u001b[0mself\u001b[0m\u001b[0;34m,\u001b[0m \u001b[0;34m*\u001b[0m\u001b[0margs\u001b[0m\u001b[0;34m,\u001b[0m \u001b[0;34m**\u001b[0m\u001b[0mkwargs\u001b[0m\u001b[0;34m)\u001b[0m\u001b[0;34m\u001b[0m\u001b[0;34m\u001b[0m\u001b[0m\n\u001b[0m\u001b[1;32m    107\u001b[0m \u001b[0;34m\u001b[0m\u001b[0m\n\u001b[1;32m    108\u001b[0m     \u001b[0;32mreturn\u001b[0m \u001b[0mcached_invalidator_f\u001b[0m\u001b[0;34m\u001b[0m\u001b[0;34m\u001b[0m\u001b[0m\n",
            "\u001b[0;32m/usr/local/lib/python3.6/dist-packages/krangpower/_krangsuit.py\u001b[0m in \u001b[0;36m__lshift__\u001b[0;34m(self, other)\u001b[0m\n\u001b[1;32m   1038\u001b[0m                 \u001b[0mself\u001b[0m\u001b[0;34m.\u001b[0m\u001b[0moek\u001b[0m \u001b[0;34m<<\u001b[0m \u001b[0mass_obj\u001b[0m\u001b[0;34m\u001b[0m\u001b[0;34m\u001b[0m\u001b[0m\n\u001b[1;32m   1039\u001b[0m \u001b[0;34m\u001b[0m\u001b[0m\n\u001b[0;32m-> 1040\u001b[0;31m         \u001b[0mself\u001b[0m\u001b[0;34m.\u001b[0m\u001b[0moek\u001b[0m\u001b[0;34m.\u001b[0m\u001b[0mcommand\u001b[0m\u001b[0;34m(\u001b[0m\u001b[0mother\u001b[0m\u001b[0;34m.\u001b[0m\u001b[0mfcs\u001b[0m\u001b[0;34m(\u001b[0m\u001b[0;34m**\u001b[0m\u001b[0mself\u001b[0m\u001b[0;34m.\u001b[0m\u001b[0mfcs_kwargs\u001b[0m\u001b[0;34m)\u001b[0m\u001b[0;34m)\u001b[0m\u001b[0;34m\u001b[0m\u001b[0;34m\u001b[0m\u001b[0m\n\u001b[0m\u001b[1;32m   1041\u001b[0m \u001b[0;34m\u001b[0m\u001b[0m\n\u001b[1;32m   1042\u001b[0m         \u001b[0;31m# remember ai elements\u001b[0m\u001b[0;34m\u001b[0m\u001b[0;34m\u001b[0m\u001b[0;34m\u001b[0m\u001b[0m\n",
            "\u001b[0;32m/usr/local/lib/python3.6/dist-packages/krangpower/_krangsuit.py\u001b[0m in \u001b[0;36mcached_invalidator_f\u001b[0;34m(self, *args, **kwargs)\u001b[0m\n\u001b[1;32m    104\u001b[0m         \u001b[0;32melse\u001b[0m\u001b[0;34m:\u001b[0m\u001b[0;34m\u001b[0m\u001b[0;34m\u001b[0m\u001b[0m\n\u001b[1;32m    105\u001b[0m             \u001b[0;32mraise\u001b[0m \u001b[0mAttributeError\u001b[0m\u001b[0;34m\u001b[0m\u001b[0;34m\u001b[0m\u001b[0m\n\u001b[0;32m--> 106\u001b[0;31m         \u001b[0;32mreturn\u001b[0m \u001b[0mf\u001b[0m\u001b[0;34m(\u001b[0m\u001b[0mself\u001b[0m\u001b[0;34m,\u001b[0m \u001b[0;34m*\u001b[0m\u001b[0margs\u001b[0m\u001b[0;34m,\u001b[0m \u001b[0;34m**\u001b[0m\u001b[0mkwargs\u001b[0m\u001b[0;34m)\u001b[0m\u001b[0;34m\u001b[0m\u001b[0;34m\u001b[0m\u001b[0m\n\u001b[0m\u001b[1;32m    107\u001b[0m \u001b[0;34m\u001b[0m\u001b[0m\n\u001b[1;32m    108\u001b[0m     \u001b[0;32mreturn\u001b[0m \u001b[0mcached_invalidator_f\u001b[0m\u001b[0;34m\u001b[0m\u001b[0;34m\u001b[0m\u001b[0m\n",
            "\u001b[0;32m/usr/local/lib/python3.6/dist-packages/krangpower/_krangsuit.py\u001b[0m in \u001b[0;36mcached_invalidator_f\u001b[0;34m(self, cmd_str, echo)\u001b[0m\n\u001b[1;32m    130\u001b[0m             \u001b[0;32melse\u001b[0m\u001b[0;34m:\u001b[0m\u001b[0;34m\u001b[0m\u001b[0;34m\u001b[0m\u001b[0m\n\u001b[1;32m    131\u001b[0m                 \u001b[0;32mraise\u001b[0m \u001b[0mAttributeError\u001b[0m\u001b[0;34m\u001b[0m\u001b[0;34m\u001b[0m\u001b[0m\n\u001b[0;32m--> 132\u001b[0;31m         \u001b[0;32mreturn\u001b[0m \u001b[0mf_command\u001b[0m\u001b[0;34m(\u001b[0m\u001b[0mself\u001b[0m\u001b[0;34m,\u001b[0m \u001b[0mcmd_str\u001b[0m\u001b[0;34m,\u001b[0m \u001b[0mecho\u001b[0m\u001b[0;34m)\u001b[0m\u001b[0;34m\u001b[0m\u001b[0;34m\u001b[0m\u001b[0m\n\u001b[0m\u001b[1;32m    133\u001b[0m \u001b[0;34m\u001b[0m\u001b[0m\n\u001b[1;32m    134\u001b[0m     \u001b[0;32mreturn\u001b[0m \u001b[0mcached_invalidator_f\u001b[0m\u001b[0;34m\u001b[0m\u001b[0;34m\u001b[0m\u001b[0m\n",
            "\u001b[0;32m/usr/local/lib/python3.6/dist-packages/krangpower/_krangsuit.py\u001b[0m in \u001b[0;36mcommand\u001b[0;34m(self, cmd_str, echo)\u001b[0m\n\u001b[1;32m    407\u001b[0m                 \u001b[0;32mraise\u001b[0m \u001b[0mClearingAttemptError\u001b[0m\u001b[0;34m\u001b[0m\u001b[0;34m\u001b[0m\u001b[0m\n\u001b[1;32m    408\u001b[0m \u001b[0;34m\u001b[0m\u001b[0m\n\u001b[0;32m--> 409\u001b[0;31m         \u001b[0mrslt\u001b[0m \u001b[0;34m=\u001b[0m \u001b[0mself\u001b[0m\u001b[0;34m.\u001b[0m\u001b[0mbrain\u001b[0m\u001b[0;34m.\u001b[0m\u001b[0mtxt_command\u001b[0m\u001b[0;34m(\u001b[0m\u001b[0mcmd_str\u001b[0m\u001b[0;34m,\u001b[0m \u001b[0mecho\u001b[0m\u001b[0;34m)\u001b[0m\u001b[0;34m\u001b[0m\u001b[0;34m\u001b[0m\u001b[0m\n\u001b[0m\u001b[1;32m    410\u001b[0m         \u001b[0;32mreturn\u001b[0m \u001b[0mrslt\u001b[0m\u001b[0;34m\u001b[0m\u001b[0;34m\u001b[0m\u001b[0m\n\u001b[1;32m    411\u001b[0m \u001b[0;34m\u001b[0m\u001b[0m\n",
            "\u001b[0;32m/usr/local/lib/python3.6/dist-packages/krangpower/enhancer/OpendssdirectEnhancer.py\u001b[0m in \u001b[0;36mtxt_command\u001b[0;34m(cmd_str, echo)\u001b[0m\n\u001b[1;32m    834\u001b[0m \u001b[0;34m\u001b[0m\u001b[0m\n\u001b[1;32m    835\u001b[0m     \u001b[0;32mtry\u001b[0m\u001b[0;34m:\u001b[0m\u001b[0;34m\u001b[0m\u001b[0;34m\u001b[0m\u001b[0m\n\u001b[0;32m--> 836\u001b[0;31m         \u001b[0m_validate_text_interface_result\u001b[0m\u001b[0;34m(\u001b[0m\u001b[0mrslt\u001b[0m\u001b[0;34m)\u001b[0m\u001b[0;34m\u001b[0m\u001b[0;34m\u001b[0m\u001b[0m\n\u001b[0m\u001b[1;32m    837\u001b[0m     \u001b[0;32mexcept\u001b[0m \u001b[0mOpenDSSTextError\u001b[0m\u001b[0;34m:\u001b[0m\u001b[0;34m\u001b[0m\u001b[0;34m\u001b[0m\u001b[0m\n\u001b[1;32m    838\u001b[0m         \u001b[0;32mraise\u001b[0m\u001b[0;34m\u001b[0m\u001b[0;34m\u001b[0m\u001b[0m\n",
            "\u001b[0;32m/usr/local/lib/python3.6/dist-packages/krangpower/enhancer/OpendssdirectEnhancer.py\u001b[0m in \u001b[0;36m_validate_text_interface_result\u001b[0;34m(result_string)\u001b[0m\n\u001b[1;32m    217\u001b[0m     \u001b[0merror_strings_begin\u001b[0m \u001b[0;34m=\u001b[0m \u001b[0mtuple\u001b[0m\u001b[0;34m(\u001b[0m\u001b[0mERROR_STRINGS\u001b[0m\u001b[0;34m[\u001b[0m\u001b[0;34m'beginning'\u001b[0m\u001b[0;34m]\u001b[0m\u001b[0;34m)\u001b[0m\u001b[0;34m\u001b[0m\u001b[0;34m\u001b[0m\u001b[0m\n\u001b[1;32m    218\u001b[0m     \u001b[0;32mif\u001b[0m \u001b[0mresult_string\u001b[0m\u001b[0;34m.\u001b[0m\u001b[0mlower\u001b[0m\u001b[0;34m(\u001b[0m\u001b[0;34m)\u001b[0m\u001b[0;34m.\u001b[0m\u001b[0mstartswith\u001b[0m\u001b[0;34m(\u001b[0m\u001b[0merror_strings_begin\u001b[0m\u001b[0;34m)\u001b[0m\u001b[0;34m:\u001b[0m\u001b[0;34m\u001b[0m\u001b[0;34m\u001b[0m\u001b[0m\n\u001b[0;32m--> 219\u001b[0;31m         \u001b[0;32mraise\u001b[0m \u001b[0mOpenDSSTextError\u001b[0m\u001b[0;34m(\u001b[0m\u001b[0mresult_string\u001b[0m\u001b[0;34m)\u001b[0m\u001b[0;34m\u001b[0m\u001b[0;34m\u001b[0m\u001b[0m\n\u001b[0m\u001b[1;32m    220\u001b[0m \u001b[0;34m\u001b[0m\u001b[0m\n\u001b[1;32m    221\u001b[0m     \u001b[0merror_strings_middle\u001b[0m \u001b[0;34m=\u001b[0m \u001b[0mtuple\u001b[0m\u001b[0;34m(\u001b[0m\u001b[0mERROR_STRINGS\u001b[0m\u001b[0;34m[\u001b[0m\u001b[0;34m'middle'\u001b[0m\u001b[0;34m]\u001b[0m\u001b[0;34m)\u001b[0m\u001b[0;34m\u001b[0m\u001b[0;34m\u001b[0m\u001b[0m\n",
            "\u001b[0;31mOpenDSSTextError\u001b[0m: Warning: Duplicate new element definition: \"PVSystem.prosumerPV1\"\nElement being redefined."
          ]
        }
      ]
    },
    {
      "cell_type": "markdown",
      "metadata": {
        "id": "D0TjUmngDAD_",
        "colab_type": "text"
      },
      "source": [
        "Line of 8 prosumers"
      ]
    },
    {
      "cell_type": "code",
      "metadata": {
        "id": "1dN-HYI5C-wM",
        "colab_type": "code",
        "colab": {}
      },
      "source": [
        "prosumer3 = prosumer(id = 3, production =10, consumption=5, solarIrradiance =30.0*unit.kilowatt/(unit.metre)**2, lineNumber =1)\n",
        "prosumer4 = prosumer(id = 4, production =10, consumption=5, solarIrradiance =30.0*unit.kilowatt/(unit.metre)**2, lineNumber =1)\n",
        "prosumer5 = prosumer(id = 5, production =10, consumption=5, solarIrradiance =30.0*unit.kilowatt/(unit.metre)**2, lineNumber =1)\n",
        "prosumer6 = prosumer(id = 6, production =10, consumption=5, solarIrradiance =30.0*unit.kilowatt/(unit.metre)**2, lineNumber =1)\n",
        "prosumer7 = prosumer(id = 7, production =10, consumption=5, solarIrradiance =30.0*unit.kilowatt/(unit.metre)**2, lineNumber =1)\n",
        "prosumer8 = prosumer(id = 8, production =10, consumption=5, solarIrradiance =30.0*unit.kilowatt/(unit.metre)**2, lineNumber =1)"
      ],
      "execution_count": 120,
      "outputs": []
    }
  ]
}