{
  "nbformat": 4,
  "nbformat_minor": 0,
  "metadata": {
    "colab": {
      "name": "simulation.ipynb",
      "provenance": [],
      "collapsed_sections": []
    },
    "kernelspec": {
      "name": "python3",
      "display_name": "Python 3"
    }
  },
  "cells": [
    {
      "cell_type": "markdown",
      "metadata": {
        "id": "f3FECrzKtN3k",
        "colab_type": "text"
      },
      "source": [
        "# **Simulation of Smart Grid**"
      ]
    },
    {
      "cell_type": "markdown",
      "metadata": {
        "id": "FobhoH2DtZaG",
        "colab_type": "text"
      },
      "source": [
        "Install and import mosaik    -- ( **DON'T USE. BROKE STUFF** )"
      ]
    },
    {
      "cell_type": "code",
      "metadata": {
        "id": "sN2Apbi9tOGV",
        "colab_type": "code",
        "colab": {
          "base_uri": "https://localhost:8080/",
          "height": 252
        },
        "outputId": "ff88ddba-c28b-42a1-fff6-315d06ac2143"
      },
      "source": [
        "!pip install mosaik\n",
        "\n",
        "import mosaik\n",
        "\n",
        "\n",
        "#DON'T USE MOSAIK ANYMORE. INTEGRATION WITH IT BROKE STUFF"
      ],
      "execution_count": 1,
      "outputs": [
        {
          "output_type": "stream",
          "text": [
            "Collecting mosaik\n",
            "  Downloading https://files.pythonhosted.org/packages/63/11/055519b30a82a6be16cdd5461f6d3454ae98fcaef37de0439cf8d641b977/mosaik-2.6.0-py2.py3-none-any.whl\n",
            "Collecting simpy.io>=0.2.3\n",
            "\u001b[?25l  Downloading https://files.pythonhosted.org/packages/3e/21/dfc98e6240f82c8507c1955aaad9f2649cf9fb351dbf4f46e2f33e9bf25e/simpy.io-0.2.3-py2.py3-none-any.whl (71kB)\n",
            "\u001b[K     |████████████████████████████████| 71kB 4.9MB/s \n",
            "\u001b[?25hRequirement already satisfied: networkx>=2.0 in /usr/local/lib/python3.6/dist-packages (from mosaik) (2.4)\n",
            "Collecting simpy<4.0.0,>=3.0.10\n",
            "  Downloading https://files.pythonhosted.org/packages/22/f7/6eeb75eddd6e64a31f7f8b406a1a1e0d9e85622fc162399f3f84eb4c9a05/simpy-3.0.13-py2.py3-none-any.whl\n",
            "Collecting mosaik-api>=2.3\n",
            "  Downloading https://files.pythonhosted.org/packages/cf/88/cc355a7e99f8cb7007f46c37e07d551a08e4f9fc4b72bc50f44d0686eecb/mosaik_api-2.4.1-py2.py3-none-any.whl\n",
            "Requirement already satisfied: decorator>=4.3.0 in /usr/local/lib/python3.6/dist-packages (from networkx>=2.0->mosaik) (4.4.2)\n",
            "Requirement already satisfied: docopt>=0.6.1 in /usr/local/lib/python3.6/dist-packages (from mosaik-api>=2.3->mosaik) (0.6.2)\n",
            "Installing collected packages: simpy, simpy.io, mosaik-api, mosaik\n",
            "Successfully installed mosaik-2.6.0 mosaik-api-2.4 simpy-3.0.13 simpy.io-0.2.3\n"
          ],
          "name": "stdout"
        }
      ]
    },
    {
      "cell_type": "markdown",
      "metadata": {
        "id": "ZMLXLcb-tdZ1",
        "colab_type": "text"
      },
      "source": [
        "Install krangpower (To simulate grid based on OpenDDS)    (https://pypi.org/project/krangpower/)"
      ]
    },
    {
      "cell_type": "code",
      "metadata": {
        "id": "xyHb_79Oi3Nn",
        "colab_type": "code",
        "colab": {
          "base_uri": "https://localhost:8080/",
          "height": 924
        },
        "outputId": "a285d614-074f-40d3-c9cc-cbefcd3716d1"
      },
      "source": [
        "!pip install krangpower\n",
        "\n",
        "# https://pypi.org/project/krangpower/0\n",
        "# Docs : https://krangpower.readthedocs.io/en/master/usage.html"
      ],
      "execution_count": 2,
      "outputs": [
        {
          "output_type": "stream",
          "text": [
            "Collecting krangpower\n",
            "\u001b[?25l  Downloading https://files.pythonhosted.org/packages/a0/26/0c866dcc18cdc945acb4b7368f0f400e6f6bafda43e6d9ae53691379d823/krangpower-0.2.5-py3-none-any.whl (207kB)\n",
            "\r\u001b[K     |█▋                              | 10kB 21.1MB/s eta 0:00:01\r\u001b[K     |███▏                            | 20kB 6.4MB/s eta 0:00:01\r\u001b[K     |████▊                           | 30kB 7.8MB/s eta 0:00:01\r\u001b[K     |██████▎                         | 40kB 7.3MB/s eta 0:00:01\r\u001b[K     |████████                        | 51kB 7.0MB/s eta 0:00:01\r\u001b[K     |█████████▌                      | 61kB 7.3MB/s eta 0:00:01\r\u001b[K     |███████████                     | 71kB 7.6MB/s eta 0:00:01\r\u001b[K     |████████████▋                   | 81kB 7.2MB/s eta 0:00:01\r\u001b[K     |██████████████▎                 | 92kB 7.3MB/s eta 0:00:01\r\u001b[K     |███████████████▉                | 102kB 7.6MB/s eta 0:00:01\r\u001b[K     |█████████████████▍              | 112kB 7.6MB/s eta 0:00:01\r\u001b[K     |███████████████████             | 122kB 7.6MB/s eta 0:00:01\r\u001b[K     |████████████████████▋           | 133kB 7.6MB/s eta 0:00:01\r\u001b[K     |██████████████████████▏         | 143kB 7.6MB/s eta 0:00:01\r\u001b[K     |███████████████████████▊        | 153kB 7.6MB/s eta 0:00:01\r\u001b[K     |█████████████████████████▎      | 163kB 7.6MB/s eta 0:00:01\r\u001b[K     |██████████████████████████▉     | 174kB 7.6MB/s eta 0:00:01\r\u001b[K     |████████████████████████████▌   | 184kB 7.6MB/s eta 0:00:01\r\u001b[K     |██████████████████████████████  | 194kB 7.6MB/s eta 0:00:01\r\u001b[K     |███████████████████████████████▋| 204kB 7.6MB/s eta 0:00:01\r\u001b[K     |████████████████████████████████| 215kB 7.6MB/s \n",
            "\u001b[?25hRequirement already satisfied: python-dateutil in /usr/local/lib/python3.6/dist-packages (from krangpower) (2.8.1)\n",
            "Requirement already satisfied: matplotlib in /usr/local/lib/python3.6/dist-packages (from krangpower) (3.2.2)\n",
            "Requirement already satisfied: tqdm in /usr/local/lib/python3.6/dist-packages (from krangpower) (4.41.1)\n",
            "Collecting canonicaljson\n",
            "  Downloading https://files.pythonhosted.org/packages/ce/9e/6a04ffa759cd5d293b0f15c43aea6ce4fd58438135d8ae4eb79b1b119d41/canonicaljson-1.2.0-py3-none-any.whl\n",
            "Collecting OpenDSSDirect.py\n",
            "\u001b[?25l  Downloading https://files.pythonhosted.org/packages/51/68/4a03250ecbdf47d41a33d6b9e58f89cd1f196324f5a2f4beb55075d0e01c/OpenDSSDirect.py-0.4.0.tar.gz (82kB)\n",
            "\u001b[K     |████████████████████████████████| 92kB 6.1MB/s \n",
            "\u001b[?25hRequirement already satisfied: requests in /usr/local/lib/python3.6/dist-packages (from krangpower) (2.23.0)\n",
            "Requirement already satisfied: numpy in /usr/local/lib/python3.6/dist-packages (from krangpower) (1.18.5)\n",
            "Requirement already satisfied: pandas in /usr/local/lib/python3.6/dist-packages (from krangpower) (1.0.5)\n",
            "Requirement already satisfied: scipy in /usr/local/lib/python3.6/dist-packages (from krangpower) (1.4.1)\n",
            "Collecting pint\n",
            "\u001b[?25l  Downloading https://files.pythonhosted.org/packages/66/a9/18b232462dee45443994b19254cf6fe49893ea81bc7534cb984932d59e38/Pint-0.14-py2.py3-none-any.whl (197kB)\n",
            "\u001b[K     |████████████████████████████████| 204kB 15.1MB/s \n",
            "\u001b[?25hRequirement already satisfied: networkx in /usr/local/lib/python3.6/dist-packages (from krangpower) (2.4)\n",
            "Requirement already satisfied: six>=1.5 in /usr/local/lib/python3.6/dist-packages (from python-dateutil->krangpower) (1.15.0)\n",
            "Requirement already satisfied: kiwisolver>=1.0.1 in /usr/local/lib/python3.6/dist-packages (from matplotlib->krangpower) (1.2.0)\n",
            "Requirement already satisfied: cycler>=0.10 in /usr/local/lib/python3.6/dist-packages (from matplotlib->krangpower) (0.10.0)\n",
            "Requirement already satisfied: pyparsing!=2.0.4,!=2.1.2,!=2.1.6,>=2.0.1 in /usr/local/lib/python3.6/dist-packages (from matplotlib->krangpower) (2.4.7)\n",
            "Collecting frozendict>=1.0\n",
            "  Downloading https://files.pythonhosted.org/packages/4e/55/a12ded2c426a4d2bee73f88304c9c08ebbdbadb82569ebdd6a0c007cfd08/frozendict-1.2.tar.gz\n",
            "Collecting simplejson>=3.6.5\n",
            "\u001b[?25l  Downloading https://files.pythonhosted.org/packages/73/96/1e6b19045375890068d7342cbe280dd64ae73fd90b9735b5efb8d1e044a1/simplejson-3.17.2-cp36-cp36m-manylinux2010_x86_64.whl (127kB)\n",
            "\u001b[K     |████████████████████████████████| 133kB 20.4MB/s \n",
            "\u001b[?25hRequirement already satisfied: future in /usr/local/lib/python3.6/dist-packages (from OpenDSSDirect.py->krangpower) (0.16.0)\n",
            "Collecting dss_python<0.11,>=0.10.5\n",
            "\u001b[?25l  Downloading https://files.pythonhosted.org/packages/58/1f/ecc88c255a1918ee471e50e8179ce9f3ddb4102d671e8641491db0b0c154/dss_python-0.10.6-cp36-cp36m-manylinux2010_x86_64.whl (7.8MB)\n",
            "\u001b[K     |████████████████████████████████| 7.8MB 11.4MB/s \n",
            "\u001b[?25hRequirement already satisfied: urllib3!=1.25.0,!=1.25.1,<1.26,>=1.21.1 in /usr/local/lib/python3.6/dist-packages (from requests->krangpower) (1.24.3)\n",
            "Requirement already satisfied: chardet<4,>=3.0.2 in /usr/local/lib/python3.6/dist-packages (from requests->krangpower) (3.0.4)\n",
            "Requirement already satisfied: idna<3,>=2.5 in /usr/local/lib/python3.6/dist-packages (from requests->krangpower) (2.10)\n",
            "Requirement already satisfied: certifi>=2017.4.17 in /usr/local/lib/python3.6/dist-packages (from requests->krangpower) (2020.6.20)\n",
            "Requirement already satisfied: pytz>=2017.2 in /usr/local/lib/python3.6/dist-packages (from pandas->krangpower) (2018.9)\n",
            "Requirement already satisfied: importlib-metadata; python_version < \"3.8\" in /usr/local/lib/python3.6/dist-packages (from pint->krangpower) (1.7.0)\n",
            "Requirement already satisfied: setuptools in /usr/local/lib/python3.6/dist-packages (from pint->krangpower) (49.2.0)\n",
            "Requirement already satisfied: packaging in /usr/local/lib/python3.6/dist-packages (from pint->krangpower) (20.4)\n",
            "Requirement already satisfied: decorator>=4.3.0 in /usr/local/lib/python3.6/dist-packages (from networkx->krangpower) (4.4.2)\n",
            "Requirement already satisfied: cffi>=1.11.2 in /usr/local/lib/python3.6/dist-packages (from dss_python<0.11,>=0.10.5->OpenDSSDirect.py->krangpower) (1.14.1)\n",
            "Requirement already satisfied: zipp>=0.5 in /usr/local/lib/python3.6/dist-packages (from importlib-metadata; python_version < \"3.8\"->pint->krangpower) (3.1.0)\n",
            "Requirement already satisfied: pycparser in /usr/local/lib/python3.6/dist-packages (from cffi>=1.11.2->dss_python<0.11,>=0.10.5->OpenDSSDirect.py->krangpower) (2.20)\n",
            "Building wheels for collected packages: OpenDSSDirect.py, frozendict\n",
            "  Building wheel for OpenDSSDirect.py (setup.py) ... \u001b[?25l\u001b[?25hdone\n",
            "  Created wheel for OpenDSSDirect.py: filename=OpenDSSDirect.py-0.4.0-cp36-none-any.whl size=65712 sha256=a830108eca82e7429c6fde7c663203e2900cfa41d735a62991eecb62a60ebcd7\n",
            "  Stored in directory: /root/.cache/pip/wheels/15/be/cf/69ac9f38f37f7d6034bcaf471ea851473fa46962a19615ef59\n",
            "  Building wheel for frozendict (setup.py) ... \u001b[?25l\u001b[?25hdone\n",
            "  Created wheel for frozendict: filename=frozendict-1.2-cp36-none-any.whl size=3149 sha256=93a627f7fab19efad76ed7825135e63fb65a3c5708b9e39fb71c2a9f2ab27bb4\n",
            "  Stored in directory: /root/.cache/pip/wheels/6c/6c/e9/534386165bd12cf1885582c75eb6d0ffcb321b65c23fe0f834\n",
            "Successfully built OpenDSSDirect.py frozendict\n",
            "Installing collected packages: frozendict, simplejson, canonicaljson, dss-python, OpenDSSDirect.py, pint, krangpower\n",
            "Successfully installed OpenDSSDirect.py-0.4.0 canonicaljson-1.2.0 dss-python-0.10.6 frozendict-1.2 krangpower-0.2.5 pint-0.14 simplejson-3.17.2\n"
          ],
          "name": "stdout"
        }
      ]
    },
    {
      "cell_type": "markdown",
      "metadata": {
        "id": "aL7iHltitz8F",
        "colab_type": "text"
      },
      "source": [
        "Import essential libraries and define units to use the pint library"
      ]
    },
    {
      "cell_type": "code",
      "metadata": {
        "id": "INXvOK1kkiCw",
        "colab_type": "code",
        "colab": {}
      },
      "source": [
        "import numpy as np\n",
        "import numpy.fft as fft\n",
        "from PIL import Image\n",
        "import matplotlib.pyplot as plt\n",
        "import cvxpy as cp  # For optimization\n",
        "\n",
        "import krangpower as kp  # This is our main library\n",
        "unit = kp.UM    # Pint library for units\n",
        "# https://pypi.org/project/Pint/\n",
        "# Docs : https://pint.readthedocs.io/en/stable/"
      ],
      "execution_count": 3,
      "outputs": []
    },
    {
      "cell_type": "markdown",
      "metadata": {
        "id": "JU1xMj4HuBf7",
        "colab_type": "text"
      },
      "source": [
        "# Start with our grid"
      ]
    },
    {
      "cell_type": "code",
      "metadata": {
        "id": "yTxABrZ0kavL",
        "colab_type": "code",
        "colab": {}
      },
      "source": [
        "src = kp.Vsource(basekv=220*unit.V, frequency=100.0) # Make a voltage source with voltage 220 V and frquency 100 Hz"
      ],
      "execution_count": 4,
      "outputs": []
    },
    {
      "cell_type": "code",
      "metadata": {
        "id": "SYXmuPZGkbHN",
        "colab_type": "code",
        "colab": {}
      },
      "source": [
        "grid = kp.Krang('theGrid', voltage_source=src)  # Instantiate a grid as a krang object (we can have only one of those) with our source above"
      ],
      "execution_count": 5,
      "outputs": []
    },
    {
      "cell_type": "code",
      "metadata": {
        "id": "KSxWs-V3kbIs",
        "colab_type": "code",
        "colab": {}
      },
      "source": [
        "mainLine = kp.LineCode_S('mainTransmission', nphases=3) # Declare a transmission line"
      ],
      "execution_count": 6,
      "outputs": []
    },
    {
      "cell_type": "code",
      "metadata": {
        "id": "XE_yUptfkbMx",
        "colab_type": "code",
        "colab": {
          "base_uri": "https://localhost:8080/",
          "height": 34
        },
        "outputId": "eb338924-86d2-4fbb-9632-71131bcd68e5"
      },
      "source": [
        "grid << mainLine\n",
        "grid['sourcebus', 'alpha']"
      ],
      "execution_count": 7,
      "outputs": [
        {
          "output_type": "execute_result",
          "data": {
            "text/plain": [
              "<BusView['sourcebus', 'alpha']>"
            ]
          },
          "metadata": {
            "tags": []
          },
          "execution_count": 7
        }
      ]
    },
    {
      "cell_type": "code",
      "metadata": {
        "id": "1SPJuZwHkj2l",
        "colab_type": "code",
        "colab": {}
      },
      "source": [
        ""
      ],
      "execution_count": null,
      "outputs": []
    },
    {
      "cell_type": "markdown",
      "metadata": {
        "id": "MQrCymR8uauA",
        "colab_type": "text"
      },
      "source": [
        "## The prosumer class"
      ]
    },
    {
      "cell_type": "code",
      "metadata": {
        "id": "ACaNrNJXbY49",
        "colab_type": "code",
        "colab": {}
      },
      "source": [
        "class prosumer(kp.DecisionModel):\n",
        "\n",
        "  def __init__(self, id, production, consumption, solarIrradiance):  # All the attributes would take their values from dataset - both initially and on each iteration\n",
        "    self.id = id\n",
        "    self.production = production\n",
        "    self.consumption = consumption\n",
        "    self.solarIrradiance = solarIrradiance\n",
        "\n",
        "    prosumerLine = kp.LineCode_S(str(id)+'Transmission', nphases=3).aka(str(id)+'Transmisssion') # Make a transmission line in the internal prosumer model\n",
        "    grid['mainTransmission', 'alpha'] <<kp.PvSystem(phases =3, irradiance = solarIrradiance).aka('prosumerPV'+str(id))\n",
        "    # Add a solar photovoltaic that uses the irradiance from the dataset to generate power\n",
        "\n",
        "\n",
        "  \n",
        "  def update(self, oek, mynode):\n",
        "    hour = oek.brain.Solution.DblHour()  # Extracts which hour the simulation is currently on\n",
        "\n",
        "    # Update cpmsumption and irradiance from dataset\n",
        "\n",
        "    # Optimization by scheduling algo goes here\n",
        "\n",
        "    # Update production as per scheduling algo\n",
        "  \n",
        "  \n",
        "\n",
        "\n",
        "\n"
      ],
      "execution_count": 8,
      "outputs": []
    },
    {
      "cell_type": "markdown",
      "metadata": {
        "id": "XyXCoVc6wbOq",
        "colab_type": "text"
      },
      "source": [
        "## Making a grid with prosumers"
      ]
    },
    {
      "cell_type": "code",
      "metadata": {
        "id": "H0fIo8Gzumxj",
        "colab_type": "code",
        "colab": {}
      },
      "source": [
        "transmission1 = kp.LineCode_S('transmission1', nphases=3)\n",
        "grid<<transmission1\n",
        "\n",
        "#prosumer1 = prosumer(id = 1, production =10, consumption=5, solarIrradiance =30.0*unit.kilowatt/(unit.metre)**2)\n",
        "\n",
        "prosumerList = []\n",
        "#prosumerList.append(prosumer1)\n",
        "\n",
        "for i in range (2, 101):\n",
        "  prosumerList.append(prosumer(id = i,  production =10, consumption=5, solarIrradiance =30.0*unit.kilowatt/(unit.metre)**2))"
      ],
      "execution_count": 11,
      "outputs": []
    }
  ]
}