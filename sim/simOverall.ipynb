{
  "nbformat": 4,
  "nbformat_minor": 0,
  "metadata": {
    "colab": {
      "name": "simOverall",
      "provenance": []
    },
    "kernelspec": {
      "name": "python3",
      "display_name": "Python 3"
    }
  },
  "cells": [
    {
      "cell_type": "code",
      "metadata": {
        "id": "gn8j9vO0HOIP",
        "colab_type": "code",
        "colab": {
          "base_uri": "https://localhost:8080/",
          "height": 924
        },
        "outputId": "20190334-fcef-4088-f7d2-1473a45a9e45"
      },
      "source": [
        "!pip install krangpower\n",
        "import krangpower as kp\n",
        "import numpy as np"
      ],
      "execution_count": 4,
      "outputs": [
        {
          "output_type": "stream",
          "text": [
            "Collecting krangpower\n",
            "\u001b[?25l  Downloading https://files.pythonhosted.org/packages/a0/26/0c866dcc18cdc945acb4b7368f0f400e6f6bafda43e6d9ae53691379d823/krangpower-0.2.5-py3-none-any.whl (207kB)\n",
            "\u001b[K     |████████████████████████████████| 215kB 2.8MB/s \n",
            "\u001b[?25hRequirement already satisfied: pandas in /usr/local/lib/python3.6/dist-packages (from krangpower) (1.0.5)\n",
            "Requirement already satisfied: tqdm in /usr/local/lib/python3.6/dist-packages (from krangpower) (4.41.1)\n",
            "Requirement already satisfied: networkx in /usr/local/lib/python3.6/dist-packages (from krangpower) (2.4)\n",
            "Requirement already satisfied: requests in /usr/local/lib/python3.6/dist-packages (from krangpower) (2.23.0)\n",
            "Requirement already satisfied: python-dateutil in /usr/local/lib/python3.6/dist-packages (from krangpower) (2.8.1)\n",
            "Collecting canonicaljson\n",
            "  Downloading https://files.pythonhosted.org/packages/ce/9e/6a04ffa759cd5d293b0f15c43aea6ce4fd58438135d8ae4eb79b1b119d41/canonicaljson-1.2.0-py3-none-any.whl\n",
            "Collecting OpenDSSDirect.py\n",
            "\u001b[?25l  Downloading https://files.pythonhosted.org/packages/51/68/4a03250ecbdf47d41a33d6b9e58f89cd1f196324f5a2f4beb55075d0e01c/OpenDSSDirect.py-0.4.0.tar.gz (82kB)\n",
            "\u001b[K     |████████████████████████████████| 92kB 5.6MB/s \n",
            "\u001b[?25hRequirement already satisfied: numpy in /usr/local/lib/python3.6/dist-packages (from krangpower) (1.18.5)\n",
            "Requirement already satisfied: scipy in /usr/local/lib/python3.6/dist-packages (from krangpower) (1.4.1)\n",
            "Collecting pint\n",
            "\u001b[?25l  Downloading https://files.pythonhosted.org/packages/66/a9/18b232462dee45443994b19254cf6fe49893ea81bc7534cb984932d59e38/Pint-0.14-py2.py3-none-any.whl (197kB)\n",
            "\u001b[K     |████████████████████████████████| 204kB 8.7MB/s \n",
            "\u001b[?25hRequirement already satisfied: matplotlib in /usr/local/lib/python3.6/dist-packages (from krangpower) (3.2.2)\n",
            "Requirement already satisfied: pytz>=2017.2 in /usr/local/lib/python3.6/dist-packages (from pandas->krangpower) (2018.9)\n",
            "Requirement already satisfied: decorator>=4.3.0 in /usr/local/lib/python3.6/dist-packages (from networkx->krangpower) (4.4.2)\n",
            "Requirement already satisfied: certifi>=2017.4.17 in /usr/local/lib/python3.6/dist-packages (from requests->krangpower) (2020.6.20)\n",
            "Requirement already satisfied: urllib3!=1.25.0,!=1.25.1,<1.26,>=1.21.1 in /usr/local/lib/python3.6/dist-packages (from requests->krangpower) (1.24.3)\n",
            "Requirement already satisfied: chardet<4,>=3.0.2 in /usr/local/lib/python3.6/dist-packages (from requests->krangpower) (3.0.4)\n",
            "Requirement already satisfied: idna<3,>=2.5 in /usr/local/lib/python3.6/dist-packages (from requests->krangpower) (2.10)\n",
            "Requirement already satisfied: six>=1.5 in /usr/local/lib/python3.6/dist-packages (from python-dateutil->krangpower) (1.15.0)\n",
            "Collecting simplejson>=3.6.5\n",
            "\u001b[?25l  Downloading https://files.pythonhosted.org/packages/73/96/1e6b19045375890068d7342cbe280dd64ae73fd90b9735b5efb8d1e044a1/simplejson-3.17.2-cp36-cp36m-manylinux2010_x86_64.whl (127kB)\n",
            "\u001b[K     |████████████████████████████████| 133kB 11.2MB/s \n",
            "\u001b[?25hCollecting frozendict>=1.0\n",
            "  Downloading https://files.pythonhosted.org/packages/4e/55/a12ded2c426a4d2bee73f88304c9c08ebbdbadb82569ebdd6a0c007cfd08/frozendict-1.2.tar.gz\n",
            "Requirement already satisfied: future in /usr/local/lib/python3.6/dist-packages (from OpenDSSDirect.py->krangpower) (0.16.0)\n",
            "Collecting dss_python<0.11,>=0.10.5\n",
            "\u001b[?25l  Downloading https://files.pythonhosted.org/packages/58/1f/ecc88c255a1918ee471e50e8179ce9f3ddb4102d671e8641491db0b0c154/dss_python-0.10.6-cp36-cp36m-manylinux2010_x86_64.whl (7.8MB)\n",
            "\u001b[K     |████████████████████████████████| 7.8MB 8.6MB/s \n",
            "\u001b[?25hRequirement already satisfied: importlib-metadata; python_version < \"3.8\" in /usr/local/lib/python3.6/dist-packages (from pint->krangpower) (1.7.0)\n",
            "Requirement already satisfied: setuptools in /usr/local/lib/python3.6/dist-packages (from pint->krangpower) (49.2.0)\n",
            "Requirement already satisfied: packaging in /usr/local/lib/python3.6/dist-packages (from pint->krangpower) (20.4)\n",
            "Requirement already satisfied: kiwisolver>=1.0.1 in /usr/local/lib/python3.6/dist-packages (from matplotlib->krangpower) (1.2.0)\n",
            "Requirement already satisfied: cycler>=0.10 in /usr/local/lib/python3.6/dist-packages (from matplotlib->krangpower) (0.10.0)\n",
            "Requirement already satisfied: pyparsing!=2.0.4,!=2.1.2,!=2.1.6,>=2.0.1 in /usr/local/lib/python3.6/dist-packages (from matplotlib->krangpower) (2.4.7)\n",
            "Requirement already satisfied: cffi>=1.11.2 in /usr/local/lib/python3.6/dist-packages (from dss_python<0.11,>=0.10.5->OpenDSSDirect.py->krangpower) (1.14.1)\n",
            "Requirement already satisfied: zipp>=0.5 in /usr/local/lib/python3.6/dist-packages (from importlib-metadata; python_version < \"3.8\"->pint->krangpower) (3.1.0)\n",
            "Requirement already satisfied: pycparser in /usr/local/lib/python3.6/dist-packages (from cffi>=1.11.2->dss_python<0.11,>=0.10.5->OpenDSSDirect.py->krangpower) (2.20)\n",
            "Building wheels for collected packages: OpenDSSDirect.py, frozendict\n",
            "  Building wheel for OpenDSSDirect.py (setup.py) ... \u001b[?25l\u001b[?25hdone\n",
            "  Created wheel for OpenDSSDirect.py: filename=OpenDSSDirect.py-0.4.0-cp36-none-any.whl size=65712 sha256=b7a539eec2da15acbb4ccebe8e95cfb472afe9655a907a6e6140a4640c9221db\n",
            "  Stored in directory: /root/.cache/pip/wheels/15/be/cf/69ac9f38f37f7d6034bcaf471ea851473fa46962a19615ef59\n",
            "  Building wheel for frozendict (setup.py) ... \u001b[?25l\u001b[?25hdone\n",
            "  Created wheel for frozendict: filename=frozendict-1.2-cp36-none-any.whl size=3149 sha256=7549de4614fdbcd65c764fcb212c58550b1a9c4c90f5f5790cca2a04dfa14d60\n",
            "  Stored in directory: /root/.cache/pip/wheels/6c/6c/e9/534386165bd12cf1885582c75eb6d0ffcb321b65c23fe0f834\n",
            "Successfully built OpenDSSDirect.py frozendict\n",
            "Installing collected packages: simplejson, frozendict, canonicaljson, dss-python, OpenDSSDirect.py, pint, krangpower\n",
            "Successfully installed OpenDSSDirect.py-0.4.0 canonicaljson-1.2.0 dss-python-0.10.6 frozendict-1.2 krangpower-0.2.5 pint-0.14 simplejson-3.17.2\n"
          ],
          "name": "stdout"
        }
      ]
    },
    {
      "cell_type": "code",
      "metadata": {
        "id": "BBuszUF4nWMH",
        "colab_type": "code",
        "colab": {}
      },
      "source": [
        "# In this example, we will simulate a battery with a toy logic that decides what to do according to its state and\n",
        "# a price signal.\n",
        "\n",
        "\n",
        "# -------------------------------------\n",
        "# CONSTANTS\n",
        "# -------------------------------------\n",
        "PRICEPERIOD = 48\n",
        "um = kp.UM"
      ],
      "execution_count": 6,
      "outputs": []
    },
    {
      "cell_type": "code",
      "metadata": {
        "id": "ELJ-kBh1nd8f",
        "colab_type": "code",
        "colab": {}
      },
      "source": [
        "# -------------------------------------\n",
        "# PRICE DEFINITION\n",
        "# -------------------------------------\n",
        "# we define a simple sinusoidal price with 12 hour period.\n",
        "def price(t_hour):\n",
        "    return np.sin(t_hour/PRICEPERIOD/2/np.pi) + np.random.uniform(-0.7, 0.7)"
      ],
      "execution_count": 7,
      "outputs": []
    },
    {
      "cell_type": "code",
      "metadata": {
        "id": "DmKwfFWAntjD",
        "colab_type": "code",
        "colab": {}
      },
      "source": [
        "# -------------------------------------\n",
        "# BATTERY SMART LOGIC DEFINITION\n",
        "# -------------------------------------\n",
        "# we have to define the logic we want for the battery into a DecisionModel inherited class.\n",
        "class BatteryManager(kp.DecisionModel):\n",
        "\n",
        "    def __init__(self, capacity=10*um.kWh, init_soc=5*um.kWh, pwr=3*um.kW, aggressiveness=2):\n",
        "        self.avg_price = 0\n",
        "        self.aggro = aggressiveness\n",
        "        self.nsamples = 0\n",
        "        self.capacity = capacity\n",
        "        self.SOC = init_soc\n",
        "        self.pwr_limit = pwr\n",
        "        self.money_gained = 0\n",
        "        self.pf = 0.985\n",
        "\n",
        "    def decide_pq(self, oek, mynode):  # you have to override \"decide_pq\".\n",
        "        # the logic implemented here decides power according to how low is the price with respect to the recorded\n",
        "        # average and how much the battery is far from being filled at half capacity\n",
        "\n",
        "        # get the price\n",
        "        hour = oek.brain.Solution.DblHour()  # returns the simulated hour\n",
        "        el_price = price(hour.magnitude)  # this is the sell/buy price\n",
        "\n",
        "        # update the average\n",
        "        self.avg_price = (self.avg_price * self.nsamples + el_price) / (self.nsamples + 1)\n",
        "        self.nsamples += 1\n",
        "\n",
        "        # calculate conveniency and hunger (both are in [-1,1])\n",
        "        conveniency = self.avg_price - el_price\n",
        "        hunger = (self.capacity/2 - self.SOC)/(self.capacity/2)\n",
        "\n",
        "        # calculate the power as the sum of conveniency and hunger, clipped to the battery power limits. The logic\n",
        "        # operates in GENERATOR convention: positive power is produced, negative power is absorbed.\n",
        "        newpower = np.clip(\n",
        "            - (conveniency + hunger) * self.aggro,\n",
        "            - self.pwr_limit.magnitude,\n",
        "            self.pwr_limit.magnitude\n",
        "        )\n",
        "\n",
        "        energy_exchanged = newpower * um.kW * oek.get('stepsize')['stepsize']\n",
        "\n",
        "        # don't forget to update your SOC!\n",
        "        self.SOC += -energy_exchanged  # negative energy exchanged CHARGES the battery\n",
        "        self.SOC = np.clip(self.SOC, 0*um.kWh, self.capacity)\n",
        "\n",
        "        # we update the gain/expense\n",
        "        self.money_gained += (energy_exchanged.to('kWh').magnitude * el_price)\n",
        "\n",
        "        # you must give back P, Q\n",
        "        return newpower * um.kW, 0.01 * newpower * um.kW"
      ],
      "execution_count": 9,
      "outputs": []
    },
    {
      "cell_type": "code",
      "metadata": {
        "id": "92R92bQtn93l",
        "colab_type": "code",
        "colab": {}
      },
      "source": [
        "# -------------------------------------\n",
        "# CREATING THE CIRCUIT\n",
        "# -------------------------------------\n",
        "# creating an appropriate voltage source. We want to simulate a 400V, 50Hz grid.\n",
        "vs = kp.Vsource(basekv=0.4, frequency=50.0, Isc1=5)\n",
        "\n",
        "# instantiating the circuit\n",
        "circuit = kp.Krang('market_example', voltage_source=vs)\n",
        "\n",
        "# we add a couple lines\n",
        "circuit['sourcebus', 'bus_1'] << kp.Line(length=50 * um.m).aka('line_1')\n",
        "circuit['bus_1', 'bus_2'] << kp.Line(length=50 * um.m).aka('line_2')\n",
        "\n",
        "# definition and addition of our \"smart battery\" to bus_2\n",
        "mylogic = BatteryManager()\n",
        "circuit['bus_2', ] << kp.FourQ(kV=0.4).aka('controlled_battery') * mylogic\n",
        "\n",
        "# setting the simulation step at 1 hr, tot sim time at three days\n",
        "circuit.set(stepsize=1 * um.hr, number=72)\n"
      ],
      "execution_count": 10,
      "outputs": []
    },
    {
      "cell_type": "code",
      "metadata": {
        "id": "nCLC6JOuoMJd",
        "colab_type": "code",
        "colab": {
          "base_uri": "https://localhost:8080/",
          "height": 67
        },
        "outputId": "6edf17f4-1af0-4e56-b9ac-8f839ce72ebd"
      },
      "source": [
        "# -------------------------------------\n",
        "# DEFINING WHAT RESULTS TO RECORD\n",
        "# -------------------------------------\n",
        "# in order to get interesting results, you have to define functions that take the Krang as argument and calculate\n",
        "# interesting stuff. You can also refer to other objects in the namespace.\n",
        "\n",
        "def my_power(oek):\n",
        "    pwr = sum(oek['controlled_battery'].Powers()[0][0:3]).magnitude\n",
        "    # we have to call magnitude, because they're all\n",
        "    # Pint Quantities!\n",
        "    return np.real(pwr)\n",
        "\n",
        "\n",
        "def my_soc(_oek):\n",
        "    return (mylogic.SOC / mylogic.capacity).magnitude\n",
        "\n",
        "\n",
        "def voltage_at_main(oek):\n",
        "    return (np.sum(np.abs((oek['sourcebus'].Voltages()[0:3]))) / 3).magnitude\n",
        "\n",
        "\n",
        "# -------------------------------------\n",
        "# SOLVE AND DISPLAY\n",
        "# -------------------------------------\n",
        "# evalsolve solves the prescribed steps of simulation and at each step evaluates the functions you pass to it.\n",
        "pwr_hist = circuit.evalsolve(my_power, my_soc, voltage_at_main, as_df=False)\n",
        "\n",
        "# we get a dict whose keys are the function names and whose values are lists of the results returned by the functions.\n",
        "# print(pwr_hist)\n",
        "\n",
        "# we display how many money units we gained with our wise battery operation.\n",
        "print('\\nBalance:')\n",
        "print(mylogic.money_gained)"
      ],
      "execution_count": 11,
      "outputs": [
        {
          "output_type": "stream",
          "text": [
            "\n",
            "Balance:\n",
            "21.656451820948618\n"
          ],
          "name": "stdout"
        }
      ]
    },
    {
      "cell_type": "code",
      "metadata": {
        "id": "OGpyt1_L4Wkl",
        "colab_type": "code",
        "colab": {}
      },
      "source": [
        "del circuit"
      ],
      "execution_count": 16,
      "outputs": []
    },
    {
      "cell_type": "code",
      "metadata": {
        "id": "eiJSFgdS3ot2",
        "colab_type": "code",
        "colab": {}
      },
      "source": [
        ""
      ],
      "execution_count": 17,
      "outputs": []
    }
  ]
}